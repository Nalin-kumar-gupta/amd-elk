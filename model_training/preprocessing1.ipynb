{
 "cells": [
  {
   "cell_type": "code",
   "execution_count": 16,
   "metadata": {},
   "outputs": [],
   "source": [
    "import pandas as pd\n",
    "import numpy as np\n",
    "import os\n",
    "import mmh3  # For MurmurHash\n",
    "from sklearn.preprocessing import MinMaxScaler\n",
    "import re\n",
    "import ipaddress\n",
    "from sklearn.feature_extraction.text import TfidfVectorizer\n",
    "# Initialize TF-IDF vectorizer globally to ensure consistency across chunks\n",
    "tfidf_vectorizer = TfidfVectorizer(max_features=300)  # Limit to 100 features for scalability\n",
    "from transformers import BertTokenizer, BertModel\n",
    "import torch"
   ]
  },
  {
   "cell_type": "code",
   "execution_count": 17,
   "metadata": {},
   "outputs": [],
   "source": [
    "# Path to the folder containing the CSV files\n",
    "folder_path = \"F:/Intrusion detection datasets/Lateral-Movement-Dataset--LMD_Collections/LMD_essential\"\n",
    "output_folder_path = \"F:/Intrusion detection datasets/Lateral-Movement-Dataset--LMD_Collections/LMD_essential_processed\"\n",
    "\n",
    "# Parameters for encoding\n",
    "HASH_BITS = 16  # For high cardinality features\n",
    "BINARY_BITS_LOW = 8  # For low cardinality features\n",
    "BINARY_BITS_HIGH = 16  # For high cardinality features\n",
    "\n",
    "# List of features to drop\n",
    "features_to_drop = [\"Opcode\", \"Correlation\", \"Name\", \"Keywords\", \"Channel\", \"Archived\"]\n",
    "\n",
    "# Initialize MinMaxScaler for temporal normalization\n",
    "scaler = MinMaxScaler()\n"
   ]
  },
  {
   "cell_type": "code",
   "execution_count": 18,
   "metadata": {},
   "outputs": [],
   "source": [
    "def preprocess_temporal_features(df):\n",
    "    temporal_features = [\"SystemTime\"]\n",
    "    duration_features = [\"PreviousCreationUtcTime\", \"UtcTime\", \"CreationUtcTime\"]\n",
    "\n",
    "    # Process datetime-based temporal features\n",
    "    for feature in temporal_features:\n",
    "        if feature in df.columns:\n",
    "            # Convert to UNIX timestamp if not already in numeric form\n",
    "            df[feature] = pd.to_datetime(df[feature], errors='coerce').astype(np.int64) // 10**9\n",
    "\n",
    "    # Process duration-based temporal features\n",
    "    def convert_to_seconds(time_str):\n",
    "        try:\n",
    "            # Ensure the value is a string before attempting to split\n",
    "            if isinstance(time_str, str):\n",
    "                minutes, seconds = map(float, time_str.split(':'))\n",
    "                return minutes * 60 + seconds\n",
    "            else:\n",
    "                return None  # Handle non-string values gracefully\n",
    "        except ValueError:\n",
    "            return None  # Handle invalid formats gracefully\n",
    "\n",
    "\n",
    "    for feature in duration_features:\n",
    "        if feature in df.columns:\n",
    "            df[feature] = df[feature].apply(convert_to_seconds)\n",
    "\n",
    "    # Combine temporal and duration features for normalization\n",
    "    all_temporal_features = [f for f in temporal_features + duration_features if f in df.columns]\n",
    "\n",
    "    # Normalize all temporal features\n",
    "    if all_temporal_features:\n",
    "        df[all_temporal_features] = scaler.fit_transform(df[all_temporal_features])\n",
    "    \n",
    "    return df\n"
   ]
  },
  {
   "cell_type": "code",
   "execution_count": 19,
   "metadata": {},
   "outputs": [],
   "source": [
    "# Function to preprocess path features\n",
    "def preprocess_path_features(df):\n",
    "    path_features = [\n",
    "        \"Image\", \"ParentImage\", \"SourceImage\", \"TargetImage\", \"SourceUser\", \"TargetUser\",\n",
    "        \"CommandLine\", \"ParentCommandLine\", \"CurrentDirectory\", \"ImageLoaded\",\n",
    "        \"TargetFilename\", \"TargetObject\", \"PipeName\", \"CallTrace\", \"Details\"\n",
    "    ]\n",
    "\n",
    "    def tokenize_path(path):\n",
    "        try:\n",
    "            # Handle NaN or empty values by returning \"0\"\n",
    "            if pd.isna(path) or not path:\n",
    "                return \"0\"\n",
    "            # Convert to lowercase\n",
    "            path = path.lower()\n",
    "            # Split by common delimiters (\\\\, /, and .)\n",
    "            tokens = re.split(r\"[\\\\/\\.]+\", path)\n",
    "            # Filter out empty tokens\n",
    "            return \" \".join([token for token in tokens if token])\n",
    "        except Exception:\n",
    "            return \"0\"  # Return \"0\" in case of unexpected errors\n",
    "\n",
    "    for feature in path_features:\n",
    "        if feature in df.columns:\n",
    "            df[feature] = df[feature].astype(str).apply(tokenize_path)\n",
    "\n",
    "    return df\n"
   ]
  },
  {
   "cell_type": "code",
   "execution_count": 20,
   "metadata": {},
   "outputs": [],
   "source": [
    "# Function to preprocess IP address features\n",
    "def preprocess_ip_address_features(df, prefix_length=24, hash_bits=16):\n",
    "    \"\"\"\n",
    "    Preprocesses IP address features by generating two hashes:\n",
    "    - One for the full IP address\n",
    "    - One for the network prefix (based on CIDR prefix length)\n",
    "    Drops the original columns after processing.\n",
    "\n",
    "    Args:\n",
    "        df (pd.DataFrame): Input DataFrame.\n",
    "        prefix_length (int): Length of the network prefix for CIDR notation.\n",
    "        hash_bits (int): Number of bits for hashing.\n",
    "\n",
    "    Returns:\n",
    "        pd.DataFrame: Processed DataFrame with hashed features.\n",
    "    \"\"\"\n",
    "    ip_features = [\"SourceIp\", \"DestinationIp\"]\n",
    "\n",
    "    def get_network_prefix(ip, prefix_length):\n",
    "        \"\"\"Extract the network prefix from an IP address.\"\"\"\n",
    "        try:\n",
    "            network = ipaddress.ip_network(f\"{ip}/{prefix_length}\", strict=False)\n",
    "            return str(network.network_address)\n",
    "        except ValueError:\n",
    "            return \"0.0.0.0\"  # Default for invalid IPs\n",
    "\n",
    "    for feature in ip_features:\n",
    "        if feature in df.columns:\n",
    "            # Generate hash for the full IP address\n",
    "            df[f\"{feature}_hash\"] = df[feature].astype(str).apply(\n",
    "                lambda x: mmh3.hash(x, signed=False) % (2 ** hash_bits)\n",
    "            )\n",
    "            \n",
    "            # Extract network prefixes\n",
    "            df[f\"{feature}_prefix\"] = df[feature].astype(str).apply(\n",
    "                lambda x: get_network_prefix(x, prefix_length=prefix_length)\n",
    "            )\n",
    "            \n",
    "            # Generate hash for the network prefix\n",
    "            df[f\"{feature}_prefix_hash\"] = df[f\"{feature}_prefix\"].apply(\n",
    "                lambda x: mmh3.hash(x, signed=False) % (2 ** hash_bits)\n",
    "            )\n",
    "            \n",
    "            # Drop the original IP column and intermediate prefix column\n",
    "            df = df.drop(columns=[feature, f\"{feature}_prefix\"])\n",
    "\n",
    "    return df\n"
   ]
  },
  {
   "cell_type": "code",
   "execution_count": 21,
   "metadata": {},
   "outputs": [],
   "source": [
    "# # Function to preprocess textual features\n",
    "# def preprocess_textual_features(df):\n",
    "#     textual_features = [ \"Description\", \"Product\", \"Company\"]\n",
    "#     for feature in textual_features:\n",
    "#         if feature in df.columns:\n",
    "#             # Apply TF-IDF vectorization\n",
    "#             tfidf_vectors = tfidf_vectorizer.fit_transform(df[feature].fillna(\"\").astype(str)).toarray()\n",
    "#             tfidf_columns = [f\"{feature}_tfidf_{i}\" for i in range(tfidf_vectors.shape[1])]\n",
    "#             tfidf_df = pd.DataFrame(tfidf_vectors, columns=tfidf_columns)\n",
    "#             df = df.drop(columns=[feature]).join(tfidf_df)\n",
    "#     return df\n"
   ]
  },
  {
   "cell_type": "code",
   "execution_count": 22,
   "metadata": {},
   "outputs": [],
   "source": [
    "# Function to preprocess numerical features as categorical\n",
    "def preprocess_numerical_features_as_categorical(df, hash_bits=16):\n",
    "    \"\"\"\n",
    "    Converts numerical features into hashed columns without binary encoding.\n",
    "    \"\"\"\n",
    "    numerical_features = [\n",
    "        \"EventID\", \"ProcessID\", \"ThreadID\", \"Execution_ProcessID\", \n",
    "        \"ParentProcessId\", \"TargetProcessId\", \"EventRecordID\", \n",
    "        \"SourcePort\", \"DestinationPort\", \"ProcessId\"\n",
    "    ]\n",
    "\n",
    "    for feature in numerical_features:\n",
    "        if feature in df.columns:\n",
    "            # Convert strings to numeric values, handling NaN and invalid values\n",
    "            df[feature] = pd.to_numeric(df[feature], errors='coerce').fillna(0).astype(int)\n",
    "\n",
    "            # Hash the feature values\n",
    "            df[f\"{feature}_hash\"] = df[feature].astype(str).apply(\n",
    "                lambda x: mmh3.hash(x, signed=False) % (2 ** hash_bits)\n",
    "            )\n",
    "\n",
    "            # Drop the original feature column\n",
    "            df = df.drop(columns=[feature])\n",
    "\n",
    "    return df"
   ]
  },
  {
   "cell_type": "code",
   "execution_count": 23,
   "metadata": {},
   "outputs": [],
   "source": [
    "# Function to preprocess binary features into a single column\n",
    "def preprocess_binary_features(df):\n",
    "    binary_features = [\"SourceIsIpv6\", \"DestinationIsIpv6\", \"Signed\", \"IsExecutable\", \"Initiated\",\"Signed\",\"SignatureStatus\",\"State\"]\n",
    "    for feature in binary_features:\n",
    "        if feature in df.columns:\n",
    "            # Standardize values to 0/1\n",
    "            df[feature] = df[feature].fillna(\"0\")  # Replace NaN with \"0\"\n",
    "            df[feature] = df[feature].astype(str).str.lower().apply(\n",
    "                lambda x: 1 if x in [\"true\", \"1\", \"yes\",\"Started\",\"Valid\"] else 0\n",
    "            )\n",
    "    return df\n"
   ]
  },
  {
   "cell_type": "code",
   "execution_count": 24,
   "metadata": {},
   "outputs": [],
   "source": [
    "# Function to preprocess low-cardinality categorical features\n",
    "def preprocess_low_card_categorical_features(df, hash_bits=16):\n",
    "    \"\"\"\n",
    "    Preprocess low-cardinality categorical features by hashing their values and storing the hash in a single column.\n",
    "    \"\"\"\n",
    "    low_card_features = [\n",
    "        \"Level\", \"Task\", \"Protocol\", \"Version2\", \"SchemaVersion\", \n",
    "        \"Signature\", \"EventType\", \"StartFunction\", \"ID\", \"Configuration\", \n",
    "        \"ConfigurationFileHash\", \"IntegrityLevel\", \"UserID\", \"Computer\", \n",
    "        \"RuleName\", \"TerminalSessionId\", \"Version\", \"User\", \"ParentUser\",\"FileVersion\"\n",
    "    ]\n",
    "    \n",
    "    for feature in low_card_features:\n",
    "        if feature in df.columns:\n",
    "            # Ensure all values are strings and handle missing values\n",
    "            df[feature] = df[feature].fillna(\"0\").astype(str)\n",
    "            \n",
    "            # Apply hashing\n",
    "            df[f\"{feature}_hash\"] = df[feature].apply(\n",
    "                lambda x: mmh3.hash(x, signed=False) % (2 ** hash_bits)\n",
    "            )\n",
    "            \n",
    "            # Drop the original feature column\n",
    "            df = df.drop(columns=[feature])\n",
    "    \n",
    "    return df\n"
   ]
  },
  {
   "cell_type": "code",
   "execution_count": 25,
   "metadata": {},
   "outputs": [],
   "source": [
    "# Function to preprocess high-cardinality categorical features\n",
    "def preprocess_high_card_categorical_features(df, hash_bits=16):\n",
    "    \"\"\"\n",
    "    Preprocess high-cardinality categorical features by hashing their values and storing the hash in a single column.\n",
    "    \"\"\"\n",
    "    high_card_features = [\n",
    "        \"Guid\", \"ProcessGuid\", \"ParentProcessGuid\", \"SourceProcessGUID\", \"TargetProcessGUID\", \"SourceProcessGuid\",\n",
    "        \"LogonGuid\", \"ThreadID\", \"LogonId\", \"SourceHostname\", \"OriginalFileName\", \"TargetProcessGuid\",\n",
    "        \"DestinationHostname\", \"SourcePortName\", \"DestinationPortName\", \"StartAddress\", \"StartModule\",\n",
    "        \"NewThreadId\", \"GrantedAccess\", \"QueryName\", \"QueryResults\", \"Hashes\", \"Hash\", \"Contents\"\n",
    "    ]\n",
    "\n",
    "    for feature in high_card_features:\n",
    "        if feature in df.columns:\n",
    "            # Apply MurmurHash to hash feature values\n",
    "            df[f\"{feature}_hash\"] = df[feature].astype(str).apply(\n",
    "                lambda x: mmh3.hash(x, signed=False) % (2 ** hash_bits)\n",
    "            )\n",
    "            # Drop the original feature column\n",
    "            df = df.drop(columns=[feature])\n",
    "\n",
    "    return df\n",
    "\n"
   ]
  },
  {
   "cell_type": "code",
   "execution_count": 26,
   "metadata": {},
   "outputs": [],
   "source": [
    "def preprocess_all_features(df):\n",
    "    df = preprocess_temporal_features(df)  # Temporal Features\n",
    "    print(\"Temporal Features\")\n",
    "    df = preprocess_low_card_categorical_features(df)  # Low Cardinality Features\n",
    "    print(\"Low Cardinality Features\")\n",
    "    df = preprocess_high_card_categorical_features(df)  # High Cardinality Features\n",
    "    print(\"High Cardinality Features\")\n",
    "    df = preprocess_ip_address_features(df)  # IP Address Features\n",
    "    print(\"IP Address Features\")\n",
    "    df = preprocess_path_features(df) # Path Features\n",
    "    print(\"Path Features\")\n",
    "    # df = preprocess_textual_features(df)  # Textual Features\n",
    "    # print(\"Textual\")\n",
    "    df = preprocess_numerical_features_as_categorical(df)  # Numerical Features\n",
    "    print(\"Numerical\")\n",
    "    df = preprocess_binary_features(df)  # Binary Features\n",
    "    print(\"Binary\")\n",
    "    return df\n"
   ]
  },
  {
   "cell_type": "code",
   "execution_count": 27,
   "metadata": {},
   "outputs": [],
   "source": [
    "def process_files_in_chunks(input_folder, output_folder):\n",
    "    all_files = [os.path.join(input_folder, f) for f in os.listdir(input_folder) if f.endswith(\".csv\")]\n",
    "    \n",
    "    for file in all_files:\n",
    "        output_file = os.path.join(output_folder, os.path.basename(file))\n",
    "        chunk_iter = pd.read_csv(file, chunksize=100000)  # Adjust chunksize based on memory\n",
    "        \n",
    "        for chunk_idx, chunk in enumerate(chunk_iter):\n",
    "            # Print progress information\n",
    "            print(f\"Processing file: {os.path.basename(file)}, Chunk number: {chunk_idx + 1}\")\n",
    "            \n",
    "            # Drop unnecessary features\n",
    "            chunk.drop(columns=features_to_drop, inplace=True, errors='ignore')\n",
    "            \n",
    "            # Preprocess all feature types using the unified function\n",
    "            chunk = preprocess_all_features(chunk)\n",
    "            \n",
    "            # Save processed chunk to output CSV\n",
    "            if chunk_idx == 0:\n",
    "                chunk.to_csv(output_file, mode='w', index=False)\n",
    "            else:\n",
    "                chunk.to_csv(output_file, mode='a', index=False, header=False)\n",
    "            \n"
   ]
  },
  {
   "cell_type": "code",
   "execution_count": 28,
   "metadata": {},
   "outputs": [
    {
     "name": "stderr",
     "output_type": "stream",
     "text": [
      "C:\\Users\\Akshit Saini\\AppData\\Local\\Temp\\ipykernel_25360\\3220312833.py:8: DtypeWarning: Columns (22,23,24,25,26,27,28,30,31,33,34,35,37,38,39,52,83,84,86,87,88,89,90,91,92) have mixed types. Specify dtype option on import or set low_memory=False.\n",
      "  for chunk_idx, chunk in enumerate(chunk_iter):\n"
     ]
    },
    {
     "name": "stdout",
     "output_type": "stream",
     "text": [
      "Processing file: LMD-2022 [870K Elements][Labelled].csv, Chunk number: 1\n"
     ]
    },
    {
     "name": "stderr",
     "output_type": "stream",
     "text": [
      "c:\\Users\\Akshit Saini\\AppData\\Local\\Programs\\Python\\Python311\\Lib\\site-packages\\sklearn\\preprocessing\\_data.py:479: RuntimeWarning: All-NaN slice encountered\n",
      "  data_min = np.nanmin(X, axis=0)\n",
      "c:\\Users\\Akshit Saini\\AppData\\Local\\Programs\\Python\\Python311\\Lib\\site-packages\\sklearn\\preprocessing\\_data.py:480: RuntimeWarning: All-NaN slice encountered\n",
      "  data_max = np.nanmax(X, axis=0)\n"
     ]
    },
    {
     "name": "stdout",
     "output_type": "stream",
     "text": [
      "Temporal Features\n",
      "Low Cardinality Features\n",
      "High Cardinality Features\n",
      "IP Address Features\n",
      "Path Features\n",
      "Numerical\n",
      "Binary\n",
      "Processing file: LMD-2022 [870K Elements][Labelled].csv, Chunk number: 2\n"
     ]
    },
    {
     "name": "stderr",
     "output_type": "stream",
     "text": [
      "c:\\Users\\Akshit Saini\\AppData\\Local\\Programs\\Python\\Python311\\Lib\\site-packages\\sklearn\\preprocessing\\_data.py:479: RuntimeWarning: All-NaN slice encountered\n",
      "  data_min = np.nanmin(X, axis=0)\n",
      "c:\\Users\\Akshit Saini\\AppData\\Local\\Programs\\Python\\Python311\\Lib\\site-packages\\sklearn\\preprocessing\\_data.py:480: RuntimeWarning: All-NaN slice encountered\n",
      "  data_max = np.nanmax(X, axis=0)\n"
     ]
    },
    {
     "name": "stdout",
     "output_type": "stream",
     "text": [
      "Temporal Features\n",
      "Low Cardinality Features\n",
      "High Cardinality Features\n",
      "IP Address Features\n",
      "Path Features\n",
      "Numerical\n",
      "Binary\n"
     ]
    },
    {
     "name": "stderr",
     "output_type": "stream",
     "text": [
      "C:\\Users\\Akshit Saini\\AppData\\Local\\Temp\\ipykernel_25360\\3220312833.py:8: DtypeWarning: Columns (83,84,86,87,88,89,90,91,92) have mixed types. Specify dtype option on import or set low_memory=False.\n",
      "  for chunk_idx, chunk in enumerate(chunk_iter):\n"
     ]
    },
    {
     "name": "stdout",
     "output_type": "stream",
     "text": [
      "Processing file: LMD-2022 [870K Elements][Labelled].csv, Chunk number: 3\n"
     ]
    },
    {
     "name": "stderr",
     "output_type": "stream",
     "text": [
      "c:\\Users\\Akshit Saini\\AppData\\Local\\Programs\\Python\\Python311\\Lib\\site-packages\\sklearn\\preprocessing\\_data.py:479: RuntimeWarning: All-NaN slice encountered\n",
      "  data_min = np.nanmin(X, axis=0)\n",
      "c:\\Users\\Akshit Saini\\AppData\\Local\\Programs\\Python\\Python311\\Lib\\site-packages\\sklearn\\preprocessing\\_data.py:480: RuntimeWarning: All-NaN slice encountered\n",
      "  data_max = np.nanmax(X, axis=0)\n"
     ]
    },
    {
     "name": "stdout",
     "output_type": "stream",
     "text": [
      "Temporal Features\n",
      "Low Cardinality Features\n",
      "High Cardinality Features\n",
      "IP Address Features\n",
      "Path Features\n",
      "Numerical\n",
      "Binary\n"
     ]
    },
    {
     "name": "stderr",
     "output_type": "stream",
     "text": [
      "C:\\Users\\Akshit Saini\\AppData\\Local\\Temp\\ipykernel_25360\\3220312833.py:8: DtypeWarning: Columns (83,84,86,87,88,89,90,91,92) have mixed types. Specify dtype option on import or set low_memory=False.\n",
      "  for chunk_idx, chunk in enumerate(chunk_iter):\n"
     ]
    },
    {
     "name": "stdout",
     "output_type": "stream",
     "text": [
      "Processing file: LMD-2022 [870K Elements][Labelled].csv, Chunk number: 4\n"
     ]
    },
    {
     "name": "stderr",
     "output_type": "stream",
     "text": [
      "c:\\Users\\Akshit Saini\\AppData\\Local\\Programs\\Python\\Python311\\Lib\\site-packages\\sklearn\\preprocessing\\_data.py:479: RuntimeWarning: All-NaN slice encountered\n",
      "  data_min = np.nanmin(X, axis=0)\n",
      "c:\\Users\\Akshit Saini\\AppData\\Local\\Programs\\Python\\Python311\\Lib\\site-packages\\sklearn\\preprocessing\\_data.py:480: RuntimeWarning: All-NaN slice encountered\n",
      "  data_max = np.nanmax(X, axis=0)\n"
     ]
    },
    {
     "name": "stdout",
     "output_type": "stream",
     "text": [
      "Temporal Features\n",
      "Low Cardinality Features\n",
      "High Cardinality Features\n",
      "IP Address Features\n",
      "Path Features\n",
      "Numerical\n",
      "Binary\n",
      "Processing file: LMD-2022 [870K Elements][Labelled].csv, Chunk number: 5\n"
     ]
    },
    {
     "name": "stderr",
     "output_type": "stream",
     "text": [
      "c:\\Users\\Akshit Saini\\AppData\\Local\\Programs\\Python\\Python311\\Lib\\site-packages\\sklearn\\preprocessing\\_data.py:479: RuntimeWarning: All-NaN slice encountered\n",
      "  data_min = np.nanmin(X, axis=0)\n",
      "c:\\Users\\Akshit Saini\\AppData\\Local\\Programs\\Python\\Python311\\Lib\\site-packages\\sklearn\\preprocessing\\_data.py:480: RuntimeWarning: All-NaN slice encountered\n",
      "  data_max = np.nanmax(X, axis=0)\n"
     ]
    },
    {
     "name": "stdout",
     "output_type": "stream",
     "text": [
      "Temporal Features\n",
      "Low Cardinality Features\n",
      "High Cardinality Features\n",
      "IP Address Features\n",
      "Path Features\n",
      "Numerical\n",
      "Binary\n"
     ]
    },
    {
     "name": "stderr",
     "output_type": "stream",
     "text": [
      "C:\\Users\\Akshit Saini\\AppData\\Local\\Temp\\ipykernel_25360\\3220312833.py:8: DtypeWarning: Columns (52,83,84,86,87,88,89,90,91) have mixed types. Specify dtype option on import or set low_memory=False.\n",
      "  for chunk_idx, chunk in enumerate(chunk_iter):\n"
     ]
    },
    {
     "name": "stdout",
     "output_type": "stream",
     "text": [
      "Processing file: LMD-2022 [870K Elements][Labelled].csv, Chunk number: 6\n"
     ]
    },
    {
     "name": "stderr",
     "output_type": "stream",
     "text": [
      "c:\\Users\\Akshit Saini\\AppData\\Local\\Programs\\Python\\Python311\\Lib\\site-packages\\sklearn\\preprocessing\\_data.py:479: RuntimeWarning: All-NaN slice encountered\n",
      "  data_min = np.nanmin(X, axis=0)\n",
      "c:\\Users\\Akshit Saini\\AppData\\Local\\Programs\\Python\\Python311\\Lib\\site-packages\\sklearn\\preprocessing\\_data.py:480: RuntimeWarning: All-NaN slice encountered\n",
      "  data_max = np.nanmax(X, axis=0)\n"
     ]
    },
    {
     "name": "stdout",
     "output_type": "stream",
     "text": [
      "Temporal Features\n",
      "Low Cardinality Features\n",
      "High Cardinality Features\n",
      "IP Address Features\n",
      "Path Features\n",
      "Numerical\n",
      "Binary\n"
     ]
    },
    {
     "name": "stderr",
     "output_type": "stream",
     "text": [
      "C:\\Users\\Akshit Saini\\AppData\\Local\\Temp\\ipykernel_25360\\3220312833.py:8: DtypeWarning: Columns (52,83,84,86,87,88,89,90,91,92) have mixed types. Specify dtype option on import or set low_memory=False.\n",
      "  for chunk_idx, chunk in enumerate(chunk_iter):\n"
     ]
    },
    {
     "name": "stdout",
     "output_type": "stream",
     "text": [
      "Processing file: LMD-2022 [870K Elements][Labelled].csv, Chunk number: 7\n"
     ]
    },
    {
     "name": "stderr",
     "output_type": "stream",
     "text": [
      "c:\\Users\\Akshit Saini\\AppData\\Local\\Programs\\Python\\Python311\\Lib\\site-packages\\sklearn\\preprocessing\\_data.py:479: RuntimeWarning: All-NaN slice encountered\n",
      "  data_min = np.nanmin(X, axis=0)\n",
      "c:\\Users\\Akshit Saini\\AppData\\Local\\Programs\\Python\\Python311\\Lib\\site-packages\\sklearn\\preprocessing\\_data.py:480: RuntimeWarning: All-NaN slice encountered\n",
      "  data_max = np.nanmax(X, axis=0)\n"
     ]
    },
    {
     "name": "stdout",
     "output_type": "stream",
     "text": [
      "Temporal Features\n",
      "Low Cardinality Features\n",
      "High Cardinality Features\n",
      "IP Address Features\n",
      "Path Features\n",
      "Numerical\n",
      "Binary\n"
     ]
    },
    {
     "name": "stderr",
     "output_type": "stream",
     "text": [
      "C:\\Users\\Akshit Saini\\AppData\\Local\\Temp\\ipykernel_25360\\3220312833.py:8: DtypeWarning: Columns (52) have mixed types. Specify dtype option on import or set low_memory=False.\n",
      "  for chunk_idx, chunk in enumerate(chunk_iter):\n"
     ]
    },
    {
     "name": "stdout",
     "output_type": "stream",
     "text": [
      "Processing file: LMD-2022 [870K Elements][Labelled].csv, Chunk number: 8\n"
     ]
    },
    {
     "name": "stderr",
     "output_type": "stream",
     "text": [
      "c:\\Users\\Akshit Saini\\AppData\\Local\\Programs\\Python\\Python311\\Lib\\site-packages\\sklearn\\preprocessing\\_data.py:479: RuntimeWarning: All-NaN slice encountered\n",
      "  data_min = np.nanmin(X, axis=0)\n",
      "c:\\Users\\Akshit Saini\\AppData\\Local\\Programs\\Python\\Python311\\Lib\\site-packages\\sklearn\\preprocessing\\_data.py:480: RuntimeWarning: All-NaN slice encountered\n",
      "  data_max = np.nanmax(X, axis=0)\n"
     ]
    },
    {
     "name": "stdout",
     "output_type": "stream",
     "text": [
      "Temporal Features\n",
      "Low Cardinality Features\n",
      "High Cardinality Features\n",
      "IP Address Features\n",
      "Path Features\n",
      "Numerical\n",
      "Binary\n"
     ]
    },
    {
     "name": "stderr",
     "output_type": "stream",
     "text": [
      "C:\\Users\\Akshit Saini\\AppData\\Local\\Temp\\ipykernel_25360\\3220312833.py:8: DtypeWarning: Columns (52) have mixed types. Specify dtype option on import or set low_memory=False.\n",
      "  for chunk_idx, chunk in enumerate(chunk_iter):\n"
     ]
    },
    {
     "name": "stdout",
     "output_type": "stream",
     "text": [
      "Processing file: LMD-2022 [870K Elements][Labelled].csv, Chunk number: 9\n",
      "Temporal Features\n"
     ]
    },
    {
     "name": "stderr",
     "output_type": "stream",
     "text": [
      "c:\\Users\\Akshit Saini\\AppData\\Local\\Programs\\Python\\Python311\\Lib\\site-packages\\sklearn\\preprocessing\\_data.py:479: RuntimeWarning: All-NaN slice encountered\n",
      "  data_min = np.nanmin(X, axis=0)\n",
      "c:\\Users\\Akshit Saini\\AppData\\Local\\Programs\\Python\\Python311\\Lib\\site-packages\\sklearn\\preprocessing\\_data.py:480: RuntimeWarning: All-NaN slice encountered\n",
      "  data_max = np.nanmax(X, axis=0)\n"
     ]
    },
    {
     "name": "stdout",
     "output_type": "stream",
     "text": [
      "Low Cardinality Features\n",
      "High Cardinality Features\n",
      "IP Address Features\n",
      "Path Features\n",
      "Numerical\n",
      "Binary\n"
     ]
    },
    {
     "name": "stderr",
     "output_type": "stream",
     "text": [
      "C:\\Users\\Akshit Saini\\AppData\\Local\\Temp\\ipykernel_25360\\3220312833.py:8: DtypeWarning: Columns (23,24,25,26,27,28,29,31,32,34,35,36,38,39,40,53,56,57,58,59,60,61,62,65,66,68,69,70,71,72,73,74,75,76,77,78,79,81,82,83,84,85,87,88,89,90,91,92,93) have mixed types. Specify dtype option on import or set low_memory=False.\n",
      "  for chunk_idx, chunk in enumerate(chunk_iter):\n"
     ]
    },
    {
     "name": "stdout",
     "output_type": "stream",
     "text": [
      "Processing file: LMD-2023 [1.75M Elements][Labelled]checked.csv, Chunk number: 1\n",
      "Temporal Features\n",
      "Low Cardinality Features\n",
      "High Cardinality Features\n",
      "IP Address Features\n",
      "Path Features\n",
      "Numerical\n",
      "Binary\n",
      "Processing file: LMD-2023 [1.75M Elements][Labelled]checked.csv, Chunk number: 2\n",
      "Temporal Features\n"
     ]
    },
    {
     "name": "stderr",
     "output_type": "stream",
     "text": [
      "c:\\Users\\Akshit Saini\\AppData\\Local\\Programs\\Python\\Python311\\Lib\\site-packages\\sklearn\\preprocessing\\_data.py:479: RuntimeWarning: All-NaN slice encountered\n",
      "  data_min = np.nanmin(X, axis=0)\n",
      "c:\\Users\\Akshit Saini\\AppData\\Local\\Programs\\Python\\Python311\\Lib\\site-packages\\sklearn\\preprocessing\\_data.py:480: RuntimeWarning: All-NaN slice encountered\n",
      "  data_max = np.nanmax(X, axis=0)\n"
     ]
    },
    {
     "name": "stdout",
     "output_type": "stream",
     "text": [
      "Low Cardinality Features\n",
      "High Cardinality Features\n",
      "IP Address Features\n",
      "Path Features\n",
      "Numerical\n",
      "Binary\n"
     ]
    },
    {
     "name": "stderr",
     "output_type": "stream",
     "text": [
      "C:\\Users\\Akshit Saini\\AppData\\Local\\Temp\\ipykernel_25360\\3220312833.py:8: DtypeWarning: Columns (23,24,25,26,27,28,29,31,32,34,35,36,38,39,40) have mixed types. Specify dtype option on import or set low_memory=False.\n",
      "  for chunk_idx, chunk in enumerate(chunk_iter):\n"
     ]
    },
    {
     "name": "stdout",
     "output_type": "stream",
     "text": [
      "Processing file: LMD-2023 [1.75M Elements][Labelled]checked.csv, Chunk number: 3\n",
      "Temporal Features\n"
     ]
    },
    {
     "name": "stderr",
     "output_type": "stream",
     "text": [
      "c:\\Users\\Akshit Saini\\AppData\\Local\\Programs\\Python\\Python311\\Lib\\site-packages\\sklearn\\preprocessing\\_data.py:479: RuntimeWarning: All-NaN slice encountered\n",
      "  data_min = np.nanmin(X, axis=0)\n",
      "c:\\Users\\Akshit Saini\\AppData\\Local\\Programs\\Python\\Python311\\Lib\\site-packages\\sklearn\\preprocessing\\_data.py:480: RuntimeWarning: All-NaN slice encountered\n",
      "  data_max = np.nanmax(X, axis=0)\n"
     ]
    },
    {
     "name": "stdout",
     "output_type": "stream",
     "text": [
      "Low Cardinality Features\n",
      "High Cardinality Features\n",
      "IP Address Features\n",
      "Path Features\n",
      "Numerical\n",
      "Binary\n"
     ]
    },
    {
     "name": "stderr",
     "output_type": "stream",
     "text": [
      "C:\\Users\\Akshit Saini\\AppData\\Local\\Temp\\ipykernel_25360\\3220312833.py:8: DtypeWarning: Columns (23,24,25,26,27,28,29,31,32,34,35,36,38,39,40,84,85,87,88,89,90,91,92,93) have mixed types. Specify dtype option on import or set low_memory=False.\n",
      "  for chunk_idx, chunk in enumerate(chunk_iter):\n"
     ]
    },
    {
     "name": "stdout",
     "output_type": "stream",
     "text": [
      "Processing file: LMD-2023 [1.75M Elements][Labelled]checked.csv, Chunk number: 4\n"
     ]
    },
    {
     "name": "stderr",
     "output_type": "stream",
     "text": [
      "c:\\Users\\Akshit Saini\\AppData\\Local\\Programs\\Python\\Python311\\Lib\\site-packages\\sklearn\\preprocessing\\_data.py:479: RuntimeWarning: All-NaN slice encountered\n",
      "  data_min = np.nanmin(X, axis=0)\n",
      "c:\\Users\\Akshit Saini\\AppData\\Local\\Programs\\Python\\Python311\\Lib\\site-packages\\sklearn\\preprocessing\\_data.py:480: RuntimeWarning: All-NaN slice encountered\n",
      "  data_max = np.nanmax(X, axis=0)\n"
     ]
    },
    {
     "name": "stdout",
     "output_type": "stream",
     "text": [
      "Temporal Features\n",
      "Low Cardinality Features\n",
      "High Cardinality Features\n",
      "IP Address Features\n",
      "Path Features\n",
      "Numerical\n",
      "Binary\n"
     ]
    },
    {
     "name": "stderr",
     "output_type": "stream",
     "text": [
      "C:\\Users\\Akshit Saini\\AppData\\Local\\Temp\\ipykernel_25360\\3220312833.py:8: DtypeWarning: Columns (23,24,25,26,27,28,29,31,32,34,35,36,38,39,40) have mixed types. Specify dtype option on import or set low_memory=False.\n",
      "  for chunk_idx, chunk in enumerate(chunk_iter):\n"
     ]
    },
    {
     "name": "stdout",
     "output_type": "stream",
     "text": [
      "Processing file: LMD-2023 [1.75M Elements][Labelled]checked.csv, Chunk number: 5\n",
      "Temporal Features\n"
     ]
    },
    {
     "name": "stderr",
     "output_type": "stream",
     "text": [
      "c:\\Users\\Akshit Saini\\AppData\\Local\\Programs\\Python\\Python311\\Lib\\site-packages\\sklearn\\preprocessing\\_data.py:479: RuntimeWarning: All-NaN slice encountered\n",
      "  data_min = np.nanmin(X, axis=0)\n",
      "c:\\Users\\Akshit Saini\\AppData\\Local\\Programs\\Python\\Python311\\Lib\\site-packages\\sklearn\\preprocessing\\_data.py:480: RuntimeWarning: All-NaN slice encountered\n",
      "  data_max = np.nanmax(X, axis=0)\n"
     ]
    },
    {
     "name": "stdout",
     "output_type": "stream",
     "text": [
      "Low Cardinality Features\n",
      "High Cardinality Features\n",
      "IP Address Features\n",
      "Path Features\n",
      "Numerical\n",
      "Binary\n"
     ]
    },
    {
     "name": "stderr",
     "output_type": "stream",
     "text": [
      "C:\\Users\\Akshit Saini\\AppData\\Local\\Temp\\ipykernel_25360\\3220312833.py:8: DtypeWarning: Columns (53) have mixed types. Specify dtype option on import or set low_memory=False.\n",
      "  for chunk_idx, chunk in enumerate(chunk_iter):\n"
     ]
    },
    {
     "name": "stdout",
     "output_type": "stream",
     "text": [
      "Processing file: LMD-2023 [1.75M Elements][Labelled]checked.csv, Chunk number: 6\n",
      "Temporal Features\n"
     ]
    },
    {
     "name": "stderr",
     "output_type": "stream",
     "text": [
      "c:\\Users\\Akshit Saini\\AppData\\Local\\Programs\\Python\\Python311\\Lib\\site-packages\\sklearn\\preprocessing\\_data.py:479: RuntimeWarning: All-NaN slice encountered\n",
      "  data_min = np.nanmin(X, axis=0)\n",
      "c:\\Users\\Akshit Saini\\AppData\\Local\\Programs\\Python\\Python311\\Lib\\site-packages\\sklearn\\preprocessing\\_data.py:480: RuntimeWarning: All-NaN slice encountered\n",
      "  data_max = np.nanmax(X, axis=0)\n"
     ]
    },
    {
     "name": "stdout",
     "output_type": "stream",
     "text": [
      "Low Cardinality Features\n",
      "High Cardinality Features\n",
      "IP Address Features\n",
      "Path Features\n",
      "Numerical\n",
      "Binary\n"
     ]
    },
    {
     "name": "stderr",
     "output_type": "stream",
     "text": [
      "C:\\Users\\Akshit Saini\\AppData\\Local\\Temp\\ipykernel_25360\\3220312833.py:8: DtypeWarning: Columns (53,84,85,87,88,89,90,91,92,93) have mixed types. Specify dtype option on import or set low_memory=False.\n",
      "  for chunk_idx, chunk in enumerate(chunk_iter):\n"
     ]
    },
    {
     "name": "stdout",
     "output_type": "stream",
     "text": [
      "Processing file: LMD-2023 [1.75M Elements][Labelled]checked.csv, Chunk number: 7\n"
     ]
    },
    {
     "name": "stderr",
     "output_type": "stream",
     "text": [
      "c:\\Users\\Akshit Saini\\AppData\\Local\\Programs\\Python\\Python311\\Lib\\site-packages\\sklearn\\preprocessing\\_data.py:479: RuntimeWarning: All-NaN slice encountered\n",
      "  data_min = np.nanmin(X, axis=0)\n",
      "c:\\Users\\Akshit Saini\\AppData\\Local\\Programs\\Python\\Python311\\Lib\\site-packages\\sklearn\\preprocessing\\_data.py:480: RuntimeWarning: All-NaN slice encountered\n",
      "  data_max = np.nanmax(X, axis=0)\n"
     ]
    },
    {
     "name": "stdout",
     "output_type": "stream",
     "text": [
      "Temporal Features\n",
      "Low Cardinality Features\n",
      "High Cardinality Features\n",
      "IP Address Features\n",
      "Path Features\n",
      "Numerical\n",
      "Binary\n"
     ]
    },
    {
     "name": "stderr",
     "output_type": "stream",
     "text": [
      "C:\\Users\\Akshit Saini\\AppData\\Local\\Temp\\ipykernel_25360\\3220312833.py:8: DtypeWarning: Columns (40,53,84,85,87,88,89,90,91,92,93) have mixed types. Specify dtype option on import or set low_memory=False.\n",
      "  for chunk_idx, chunk in enumerate(chunk_iter):\n"
     ]
    },
    {
     "name": "stdout",
     "output_type": "stream",
     "text": [
      "Processing file: LMD-2023 [1.75M Elements][Labelled]checked.csv, Chunk number: 8\n",
      "Temporal Features\n"
     ]
    },
    {
     "name": "stderr",
     "output_type": "stream",
     "text": [
      "c:\\Users\\Akshit Saini\\AppData\\Local\\Programs\\Python\\Python311\\Lib\\site-packages\\sklearn\\preprocessing\\_data.py:479: RuntimeWarning: All-NaN slice encountered\n",
      "  data_min = np.nanmin(X, axis=0)\n",
      "c:\\Users\\Akshit Saini\\AppData\\Local\\Programs\\Python\\Python311\\Lib\\site-packages\\sklearn\\preprocessing\\_data.py:480: RuntimeWarning: All-NaN slice encountered\n",
      "  data_max = np.nanmax(X, axis=0)\n"
     ]
    },
    {
     "name": "stdout",
     "output_type": "stream",
     "text": [
      "Low Cardinality Features\n",
      "High Cardinality Features\n",
      "IP Address Features\n",
      "Path Features\n",
      "Numerical\n",
      "Binary\n"
     ]
    },
    {
     "name": "stderr",
     "output_type": "stream",
     "text": [
      "C:\\Users\\Akshit Saini\\AppData\\Local\\Temp\\ipykernel_25360\\3220312833.py:8: DtypeWarning: Columns (40,84,85,87,88,89,90,91,92,93) have mixed types. Specify dtype option on import or set low_memory=False.\n",
      "  for chunk_idx, chunk in enumerate(chunk_iter):\n"
     ]
    },
    {
     "name": "stdout",
     "output_type": "stream",
     "text": [
      "Processing file: LMD-2023 [1.75M Elements][Labelled]checked.csv, Chunk number: 9\n",
      "Temporal Features\n"
     ]
    },
    {
     "name": "stderr",
     "output_type": "stream",
     "text": [
      "c:\\Users\\Akshit Saini\\AppData\\Local\\Programs\\Python\\Python311\\Lib\\site-packages\\sklearn\\preprocessing\\_data.py:479: RuntimeWarning: All-NaN slice encountered\n",
      "  data_min = np.nanmin(X, axis=0)\n",
      "c:\\Users\\Akshit Saini\\AppData\\Local\\Programs\\Python\\Python311\\Lib\\site-packages\\sklearn\\preprocessing\\_data.py:480: RuntimeWarning: All-NaN slice encountered\n",
      "  data_max = np.nanmax(X, axis=0)\n"
     ]
    },
    {
     "name": "stdout",
     "output_type": "stream",
     "text": [
      "Low Cardinality Features\n",
      "High Cardinality Features\n",
      "IP Address Features\n",
      "Path Features\n",
      "Numerical\n",
      "Binary\n"
     ]
    },
    {
     "name": "stderr",
     "output_type": "stream",
     "text": [
      "C:\\Users\\Akshit Saini\\AppData\\Local\\Temp\\ipykernel_25360\\3220312833.py:8: DtypeWarning: Columns (53) have mixed types. Specify dtype option on import or set low_memory=False.\n",
      "  for chunk_idx, chunk in enumerate(chunk_iter):\n"
     ]
    },
    {
     "name": "stdout",
     "output_type": "stream",
     "text": [
      "Processing file: LMD-2023 [1.75M Elements][Labelled]checked.csv, Chunk number: 10\n",
      "Temporal Features\n"
     ]
    },
    {
     "name": "stderr",
     "output_type": "stream",
     "text": [
      "c:\\Users\\Akshit Saini\\AppData\\Local\\Programs\\Python\\Python311\\Lib\\site-packages\\sklearn\\preprocessing\\_data.py:479: RuntimeWarning: All-NaN slice encountered\n",
      "  data_min = np.nanmin(X, axis=0)\n",
      "c:\\Users\\Akshit Saini\\AppData\\Local\\Programs\\Python\\Python311\\Lib\\site-packages\\sklearn\\preprocessing\\_data.py:480: RuntimeWarning: All-NaN slice encountered\n",
      "  data_max = np.nanmax(X, axis=0)\n"
     ]
    },
    {
     "name": "stdout",
     "output_type": "stream",
     "text": [
      "Low Cardinality Features\n",
      "High Cardinality Features\n",
      "IP Address Features\n",
      "Path Features\n",
      "Numerical\n",
      "Binary\n"
     ]
    },
    {
     "name": "stderr",
     "output_type": "stream",
     "text": [
      "C:\\Users\\Akshit Saini\\AppData\\Local\\Temp\\ipykernel_25360\\3220312833.py:8: DtypeWarning: Columns (53,84,85,87,88,89,90,91,92,93) have mixed types. Specify dtype option on import or set low_memory=False.\n",
      "  for chunk_idx, chunk in enumerate(chunk_iter):\n"
     ]
    },
    {
     "name": "stdout",
     "output_type": "stream",
     "text": [
      "Processing file: LMD-2023 [1.75M Elements][Labelled]checked.csv, Chunk number: 11\n"
     ]
    },
    {
     "name": "stderr",
     "output_type": "stream",
     "text": [
      "c:\\Users\\Akshit Saini\\AppData\\Local\\Programs\\Python\\Python311\\Lib\\site-packages\\sklearn\\preprocessing\\_data.py:479: RuntimeWarning: All-NaN slice encountered\n",
      "  data_min = np.nanmin(X, axis=0)\n",
      "c:\\Users\\Akshit Saini\\AppData\\Local\\Programs\\Python\\Python311\\Lib\\site-packages\\sklearn\\preprocessing\\_data.py:480: RuntimeWarning: All-NaN slice encountered\n",
      "  data_max = np.nanmax(X, axis=0)\n"
     ]
    },
    {
     "name": "stdout",
     "output_type": "stream",
     "text": [
      "Temporal Features\n",
      "Low Cardinality Features\n",
      "High Cardinality Features\n",
      "IP Address Features\n",
      "Path Features\n",
      "Numerical\n",
      "Binary\n"
     ]
    },
    {
     "name": "stderr",
     "output_type": "stream",
     "text": [
      "C:\\Users\\Akshit Saini\\AppData\\Local\\Temp\\ipykernel_25360\\3220312833.py:8: DtypeWarning: Columns (53,84,85,87,88,89,90,91,92,93) have mixed types. Specify dtype option on import or set low_memory=False.\n",
      "  for chunk_idx, chunk in enumerate(chunk_iter):\n"
     ]
    },
    {
     "name": "stdout",
     "output_type": "stream",
     "text": [
      "Processing file: LMD-2023 [1.75M Elements][Labelled]checked.csv, Chunk number: 12\n"
     ]
    },
    {
     "name": "stderr",
     "output_type": "stream",
     "text": [
      "c:\\Users\\Akshit Saini\\AppData\\Local\\Programs\\Python\\Python311\\Lib\\site-packages\\sklearn\\preprocessing\\_data.py:479: RuntimeWarning: All-NaN slice encountered\n",
      "  data_min = np.nanmin(X, axis=0)\n",
      "c:\\Users\\Akshit Saini\\AppData\\Local\\Programs\\Python\\Python311\\Lib\\site-packages\\sklearn\\preprocessing\\_data.py:480: RuntimeWarning: All-NaN slice encountered\n",
      "  data_max = np.nanmax(X, axis=0)\n"
     ]
    },
    {
     "name": "stdout",
     "output_type": "stream",
     "text": [
      "Temporal Features\n",
      "Low Cardinality Features\n",
      "High Cardinality Features\n",
      "IP Address Features\n",
      "Path Features\n",
      "Numerical\n",
      "Binary\n"
     ]
    },
    {
     "name": "stderr",
     "output_type": "stream",
     "text": [
      "C:\\Users\\Akshit Saini\\AppData\\Local\\Temp\\ipykernel_25360\\3220312833.py:8: DtypeWarning: Columns (53) have mixed types. Specify dtype option on import or set low_memory=False.\n",
      "  for chunk_idx, chunk in enumerate(chunk_iter):\n"
     ]
    },
    {
     "name": "stdout",
     "output_type": "stream",
     "text": [
      "Processing file: LMD-2023 [1.75M Elements][Labelled]checked.csv, Chunk number: 13\n",
      "Temporal Features\n"
     ]
    },
    {
     "name": "stderr",
     "output_type": "stream",
     "text": [
      "c:\\Users\\Akshit Saini\\AppData\\Local\\Programs\\Python\\Python311\\Lib\\site-packages\\sklearn\\preprocessing\\_data.py:479: RuntimeWarning: All-NaN slice encountered\n",
      "  data_min = np.nanmin(X, axis=0)\n",
      "c:\\Users\\Akshit Saini\\AppData\\Local\\Programs\\Python\\Python311\\Lib\\site-packages\\sklearn\\preprocessing\\_data.py:480: RuntimeWarning: All-NaN slice encountered\n",
      "  data_max = np.nanmax(X, axis=0)\n"
     ]
    },
    {
     "name": "stdout",
     "output_type": "stream",
     "text": [
      "Low Cardinality Features\n",
      "High Cardinality Features\n",
      "IP Address Features\n",
      "Path Features\n",
      "Numerical\n",
      "Binary\n"
     ]
    },
    {
     "name": "stderr",
     "output_type": "stream",
     "text": [
      "C:\\Users\\Akshit Saini\\AppData\\Local\\Temp\\ipykernel_25360\\3220312833.py:8: DtypeWarning: Columns (23,24,25,26,27,28,29,31,32,34,35,36,38,39,40,53,84,85,87,88,89,90,91,92,93) have mixed types. Specify dtype option on import or set low_memory=False.\n",
      "  for chunk_idx, chunk in enumerate(chunk_iter):\n"
     ]
    },
    {
     "name": "stdout",
     "output_type": "stream",
     "text": [
      "Processing file: LMD-2023 [1.75M Elements][Labelled]checked.csv, Chunk number: 14\n"
     ]
    },
    {
     "name": "stderr",
     "output_type": "stream",
     "text": [
      "c:\\Users\\Akshit Saini\\AppData\\Local\\Programs\\Python\\Python311\\Lib\\site-packages\\sklearn\\preprocessing\\_data.py:479: RuntimeWarning: All-NaN slice encountered\n",
      "  data_min = np.nanmin(X, axis=0)\n",
      "c:\\Users\\Akshit Saini\\AppData\\Local\\Programs\\Python\\Python311\\Lib\\site-packages\\sklearn\\preprocessing\\_data.py:480: RuntimeWarning: All-NaN slice encountered\n",
      "  data_max = np.nanmax(X, axis=0)\n"
     ]
    },
    {
     "name": "stdout",
     "output_type": "stream",
     "text": [
      "Temporal Features\n",
      "Low Cardinality Features\n",
      "High Cardinality Features\n",
      "IP Address Features\n",
      "Path Features\n",
      "Numerical\n",
      "Binary\n"
     ]
    },
    {
     "name": "stderr",
     "output_type": "stream",
     "text": [
      "C:\\Users\\Akshit Saini\\AppData\\Local\\Temp\\ipykernel_25360\\3220312833.py:8: DtypeWarning: Columns (23,24,25,26,27,28,29,31,32,34,35,36,38,39,40,53,84,85,87,88,89,90) have mixed types. Specify dtype option on import or set low_memory=False.\n",
      "  for chunk_idx, chunk in enumerate(chunk_iter):\n"
     ]
    },
    {
     "name": "stdout",
     "output_type": "stream",
     "text": [
      "Processing file: LMD-2023 [1.75M Elements][Labelled]checked.csv, Chunk number: 15\n"
     ]
    },
    {
     "name": "stderr",
     "output_type": "stream",
     "text": [
      "c:\\Users\\Akshit Saini\\AppData\\Local\\Programs\\Python\\Python311\\Lib\\site-packages\\sklearn\\preprocessing\\_data.py:479: RuntimeWarning: All-NaN slice encountered\n",
      "  data_min = np.nanmin(X, axis=0)\n",
      "c:\\Users\\Akshit Saini\\AppData\\Local\\Programs\\Python\\Python311\\Lib\\site-packages\\sklearn\\preprocessing\\_data.py:480: RuntimeWarning: All-NaN slice encountered\n",
      "  data_max = np.nanmax(X, axis=0)\n"
     ]
    },
    {
     "name": "stdout",
     "output_type": "stream",
     "text": [
      "Temporal Features\n",
      "Low Cardinality Features\n",
      "High Cardinality Features\n",
      "IP Address Features\n",
      "Path Features\n",
      "Numerical\n",
      "Binary\n"
     ]
    },
    {
     "name": "stderr",
     "output_type": "stream",
     "text": [
      "C:\\Users\\Akshit Saini\\AppData\\Local\\Temp\\ipykernel_25360\\3220312833.py:8: DtypeWarning: Columns (23,24,25,26,27,28,29,31,32,34,35,36,38,39,40,53) have mixed types. Specify dtype option on import or set low_memory=False.\n",
      "  for chunk_idx, chunk in enumerate(chunk_iter):\n"
     ]
    },
    {
     "name": "stdout",
     "output_type": "stream",
     "text": [
      "Processing file: LMD-2023 [1.75M Elements][Labelled]checked.csv, Chunk number: 16\n",
      "Temporal Features\n"
     ]
    },
    {
     "name": "stderr",
     "output_type": "stream",
     "text": [
      "c:\\Users\\Akshit Saini\\AppData\\Local\\Programs\\Python\\Python311\\Lib\\site-packages\\sklearn\\preprocessing\\_data.py:479: RuntimeWarning: All-NaN slice encountered\n",
      "  data_min = np.nanmin(X, axis=0)\n",
      "c:\\Users\\Akshit Saini\\AppData\\Local\\Programs\\Python\\Python311\\Lib\\site-packages\\sklearn\\preprocessing\\_data.py:480: RuntimeWarning: All-NaN slice encountered\n",
      "  data_max = np.nanmax(X, axis=0)\n"
     ]
    },
    {
     "name": "stdout",
     "output_type": "stream",
     "text": [
      "Low Cardinality Features\n",
      "High Cardinality Features\n",
      "IP Address Features\n",
      "Path Features\n",
      "Numerical\n",
      "Binary\n"
     ]
    },
    {
     "name": "stderr",
     "output_type": "stream",
     "text": [
      "C:\\Users\\Akshit Saini\\AppData\\Local\\Temp\\ipykernel_25360\\3220312833.py:8: DtypeWarning: Columns (40,53,58,59,60,61,62,65,66,68,69,70,71,72,73,74,75,76,77,78,79,81,82,83) have mixed types. Specify dtype option on import or set low_memory=False.\n",
      "  for chunk_idx, chunk in enumerate(chunk_iter):\n"
     ]
    },
    {
     "name": "stdout",
     "output_type": "stream",
     "text": [
      "Processing file: LMD-2023 [1.75M Elements][Labelled]checked.csv, Chunk number: 17\n"
     ]
    },
    {
     "name": "stderr",
     "output_type": "stream",
     "text": [
      "c:\\Users\\Akshit Saini\\AppData\\Local\\Programs\\Python\\Python311\\Lib\\site-packages\\sklearn\\preprocessing\\_data.py:479: RuntimeWarning: All-NaN slice encountered\n",
      "  data_min = np.nanmin(X, axis=0)\n",
      "c:\\Users\\Akshit Saini\\AppData\\Local\\Programs\\Python\\Python311\\Lib\\site-packages\\sklearn\\preprocessing\\_data.py:480: RuntimeWarning: All-NaN slice encountered\n",
      "  data_max = np.nanmax(X, axis=0)\n"
     ]
    },
    {
     "name": "stdout",
     "output_type": "stream",
     "text": [
      "Temporal Features\n",
      "Low Cardinality Features\n",
      "High Cardinality Features\n",
      "IP Address Features\n",
      "Path Features\n",
      "Numerical\n",
      "Binary\n"
     ]
    },
    {
     "name": "stderr",
     "output_type": "stream",
     "text": [
      "C:\\Users\\Akshit Saini\\AppData\\Local\\Temp\\ipykernel_25360\\3220312833.py:8: DtypeWarning: Columns (40,53,58,59,60,61,62,65,66,68,69,70,71,72,73,74,75,76,77,78,79,81,82,83,84,85,87,88,89,90,91,92,93) have mixed types. Specify dtype option on import or set low_memory=False.\n",
      "  for chunk_idx, chunk in enumerate(chunk_iter):\n"
     ]
    },
    {
     "name": "stdout",
     "output_type": "stream",
     "text": [
      "Processing file: LMD-2023 [1.75M Elements][Labelled]checked.csv, Chunk number: 18\n",
      "Temporal Features\n",
      "Low Cardinality Features\n",
      "High Cardinality Features\n",
      "IP Address Features\n",
      "Path Features\n",
      "Numerical\n",
      "Binary\n"
     ]
    },
    {
     "name": "stderr",
     "output_type": "stream",
     "text": [
      "C:\\Users\\Akshit Saini\\AppData\\Local\\Temp\\ipykernel_25360\\3220312833.py:8: DtypeWarning: Columns (22,23,24,25,26,27,28,30,31,33,34,35,37,38,39,52,55,56,57,58,59,60,61,64,65,67,68,69,70,71,72,73,74,75,76,77,78,80,81,82,83,84,86,87,88,89,90,91,92) have mixed types. Specify dtype option on import or set low_memory=False.\n",
      "  for chunk_idx, chunk in enumerate(chunk_iter):\n"
     ]
    },
    {
     "name": "stdout",
     "output_type": "stream",
     "text": [
      "Processing file: LMD-2023 [1.87M Elements][Labelled]checked.csv, Chunk number: 1\n",
      "Temporal Features\n",
      "Low Cardinality Features\n",
      "High Cardinality Features\n",
      "IP Address Features\n",
      "Path Features\n",
      "Numerical\n",
      "Binary\n",
      "Processing file: LMD-2023 [1.87M Elements][Labelled]checked.csv, Chunk number: 2\n",
      "Temporal Features\n"
     ]
    },
    {
     "name": "stderr",
     "output_type": "stream",
     "text": [
      "c:\\Users\\Akshit Saini\\AppData\\Local\\Programs\\Python\\Python311\\Lib\\site-packages\\sklearn\\preprocessing\\_data.py:479: RuntimeWarning: All-NaN slice encountered\n",
      "  data_min = np.nanmin(X, axis=0)\n",
      "c:\\Users\\Akshit Saini\\AppData\\Local\\Programs\\Python\\Python311\\Lib\\site-packages\\sklearn\\preprocessing\\_data.py:480: RuntimeWarning: All-NaN slice encountered\n",
      "  data_max = np.nanmax(X, axis=0)\n"
     ]
    },
    {
     "name": "stdout",
     "output_type": "stream",
     "text": [
      "Low Cardinality Features\n",
      "High Cardinality Features\n",
      "IP Address Features\n",
      "Path Features\n",
      "Numerical\n",
      "Binary\n"
     ]
    },
    {
     "name": "stderr",
     "output_type": "stream",
     "text": [
      "C:\\Users\\Akshit Saini\\AppData\\Local\\Temp\\ipykernel_25360\\3220312833.py:8: DtypeWarning: Columns (22,23,24,25,26,27,28,30,31,33,34,35,37,38,39) have mixed types. Specify dtype option on import or set low_memory=False.\n",
      "  for chunk_idx, chunk in enumerate(chunk_iter):\n"
     ]
    },
    {
     "name": "stdout",
     "output_type": "stream",
     "text": [
      "Processing file: LMD-2023 [1.87M Elements][Labelled]checked.csv, Chunk number: 3\n",
      "Temporal Features\n"
     ]
    },
    {
     "name": "stderr",
     "output_type": "stream",
     "text": [
      "c:\\Users\\Akshit Saini\\AppData\\Local\\Programs\\Python\\Python311\\Lib\\site-packages\\sklearn\\preprocessing\\_data.py:479: RuntimeWarning: All-NaN slice encountered\n",
      "  data_min = np.nanmin(X, axis=0)\n",
      "c:\\Users\\Akshit Saini\\AppData\\Local\\Programs\\Python\\Python311\\Lib\\site-packages\\sklearn\\preprocessing\\_data.py:480: RuntimeWarning: All-NaN slice encountered\n",
      "  data_max = np.nanmax(X, axis=0)\n"
     ]
    },
    {
     "name": "stdout",
     "output_type": "stream",
     "text": [
      "Low Cardinality Features\n",
      "High Cardinality Features\n",
      "IP Address Features\n",
      "Path Features\n",
      "Numerical\n",
      "Binary\n"
     ]
    },
    {
     "name": "stderr",
     "output_type": "stream",
     "text": [
      "C:\\Users\\Akshit Saini\\AppData\\Local\\Temp\\ipykernel_25360\\3220312833.py:8: DtypeWarning: Columns (22,23,24,25,26,27,28,30,31,33,34,35,37,38,39,83,84,86,87,88,89,90,91,92) have mixed types. Specify dtype option on import or set low_memory=False.\n",
      "  for chunk_idx, chunk in enumerate(chunk_iter):\n"
     ]
    },
    {
     "name": "stdout",
     "output_type": "stream",
     "text": [
      "Processing file: LMD-2023 [1.87M Elements][Labelled]checked.csv, Chunk number: 4\n"
     ]
    },
    {
     "name": "stderr",
     "output_type": "stream",
     "text": [
      "c:\\Users\\Akshit Saini\\AppData\\Local\\Programs\\Python\\Python311\\Lib\\site-packages\\sklearn\\preprocessing\\_data.py:479: RuntimeWarning: All-NaN slice encountered\n",
      "  data_min = np.nanmin(X, axis=0)\n",
      "c:\\Users\\Akshit Saini\\AppData\\Local\\Programs\\Python\\Python311\\Lib\\site-packages\\sklearn\\preprocessing\\_data.py:480: RuntimeWarning: All-NaN slice encountered\n",
      "  data_max = np.nanmax(X, axis=0)\n"
     ]
    },
    {
     "name": "stdout",
     "output_type": "stream",
     "text": [
      "Temporal Features\n",
      "Low Cardinality Features\n",
      "High Cardinality Features\n",
      "IP Address Features\n",
      "Path Features\n",
      "Numerical\n",
      "Binary\n"
     ]
    },
    {
     "name": "stderr",
     "output_type": "stream",
     "text": [
      "C:\\Users\\Akshit Saini\\AppData\\Local\\Temp\\ipykernel_25360\\3220312833.py:8: DtypeWarning: Columns (22,23,24,25,26,27,28,30,31,33,34,35,37,38,39) have mixed types. Specify dtype option on import or set low_memory=False.\n",
      "  for chunk_idx, chunk in enumerate(chunk_iter):\n"
     ]
    },
    {
     "name": "stdout",
     "output_type": "stream",
     "text": [
      "Processing file: LMD-2023 [1.87M Elements][Labelled]checked.csv, Chunk number: 5\n",
      "Temporal Features\n"
     ]
    },
    {
     "name": "stderr",
     "output_type": "stream",
     "text": [
      "c:\\Users\\Akshit Saini\\AppData\\Local\\Programs\\Python\\Python311\\Lib\\site-packages\\sklearn\\preprocessing\\_data.py:479: RuntimeWarning: All-NaN slice encountered\n",
      "  data_min = np.nanmin(X, axis=0)\n",
      "c:\\Users\\Akshit Saini\\AppData\\Local\\Programs\\Python\\Python311\\Lib\\site-packages\\sklearn\\preprocessing\\_data.py:480: RuntimeWarning: All-NaN slice encountered\n",
      "  data_max = np.nanmax(X, axis=0)\n"
     ]
    },
    {
     "name": "stdout",
     "output_type": "stream",
     "text": [
      "Low Cardinality Features\n",
      "High Cardinality Features\n",
      "IP Address Features\n",
      "Path Features\n",
      "Numerical\n",
      "Binary\n"
     ]
    },
    {
     "name": "stderr",
     "output_type": "stream",
     "text": [
      "C:\\Users\\Akshit Saini\\AppData\\Local\\Temp\\ipykernel_25360\\3220312833.py:8: DtypeWarning: Columns (52) have mixed types. Specify dtype option on import or set low_memory=False.\n",
      "  for chunk_idx, chunk in enumerate(chunk_iter):\n"
     ]
    },
    {
     "name": "stdout",
     "output_type": "stream",
     "text": [
      "Processing file: LMD-2023 [1.87M Elements][Labelled]checked.csv, Chunk number: 6\n",
      "Temporal Features\n"
     ]
    },
    {
     "name": "stderr",
     "output_type": "stream",
     "text": [
      "c:\\Users\\Akshit Saini\\AppData\\Local\\Programs\\Python\\Python311\\Lib\\site-packages\\sklearn\\preprocessing\\_data.py:479: RuntimeWarning: All-NaN slice encountered\n",
      "  data_min = np.nanmin(X, axis=0)\n",
      "c:\\Users\\Akshit Saini\\AppData\\Local\\Programs\\Python\\Python311\\Lib\\site-packages\\sklearn\\preprocessing\\_data.py:480: RuntimeWarning: All-NaN slice encountered\n",
      "  data_max = np.nanmax(X, axis=0)\n"
     ]
    },
    {
     "name": "stdout",
     "output_type": "stream",
     "text": [
      "Low Cardinality Features\n",
      "High Cardinality Features\n",
      "IP Address Features\n",
      "Path Features\n",
      "Numerical\n",
      "Binary\n"
     ]
    },
    {
     "name": "stderr",
     "output_type": "stream",
     "text": [
      "C:\\Users\\Akshit Saini\\AppData\\Local\\Temp\\ipykernel_25360\\3220312833.py:8: DtypeWarning: Columns (52,83,84,86,87,88,89,90,91,92) have mixed types. Specify dtype option on import or set low_memory=False.\n",
      "  for chunk_idx, chunk in enumerate(chunk_iter):\n"
     ]
    },
    {
     "name": "stdout",
     "output_type": "stream",
     "text": [
      "Processing file: LMD-2023 [1.87M Elements][Labelled]checked.csv, Chunk number: 7\n"
     ]
    },
    {
     "name": "stderr",
     "output_type": "stream",
     "text": [
      "c:\\Users\\Akshit Saini\\AppData\\Local\\Programs\\Python\\Python311\\Lib\\site-packages\\sklearn\\preprocessing\\_data.py:479: RuntimeWarning: All-NaN slice encountered\n",
      "  data_min = np.nanmin(X, axis=0)\n",
      "c:\\Users\\Akshit Saini\\AppData\\Local\\Programs\\Python\\Python311\\Lib\\site-packages\\sklearn\\preprocessing\\_data.py:480: RuntimeWarning: All-NaN slice encountered\n",
      "  data_max = np.nanmax(X, axis=0)\n"
     ]
    },
    {
     "name": "stdout",
     "output_type": "stream",
     "text": [
      "Temporal Features\n",
      "Low Cardinality Features\n",
      "High Cardinality Features\n",
      "IP Address Features\n",
      "Path Features\n",
      "Numerical\n",
      "Binary\n"
     ]
    },
    {
     "name": "stderr",
     "output_type": "stream",
     "text": [
      "C:\\Users\\Akshit Saini\\AppData\\Local\\Temp\\ipykernel_25360\\3220312833.py:8: DtypeWarning: Columns (39,52,83,84,86,87,88,89,90,91,92) have mixed types. Specify dtype option on import or set low_memory=False.\n",
      "  for chunk_idx, chunk in enumerate(chunk_iter):\n"
     ]
    },
    {
     "name": "stdout",
     "output_type": "stream",
     "text": [
      "Processing file: LMD-2023 [1.87M Elements][Labelled]checked.csv, Chunk number: 8\n"
     ]
    },
    {
     "name": "stderr",
     "output_type": "stream",
     "text": [
      "c:\\Users\\Akshit Saini\\AppData\\Local\\Programs\\Python\\Python311\\Lib\\site-packages\\sklearn\\preprocessing\\_data.py:479: RuntimeWarning: All-NaN slice encountered\n",
      "  data_min = np.nanmin(X, axis=0)\n",
      "c:\\Users\\Akshit Saini\\AppData\\Local\\Programs\\Python\\Python311\\Lib\\site-packages\\sklearn\\preprocessing\\_data.py:480: RuntimeWarning: All-NaN slice encountered\n",
      "  data_max = np.nanmax(X, axis=0)\n"
     ]
    },
    {
     "name": "stdout",
     "output_type": "stream",
     "text": [
      "Temporal Features\n",
      "Low Cardinality Features\n",
      "High Cardinality Features\n",
      "IP Address Features\n",
      "Path Features\n",
      "Numerical\n",
      "Binary\n"
     ]
    },
    {
     "name": "stderr",
     "output_type": "stream",
     "text": [
      "C:\\Users\\Akshit Saini\\AppData\\Local\\Temp\\ipykernel_25360\\3220312833.py:8: DtypeWarning: Columns (39,83,84,86,87,88,89,90,91,92) have mixed types. Specify dtype option on import or set low_memory=False.\n",
      "  for chunk_idx, chunk in enumerate(chunk_iter):\n"
     ]
    },
    {
     "name": "stdout",
     "output_type": "stream",
     "text": [
      "Processing file: LMD-2023 [1.87M Elements][Labelled]checked.csv, Chunk number: 9\n",
      "Temporal Features\n"
     ]
    },
    {
     "name": "stderr",
     "output_type": "stream",
     "text": [
      "c:\\Users\\Akshit Saini\\AppData\\Local\\Programs\\Python\\Python311\\Lib\\site-packages\\sklearn\\preprocessing\\_data.py:479: RuntimeWarning: All-NaN slice encountered\n",
      "  data_min = np.nanmin(X, axis=0)\n",
      "c:\\Users\\Akshit Saini\\AppData\\Local\\Programs\\Python\\Python311\\Lib\\site-packages\\sklearn\\preprocessing\\_data.py:480: RuntimeWarning: All-NaN slice encountered\n",
      "  data_max = np.nanmax(X, axis=0)\n"
     ]
    },
    {
     "name": "stdout",
     "output_type": "stream",
     "text": [
      "Low Cardinality Features\n",
      "High Cardinality Features\n",
      "IP Address Features\n",
      "Path Features\n",
      "Numerical\n",
      "Binary\n"
     ]
    },
    {
     "name": "stderr",
     "output_type": "stream",
     "text": [
      "C:\\Users\\Akshit Saini\\AppData\\Local\\Temp\\ipykernel_25360\\3220312833.py:8: DtypeWarning: Columns (52) have mixed types. Specify dtype option on import or set low_memory=False.\n",
      "  for chunk_idx, chunk in enumerate(chunk_iter):\n"
     ]
    },
    {
     "name": "stdout",
     "output_type": "stream",
     "text": [
      "Processing file: LMD-2023 [1.87M Elements][Labelled]checked.csv, Chunk number: 10\n",
      "Temporal Features\n"
     ]
    },
    {
     "name": "stderr",
     "output_type": "stream",
     "text": [
      "c:\\Users\\Akshit Saini\\AppData\\Local\\Programs\\Python\\Python311\\Lib\\site-packages\\sklearn\\preprocessing\\_data.py:479: RuntimeWarning: All-NaN slice encountered\n",
      "  data_min = np.nanmin(X, axis=0)\n",
      "c:\\Users\\Akshit Saini\\AppData\\Local\\Programs\\Python\\Python311\\Lib\\site-packages\\sklearn\\preprocessing\\_data.py:480: RuntimeWarning: All-NaN slice encountered\n",
      "  data_max = np.nanmax(X, axis=0)\n"
     ]
    },
    {
     "name": "stdout",
     "output_type": "stream",
     "text": [
      "Low Cardinality Features\n",
      "High Cardinality Features\n",
      "IP Address Features\n",
      "Path Features\n",
      "Numerical\n",
      "Binary\n"
     ]
    },
    {
     "name": "stderr",
     "output_type": "stream",
     "text": [
      "C:\\Users\\Akshit Saini\\AppData\\Local\\Temp\\ipykernel_25360\\3220312833.py:8: DtypeWarning: Columns (52,83,84,86,87,88,89,90,91,92) have mixed types. Specify dtype option on import or set low_memory=False.\n",
      "  for chunk_idx, chunk in enumerate(chunk_iter):\n"
     ]
    },
    {
     "name": "stdout",
     "output_type": "stream",
     "text": [
      "Processing file: LMD-2023 [1.87M Elements][Labelled]checked.csv, Chunk number: 11\n"
     ]
    },
    {
     "name": "stderr",
     "output_type": "stream",
     "text": [
      "c:\\Users\\Akshit Saini\\AppData\\Local\\Programs\\Python\\Python311\\Lib\\site-packages\\sklearn\\preprocessing\\_data.py:479: RuntimeWarning: All-NaN slice encountered\n",
      "  data_min = np.nanmin(X, axis=0)\n",
      "c:\\Users\\Akshit Saini\\AppData\\Local\\Programs\\Python\\Python311\\Lib\\site-packages\\sklearn\\preprocessing\\_data.py:480: RuntimeWarning: All-NaN slice encountered\n",
      "  data_max = np.nanmax(X, axis=0)\n"
     ]
    },
    {
     "name": "stdout",
     "output_type": "stream",
     "text": [
      "Temporal Features\n",
      "Low Cardinality Features\n",
      "High Cardinality Features\n",
      "IP Address Features\n",
      "Path Features\n",
      "Numerical\n",
      "Binary\n"
     ]
    },
    {
     "name": "stderr",
     "output_type": "stream",
     "text": [
      "C:\\Users\\Akshit Saini\\AppData\\Local\\Temp\\ipykernel_25360\\3220312833.py:8: DtypeWarning: Columns (52,83,84,86,87,88,89,90,91,92) have mixed types. Specify dtype option on import or set low_memory=False.\n",
      "  for chunk_idx, chunk in enumerate(chunk_iter):\n"
     ]
    },
    {
     "name": "stdout",
     "output_type": "stream",
     "text": [
      "Processing file: LMD-2023 [1.87M Elements][Labelled]checked.csv, Chunk number: 12\n"
     ]
    },
    {
     "name": "stderr",
     "output_type": "stream",
     "text": [
      "c:\\Users\\Akshit Saini\\AppData\\Local\\Programs\\Python\\Python311\\Lib\\site-packages\\sklearn\\preprocessing\\_data.py:479: RuntimeWarning: All-NaN slice encountered\n",
      "  data_min = np.nanmin(X, axis=0)\n",
      "c:\\Users\\Akshit Saini\\AppData\\Local\\Programs\\Python\\Python311\\Lib\\site-packages\\sklearn\\preprocessing\\_data.py:480: RuntimeWarning: All-NaN slice encountered\n",
      "  data_max = np.nanmax(X, axis=0)\n"
     ]
    },
    {
     "name": "stdout",
     "output_type": "stream",
     "text": [
      "Temporal Features\n",
      "Low Cardinality Features\n",
      "High Cardinality Features\n",
      "IP Address Features\n",
      "Path Features\n",
      "Numerical\n",
      "Binary\n"
     ]
    },
    {
     "name": "stderr",
     "output_type": "stream",
     "text": [
      "C:\\Users\\Akshit Saini\\AppData\\Local\\Temp\\ipykernel_25360\\3220312833.py:8: DtypeWarning: Columns (52) have mixed types. Specify dtype option on import or set low_memory=False.\n",
      "  for chunk_idx, chunk in enumerate(chunk_iter):\n"
     ]
    },
    {
     "name": "stdout",
     "output_type": "stream",
     "text": [
      "Processing file: LMD-2023 [1.87M Elements][Labelled]checked.csv, Chunk number: 13\n",
      "Temporal Features\n"
     ]
    },
    {
     "name": "stderr",
     "output_type": "stream",
     "text": [
      "c:\\Users\\Akshit Saini\\AppData\\Local\\Programs\\Python\\Python311\\Lib\\site-packages\\sklearn\\preprocessing\\_data.py:479: RuntimeWarning: All-NaN slice encountered\n",
      "  data_min = np.nanmin(X, axis=0)\n",
      "c:\\Users\\Akshit Saini\\AppData\\Local\\Programs\\Python\\Python311\\Lib\\site-packages\\sklearn\\preprocessing\\_data.py:480: RuntimeWarning: All-NaN slice encountered\n",
      "  data_max = np.nanmax(X, axis=0)\n"
     ]
    },
    {
     "name": "stdout",
     "output_type": "stream",
     "text": [
      "Low Cardinality Features\n",
      "High Cardinality Features\n",
      "IP Address Features\n",
      "Path Features\n",
      "Numerical\n",
      "Binary\n"
     ]
    },
    {
     "name": "stderr",
     "output_type": "stream",
     "text": [
      "C:\\Users\\Akshit Saini\\AppData\\Local\\Temp\\ipykernel_25360\\3220312833.py:8: DtypeWarning: Columns (22,23,24,25,26,27,28,30,31,33,34,35,37,38,39,52,83,84,86,87,88,89,90,91,92) have mixed types. Specify dtype option on import or set low_memory=False.\n",
      "  for chunk_idx, chunk in enumerate(chunk_iter):\n"
     ]
    },
    {
     "name": "stdout",
     "output_type": "stream",
     "text": [
      "Processing file: LMD-2023 [1.87M Elements][Labelled]checked.csv, Chunk number: 14\n"
     ]
    },
    {
     "name": "stderr",
     "output_type": "stream",
     "text": [
      "c:\\Users\\Akshit Saini\\AppData\\Local\\Programs\\Python\\Python311\\Lib\\site-packages\\sklearn\\preprocessing\\_data.py:479: RuntimeWarning: All-NaN slice encountered\n",
      "  data_min = np.nanmin(X, axis=0)\n",
      "c:\\Users\\Akshit Saini\\AppData\\Local\\Programs\\Python\\Python311\\Lib\\site-packages\\sklearn\\preprocessing\\_data.py:480: RuntimeWarning: All-NaN slice encountered\n",
      "  data_max = np.nanmax(X, axis=0)\n"
     ]
    },
    {
     "name": "stdout",
     "output_type": "stream",
     "text": [
      "Temporal Features\n",
      "Low Cardinality Features\n",
      "High Cardinality Features\n",
      "IP Address Features\n",
      "Path Features\n",
      "Numerical\n",
      "Binary\n"
     ]
    },
    {
     "name": "stderr",
     "output_type": "stream",
     "text": [
      "C:\\Users\\Akshit Saini\\AppData\\Local\\Temp\\ipykernel_25360\\3220312833.py:8: DtypeWarning: Columns (22,23,24,25,26,27,28,30,31,33,34,35,37,38,39,52,83,84,86,87,88,89) have mixed types. Specify dtype option on import or set low_memory=False.\n",
      "  for chunk_idx, chunk in enumerate(chunk_iter):\n"
     ]
    },
    {
     "name": "stdout",
     "output_type": "stream",
     "text": [
      "Processing file: LMD-2023 [1.87M Elements][Labelled]checked.csv, Chunk number: 15\n"
     ]
    },
    {
     "name": "stderr",
     "output_type": "stream",
     "text": [
      "c:\\Users\\Akshit Saini\\AppData\\Local\\Programs\\Python\\Python311\\Lib\\site-packages\\sklearn\\preprocessing\\_data.py:479: RuntimeWarning: All-NaN slice encountered\n",
      "  data_min = np.nanmin(X, axis=0)\n",
      "c:\\Users\\Akshit Saini\\AppData\\Local\\Programs\\Python\\Python311\\Lib\\site-packages\\sklearn\\preprocessing\\_data.py:480: RuntimeWarning: All-NaN slice encountered\n",
      "  data_max = np.nanmax(X, axis=0)\n"
     ]
    },
    {
     "name": "stdout",
     "output_type": "stream",
     "text": [
      "Temporal Features\n",
      "Low Cardinality Features\n",
      "High Cardinality Features\n",
      "IP Address Features\n",
      "Path Features\n",
      "Numerical\n",
      "Binary\n"
     ]
    },
    {
     "name": "stderr",
     "output_type": "stream",
     "text": [
      "C:\\Users\\Akshit Saini\\AppData\\Local\\Temp\\ipykernel_25360\\3220312833.py:8: DtypeWarning: Columns (22,23,24,25,26,27,28,30,31,33,34,35,37,38,39,52) have mixed types. Specify dtype option on import or set low_memory=False.\n",
      "  for chunk_idx, chunk in enumerate(chunk_iter):\n"
     ]
    },
    {
     "name": "stdout",
     "output_type": "stream",
     "text": [
      "Processing file: LMD-2023 [1.87M Elements][Labelled]checked.csv, Chunk number: 16\n",
      "Temporal Features\n"
     ]
    },
    {
     "name": "stderr",
     "output_type": "stream",
     "text": [
      "c:\\Users\\Akshit Saini\\AppData\\Local\\Programs\\Python\\Python311\\Lib\\site-packages\\sklearn\\preprocessing\\_data.py:479: RuntimeWarning: All-NaN slice encountered\n",
      "  data_min = np.nanmin(X, axis=0)\n",
      "c:\\Users\\Akshit Saini\\AppData\\Local\\Programs\\Python\\Python311\\Lib\\site-packages\\sklearn\\preprocessing\\_data.py:480: RuntimeWarning: All-NaN slice encountered\n",
      "  data_max = np.nanmax(X, axis=0)\n"
     ]
    },
    {
     "name": "stdout",
     "output_type": "stream",
     "text": [
      "Low Cardinality Features\n",
      "High Cardinality Features\n",
      "IP Address Features\n",
      "Path Features\n",
      "Numerical\n",
      "Binary\n"
     ]
    },
    {
     "name": "stderr",
     "output_type": "stream",
     "text": [
      "C:\\Users\\Akshit Saini\\AppData\\Local\\Temp\\ipykernel_25360\\3220312833.py:8: DtypeWarning: Columns (39,52,57,58,59,60,61,64,65,67,68,69,70,71,72,73,74,75,76,77,78,80,81,82) have mixed types. Specify dtype option on import or set low_memory=False.\n",
      "  for chunk_idx, chunk in enumerate(chunk_iter):\n"
     ]
    },
    {
     "name": "stdout",
     "output_type": "stream",
     "text": [
      "Processing file: LMD-2023 [1.87M Elements][Labelled]checked.csv, Chunk number: 17\n"
     ]
    },
    {
     "name": "stderr",
     "output_type": "stream",
     "text": [
      "c:\\Users\\Akshit Saini\\AppData\\Local\\Programs\\Python\\Python311\\Lib\\site-packages\\sklearn\\preprocessing\\_data.py:479: RuntimeWarning: All-NaN slice encountered\n",
      "  data_min = np.nanmin(X, axis=0)\n",
      "c:\\Users\\Akshit Saini\\AppData\\Local\\Programs\\Python\\Python311\\Lib\\site-packages\\sklearn\\preprocessing\\_data.py:480: RuntimeWarning: All-NaN slice encountered\n",
      "  data_max = np.nanmax(X, axis=0)\n"
     ]
    },
    {
     "name": "stdout",
     "output_type": "stream",
     "text": [
      "Temporal Features\n",
      "Low Cardinality Features\n",
      "High Cardinality Features\n",
      "IP Address Features\n",
      "Path Features\n",
      "Numerical\n",
      "Binary\n"
     ]
    },
    {
     "name": "stderr",
     "output_type": "stream",
     "text": [
      "C:\\Users\\Akshit Saini\\AppData\\Local\\Temp\\ipykernel_25360\\3220312833.py:8: DtypeWarning: Columns (39,52,70,71,73,76,77,78,80) have mixed types. Specify dtype option on import or set low_memory=False.\n",
      "  for chunk_idx, chunk in enumerate(chunk_iter):\n"
     ]
    },
    {
     "name": "stdout",
     "output_type": "stream",
     "text": [
      "Processing file: LMD-2023 [1.87M Elements][Labelled]checked.csv, Chunk number: 18\n"
     ]
    },
    {
     "name": "stderr",
     "output_type": "stream",
     "text": [
      "c:\\Users\\Akshit Saini\\AppData\\Local\\Programs\\Python\\Python311\\Lib\\site-packages\\sklearn\\preprocessing\\_data.py:479: RuntimeWarning: All-NaN slice encountered\n",
      "  data_min = np.nanmin(X, axis=0)\n",
      "c:\\Users\\Akshit Saini\\AppData\\Local\\Programs\\Python\\Python311\\Lib\\site-packages\\sklearn\\preprocessing\\_data.py:480: RuntimeWarning: All-NaN slice encountered\n",
      "  data_max = np.nanmax(X, axis=0)\n"
     ]
    },
    {
     "name": "stdout",
     "output_type": "stream",
     "text": [
      "Temporal Features\n",
      "Low Cardinality Features\n",
      "High Cardinality Features\n",
      "IP Address Features\n",
      "Path Features\n",
      "Numerical\n",
      "Binary\n"
     ]
    },
    {
     "name": "stderr",
     "output_type": "stream",
     "text": [
      "C:\\Users\\Akshit Saini\\AppData\\Local\\Temp\\ipykernel_25360\\3220312833.py:8: DtypeWarning: Columns (19,21,22,23,24,25,26,27,28,29,30,31,33,34,35,37,38,39,40,41,42,43,44,46,47,48,49,51,52,57,58,59,60,61,64,65,67,68,69,70,71,72,73,74,75,76,77,78,80,81,82,83,84,86,87,88,89,90,91,92) have mixed types. Specify dtype option on import or set low_memory=False.\n",
      "  for chunk_idx, chunk in enumerate(chunk_iter):\n"
     ]
    },
    {
     "name": "stdout",
     "output_type": "stream",
     "text": [
      "Processing file: LMD-2023 [1.87M Elements][Labelled]checked.csv, Chunk number: 19\n",
      "Temporal Features\n",
      "Low Cardinality Features\n",
      "High Cardinality Features\n",
      "IP Address Features\n",
      "Path Features\n",
      "Numerical\n",
      "Binary\n",
      "Processing file: LMD-2023 [1.87M Elements][Labelled]checked.csv, Chunk number: 20\n",
      "Temporal Features\n",
      "Low Cardinality Features\n",
      "High Cardinality Features\n",
      "IP Address Features\n",
      "Path Features\n",
      "Numerical\n",
      "Binary\n"
     ]
    },
    {
     "name": "stderr",
     "output_type": "stream",
     "text": [
      "c:\\Users\\Akshit Saini\\AppData\\Local\\Programs\\Python\\Python311\\Lib\\site-packages\\sklearn\\preprocessing\\_data.py:479: RuntimeWarning: All-NaN slice encountered\n",
      "  data_min = np.nanmin(X, axis=0)\n",
      "c:\\Users\\Akshit Saini\\AppData\\Local\\Programs\\Python\\Python311\\Lib\\site-packages\\sklearn\\preprocessing\\_data.py:480: RuntimeWarning: All-NaN slice encountered\n",
      "  data_max = np.nanmax(X, axis=0)\n",
      "C:\\Users\\Akshit Saini\\AppData\\Local\\Temp\\ipykernel_25360\\3220312833.py:8: DtypeWarning: Columns (38,51,54,55,56,57,58,59,60,64,67,68,69,70,72,76,77,79,80,81,82,83,85,86,87,88,89,90,91) have mixed types. Specify dtype option on import or set low_memory=False.\n",
      "  for chunk_idx, chunk in enumerate(chunk_iter):\n"
     ]
    },
    {
     "name": "stdout",
     "output_type": "stream",
     "text": [
      "Processing file: LMD-2023 [2.3M Elements][Labelled]checked.csv, Chunk number: 1\n",
      "Temporal Features\n",
      "Low Cardinality Features\n",
      "High Cardinality Features\n",
      "IP Address Features\n",
      "Path Features\n",
      "Numerical\n",
      "Binary\n"
     ]
    },
    {
     "name": "stderr",
     "output_type": "stream",
     "text": [
      "C:\\Users\\Akshit Saini\\AppData\\Local\\Temp\\ipykernel_25360\\3220312833.py:8: DtypeWarning: Columns (18,20,21,22,23,24,25,26,27,28,29,30,32,33,34,36,37,38,39,40,41,42,43,45,46,47,48,50,51,56,57,58,59,69,70,71,72,73,74,75,76,77,79,80,81) have mixed types. Specify dtype option on import or set low_memory=False.\n",
      "  for chunk_idx, chunk in enumerate(chunk_iter):\n"
     ]
    },
    {
     "name": "stdout",
     "output_type": "stream",
     "text": [
      "Processing file: LMD-2023 [2.3M Elements][Labelled]checked.csv, Chunk number: 2\n"
     ]
    },
    {
     "name": "stderr",
     "output_type": "stream",
     "text": [
      "c:\\Users\\Akshit Saini\\AppData\\Local\\Programs\\Python\\Python311\\Lib\\site-packages\\sklearn\\preprocessing\\_data.py:479: RuntimeWarning: All-NaN slice encountered\n",
      "  data_min = np.nanmin(X, axis=0)\n",
      "c:\\Users\\Akshit Saini\\AppData\\Local\\Programs\\Python\\Python311\\Lib\\site-packages\\sklearn\\preprocessing\\_data.py:480: RuntimeWarning: All-NaN slice encountered\n",
      "  data_max = np.nanmax(X, axis=0)\n"
     ]
    },
    {
     "name": "stdout",
     "output_type": "stream",
     "text": [
      "Temporal Features\n",
      "Low Cardinality Features\n",
      "High Cardinality Features\n",
      "IP Address Features\n",
      "Path Features\n",
      "Numerical\n",
      "Binary\n"
     ]
    },
    {
     "name": "stderr",
     "output_type": "stream",
     "text": [
      "C:\\Users\\Akshit Saini\\AppData\\Local\\Temp\\ipykernel_25360\\3220312833.py:8: DtypeWarning: Columns (38,51,56,57,58,59,60,63,64,66,67,68,69,70,71,72,73,74,75,76,77,79,80,81,82,83,85,86,87,88,89,90,91) have mixed types. Specify dtype option on import or set low_memory=False.\n",
      "  for chunk_idx, chunk in enumerate(chunk_iter):\n"
     ]
    },
    {
     "name": "stdout",
     "output_type": "stream",
     "text": [
      "Processing file: LMD-2023 [2.3M Elements][Labelled]checked.csv, Chunk number: 3\n",
      "Temporal Features\n",
      "Low Cardinality Features\n",
      "High Cardinality Features\n",
      "IP Address Features\n",
      "Path Features\n",
      "Numerical\n",
      "Binary\n"
     ]
    },
    {
     "name": "stderr",
     "output_type": "stream",
     "text": [
      "C:\\Users\\Akshit Saini\\AppData\\Local\\Temp\\ipykernel_25360\\3220312833.py:8: DtypeWarning: Columns (38,51,82,83,85,86,87,88,89,90,91) have mixed types. Specify dtype option on import or set low_memory=False.\n",
      "  for chunk_idx, chunk in enumerate(chunk_iter):\n"
     ]
    },
    {
     "name": "stdout",
     "output_type": "stream",
     "text": [
      "Processing file: LMD-2023 [2.3M Elements][Labelled]checked.csv, Chunk number: 4\n"
     ]
    },
    {
     "name": "stderr",
     "output_type": "stream",
     "text": [
      "c:\\Users\\Akshit Saini\\AppData\\Local\\Programs\\Python\\Python311\\Lib\\site-packages\\sklearn\\preprocessing\\_data.py:479: RuntimeWarning: All-NaN slice encountered\n",
      "  data_min = np.nanmin(X, axis=0)\n",
      "c:\\Users\\Akshit Saini\\AppData\\Local\\Programs\\Python\\Python311\\Lib\\site-packages\\sklearn\\preprocessing\\_data.py:480: RuntimeWarning: All-NaN slice encountered\n",
      "  data_max = np.nanmax(X, axis=0)\n"
     ]
    },
    {
     "name": "stdout",
     "output_type": "stream",
     "text": [
      "Temporal Features\n",
      "Low Cardinality Features\n",
      "High Cardinality Features\n",
      "IP Address Features\n",
      "Path Features\n",
      "Numerical\n",
      "Binary\n"
     ]
    },
    {
     "name": "stderr",
     "output_type": "stream",
     "text": [
      "C:\\Users\\Akshit Saini\\AppData\\Local\\Temp\\ipykernel_25360\\3220312833.py:8: DtypeWarning: Columns (21,22,23,24,25,26,27,29,30,32,33,34,36,37,38,51) have mixed types. Specify dtype option on import or set low_memory=False.\n",
      "  for chunk_idx, chunk in enumerate(chunk_iter):\n"
     ]
    },
    {
     "name": "stdout",
     "output_type": "stream",
     "text": [
      "Processing file: LMD-2023 [2.3M Elements][Labelled]checked.csv, Chunk number: 5\n",
      "Temporal Features\n"
     ]
    },
    {
     "name": "stderr",
     "output_type": "stream",
     "text": [
      "c:\\Users\\Akshit Saini\\AppData\\Local\\Programs\\Python\\Python311\\Lib\\site-packages\\sklearn\\preprocessing\\_data.py:479: RuntimeWarning: All-NaN slice encountered\n",
      "  data_min = np.nanmin(X, axis=0)\n",
      "c:\\Users\\Akshit Saini\\AppData\\Local\\Programs\\Python\\Python311\\Lib\\site-packages\\sklearn\\preprocessing\\_data.py:480: RuntimeWarning: All-NaN slice encountered\n",
      "  data_max = np.nanmax(X, axis=0)\n"
     ]
    },
    {
     "name": "stdout",
     "output_type": "stream",
     "text": [
      "Low Cardinality Features\n",
      "High Cardinality Features\n",
      "IP Address Features\n",
      "Path Features\n",
      "Numerical\n",
      "Binary\n"
     ]
    },
    {
     "name": "stderr",
     "output_type": "stream",
     "text": [
      "C:\\Users\\Akshit Saini\\AppData\\Local\\Temp\\ipykernel_25360\\3220312833.py:8: DtypeWarning: Columns (51,82,83,85,86,87,88,89,90,91) have mixed types. Specify dtype option on import or set low_memory=False.\n",
      "  for chunk_idx, chunk in enumerate(chunk_iter):\n"
     ]
    },
    {
     "name": "stdout",
     "output_type": "stream",
     "text": [
      "Processing file: LMD-2023 [2.3M Elements][Labelled]checked.csv, Chunk number: 6\n"
     ]
    },
    {
     "name": "stderr",
     "output_type": "stream",
     "text": [
      "c:\\Users\\Akshit Saini\\AppData\\Local\\Programs\\Python\\Python311\\Lib\\site-packages\\sklearn\\preprocessing\\_data.py:479: RuntimeWarning: All-NaN slice encountered\n",
      "  data_min = np.nanmin(X, axis=0)\n",
      "c:\\Users\\Akshit Saini\\AppData\\Local\\Programs\\Python\\Python311\\Lib\\site-packages\\sklearn\\preprocessing\\_data.py:480: RuntimeWarning: All-NaN slice encountered\n",
      "  data_max = np.nanmax(X, axis=0)\n"
     ]
    },
    {
     "name": "stdout",
     "output_type": "stream",
     "text": [
      "Temporal Features\n",
      "Low Cardinality Features\n",
      "High Cardinality Features\n",
      "IP Address Features\n",
      "Path Features\n",
      "Numerical\n",
      "Binary\n"
     ]
    },
    {
     "name": "stderr",
     "output_type": "stream",
     "text": [
      "C:\\Users\\Akshit Saini\\AppData\\Local\\Temp\\ipykernel_25360\\3220312833.py:8: DtypeWarning: Columns (51,82,83,85,86,87,88,89,90,91) have mixed types. Specify dtype option on import or set low_memory=False.\n",
      "  for chunk_idx, chunk in enumerate(chunk_iter):\n"
     ]
    },
    {
     "name": "stdout",
     "output_type": "stream",
     "text": [
      "Processing file: LMD-2023 [2.3M Elements][Labelled]checked.csv, Chunk number: 7\n"
     ]
    },
    {
     "name": "stderr",
     "output_type": "stream",
     "text": [
      "c:\\Users\\Akshit Saini\\AppData\\Local\\Programs\\Python\\Python311\\Lib\\site-packages\\sklearn\\preprocessing\\_data.py:479: RuntimeWarning: All-NaN slice encountered\n",
      "  data_min = np.nanmin(X, axis=0)\n",
      "c:\\Users\\Akshit Saini\\AppData\\Local\\Programs\\Python\\Python311\\Lib\\site-packages\\sklearn\\preprocessing\\_data.py:480: RuntimeWarning: All-NaN slice encountered\n",
      "  data_max = np.nanmax(X, axis=0)\n"
     ]
    },
    {
     "name": "stdout",
     "output_type": "stream",
     "text": [
      "Temporal Features\n",
      "Low Cardinality Features\n",
      "High Cardinality Features\n",
      "IP Address Features\n",
      "Path Features\n",
      "Numerical\n",
      "Binary\n"
     ]
    },
    {
     "name": "stderr",
     "output_type": "stream",
     "text": [
      "C:\\Users\\Akshit Saini\\AppData\\Local\\Temp\\ipykernel_25360\\3220312833.py:8: DtypeWarning: Columns (51) have mixed types. Specify dtype option on import or set low_memory=False.\n",
      "  for chunk_idx, chunk in enumerate(chunk_iter):\n"
     ]
    },
    {
     "name": "stdout",
     "output_type": "stream",
     "text": [
      "Processing file: LMD-2023 [2.3M Elements][Labelled]checked.csv, Chunk number: 8\n"
     ]
    },
    {
     "name": "stderr",
     "output_type": "stream",
     "text": [
      "c:\\Users\\Akshit Saini\\AppData\\Local\\Programs\\Python\\Python311\\Lib\\site-packages\\sklearn\\preprocessing\\_data.py:479: RuntimeWarning: All-NaN slice encountered\n",
      "  data_min = np.nanmin(X, axis=0)\n",
      "c:\\Users\\Akshit Saini\\AppData\\Local\\Programs\\Python\\Python311\\Lib\\site-packages\\sklearn\\preprocessing\\_data.py:480: RuntimeWarning: All-NaN slice encountered\n",
      "  data_max = np.nanmax(X, axis=0)\n"
     ]
    },
    {
     "name": "stdout",
     "output_type": "stream",
     "text": [
      "Temporal Features\n",
      "Low Cardinality Features\n",
      "High Cardinality Features\n",
      "IP Address Features\n",
      "Path Features\n",
      "Numerical\n",
      "Binary\n"
     ]
    },
    {
     "name": "stderr",
     "output_type": "stream",
     "text": [
      "C:\\Users\\Akshit Saini\\AppData\\Local\\Temp\\ipykernel_25360\\3220312833.py:8: DtypeWarning: Columns (21,22,23,24,25,26,27,29,30,32,33,34,36,37,38,82,83,85,86,87,88,89,90,91) have mixed types. Specify dtype option on import or set low_memory=False.\n",
      "  for chunk_idx, chunk in enumerate(chunk_iter):\n"
     ]
    },
    {
     "name": "stdout",
     "output_type": "stream",
     "text": [
      "Processing file: LMD-2023 [2.3M Elements][Labelled]checked.csv, Chunk number: 9\n"
     ]
    },
    {
     "name": "stderr",
     "output_type": "stream",
     "text": [
      "c:\\Users\\Akshit Saini\\AppData\\Local\\Programs\\Python\\Python311\\Lib\\site-packages\\sklearn\\preprocessing\\_data.py:479: RuntimeWarning: All-NaN slice encountered\n",
      "  data_min = np.nanmin(X, axis=0)\n",
      "c:\\Users\\Akshit Saini\\AppData\\Local\\Programs\\Python\\Python311\\Lib\\site-packages\\sklearn\\preprocessing\\_data.py:480: RuntimeWarning: All-NaN slice encountered\n",
      "  data_max = np.nanmax(X, axis=0)\n"
     ]
    },
    {
     "name": "stdout",
     "output_type": "stream",
     "text": [
      "Temporal Features\n",
      "Low Cardinality Features\n",
      "High Cardinality Features\n",
      "IP Address Features\n",
      "Path Features\n",
      "Numerical\n",
      "Binary\n"
     ]
    },
    {
     "name": "stderr",
     "output_type": "stream",
     "text": [
      "C:\\Users\\Akshit Saini\\AppData\\Local\\Temp\\ipykernel_25360\\3220312833.py:8: DtypeWarning: Columns (21,22,23,24,25,26,27,29,30,32,33,34,36,37,38,82,83,85,86,87,88,89,90,91) have mixed types. Specify dtype option on import or set low_memory=False.\n",
      "  for chunk_idx, chunk in enumerate(chunk_iter):\n"
     ]
    },
    {
     "name": "stdout",
     "output_type": "stream",
     "text": [
      "Processing file: LMD-2023 [2.3M Elements][Labelled]checked.csv, Chunk number: 10\n"
     ]
    },
    {
     "name": "stderr",
     "output_type": "stream",
     "text": [
      "c:\\Users\\Akshit Saini\\AppData\\Local\\Programs\\Python\\Python311\\Lib\\site-packages\\sklearn\\preprocessing\\_data.py:479: RuntimeWarning: All-NaN slice encountered\n",
      "  data_min = np.nanmin(X, axis=0)\n",
      "c:\\Users\\Akshit Saini\\AppData\\Local\\Programs\\Python\\Python311\\Lib\\site-packages\\sklearn\\preprocessing\\_data.py:480: RuntimeWarning: All-NaN slice encountered\n",
      "  data_max = np.nanmax(X, axis=0)\n"
     ]
    },
    {
     "name": "stdout",
     "output_type": "stream",
     "text": [
      "Temporal Features\n",
      "Low Cardinality Features\n",
      "High Cardinality Features\n",
      "IP Address Features\n",
      "Path Features\n",
      "Numerical\n",
      "Binary\n"
     ]
    },
    {
     "name": "stderr",
     "output_type": "stream",
     "text": [
      "C:\\Users\\Akshit Saini\\AppData\\Local\\Temp\\ipykernel_25360\\3220312833.py:8: DtypeWarning: Columns (21,22,23,24,25,26,27,29,30,32,33,34,36,37,38,51,82,83,85,86,87,88,89,90,91) have mixed types. Specify dtype option on import or set low_memory=False.\n",
      "  for chunk_idx, chunk in enumerate(chunk_iter):\n"
     ]
    },
    {
     "name": "stdout",
     "output_type": "stream",
     "text": [
      "Processing file: LMD-2023 [2.3M Elements][Labelled]checked.csv, Chunk number: 11\n"
     ]
    },
    {
     "name": "stderr",
     "output_type": "stream",
     "text": [
      "c:\\Users\\Akshit Saini\\AppData\\Local\\Programs\\Python\\Python311\\Lib\\site-packages\\sklearn\\preprocessing\\_data.py:479: RuntimeWarning: All-NaN slice encountered\n",
      "  data_min = np.nanmin(X, axis=0)\n",
      "c:\\Users\\Akshit Saini\\AppData\\Local\\Programs\\Python\\Python311\\Lib\\site-packages\\sklearn\\preprocessing\\_data.py:480: RuntimeWarning: All-NaN slice encountered\n",
      "  data_max = np.nanmax(X, axis=0)\n"
     ]
    },
    {
     "name": "stdout",
     "output_type": "stream",
     "text": [
      "Temporal Features\n",
      "Low Cardinality Features\n",
      "High Cardinality Features\n",
      "IP Address Features\n",
      "Path Features\n",
      "Numerical\n",
      "Binary\n"
     ]
    },
    {
     "name": "stderr",
     "output_type": "stream",
     "text": [
      "C:\\Users\\Akshit Saini\\AppData\\Local\\Temp\\ipykernel_25360\\3220312833.py:8: DtypeWarning: Columns (51) have mixed types. Specify dtype option on import or set low_memory=False.\n",
      "  for chunk_idx, chunk in enumerate(chunk_iter):\n"
     ]
    },
    {
     "name": "stdout",
     "output_type": "stream",
     "text": [
      "Processing file: LMD-2023 [2.3M Elements][Labelled]checked.csv, Chunk number: 12\n",
      "Temporal Features\n"
     ]
    },
    {
     "name": "stderr",
     "output_type": "stream",
     "text": [
      "c:\\Users\\Akshit Saini\\AppData\\Local\\Programs\\Python\\Python311\\Lib\\site-packages\\sklearn\\preprocessing\\_data.py:479: RuntimeWarning: All-NaN slice encountered\n",
      "  data_min = np.nanmin(X, axis=0)\n",
      "c:\\Users\\Akshit Saini\\AppData\\Local\\Programs\\Python\\Python311\\Lib\\site-packages\\sklearn\\preprocessing\\_data.py:480: RuntimeWarning: All-NaN slice encountered\n",
      "  data_max = np.nanmax(X, axis=0)\n"
     ]
    },
    {
     "name": "stdout",
     "output_type": "stream",
     "text": [
      "Low Cardinality Features\n",
      "High Cardinality Features\n",
      "IP Address Features\n",
      "Path Features\n",
      "Numerical\n",
      "Binary\n",
      "Processing file: LMD-2023 [2.3M Elements][Labelled]checked.csv, Chunk number: 13\n",
      "Temporal Features\n"
     ]
    },
    {
     "name": "stderr",
     "output_type": "stream",
     "text": [
      "c:\\Users\\Akshit Saini\\AppData\\Local\\Programs\\Python\\Python311\\Lib\\site-packages\\sklearn\\preprocessing\\_data.py:479: RuntimeWarning: All-NaN slice encountered\n",
      "  data_min = np.nanmin(X, axis=0)\n",
      "c:\\Users\\Akshit Saini\\AppData\\Local\\Programs\\Python\\Python311\\Lib\\site-packages\\sklearn\\preprocessing\\_data.py:480: RuntimeWarning: All-NaN slice encountered\n",
      "  data_max = np.nanmax(X, axis=0)\n"
     ]
    },
    {
     "name": "stdout",
     "output_type": "stream",
     "text": [
      "Low Cardinality Features\n",
      "High Cardinality Features\n",
      "IP Address Features\n",
      "Path Features\n",
      "Numerical\n",
      "Binary\n"
     ]
    },
    {
     "name": "stderr",
     "output_type": "stream",
     "text": [
      "C:\\Users\\Akshit Saini\\AppData\\Local\\Temp\\ipykernel_25360\\3220312833.py:8: DtypeWarning: Columns (82,83,85,86,87,88,89,90,91) have mixed types. Specify dtype option on import or set low_memory=False.\n",
      "  for chunk_idx, chunk in enumerate(chunk_iter):\n"
     ]
    },
    {
     "name": "stdout",
     "output_type": "stream",
     "text": [
      "Processing file: LMD-2023 [2.3M Elements][Labelled]checked.csv, Chunk number: 14\n"
     ]
    },
    {
     "name": "stderr",
     "output_type": "stream",
     "text": [
      "c:\\Users\\Akshit Saini\\AppData\\Local\\Programs\\Python\\Python311\\Lib\\site-packages\\sklearn\\preprocessing\\_data.py:479: RuntimeWarning: All-NaN slice encountered\n",
      "  data_min = np.nanmin(X, axis=0)\n",
      "c:\\Users\\Akshit Saini\\AppData\\Local\\Programs\\Python\\Python311\\Lib\\site-packages\\sklearn\\preprocessing\\_data.py:480: RuntimeWarning: All-NaN slice encountered\n",
      "  data_max = np.nanmax(X, axis=0)\n"
     ]
    },
    {
     "name": "stdout",
     "output_type": "stream",
     "text": [
      "Temporal Features\n",
      "Low Cardinality Features\n",
      "High Cardinality Features\n",
      "IP Address Features\n",
      "Path Features\n",
      "Numerical\n",
      "Binary\n",
      "Processing file: LMD-2023 [2.3M Elements][Labelled]checked.csv, Chunk number: 15\n",
      "Temporal Features\n"
     ]
    },
    {
     "name": "stderr",
     "output_type": "stream",
     "text": [
      "c:\\Users\\Akshit Saini\\AppData\\Local\\Programs\\Python\\Python311\\Lib\\site-packages\\sklearn\\preprocessing\\_data.py:479: RuntimeWarning: All-NaN slice encountered\n",
      "  data_min = np.nanmin(X, axis=0)\n",
      "c:\\Users\\Akshit Saini\\AppData\\Local\\Programs\\Python\\Python311\\Lib\\site-packages\\sklearn\\preprocessing\\_data.py:480: RuntimeWarning: All-NaN slice encountered\n",
      "  data_max = np.nanmax(X, axis=0)\n"
     ]
    },
    {
     "name": "stdout",
     "output_type": "stream",
     "text": [
      "Low Cardinality Features\n",
      "High Cardinality Features\n",
      "IP Address Features\n",
      "Path Features\n",
      "Numerical\n",
      "Binary\n"
     ]
    },
    {
     "name": "stderr",
     "output_type": "stream",
     "text": [
      "C:\\Users\\Akshit Saini\\AppData\\Local\\Temp\\ipykernel_25360\\3220312833.py:8: DtypeWarning: Columns (51) have mixed types. Specify dtype option on import or set low_memory=False.\n",
      "  for chunk_idx, chunk in enumerate(chunk_iter):\n"
     ]
    },
    {
     "name": "stdout",
     "output_type": "stream",
     "text": [
      "Processing file: LMD-2023 [2.3M Elements][Labelled]checked.csv, Chunk number: 16\n"
     ]
    },
    {
     "name": "stderr",
     "output_type": "stream",
     "text": [
      "c:\\Users\\Akshit Saini\\AppData\\Local\\Programs\\Python\\Python311\\Lib\\site-packages\\sklearn\\preprocessing\\_data.py:479: RuntimeWarning: All-NaN slice encountered\n",
      "  data_min = np.nanmin(X, axis=0)\n",
      "c:\\Users\\Akshit Saini\\AppData\\Local\\Programs\\Python\\Python311\\Lib\\site-packages\\sklearn\\preprocessing\\_data.py:480: RuntimeWarning: All-NaN slice encountered\n",
      "  data_max = np.nanmax(X, axis=0)\n"
     ]
    },
    {
     "name": "stdout",
     "output_type": "stream",
     "text": [
      "Temporal Features\n",
      "Low Cardinality Features\n",
      "High Cardinality Features\n",
      "IP Address Features\n",
      "Path Features\n",
      "Numerical\n",
      "Binary\n"
     ]
    },
    {
     "name": "stderr",
     "output_type": "stream",
     "text": [
      "C:\\Users\\Akshit Saini\\AppData\\Local\\Temp\\ipykernel_25360\\3220312833.py:8: DtypeWarning: Columns (51,82,83,85,86,87,88,89,90,91) have mixed types. Specify dtype option on import or set low_memory=False.\n",
      "  for chunk_idx, chunk in enumerate(chunk_iter):\n"
     ]
    },
    {
     "name": "stdout",
     "output_type": "stream",
     "text": [
      "Processing file: LMD-2023 [2.3M Elements][Labelled]checked.csv, Chunk number: 17\n"
     ]
    },
    {
     "name": "stderr",
     "output_type": "stream",
     "text": [
      "c:\\Users\\Akshit Saini\\AppData\\Local\\Programs\\Python\\Python311\\Lib\\site-packages\\sklearn\\preprocessing\\_data.py:479: RuntimeWarning: All-NaN slice encountered\n",
      "  data_min = np.nanmin(X, axis=0)\n",
      "c:\\Users\\Akshit Saini\\AppData\\Local\\Programs\\Python\\Python311\\Lib\\site-packages\\sklearn\\preprocessing\\_data.py:480: RuntimeWarning: All-NaN slice encountered\n",
      "  data_max = np.nanmax(X, axis=0)\n"
     ]
    },
    {
     "name": "stdout",
     "output_type": "stream",
     "text": [
      "Temporal Features\n",
      "Low Cardinality Features\n",
      "High Cardinality Features\n",
      "IP Address Features\n",
      "Path Features\n",
      "Numerical\n",
      "Binary\n"
     ]
    },
    {
     "name": "stderr",
     "output_type": "stream",
     "text": [
      "C:\\Users\\Akshit Saini\\AppData\\Local\\Temp\\ipykernel_25360\\3220312833.py:8: DtypeWarning: Columns (51) have mixed types. Specify dtype option on import or set low_memory=False.\n",
      "  for chunk_idx, chunk in enumerate(chunk_iter):\n"
     ]
    },
    {
     "name": "stdout",
     "output_type": "stream",
     "text": [
      "Processing file: LMD-2023 [2.3M Elements][Labelled]checked.csv, Chunk number: 18\n",
      "Temporal Features\n"
     ]
    },
    {
     "name": "stderr",
     "output_type": "stream",
     "text": [
      "c:\\Users\\Akshit Saini\\AppData\\Local\\Programs\\Python\\Python311\\Lib\\site-packages\\sklearn\\preprocessing\\_data.py:479: RuntimeWarning: All-NaN slice encountered\n",
      "  data_min = np.nanmin(X, axis=0)\n",
      "c:\\Users\\Akshit Saini\\AppData\\Local\\Programs\\Python\\Python311\\Lib\\site-packages\\sklearn\\preprocessing\\_data.py:480: RuntimeWarning: All-NaN slice encountered\n",
      "  data_max = np.nanmax(X, axis=0)\n"
     ]
    },
    {
     "name": "stdout",
     "output_type": "stream",
     "text": [
      "Low Cardinality Features\n",
      "High Cardinality Features\n",
      "IP Address Features\n",
      "Path Features\n",
      "Numerical\n",
      "Binary\n"
     ]
    },
    {
     "name": "stderr",
     "output_type": "stream",
     "text": [
      "C:\\Users\\Akshit Saini\\AppData\\Local\\Temp\\ipykernel_25360\\3220312833.py:8: DtypeWarning: Columns (51) have mixed types. Specify dtype option on import or set low_memory=False.\n",
      "  for chunk_idx, chunk in enumerate(chunk_iter):\n"
     ]
    },
    {
     "name": "stdout",
     "output_type": "stream",
     "text": [
      "Processing file: LMD-2023 [2.3M Elements][Labelled]checked.csv, Chunk number: 19\n",
      "Temporal Features\n"
     ]
    },
    {
     "name": "stderr",
     "output_type": "stream",
     "text": [
      "c:\\Users\\Akshit Saini\\AppData\\Local\\Programs\\Python\\Python311\\Lib\\site-packages\\sklearn\\preprocessing\\_data.py:479: RuntimeWarning: All-NaN slice encountered\n",
      "  data_min = np.nanmin(X, axis=0)\n",
      "c:\\Users\\Akshit Saini\\AppData\\Local\\Programs\\Python\\Python311\\Lib\\site-packages\\sklearn\\preprocessing\\_data.py:480: RuntimeWarning: All-NaN slice encountered\n",
      "  data_max = np.nanmax(X, axis=0)\n"
     ]
    },
    {
     "name": "stdout",
     "output_type": "stream",
     "text": [
      "Low Cardinality Features\n",
      "High Cardinality Features\n",
      "IP Address Features\n",
      "Path Features\n",
      "Numerical\n",
      "Binary\n"
     ]
    },
    {
     "name": "stderr",
     "output_type": "stream",
     "text": [
      "C:\\Users\\Akshit Saini\\AppData\\Local\\Temp\\ipykernel_25360\\3220312833.py:8: DtypeWarning: Columns (38,51,69,70,72,76) have mixed types. Specify dtype option on import or set low_memory=False.\n",
      "  for chunk_idx, chunk in enumerate(chunk_iter):\n"
     ]
    },
    {
     "name": "stdout",
     "output_type": "stream",
     "text": [
      "Processing file: LMD-2023 [2.3M Elements][Labelled]checked.csv, Chunk number: 20\n"
     ]
    },
    {
     "name": "stderr",
     "output_type": "stream",
     "text": [
      "c:\\Users\\Akshit Saini\\AppData\\Local\\Programs\\Python\\Python311\\Lib\\site-packages\\sklearn\\preprocessing\\_data.py:479: RuntimeWarning: All-NaN slice encountered\n",
      "  data_min = np.nanmin(X, axis=0)\n",
      "c:\\Users\\Akshit Saini\\AppData\\Local\\Programs\\Python\\Python311\\Lib\\site-packages\\sklearn\\preprocessing\\_data.py:480: RuntimeWarning: All-NaN slice encountered\n",
      "  data_max = np.nanmax(X, axis=0)\n"
     ]
    },
    {
     "name": "stdout",
     "output_type": "stream",
     "text": [
      "Temporal Features\n",
      "Low Cardinality Features\n",
      "High Cardinality Features\n",
      "IP Address Features\n",
      "Path Features\n",
      "Numerical\n",
      "Binary\n"
     ]
    },
    {
     "name": "stderr",
     "output_type": "stream",
     "text": [
      "C:\\Users\\Akshit Saini\\AppData\\Local\\Temp\\ipykernel_25360\\3220312833.py:8: DtypeWarning: Columns (18,20,21,22,23,24,25,26,27,28,29,30,32,33,34,36,37,38,39,40,41,42,43,45,46,47,48,50,51,56,57,58,59,69,70,71,72,73,74,75,76,77,79,80,81) have mixed types. Specify dtype option on import or set low_memory=False.\n",
      "  for chunk_idx, chunk in enumerate(chunk_iter):\n"
     ]
    },
    {
     "name": "stdout",
     "output_type": "stream",
     "text": [
      "Processing file: LMD-2023 [2.3M Elements][Labelled]checked.csv, Chunk number: 21\n"
     ]
    },
    {
     "name": "stderr",
     "output_type": "stream",
     "text": [
      "c:\\Users\\Akshit Saini\\AppData\\Local\\Programs\\Python\\Python311\\Lib\\site-packages\\sklearn\\preprocessing\\_data.py:479: RuntimeWarning: All-NaN slice encountered\n",
      "  data_min = np.nanmin(X, axis=0)\n",
      "c:\\Users\\Akshit Saini\\AppData\\Local\\Programs\\Python\\Python311\\Lib\\site-packages\\sklearn\\preprocessing\\_data.py:480: RuntimeWarning: All-NaN slice encountered\n",
      "  data_max = np.nanmax(X, axis=0)\n"
     ]
    },
    {
     "name": "stdout",
     "output_type": "stream",
     "text": [
      "Temporal Features\n",
      "Low Cardinality Features\n",
      "High Cardinality Features\n",
      "IP Address Features\n",
      "Path Features\n",
      "Numerical\n",
      "Binary\n"
     ]
    },
    {
     "name": "stderr",
     "output_type": "stream",
     "text": [
      "C:\\Users\\Akshit Saini\\AppData\\Local\\Temp\\ipykernel_25360\\3220312833.py:8: DtypeWarning: Columns (21,22,23,24,25,26,27,29,30,32,34,36,37,38,39,40,41,42,43,45,46,47,48,50,56,57,58,59,69,70,72,73,74,75,76,77,79) have mixed types. Specify dtype option on import or set low_memory=False.\n",
      "  for chunk_idx, chunk in enumerate(chunk_iter):\n",
      "c:\\Users\\Akshit Saini\\AppData\\Local\\Programs\\Python\\Python311\\Lib\\site-packages\\sklearn\\preprocessing\\_data.py:479: RuntimeWarning: All-NaN slice encountered\n",
      "  data_min = np.nanmin(X, axis=0)\n",
      "c:\\Users\\Akshit Saini\\AppData\\Local\\Programs\\Python\\Python311\\Lib\\site-packages\\sklearn\\preprocessing\\_data.py:480: RuntimeWarning: All-NaN slice encountered\n",
      "  data_max = np.nanmax(X, axis=0)\n"
     ]
    },
    {
     "name": "stdout",
     "output_type": "stream",
     "text": [
      "Processing file: LMD-2023 [2.3M Elements][Labelled]checked.csv, Chunk number: 22\n",
      "Temporal Features\n",
      "Low Cardinality Features\n",
      "High Cardinality Features\n",
      "IP Address Features\n",
      "Path Features\n",
      "Numerical\n",
      "Binary\n"
     ]
    }
   ],
   "source": [
    "# Execute preprocessing\n",
    "process_files_in_chunks(folder_path, output_folder_path)"
   ]
  }
 ],
 "metadata": {
  "kernelspec": {
   "display_name": "Python 3",
   "language": "python",
   "name": "python3"
  },
  "language_info": {
   "codemirror_mode": {
    "name": "ipython",
    "version": 3
   },
   "file_extension": ".py",
   "mimetype": "text/x-python",
   "name": "python",
   "nbconvert_exporter": "python",
   "pygments_lexer": "ipython3",
   "version": "3.11.9"
  }
 },
 "nbformat": 4,
 "nbformat_minor": 2
}
